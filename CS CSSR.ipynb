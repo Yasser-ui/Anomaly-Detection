{
 "cells": [
  {
   "cell_type": "code",
   "execution_count": 1,
   "metadata": {},
   "outputs": [],
   "source": [
    "import numpy as np\n",
    "import pandas as pd\n",
    "import matplotlib.pyplot as plt\n",
    "import seaborn as sns"
   ]
  },
  {
   "cell_type": "code",
   "execution_count": 2,
   "metadata": {},
   "outputs": [],
   "source": [
    "df = pd.read_csv('DataFrame_3G_After_Cleaning.csv')"
   ]
  },
  {
   "cell_type": "code",
   "execution_count": 3,
   "metadata": {},
   "outputs": [],
   "source": [
    "import plotly.express as px\n",
    "from sklearn.ensemble import IsolationForest\n",
    "import plotly.graph_objects as go"
   ]
  },
  {
   "cell_type": "code",
   "execution_count": 7,
   "metadata": {},
   "outputs": [
    {
     "data": {
      "text/plain": [
       "[0, 0, 0, 0, 0, 0, 0, 0, 0, 0]"
      ]
     },
     "execution_count": 7,
     "metadata": {},
     "output_type": "execute_result"
    }
   ],
   "source": [
    "x = df['CS CSSR'].apply(lambda x: [x]).to_list()\n",
    "iso_forest = IsolationForest(n_estimators=100,\n",
    "                             max_samples=\"auto\",\n",
    "                             contamination=0.025,\n",
    "                             )\n",
    "iso_forest.fit(x)\n",
    "y_pred = iso_forest.predict(x)\n",
    "y_pred = [1 if x == -1 else 0 for x in y_pred]\n",
    "y_pred[:10]"
   ]
  },
  {
   "cell_type": "code",
   "execution_count": 8,
   "metadata": {},
   "outputs": [
    {
     "data": {
      "text/html": [
       "<div>\n",
       "<style scoped>\n",
       "    .dataframe tbody tr th:only-of-type {\n",
       "        vertical-align: middle;\n",
       "    }\n",
       "\n",
       "    .dataframe tbody tr th {\n",
       "        vertical-align: top;\n",
       "    }\n",
       "\n",
       "    .dataframe thead th {\n",
       "        text-align: right;\n",
       "    }\n",
       "</style>\n",
       "<table border=\"1\" class=\"dataframe\">\n",
       "  <thead>\n",
       "    <tr style=\"text-align: right;\">\n",
       "      <th></th>\n",
       "      <th>index</th>\n",
       "      <th>Date</th>\n",
       "      <th>RBS Id</th>\n",
       "      <th>TRAFFIC PS(DL+UL)(Gbits)</th>\n",
       "      <th>HSDPA Data Volume</th>\n",
       "      <th>HSUPA Data Volume</th>\n",
       "      <th>Cell Traffic Volume DL Speech (Erlang)</th>\n",
       "      <th>CS CSSR</th>\n",
       "      <th>CS DROP Rate</th>\n",
       "      <th>PS Call Setup SR</th>\n",
       "      <th>PS DROP Rate 2</th>\n",
       "      <th>Availability</th>\n",
       "      <th>Soft Handover</th>\n",
       "      <th>Irat CS Handover SR</th>\n",
       "      <th>IRAT PS 2</th>\n",
       "      <th>throughput</th>\n",
       "      <th>anomaly</th>\n",
       "    </tr>\n",
       "  </thead>\n",
       "  <tbody>\n",
       "    <tr>\n",
       "      <th>0</th>\n",
       "      <td>0</td>\n",
       "      <td>16-12-21</td>\n",
       "      <td>0</td>\n",
       "      <td>74.39</td>\n",
       "      <td>66.74</td>\n",
       "      <td>7.65</td>\n",
       "      <td>156.83</td>\n",
       "      <td>99.69</td>\n",
       "      <td>0.77</td>\n",
       "      <td>95.94</td>\n",
       "      <td>1.72</td>\n",
       "      <td>100.0</td>\n",
       "      <td>99.86</td>\n",
       "      <td>93.94</td>\n",
       "      <td>100.00</td>\n",
       "      <td>755.79</td>\n",
       "      <td>0</td>\n",
       "    </tr>\n",
       "    <tr>\n",
       "      <th>1</th>\n",
       "      <td>1</td>\n",
       "      <td>17-12-21</td>\n",
       "      <td>0</td>\n",
       "      <td>65.41</td>\n",
       "      <td>58.40</td>\n",
       "      <td>7.01</td>\n",
       "      <td>107.82</td>\n",
       "      <td>99.26</td>\n",
       "      <td>0.97</td>\n",
       "      <td>95.40</td>\n",
       "      <td>2.37</td>\n",
       "      <td>100.0</td>\n",
       "      <td>99.67</td>\n",
       "      <td>97.98</td>\n",
       "      <td>100.00</td>\n",
       "      <td>755.79</td>\n",
       "      <td>0</td>\n",
       "    </tr>\n",
       "    <tr>\n",
       "      <th>2</th>\n",
       "      <td>2</td>\n",
       "      <td>18-12-21</td>\n",
       "      <td>0</td>\n",
       "      <td>65.67</td>\n",
       "      <td>58.93</td>\n",
       "      <td>6.74</td>\n",
       "      <td>94.38</td>\n",
       "      <td>99.26</td>\n",
       "      <td>1.09</td>\n",
       "      <td>94.97</td>\n",
       "      <td>3.03</td>\n",
       "      <td>100.0</td>\n",
       "      <td>99.57</td>\n",
       "      <td>96.43</td>\n",
       "      <td>0.00</td>\n",
       "      <td>755.79</td>\n",
       "      <td>0</td>\n",
       "    </tr>\n",
       "    <tr>\n",
       "      <th>3</th>\n",
       "      <td>3</td>\n",
       "      <td>19-12-21</td>\n",
       "      <td>0</td>\n",
       "      <td>57.79</td>\n",
       "      <td>50.91</td>\n",
       "      <td>6.87</td>\n",
       "      <td>101.48</td>\n",
       "      <td>99.08</td>\n",
       "      <td>1.23</td>\n",
       "      <td>95.43</td>\n",
       "      <td>2.60</td>\n",
       "      <td>100.0</td>\n",
       "      <td>99.72</td>\n",
       "      <td>93.14</td>\n",
       "      <td>100.00</td>\n",
       "      <td>755.79</td>\n",
       "      <td>0</td>\n",
       "    </tr>\n",
       "    <tr>\n",
       "      <th>4</th>\n",
       "      <td>4</td>\n",
       "      <td>20-12-21</td>\n",
       "      <td>0</td>\n",
       "      <td>79.74</td>\n",
       "      <td>70.04</td>\n",
       "      <td>9.69</td>\n",
       "      <td>163.22</td>\n",
       "      <td>99.65</td>\n",
       "      <td>0.76</td>\n",
       "      <td>95.16</td>\n",
       "      <td>1.61</td>\n",
       "      <td>100.0</td>\n",
       "      <td>99.86</td>\n",
       "      <td>94.23</td>\n",
       "      <td>66.67</td>\n",
       "      <td>755.79</td>\n",
       "      <td>0</td>\n",
       "    </tr>\n",
       "  </tbody>\n",
       "</table>\n",
       "</div>"
      ],
      "text/plain": [
       "   index      Date  RBS Id  TRAFFIC PS(DL+UL)(Gbits)  HSDPA Data Volume  \\\n",
       "0      0  16-12-21       0                     74.39              66.74   \n",
       "1      1  17-12-21       0                     65.41              58.40   \n",
       "2      2  18-12-21       0                     65.67              58.93   \n",
       "3      3  19-12-21       0                     57.79              50.91   \n",
       "4      4  20-12-21       0                     79.74              70.04   \n",
       "\n",
       "   HSUPA Data Volume  Cell Traffic Volume DL Speech (Erlang)  CS CSSR  \\\n",
       "0               7.65                                  156.83    99.69   \n",
       "1               7.01                                  107.82    99.26   \n",
       "2               6.74                                   94.38    99.26   \n",
       "3               6.87                                  101.48    99.08   \n",
       "4               9.69                                  163.22    99.65   \n",
       "\n",
       "   CS DROP Rate  PS Call Setup SR  PS DROP Rate 2  Availability  \\\n",
       "0          0.77             95.94            1.72         100.0   \n",
       "1          0.97             95.40            2.37         100.0   \n",
       "2          1.09             94.97            3.03         100.0   \n",
       "3          1.23             95.43            2.60         100.0   \n",
       "4          0.76             95.16            1.61         100.0   \n",
       "\n",
       "   Soft Handover  Irat CS Handover SR  IRAT PS 2  throughput  anomaly  \n",
       "0          99.86                93.94     100.00      755.79        0  \n",
       "1          99.67                97.98     100.00      755.79        0  \n",
       "2          99.57                96.43       0.00      755.79        0  \n",
       "3          99.72                93.14     100.00      755.79        0  \n",
       "4          99.86                94.23      66.67      755.79        0  "
      ]
     },
     "execution_count": 8,
     "metadata": {},
     "output_type": "execute_result"
    }
   ],
   "source": [
    "df[\"anomaly\"] = y_pred\n",
    "df.head()"
   ]
  },
  {
   "cell_type": "code",
   "execution_count": 9,
   "metadata": {},
   "outputs": [
    {
     "data": {
      "text/html": [
       "<div>\n",
       "<style scoped>\n",
       "    .dataframe tbody tr th:only-of-type {\n",
       "        vertical-align: middle;\n",
       "    }\n",
       "\n",
       "    .dataframe tbody tr th {\n",
       "        vertical-align: top;\n",
       "    }\n",
       "\n",
       "    .dataframe thead th {\n",
       "        text-align: right;\n",
       "    }\n",
       "</style>\n",
       "<table border=\"1\" class=\"dataframe\">\n",
       "  <thead>\n",
       "    <tr style=\"text-align: right;\">\n",
       "      <th></th>\n",
       "      <th>index</th>\n",
       "      <th>Date</th>\n",
       "      <th>RBS Id</th>\n",
       "      <th>TRAFFIC PS(DL+UL)(Gbits)</th>\n",
       "      <th>HSDPA Data Volume</th>\n",
       "      <th>HSUPA Data Volume</th>\n",
       "      <th>Cell Traffic Volume DL Speech (Erlang)</th>\n",
       "      <th>CS CSSR</th>\n",
       "      <th>CS DROP Rate</th>\n",
       "      <th>PS Call Setup SR</th>\n",
       "      <th>PS DROP Rate 2</th>\n",
       "      <th>Availability</th>\n",
       "      <th>Soft Handover</th>\n",
       "      <th>Irat CS Handover SR</th>\n",
       "      <th>IRAT PS 2</th>\n",
       "      <th>throughput</th>\n",
       "      <th>anomaly</th>\n",
       "    </tr>\n",
       "  </thead>\n",
       "  <tbody>\n",
       "    <tr>\n",
       "      <th>23</th>\n",
       "      <td>23</td>\n",
       "      <td>01-08-22</td>\n",
       "      <td>0</td>\n",
       "      <td>76.68</td>\n",
       "      <td>67.55</td>\n",
       "      <td>9.14</td>\n",
       "      <td>123.39</td>\n",
       "      <td>98.87</td>\n",
       "      <td>3.00</td>\n",
       "      <td>94.32</td>\n",
       "      <td>3.23</td>\n",
       "      <td>97.75</td>\n",
       "      <td>99.42</td>\n",
       "      <td>96.14</td>\n",
       "      <td>40.0</td>\n",
       "      <td>628.69</td>\n",
       "      <td>1</td>\n",
       "    </tr>\n",
       "    <tr>\n",
       "      <th>24</th>\n",
       "      <td>24</td>\n",
       "      <td>01-09-22</td>\n",
       "      <td>0</td>\n",
       "      <td>72.46</td>\n",
       "      <td>61.93</td>\n",
       "      <td>10.53</td>\n",
       "      <td>89.79</td>\n",
       "      <td>98.41</td>\n",
       "      <td>3.48</td>\n",
       "      <td>93.11</td>\n",
       "      <td>4.73</td>\n",
       "      <td>96.95</td>\n",
       "      <td>98.69</td>\n",
       "      <td>92.60</td>\n",
       "      <td>100.0</td>\n",
       "      <td>490.41</td>\n",
       "      <td>1</td>\n",
       "    </tr>\n",
       "    <tr>\n",
       "      <th>25</th>\n",
       "      <td>25</td>\n",
       "      <td>01-10-22</td>\n",
       "      <td>0</td>\n",
       "      <td>64.63</td>\n",
       "      <td>57.21</td>\n",
       "      <td>7.42</td>\n",
       "      <td>110.09</td>\n",
       "      <td>98.29</td>\n",
       "      <td>3.87</td>\n",
       "      <td>89.49</td>\n",
       "      <td>3.79</td>\n",
       "      <td>97.88</td>\n",
       "      <td>99.60</td>\n",
       "      <td>95.49</td>\n",
       "      <td>100.0</td>\n",
       "      <td>670.35</td>\n",
       "      <td>1</td>\n",
       "    </tr>\n",
       "    <tr>\n",
       "      <th>31</th>\n",
       "      <td>31</td>\n",
       "      <td>16-01-22</td>\n",
       "      <td>0</td>\n",
       "      <td>61.30</td>\n",
       "      <td>54.08</td>\n",
       "      <td>7.22</td>\n",
       "      <td>80.83</td>\n",
       "      <td>98.85</td>\n",
       "      <td>2.67</td>\n",
       "      <td>94.80</td>\n",
       "      <td>3.69</td>\n",
       "      <td>98.14</td>\n",
       "      <td>99.39</td>\n",
       "      <td>96.33</td>\n",
       "      <td>100.0</td>\n",
       "      <td>660.05</td>\n",
       "      <td>1</td>\n",
       "    </tr>\n",
       "  </tbody>\n",
       "</table>\n",
       "</div>"
      ],
      "text/plain": [
       "    index      Date  RBS Id  TRAFFIC PS(DL+UL)(Gbits)  HSDPA Data Volume  \\\n",
       "23     23  01-08-22       0                     76.68              67.55   \n",
       "24     24  01-09-22       0                     72.46              61.93   \n",
       "25     25  01-10-22       0                     64.63              57.21   \n",
       "31     31  16-01-22       0                     61.30              54.08   \n",
       "\n",
       "    HSUPA Data Volume  Cell Traffic Volume DL Speech (Erlang)  CS CSSR  \\\n",
       "23               9.14                                  123.39    98.87   \n",
       "24              10.53                                   89.79    98.41   \n",
       "25               7.42                                  110.09    98.29   \n",
       "31               7.22                                   80.83    98.85   \n",
       "\n",
       "    CS DROP Rate  PS Call Setup SR  PS DROP Rate 2  Availability  \\\n",
       "23          3.00             94.32            3.23         97.75   \n",
       "24          3.48             93.11            4.73         96.95   \n",
       "25          3.87             89.49            3.79         97.88   \n",
       "31          2.67             94.80            3.69         98.14   \n",
       "\n",
       "    Soft Handover  Irat CS Handover SR  IRAT PS 2  throughput  anomaly  \n",
       "23          99.42                96.14       40.0      628.69        1  \n",
       "24          98.69                92.60      100.0      490.41        1  \n",
       "25          99.60                95.49      100.0      670.35        1  \n",
       "31          99.39                96.33      100.0      660.05        1  "
      ]
     },
     "execution_count": 9,
     "metadata": {},
     "output_type": "execute_result"
    }
   ],
   "source": [
    "iso_anomaly_df = pd.DataFrame(df)\n",
    "iso_anomaly_df = iso_anomaly_df.loc[iso_anomaly_df['anomaly'] == 1]\n",
    "iso_anomaly_df.head()"
   ]
  },
  {
   "cell_type": "code",
   "execution_count": 10,
   "metadata": {},
   "outputs": [
    {
     "data": {
      "application/vnd.plotly.v1+json": {
       "config": {
        "plotlyServerURL": "https://plot.ly"
       },
       "data": [
        {
         "hovertemplate": "index=%{x}<br>CS CSSR=%{y}<extra></extra>",
         "legendgroup": "",
         "line": {
          "color": "#636efa",
          "dash": "solid"
         },
         "mode": "lines",
         "name": "",
         "orientation": "v",
         "showlegend": false,
         "type": "scatter",
         "x": [
          0,
          1,
          2,
          3,
          4,
          5,
          6,
          7,
          8,
          9,
          10,
          11,
          12,
          13,
          14,
          15,
          16,
          17,
          18,
          19,
          20,
          21,
          22,
          23,
          24,
          25,
          26,
          27,
          28,
          29,
          30,
          31,
          32,
          33,
          34,
          35,
          36,
          37,
          38,
          39,
          40,
          41,
          42,
          43,
          44,
          45,
          46,
          47,
          48,
          49,
          50,
          51,
          52,
          53,
          54,
          55,
          56,
          57,
          58,
          59,
          60,
          61,
          62,
          63,
          64,
          65,
          66,
          67,
          68,
          69,
          70,
          71,
          72,
          73,
          74,
          75,
          76,
          77,
          78,
          79,
          80,
          81,
          82,
          83,
          84,
          85,
          86,
          87,
          88,
          89,
          90,
          91,
          92,
          93,
          94,
          95,
          96,
          97,
          98,
          99,
          100,
          101,
          102,
          103,
          104,
          105,
          106,
          107,
          108,
          109,
          110,
          111,
          112,
          113,
          114,
          115,
          116,
          117,
          118,
          119,
          120,
          121,
          122,
          123,
          124,
          125,
          126,
          127,
          128,
          129,
          130,
          131,
          132,
          133,
          134,
          135,
          136,
          137,
          138,
          139,
          140,
          141,
          142,
          143,
          144,
          145,
          146,
          147,
          148,
          149,
          150,
          151,
          152,
          153,
          154,
          155,
          156,
          157,
          158,
          159,
          160,
          161,
          162,
          163,
          164,
          165,
          166,
          167,
          168,
          169,
          170,
          171,
          172,
          173,
          174,
          175,
          176,
          177,
          178,
          179,
          180,
          181,
          182,
          183,
          184,
          185,
          186,
          187,
          188,
          189,
          190,
          191,
          192,
          193,
          194,
          195,
          196,
          197,
          198,
          199,
          200,
          201,
          202,
          203,
          204,
          205,
          206,
          207,
          208,
          209,
          210,
          211,
          212,
          213,
          214,
          215,
          216,
          217,
          218,
          219,
          220,
          221,
          222,
          223,
          224
         ],
         "xaxis": "x",
         "y": [
          99.69,
          99.26,
          99.26,
          99.08,
          99.65,
          99.56,
          99.54,
          99.27,
          99.36,
          98.97,
          99.14,
          99.08,
          99.35,
          99.52,
          99.15,
          99.1,
          99,
          99.16,
          99.38,
          99.35,
          99.42,
          99.38,
          99.41,
          98.87,
          98.41,
          98.29,
          99.57,
          99.29,
          99.22,
          99.56,
          99.18,
          98.85,
          99.35,
          99.35,
          98.98,
          99.48,
          99.54,
          99.27,
          99.27,
          99.2,
          99.46,
          99.02,
          99.41,
          99.62,
          99.42,
          99.08,
          99.38,
          99.35,
          98.98,
          99.47,
          99.47,
          99.41,
          99.01,
          99.65,
          99.56,
          99.63,
          99.77,
          99.58,
          99.56,
          99.42,
          99.71,
          99.32,
          99.6,
          99.57,
          99.43,
          99.43,
          98.98,
          99.53,
          99.56,
          99.43,
          99.63,
          99.6,
          99.25,
          99.38,
          99.54,
          99.88,
          99.96,
          99.9,
          99.89,
          99.9,
          99.89,
          99.86,
          99.93,
          99.88,
          99.87,
          99.86,
          99.91,
          99.89,
          99.92,
          99.95,
          99.88,
          99.88,
          99.88,
          99.91,
          99.91,
          99.91,
          99.89,
          99.91,
          99.85,
          99.87,
          99.61,
          99.9,
          99.91,
          99.88,
          99.96,
          99.9,
          99.83,
          99.91,
          99.85,
          99.91,
          99.91,
          99.9,
          99.94,
          99.88,
          99.92,
          99.92,
          99.92,
          99.92,
          99.9,
          99.92,
          99.92,
          99.93,
          99.91,
          99.63,
          99.92,
          99.91,
          99.93,
          99.87,
          99.9,
          99.91,
          99.92,
          99.91,
          99.91,
          99.9,
          99.88,
          99.93,
          99.9,
          99.91,
          99.91,
          99.91,
          99.86,
          99.86,
          99.91,
          99.89,
          99.92,
          99.91,
          99.88,
          99.94,
          99.84,
          99.88,
          99.9,
          99.89,
          99.91,
          99.87,
          99.91,
          99.88,
          99.91,
          99.9,
          99.91,
          99.9,
          99.93,
          99.89,
          99.89,
          99.86,
          99.8,
          99.91,
          99.92,
          99.92,
          99.92,
          99.91,
          99.91,
          99.9,
          99.91,
          99.88,
          99.92,
          99.55,
          99.93,
          99.91,
          99.92,
          99.9,
          99.9,
          99.88,
          99.91,
          99.87,
          99.9,
          99.9,
          99.92,
          99.87,
          99.9,
          99.93,
          99.96,
          99.94,
          99.89,
          99.94,
          99.94,
          99.91,
          99.89,
          99.9,
          99.78,
          99.91,
          99.89,
          99.93,
          99.9,
          99.93,
          99.95,
          99.91,
          99.93,
          99.94,
          99.95,
          99.94,
          99.91,
          99.94,
          99.93,
          99.93,
          99.92,
          99.89,
          99.9,
          99.91,
          99.89,
          99.9,
          99.91,
          99.92,
          99.91,
          99.9,
          99.9
         ],
         "yaxis": "y"
        },
        {
         "mode": "markers",
         "name": "anomalies",
         "type": "scatter",
         "x": [
          23,
          24,
          25,
          31
         ],
         "y": [
          98.87,
          98.41,
          98.29,
          98.85
         ]
        }
       ],
       "layout": {
        "legend": {
         "tracegroupgap": 0
        },
        "template": {
         "data": {
          "bar": [
           {
            "error_x": {
             "color": "#2a3f5f"
            },
            "error_y": {
             "color": "#2a3f5f"
            },
            "marker": {
             "line": {
              "color": "#E5ECF6",
              "width": 0.5
             }
            },
            "type": "bar"
           }
          ],
          "barpolar": [
           {
            "marker": {
             "line": {
              "color": "#E5ECF6",
              "width": 0.5
             }
            },
            "type": "barpolar"
           }
          ],
          "carpet": [
           {
            "aaxis": {
             "endlinecolor": "#2a3f5f",
             "gridcolor": "white",
             "linecolor": "white",
             "minorgridcolor": "white",
             "startlinecolor": "#2a3f5f"
            },
            "baxis": {
             "endlinecolor": "#2a3f5f",
             "gridcolor": "white",
             "linecolor": "white",
             "minorgridcolor": "white",
             "startlinecolor": "#2a3f5f"
            },
            "type": "carpet"
           }
          ],
          "choropleth": [
           {
            "colorbar": {
             "outlinewidth": 0,
             "ticks": ""
            },
            "type": "choropleth"
           }
          ],
          "contour": [
           {
            "colorbar": {
             "outlinewidth": 0,
             "ticks": ""
            },
            "colorscale": [
             [
              0,
              "#0d0887"
             ],
             [
              0.1111111111111111,
              "#46039f"
             ],
             [
              0.2222222222222222,
              "#7201a8"
             ],
             [
              0.3333333333333333,
              "#9c179e"
             ],
             [
              0.4444444444444444,
              "#bd3786"
             ],
             [
              0.5555555555555556,
              "#d8576b"
             ],
             [
              0.6666666666666666,
              "#ed7953"
             ],
             [
              0.7777777777777778,
              "#fb9f3a"
             ],
             [
              0.8888888888888888,
              "#fdca26"
             ],
             [
              1,
              "#f0f921"
             ]
            ],
            "type": "contour"
           }
          ],
          "contourcarpet": [
           {
            "colorbar": {
             "outlinewidth": 0,
             "ticks": ""
            },
            "type": "contourcarpet"
           }
          ],
          "heatmap": [
           {
            "colorbar": {
             "outlinewidth": 0,
             "ticks": ""
            },
            "colorscale": [
             [
              0,
              "#0d0887"
             ],
             [
              0.1111111111111111,
              "#46039f"
             ],
             [
              0.2222222222222222,
              "#7201a8"
             ],
             [
              0.3333333333333333,
              "#9c179e"
             ],
             [
              0.4444444444444444,
              "#bd3786"
             ],
             [
              0.5555555555555556,
              "#d8576b"
             ],
             [
              0.6666666666666666,
              "#ed7953"
             ],
             [
              0.7777777777777778,
              "#fb9f3a"
             ],
             [
              0.8888888888888888,
              "#fdca26"
             ],
             [
              1,
              "#f0f921"
             ]
            ],
            "type": "heatmap"
           }
          ],
          "heatmapgl": [
           {
            "colorbar": {
             "outlinewidth": 0,
             "ticks": ""
            },
            "colorscale": [
             [
              0,
              "#0d0887"
             ],
             [
              0.1111111111111111,
              "#46039f"
             ],
             [
              0.2222222222222222,
              "#7201a8"
             ],
             [
              0.3333333333333333,
              "#9c179e"
             ],
             [
              0.4444444444444444,
              "#bd3786"
             ],
             [
              0.5555555555555556,
              "#d8576b"
             ],
             [
              0.6666666666666666,
              "#ed7953"
             ],
             [
              0.7777777777777778,
              "#fb9f3a"
             ],
             [
              0.8888888888888888,
              "#fdca26"
             ],
             [
              1,
              "#f0f921"
             ]
            ],
            "type": "heatmapgl"
           }
          ],
          "histogram": [
           {
            "marker": {
             "colorbar": {
              "outlinewidth": 0,
              "ticks": ""
             }
            },
            "type": "histogram"
           }
          ],
          "histogram2d": [
           {
            "colorbar": {
             "outlinewidth": 0,
             "ticks": ""
            },
            "colorscale": [
             [
              0,
              "#0d0887"
             ],
             [
              0.1111111111111111,
              "#46039f"
             ],
             [
              0.2222222222222222,
              "#7201a8"
             ],
             [
              0.3333333333333333,
              "#9c179e"
             ],
             [
              0.4444444444444444,
              "#bd3786"
             ],
             [
              0.5555555555555556,
              "#d8576b"
             ],
             [
              0.6666666666666666,
              "#ed7953"
             ],
             [
              0.7777777777777778,
              "#fb9f3a"
             ],
             [
              0.8888888888888888,
              "#fdca26"
             ],
             [
              1,
              "#f0f921"
             ]
            ],
            "type": "histogram2d"
           }
          ],
          "histogram2dcontour": [
           {
            "colorbar": {
             "outlinewidth": 0,
             "ticks": ""
            },
            "colorscale": [
             [
              0,
              "#0d0887"
             ],
             [
              0.1111111111111111,
              "#46039f"
             ],
             [
              0.2222222222222222,
              "#7201a8"
             ],
             [
              0.3333333333333333,
              "#9c179e"
             ],
             [
              0.4444444444444444,
              "#bd3786"
             ],
             [
              0.5555555555555556,
              "#d8576b"
             ],
             [
              0.6666666666666666,
              "#ed7953"
             ],
             [
              0.7777777777777778,
              "#fb9f3a"
             ],
             [
              0.8888888888888888,
              "#fdca26"
             ],
             [
              1,
              "#f0f921"
             ]
            ],
            "type": "histogram2dcontour"
           }
          ],
          "mesh3d": [
           {
            "colorbar": {
             "outlinewidth": 0,
             "ticks": ""
            },
            "type": "mesh3d"
           }
          ],
          "parcoords": [
           {
            "line": {
             "colorbar": {
              "outlinewidth": 0,
              "ticks": ""
             }
            },
            "type": "parcoords"
           }
          ],
          "pie": [
           {
            "automargin": true,
            "type": "pie"
           }
          ],
          "scatter": [
           {
            "marker": {
             "colorbar": {
              "outlinewidth": 0,
              "ticks": ""
             }
            },
            "type": "scatter"
           }
          ],
          "scatter3d": [
           {
            "line": {
             "colorbar": {
              "outlinewidth": 0,
              "ticks": ""
             }
            },
            "marker": {
             "colorbar": {
              "outlinewidth": 0,
              "ticks": ""
             }
            },
            "type": "scatter3d"
           }
          ],
          "scattercarpet": [
           {
            "marker": {
             "colorbar": {
              "outlinewidth": 0,
              "ticks": ""
             }
            },
            "type": "scattercarpet"
           }
          ],
          "scattergeo": [
           {
            "marker": {
             "colorbar": {
              "outlinewidth": 0,
              "ticks": ""
             }
            },
            "type": "scattergeo"
           }
          ],
          "scattergl": [
           {
            "marker": {
             "colorbar": {
              "outlinewidth": 0,
              "ticks": ""
             }
            },
            "type": "scattergl"
           }
          ],
          "scattermapbox": [
           {
            "marker": {
             "colorbar": {
              "outlinewidth": 0,
              "ticks": ""
             }
            },
            "type": "scattermapbox"
           }
          ],
          "scatterpolar": [
           {
            "marker": {
             "colorbar": {
              "outlinewidth": 0,
              "ticks": ""
             }
            },
            "type": "scatterpolar"
           }
          ],
          "scatterpolargl": [
           {
            "marker": {
             "colorbar": {
              "outlinewidth": 0,
              "ticks": ""
             }
            },
            "type": "scatterpolargl"
           }
          ],
          "scatterternary": [
           {
            "marker": {
             "colorbar": {
              "outlinewidth": 0,
              "ticks": ""
             }
            },
            "type": "scatterternary"
           }
          ],
          "surface": [
           {
            "colorbar": {
             "outlinewidth": 0,
             "ticks": ""
            },
            "colorscale": [
             [
              0,
              "#0d0887"
             ],
             [
              0.1111111111111111,
              "#46039f"
             ],
             [
              0.2222222222222222,
              "#7201a8"
             ],
             [
              0.3333333333333333,
              "#9c179e"
             ],
             [
              0.4444444444444444,
              "#bd3786"
             ],
             [
              0.5555555555555556,
              "#d8576b"
             ],
             [
              0.6666666666666666,
              "#ed7953"
             ],
             [
              0.7777777777777778,
              "#fb9f3a"
             ],
             [
              0.8888888888888888,
              "#fdca26"
             ],
             [
              1,
              "#f0f921"
             ]
            ],
            "type": "surface"
           }
          ],
          "table": [
           {
            "cells": {
             "fill": {
              "color": "#EBF0F8"
             },
             "line": {
              "color": "white"
             }
            },
            "header": {
             "fill": {
              "color": "#C8D4E3"
             },
             "line": {
              "color": "white"
             }
            },
            "type": "table"
           }
          ]
         },
         "layout": {
          "annotationdefaults": {
           "arrowcolor": "#2a3f5f",
           "arrowhead": 0,
           "arrowwidth": 1
          },
          "autotypenumbers": "strict",
          "coloraxis": {
           "colorbar": {
            "outlinewidth": 0,
            "ticks": ""
           }
          },
          "colorscale": {
           "diverging": [
            [
             0,
             "#8e0152"
            ],
            [
             0.1,
             "#c51b7d"
            ],
            [
             0.2,
             "#de77ae"
            ],
            [
             0.3,
             "#f1b6da"
            ],
            [
             0.4,
             "#fde0ef"
            ],
            [
             0.5,
             "#f7f7f7"
            ],
            [
             0.6,
             "#e6f5d0"
            ],
            [
             0.7,
             "#b8e186"
            ],
            [
             0.8,
             "#7fbc41"
            ],
            [
             0.9,
             "#4d9221"
            ],
            [
             1,
             "#276419"
            ]
           ],
           "sequential": [
            [
             0,
             "#0d0887"
            ],
            [
             0.1111111111111111,
             "#46039f"
            ],
            [
             0.2222222222222222,
             "#7201a8"
            ],
            [
             0.3333333333333333,
             "#9c179e"
            ],
            [
             0.4444444444444444,
             "#bd3786"
            ],
            [
             0.5555555555555556,
             "#d8576b"
            ],
            [
             0.6666666666666666,
             "#ed7953"
            ],
            [
             0.7777777777777778,
             "#fb9f3a"
            ],
            [
             0.8888888888888888,
             "#fdca26"
            ],
            [
             1,
             "#f0f921"
            ]
           ],
           "sequentialminus": [
            [
             0,
             "#0d0887"
            ],
            [
             0.1111111111111111,
             "#46039f"
            ],
            [
             0.2222222222222222,
             "#7201a8"
            ],
            [
             0.3333333333333333,
             "#9c179e"
            ],
            [
             0.4444444444444444,
             "#bd3786"
            ],
            [
             0.5555555555555556,
             "#d8576b"
            ],
            [
             0.6666666666666666,
             "#ed7953"
            ],
            [
             0.7777777777777778,
             "#fb9f3a"
            ],
            [
             0.8888888888888888,
             "#fdca26"
            ],
            [
             1,
             "#f0f921"
            ]
           ]
          },
          "colorway": [
           "#636efa",
           "#EF553B",
           "#00cc96",
           "#ab63fa",
           "#FFA15A",
           "#19d3f3",
           "#FF6692",
           "#B6E880",
           "#FF97FF",
           "#FECB52"
          ],
          "font": {
           "color": "#2a3f5f"
          },
          "geo": {
           "bgcolor": "white",
           "lakecolor": "white",
           "landcolor": "#E5ECF6",
           "showlakes": true,
           "showland": true,
           "subunitcolor": "white"
          },
          "hoverlabel": {
           "align": "left"
          },
          "hovermode": "closest",
          "mapbox": {
           "style": "light"
          },
          "paper_bgcolor": "white",
          "plot_bgcolor": "#E5ECF6",
          "polar": {
           "angularaxis": {
            "gridcolor": "white",
            "linecolor": "white",
            "ticks": ""
           },
           "bgcolor": "#E5ECF6",
           "radialaxis": {
            "gridcolor": "white",
            "linecolor": "white",
            "ticks": ""
           }
          },
          "scene": {
           "xaxis": {
            "backgroundcolor": "#E5ECF6",
            "gridcolor": "white",
            "gridwidth": 2,
            "linecolor": "white",
            "showbackground": true,
            "ticks": "",
            "zerolinecolor": "white"
           },
           "yaxis": {
            "backgroundcolor": "#E5ECF6",
            "gridcolor": "white",
            "gridwidth": 2,
            "linecolor": "white",
            "showbackground": true,
            "ticks": "",
            "zerolinecolor": "white"
           },
           "zaxis": {
            "backgroundcolor": "#E5ECF6",
            "gridcolor": "white",
            "gridwidth": 2,
            "linecolor": "white",
            "showbackground": true,
            "ticks": "",
            "zerolinecolor": "white"
           }
          },
          "shapedefaults": {
           "line": {
            "color": "#2a3f5f"
           }
          },
          "ternary": {
           "aaxis": {
            "gridcolor": "white",
            "linecolor": "white",
            "ticks": ""
           },
           "baxis": {
            "gridcolor": "white",
            "linecolor": "white",
            "ticks": ""
           },
           "bgcolor": "#E5ECF6",
           "caxis": {
            "gridcolor": "white",
            "linecolor": "white",
            "ticks": ""
           }
          },
          "title": {
           "x": 0.05
          },
          "xaxis": {
           "automargin": true,
           "gridcolor": "white",
           "linecolor": "white",
           "ticks": "",
           "title": {
            "standoff": 15
           },
           "zerolinecolor": "white",
           "zerolinewidth": 2
          },
          "yaxis": {
           "automargin": true,
           "gridcolor": "white",
           "linecolor": "white",
           "ticks": "",
           "title": {
            "standoff": 15
           },
           "zerolinecolor": "white",
           "zerolinewidth": 2
          }
         }
        },
        "title": {
         "text": "Unsupervised anomaly detection in CS CSSR"
        },
        "xaxis": {
         "anchor": "y",
         "domain": [
          0,
          1
         ],
         "rangeslider": {
          "visible": true
         },
         "title": {
          "text": "index"
         }
        },
        "yaxis": {
         "anchor": "x",
         "domain": [
          0,
          1
         ],
         "title": {
          "text": "CS CSSR"
         }
        }
       }
      }
     },
     "metadata": {},
     "output_type": "display_data"
    }
   ],
   "source": [
    "fig = px.line(df,x='index', y='CS CSSR', title='Unsupervised anomaly detection in CS CSSR')\n",
    "fig.add_trace(go.Scatter(x=iso_anomaly_df[\"index\"].to_list(), y=iso_anomaly_df[\"CS CSSR\"].to_list(),\n",
    "                            mode='markers', name='anomalies'))\n",
    "fig.update_xaxes(rangeslider_visible=True)\n",
    "fig"
   ]
  },
  {
   "cell_type": "code",
   "execution_count": 49,
   "metadata": {},
   "outputs": [
    {
     "data": {
      "text/plain": [
       "[0, 0, 0, 0, 0, 0, 0, 0, 0, 0]"
      ]
     },
     "execution_count": 49,
     "metadata": {},
     "output_type": "execute_result"
    }
   ],
   "source": [
    "from sklearn.neighbors import LocalOutlierFactor\n",
    "lof = LocalOutlierFactor(n_neighbors=15, contamination=0.025)\n",
    "y_pred = lof.fit_predict(x)\n",
    "y_pred = [1 if x == -1 else 0 for x in y_pred]\n",
    "y_pred[:10]"
   ]
  },
  {
   "cell_type": "code",
   "execution_count": 50,
   "metadata": {},
   "outputs": [
    {
     "data": {
      "text/html": [
       "<div>\n",
       "<style scoped>\n",
       "    .dataframe tbody tr th:only-of-type {\n",
       "        vertical-align: middle;\n",
       "    }\n",
       "\n",
       "    .dataframe tbody tr th {\n",
       "        vertical-align: top;\n",
       "    }\n",
       "\n",
       "    .dataframe thead th {\n",
       "        text-align: right;\n",
       "    }\n",
       "</style>\n",
       "<table border=\"1\" class=\"dataframe\">\n",
       "  <thead>\n",
       "    <tr style=\"text-align: right;\">\n",
       "      <th></th>\n",
       "      <th>index</th>\n",
       "      <th>Date</th>\n",
       "      <th>RBS Id</th>\n",
       "      <th>TRAFFIC PS(DL+UL)(Gbits)</th>\n",
       "      <th>HSDPA Data Volume</th>\n",
       "      <th>HSUPA Data Volume</th>\n",
       "      <th>Cell Traffic Volume DL Speech (Erlang)</th>\n",
       "      <th>CS CSSR</th>\n",
       "      <th>CS DROP Rate</th>\n",
       "      <th>PS Call Setup SR</th>\n",
       "      <th>PS DROP Rate 2</th>\n",
       "      <th>Availability</th>\n",
       "      <th>Soft Handover</th>\n",
       "      <th>Irat CS Handover SR</th>\n",
       "      <th>IRAT PS 2</th>\n",
       "      <th>throughput</th>\n",
       "      <th>anomaly</th>\n",
       "    </tr>\n",
       "  </thead>\n",
       "  <tbody>\n",
       "    <tr>\n",
       "      <th>0</th>\n",
       "      <td>0</td>\n",
       "      <td>16-12-21</td>\n",
       "      <td>0</td>\n",
       "      <td>74.39</td>\n",
       "      <td>66.74</td>\n",
       "      <td>7.65</td>\n",
       "      <td>156.83</td>\n",
       "      <td>99.69</td>\n",
       "      <td>0.77</td>\n",
       "      <td>95.94</td>\n",
       "      <td>1.72</td>\n",
       "      <td>100.0</td>\n",
       "      <td>99.86</td>\n",
       "      <td>93.94</td>\n",
       "      <td>100.00</td>\n",
       "      <td>755.79</td>\n",
       "      <td>0</td>\n",
       "    </tr>\n",
       "    <tr>\n",
       "      <th>1</th>\n",
       "      <td>1</td>\n",
       "      <td>17-12-21</td>\n",
       "      <td>0</td>\n",
       "      <td>65.41</td>\n",
       "      <td>58.40</td>\n",
       "      <td>7.01</td>\n",
       "      <td>107.82</td>\n",
       "      <td>99.26</td>\n",
       "      <td>0.97</td>\n",
       "      <td>95.40</td>\n",
       "      <td>2.37</td>\n",
       "      <td>100.0</td>\n",
       "      <td>99.67</td>\n",
       "      <td>97.98</td>\n",
       "      <td>100.00</td>\n",
       "      <td>755.79</td>\n",
       "      <td>0</td>\n",
       "    </tr>\n",
       "    <tr>\n",
       "      <th>2</th>\n",
       "      <td>2</td>\n",
       "      <td>18-12-21</td>\n",
       "      <td>0</td>\n",
       "      <td>65.67</td>\n",
       "      <td>58.93</td>\n",
       "      <td>6.74</td>\n",
       "      <td>94.38</td>\n",
       "      <td>99.26</td>\n",
       "      <td>1.09</td>\n",
       "      <td>94.97</td>\n",
       "      <td>3.03</td>\n",
       "      <td>100.0</td>\n",
       "      <td>99.57</td>\n",
       "      <td>96.43</td>\n",
       "      <td>0.00</td>\n",
       "      <td>755.79</td>\n",
       "      <td>0</td>\n",
       "    </tr>\n",
       "    <tr>\n",
       "      <th>3</th>\n",
       "      <td>3</td>\n",
       "      <td>19-12-21</td>\n",
       "      <td>0</td>\n",
       "      <td>57.79</td>\n",
       "      <td>50.91</td>\n",
       "      <td>6.87</td>\n",
       "      <td>101.48</td>\n",
       "      <td>99.08</td>\n",
       "      <td>1.23</td>\n",
       "      <td>95.43</td>\n",
       "      <td>2.60</td>\n",
       "      <td>100.0</td>\n",
       "      <td>99.72</td>\n",
       "      <td>93.14</td>\n",
       "      <td>100.00</td>\n",
       "      <td>755.79</td>\n",
       "      <td>0</td>\n",
       "    </tr>\n",
       "    <tr>\n",
       "      <th>4</th>\n",
       "      <td>4</td>\n",
       "      <td>20-12-21</td>\n",
       "      <td>0</td>\n",
       "      <td>79.74</td>\n",
       "      <td>70.04</td>\n",
       "      <td>9.69</td>\n",
       "      <td>163.22</td>\n",
       "      <td>99.65</td>\n",
       "      <td>0.76</td>\n",
       "      <td>95.16</td>\n",
       "      <td>1.61</td>\n",
       "      <td>100.0</td>\n",
       "      <td>99.86</td>\n",
       "      <td>94.23</td>\n",
       "      <td>66.67</td>\n",
       "      <td>755.79</td>\n",
       "      <td>0</td>\n",
       "    </tr>\n",
       "  </tbody>\n",
       "</table>\n",
       "</div>"
      ],
      "text/plain": [
       "   index      Date  RBS Id  TRAFFIC PS(DL+UL)(Gbits)  HSDPA Data Volume  \\\n",
       "0      0  16-12-21       0                     74.39              66.74   \n",
       "1      1  17-12-21       0                     65.41              58.40   \n",
       "2      2  18-12-21       0                     65.67              58.93   \n",
       "3      3  19-12-21       0                     57.79              50.91   \n",
       "4      4  20-12-21       0                     79.74              70.04   \n",
       "\n",
       "   HSUPA Data Volume  Cell Traffic Volume DL Speech (Erlang)  CS CSSR  \\\n",
       "0               7.65                                  156.83    99.69   \n",
       "1               7.01                                  107.82    99.26   \n",
       "2               6.74                                   94.38    99.26   \n",
       "3               6.87                                  101.48    99.08   \n",
       "4               9.69                                  163.22    99.65   \n",
       "\n",
       "   CS DROP Rate  PS Call Setup SR  PS DROP Rate 2  Availability  \\\n",
       "0          0.77             95.94            1.72         100.0   \n",
       "1          0.97             95.40            2.37         100.0   \n",
       "2          1.09             94.97            3.03         100.0   \n",
       "3          1.23             95.43            2.60         100.0   \n",
       "4          0.76             95.16            1.61         100.0   \n",
       "\n",
       "   Soft Handover  Irat CS Handover SR  IRAT PS 2  throughput  anomaly  \n",
       "0          99.86                93.94     100.00      755.79        0  \n",
       "1          99.67                97.98     100.00      755.79        0  \n",
       "2          99.57                96.43       0.00      755.79        0  \n",
       "3          99.72                93.14     100.00      755.79        0  \n",
       "4          99.86                94.23      66.67      755.79        0  "
      ]
     },
     "execution_count": 50,
     "metadata": {},
     "output_type": "execute_result"
    }
   ],
   "source": [
    "df[\"anomaly\"] = y_pred\n",
    "df.head()"
   ]
  },
  {
   "cell_type": "code",
   "execution_count": 51,
   "metadata": {},
   "outputs": [
    {
     "data": {
      "text/html": [
       "<div>\n",
       "<style scoped>\n",
       "    .dataframe tbody tr th:only-of-type {\n",
       "        vertical-align: middle;\n",
       "    }\n",
       "\n",
       "    .dataframe tbody tr th {\n",
       "        vertical-align: top;\n",
       "    }\n",
       "\n",
       "    .dataframe thead th {\n",
       "        text-align: right;\n",
       "    }\n",
       "</style>\n",
       "<table border=\"1\" class=\"dataframe\">\n",
       "  <thead>\n",
       "    <tr style=\"text-align: right;\">\n",
       "      <th></th>\n",
       "      <th>index</th>\n",
       "      <th>Date</th>\n",
       "      <th>RBS Id</th>\n",
       "      <th>TRAFFIC PS(DL+UL)(Gbits)</th>\n",
       "      <th>HSDPA Data Volume</th>\n",
       "      <th>HSUPA Data Volume</th>\n",
       "      <th>Cell Traffic Volume DL Speech (Erlang)</th>\n",
       "      <th>CS CSSR</th>\n",
       "      <th>CS DROP Rate</th>\n",
       "      <th>PS Call Setup SR</th>\n",
       "      <th>PS DROP Rate 2</th>\n",
       "      <th>Availability</th>\n",
       "      <th>Soft Handover</th>\n",
       "      <th>Irat CS Handover SR</th>\n",
       "      <th>IRAT PS 2</th>\n",
       "      <th>throughput</th>\n",
       "      <th>anomaly</th>\n",
       "    </tr>\n",
       "  </thead>\n",
       "  <tbody>\n",
       "    <tr>\n",
       "      <th>24</th>\n",
       "      <td>24</td>\n",
       "      <td>01-09-22</td>\n",
       "      <td>0</td>\n",
       "      <td>72.46</td>\n",
       "      <td>61.93</td>\n",
       "      <td>10.53</td>\n",
       "      <td>89.79</td>\n",
       "      <td>98.41</td>\n",
       "      <td>3.48</td>\n",
       "      <td>93.11</td>\n",
       "      <td>4.73</td>\n",
       "      <td>96.95</td>\n",
       "      <td>98.69</td>\n",
       "      <td>92.60</td>\n",
       "      <td>100.00</td>\n",
       "      <td>490.41</td>\n",
       "      <td>1</td>\n",
       "    </tr>\n",
       "    <tr>\n",
       "      <th>25</th>\n",
       "      <td>25</td>\n",
       "      <td>01-10-22</td>\n",
       "      <td>0</td>\n",
       "      <td>64.63</td>\n",
       "      <td>57.21</td>\n",
       "      <td>7.42</td>\n",
       "      <td>110.09</td>\n",
       "      <td>98.29</td>\n",
       "      <td>3.87</td>\n",
       "      <td>89.49</td>\n",
       "      <td>3.79</td>\n",
       "      <td>97.88</td>\n",
       "      <td>99.60</td>\n",
       "      <td>95.49</td>\n",
       "      <td>100.00</td>\n",
       "      <td>670.35</td>\n",
       "      <td>1</td>\n",
       "    </tr>\n",
       "    <tr>\n",
       "      <th>56</th>\n",
       "      <td>56</td>\n",
       "      <td>02-10-22</td>\n",
       "      <td>0</td>\n",
       "      <td>79.22</td>\n",
       "      <td>69.52</td>\n",
       "      <td>9.71</td>\n",
       "      <td>170.49</td>\n",
       "      <td>99.77</td>\n",
       "      <td>0.83</td>\n",
       "      <td>96.12</td>\n",
       "      <td>1.22</td>\n",
       "      <td>100.00</td>\n",
       "      <td>99.77</td>\n",
       "      <td>95.83</td>\n",
       "      <td>50.00</td>\n",
       "      <td>817.07</td>\n",
       "      <td>1</td>\n",
       "    </tr>\n",
       "    <tr>\n",
       "      <th>106</th>\n",
       "      <td>106</td>\n",
       "      <td>16-01-22</td>\n",
       "      <td>1</td>\n",
       "      <td>88.22</td>\n",
       "      <td>78.74</td>\n",
       "      <td>9.47</td>\n",
       "      <td>378.45</td>\n",
       "      <td>99.83</td>\n",
       "      <td>0.18</td>\n",
       "      <td>97.81</td>\n",
       "      <td>0.70</td>\n",
       "      <td>100.00</td>\n",
       "      <td>100.06</td>\n",
       "      <td>94.85</td>\n",
       "      <td>66.67</td>\n",
       "      <td>804.15</td>\n",
       "      <td>1</td>\n",
       "    </tr>\n",
       "    <tr>\n",
       "      <th>164</th>\n",
       "      <td>164</td>\n",
       "      <td>30-12-21</td>\n",
       "      <td>2</td>\n",
       "      <td>61.17</td>\n",
       "      <td>51.81</td>\n",
       "      <td>9.36</td>\n",
       "      <td>730.76</td>\n",
       "      <td>99.80</td>\n",
       "      <td>0.11</td>\n",
       "      <td>97.34</td>\n",
       "      <td>0.75</td>\n",
       "      <td>100.00</td>\n",
       "      <td>100.14</td>\n",
       "      <td>97.29</td>\n",
       "      <td>66.67</td>\n",
       "      <td>681.13</td>\n",
       "      <td>1</td>\n",
       "    </tr>\n",
       "  </tbody>\n",
       "</table>\n",
       "</div>"
      ],
      "text/plain": [
       "     index      Date  RBS Id  TRAFFIC PS(DL+UL)(Gbits)  HSDPA Data Volume  \\\n",
       "24      24  01-09-22       0                     72.46              61.93   \n",
       "25      25  01-10-22       0                     64.63              57.21   \n",
       "56      56  02-10-22       0                     79.22              69.52   \n",
       "106    106  16-01-22       1                     88.22              78.74   \n",
       "164    164  30-12-21       2                     61.17              51.81   \n",
       "\n",
       "     HSUPA Data Volume  Cell Traffic Volume DL Speech (Erlang)  CS CSSR  \\\n",
       "24               10.53                                   89.79    98.41   \n",
       "25                7.42                                  110.09    98.29   \n",
       "56                9.71                                  170.49    99.77   \n",
       "106               9.47                                  378.45    99.83   \n",
       "164               9.36                                  730.76    99.80   \n",
       "\n",
       "     CS DROP Rate  PS Call Setup SR  PS DROP Rate 2  Availability  \\\n",
       "24           3.48             93.11            4.73         96.95   \n",
       "25           3.87             89.49            3.79         97.88   \n",
       "56           0.83             96.12            1.22        100.00   \n",
       "106          0.18             97.81            0.70        100.00   \n",
       "164          0.11             97.34            0.75        100.00   \n",
       "\n",
       "     Soft Handover  Irat CS Handover SR  IRAT PS 2  throughput  anomaly  \n",
       "24           98.69                92.60     100.00      490.41        1  \n",
       "25           99.60                95.49     100.00      670.35        1  \n",
       "56           99.77                95.83      50.00      817.07        1  \n",
       "106         100.06                94.85      66.67      804.15        1  \n",
       "164         100.14                97.29      66.67      681.13        1  "
      ]
     },
     "execution_count": 51,
     "metadata": {},
     "output_type": "execute_result"
    }
   ],
   "source": [
    "lof_anomaly_df = pd.DataFrame(df)\n",
    "lof_anomaly_df = lof_anomaly_df.loc[lof_anomaly_df['anomaly'] == 1]\n",
    "lof_anomaly_df.head()"
   ]
  },
  {
   "cell_type": "code",
   "execution_count": 52,
   "metadata": {},
   "outputs": [
    {
     "data": {
      "application/vnd.plotly.v1+json": {
       "config": {
        "plotlyServerURL": "https://plot.ly"
       },
       "data": [
        {
         "hovertemplate": "index=%{x}<br>CS CSSR=%{y}<extra></extra>",
         "legendgroup": "",
         "line": {
          "color": "#636efa",
          "dash": "solid"
         },
         "mode": "lines",
         "name": "",
         "orientation": "v",
         "showlegend": false,
         "type": "scatter",
         "x": [
          0,
          1,
          2,
          3,
          4,
          5,
          6,
          7,
          8,
          9,
          10,
          11,
          12,
          13,
          14,
          15,
          16,
          17,
          18,
          19,
          20,
          21,
          22,
          23,
          24,
          25,
          26,
          27,
          28,
          29,
          30,
          31,
          32,
          33,
          34,
          35,
          36,
          37,
          38,
          39,
          40,
          41,
          42,
          43,
          44,
          45,
          46,
          47,
          48,
          49,
          50,
          51,
          52,
          53,
          54,
          55,
          56,
          57,
          58,
          59,
          60,
          61,
          62,
          63,
          64,
          65,
          66,
          67,
          68,
          69,
          70,
          71,
          72,
          73,
          74,
          75,
          76,
          77,
          78,
          79,
          80,
          81,
          82,
          83,
          84,
          85,
          86,
          87,
          88,
          89,
          90,
          91,
          92,
          93,
          94,
          95,
          96,
          97,
          98,
          99,
          100,
          101,
          102,
          103,
          104,
          105,
          106,
          107,
          108,
          109,
          110,
          111,
          112,
          113,
          114,
          115,
          116,
          117,
          118,
          119,
          120,
          121,
          122,
          123,
          124,
          125,
          126,
          127,
          128,
          129,
          130,
          131,
          132,
          133,
          134,
          135,
          136,
          137,
          138,
          139,
          140,
          141,
          142,
          143,
          144,
          145,
          146,
          147,
          148,
          149,
          150,
          151,
          152,
          153,
          154,
          155,
          156,
          157,
          158,
          159,
          160,
          161,
          162,
          163,
          164,
          165,
          166,
          167,
          168,
          169,
          170,
          171,
          172,
          173,
          174,
          175,
          176,
          177,
          178,
          179,
          180,
          181,
          182,
          183,
          184,
          185,
          186,
          187,
          188,
          189,
          190,
          191,
          192,
          193,
          194,
          195,
          196,
          197,
          198,
          199,
          200,
          201,
          202,
          203,
          204,
          205,
          206,
          207,
          208,
          209,
          210,
          211,
          212,
          213,
          214,
          215,
          216,
          217,
          218,
          219,
          220,
          221,
          222,
          223,
          224
         ],
         "xaxis": "x",
         "y": [
          99.69,
          99.26,
          99.26,
          99.08,
          99.65,
          99.56,
          99.54,
          99.27,
          99.36,
          98.97,
          99.14,
          99.08,
          99.35,
          99.52,
          99.15,
          99.1,
          99,
          99.16,
          99.38,
          99.35,
          99.42,
          99.38,
          99.41,
          98.87,
          98.41,
          98.29,
          99.57,
          99.29,
          99.22,
          99.56,
          99.18,
          98.85,
          99.35,
          99.35,
          98.98,
          99.48,
          99.54,
          99.27,
          99.27,
          99.2,
          99.46,
          99.02,
          99.41,
          99.62,
          99.42,
          99.08,
          99.38,
          99.35,
          98.98,
          99.47,
          99.47,
          99.41,
          99.01,
          99.65,
          99.56,
          99.63,
          99.77,
          99.58,
          99.56,
          99.42,
          99.71,
          99.32,
          99.6,
          99.57,
          99.43,
          99.43,
          98.98,
          99.53,
          99.56,
          99.43,
          99.63,
          99.6,
          99.25,
          99.38,
          99.54,
          99.88,
          99.96,
          99.9,
          99.89,
          99.9,
          99.89,
          99.86,
          99.93,
          99.88,
          99.87,
          99.86,
          99.91,
          99.89,
          99.92,
          99.95,
          99.88,
          99.88,
          99.88,
          99.91,
          99.91,
          99.91,
          99.89,
          99.91,
          99.85,
          99.87,
          99.61,
          99.9,
          99.91,
          99.88,
          99.96,
          99.9,
          99.83,
          99.91,
          99.85,
          99.91,
          99.91,
          99.9,
          99.94,
          99.88,
          99.92,
          99.92,
          99.92,
          99.92,
          99.9,
          99.92,
          99.92,
          99.93,
          99.91,
          99.63,
          99.92,
          99.91,
          99.93,
          99.87,
          99.9,
          99.91,
          99.92,
          99.91,
          99.91,
          99.9,
          99.88,
          99.93,
          99.9,
          99.91,
          99.91,
          99.91,
          99.86,
          99.86,
          99.91,
          99.89,
          99.92,
          99.91,
          99.88,
          99.94,
          99.84,
          99.88,
          99.9,
          99.89,
          99.91,
          99.87,
          99.91,
          99.88,
          99.91,
          99.9,
          99.91,
          99.9,
          99.93,
          99.89,
          99.89,
          99.86,
          99.8,
          99.91,
          99.92,
          99.92,
          99.92,
          99.91,
          99.91,
          99.9,
          99.91,
          99.88,
          99.92,
          99.55,
          99.93,
          99.91,
          99.92,
          99.9,
          99.9,
          99.88,
          99.91,
          99.87,
          99.9,
          99.9,
          99.92,
          99.87,
          99.9,
          99.93,
          99.96,
          99.94,
          99.89,
          99.94,
          99.94,
          99.91,
          99.89,
          99.9,
          99.78,
          99.91,
          99.89,
          99.93,
          99.9,
          99.93,
          99.95,
          99.91,
          99.93,
          99.94,
          99.95,
          99.94,
          99.91,
          99.94,
          99.93,
          99.93,
          99.92,
          99.89,
          99.9,
          99.91,
          99.89,
          99.9,
          99.91,
          99.92,
          99.91,
          99.9,
          99.9
         ],
         "yaxis": "y"
        },
        {
         "mode": "markers",
         "name": "anomalies",
         "type": "scatter",
         "x": [
          24,
          25,
          56,
          106,
          164,
          198
         ],
         "y": [
          98.41,
          98.29,
          99.77,
          99.83,
          99.8,
          99.78
         ]
        }
       ],
       "layout": {
        "legend": {
         "tracegroupgap": 0
        },
        "template": {
         "data": {
          "bar": [
           {
            "error_x": {
             "color": "#2a3f5f"
            },
            "error_y": {
             "color": "#2a3f5f"
            },
            "marker": {
             "line": {
              "color": "#E5ECF6",
              "width": 0.5
             }
            },
            "type": "bar"
           }
          ],
          "barpolar": [
           {
            "marker": {
             "line": {
              "color": "#E5ECF6",
              "width": 0.5
             }
            },
            "type": "barpolar"
           }
          ],
          "carpet": [
           {
            "aaxis": {
             "endlinecolor": "#2a3f5f",
             "gridcolor": "white",
             "linecolor": "white",
             "minorgridcolor": "white",
             "startlinecolor": "#2a3f5f"
            },
            "baxis": {
             "endlinecolor": "#2a3f5f",
             "gridcolor": "white",
             "linecolor": "white",
             "minorgridcolor": "white",
             "startlinecolor": "#2a3f5f"
            },
            "type": "carpet"
           }
          ],
          "choropleth": [
           {
            "colorbar": {
             "outlinewidth": 0,
             "ticks": ""
            },
            "type": "choropleth"
           }
          ],
          "contour": [
           {
            "colorbar": {
             "outlinewidth": 0,
             "ticks": ""
            },
            "colorscale": [
             [
              0,
              "#0d0887"
             ],
             [
              0.1111111111111111,
              "#46039f"
             ],
             [
              0.2222222222222222,
              "#7201a8"
             ],
             [
              0.3333333333333333,
              "#9c179e"
             ],
             [
              0.4444444444444444,
              "#bd3786"
             ],
             [
              0.5555555555555556,
              "#d8576b"
             ],
             [
              0.6666666666666666,
              "#ed7953"
             ],
             [
              0.7777777777777778,
              "#fb9f3a"
             ],
             [
              0.8888888888888888,
              "#fdca26"
             ],
             [
              1,
              "#f0f921"
             ]
            ],
            "type": "contour"
           }
          ],
          "contourcarpet": [
           {
            "colorbar": {
             "outlinewidth": 0,
             "ticks": ""
            },
            "type": "contourcarpet"
           }
          ],
          "heatmap": [
           {
            "colorbar": {
             "outlinewidth": 0,
             "ticks": ""
            },
            "colorscale": [
             [
              0,
              "#0d0887"
             ],
             [
              0.1111111111111111,
              "#46039f"
             ],
             [
              0.2222222222222222,
              "#7201a8"
             ],
             [
              0.3333333333333333,
              "#9c179e"
             ],
             [
              0.4444444444444444,
              "#bd3786"
             ],
             [
              0.5555555555555556,
              "#d8576b"
             ],
             [
              0.6666666666666666,
              "#ed7953"
             ],
             [
              0.7777777777777778,
              "#fb9f3a"
             ],
             [
              0.8888888888888888,
              "#fdca26"
             ],
             [
              1,
              "#f0f921"
             ]
            ],
            "type": "heatmap"
           }
          ],
          "heatmapgl": [
           {
            "colorbar": {
             "outlinewidth": 0,
             "ticks": ""
            },
            "colorscale": [
             [
              0,
              "#0d0887"
             ],
             [
              0.1111111111111111,
              "#46039f"
             ],
             [
              0.2222222222222222,
              "#7201a8"
             ],
             [
              0.3333333333333333,
              "#9c179e"
             ],
             [
              0.4444444444444444,
              "#bd3786"
             ],
             [
              0.5555555555555556,
              "#d8576b"
             ],
             [
              0.6666666666666666,
              "#ed7953"
             ],
             [
              0.7777777777777778,
              "#fb9f3a"
             ],
             [
              0.8888888888888888,
              "#fdca26"
             ],
             [
              1,
              "#f0f921"
             ]
            ],
            "type": "heatmapgl"
           }
          ],
          "histogram": [
           {
            "marker": {
             "colorbar": {
              "outlinewidth": 0,
              "ticks": ""
             }
            },
            "type": "histogram"
           }
          ],
          "histogram2d": [
           {
            "colorbar": {
             "outlinewidth": 0,
             "ticks": ""
            },
            "colorscale": [
             [
              0,
              "#0d0887"
             ],
             [
              0.1111111111111111,
              "#46039f"
             ],
             [
              0.2222222222222222,
              "#7201a8"
             ],
             [
              0.3333333333333333,
              "#9c179e"
             ],
             [
              0.4444444444444444,
              "#bd3786"
             ],
             [
              0.5555555555555556,
              "#d8576b"
             ],
             [
              0.6666666666666666,
              "#ed7953"
             ],
             [
              0.7777777777777778,
              "#fb9f3a"
             ],
             [
              0.8888888888888888,
              "#fdca26"
             ],
             [
              1,
              "#f0f921"
             ]
            ],
            "type": "histogram2d"
           }
          ],
          "histogram2dcontour": [
           {
            "colorbar": {
             "outlinewidth": 0,
             "ticks": ""
            },
            "colorscale": [
             [
              0,
              "#0d0887"
             ],
             [
              0.1111111111111111,
              "#46039f"
             ],
             [
              0.2222222222222222,
              "#7201a8"
             ],
             [
              0.3333333333333333,
              "#9c179e"
             ],
             [
              0.4444444444444444,
              "#bd3786"
             ],
             [
              0.5555555555555556,
              "#d8576b"
             ],
             [
              0.6666666666666666,
              "#ed7953"
             ],
             [
              0.7777777777777778,
              "#fb9f3a"
             ],
             [
              0.8888888888888888,
              "#fdca26"
             ],
             [
              1,
              "#f0f921"
             ]
            ],
            "type": "histogram2dcontour"
           }
          ],
          "mesh3d": [
           {
            "colorbar": {
             "outlinewidth": 0,
             "ticks": ""
            },
            "type": "mesh3d"
           }
          ],
          "parcoords": [
           {
            "line": {
             "colorbar": {
              "outlinewidth": 0,
              "ticks": ""
             }
            },
            "type": "parcoords"
           }
          ],
          "pie": [
           {
            "automargin": true,
            "type": "pie"
           }
          ],
          "scatter": [
           {
            "marker": {
             "colorbar": {
              "outlinewidth": 0,
              "ticks": ""
             }
            },
            "type": "scatter"
           }
          ],
          "scatter3d": [
           {
            "line": {
             "colorbar": {
              "outlinewidth": 0,
              "ticks": ""
             }
            },
            "marker": {
             "colorbar": {
              "outlinewidth": 0,
              "ticks": ""
             }
            },
            "type": "scatter3d"
           }
          ],
          "scattercarpet": [
           {
            "marker": {
             "colorbar": {
              "outlinewidth": 0,
              "ticks": ""
             }
            },
            "type": "scattercarpet"
           }
          ],
          "scattergeo": [
           {
            "marker": {
             "colorbar": {
              "outlinewidth": 0,
              "ticks": ""
             }
            },
            "type": "scattergeo"
           }
          ],
          "scattergl": [
           {
            "marker": {
             "colorbar": {
              "outlinewidth": 0,
              "ticks": ""
             }
            },
            "type": "scattergl"
           }
          ],
          "scattermapbox": [
           {
            "marker": {
             "colorbar": {
              "outlinewidth": 0,
              "ticks": ""
             }
            },
            "type": "scattermapbox"
           }
          ],
          "scatterpolar": [
           {
            "marker": {
             "colorbar": {
              "outlinewidth": 0,
              "ticks": ""
             }
            },
            "type": "scatterpolar"
           }
          ],
          "scatterpolargl": [
           {
            "marker": {
             "colorbar": {
              "outlinewidth": 0,
              "ticks": ""
             }
            },
            "type": "scatterpolargl"
           }
          ],
          "scatterternary": [
           {
            "marker": {
             "colorbar": {
              "outlinewidth": 0,
              "ticks": ""
             }
            },
            "type": "scatterternary"
           }
          ],
          "surface": [
           {
            "colorbar": {
             "outlinewidth": 0,
             "ticks": ""
            },
            "colorscale": [
             [
              0,
              "#0d0887"
             ],
             [
              0.1111111111111111,
              "#46039f"
             ],
             [
              0.2222222222222222,
              "#7201a8"
             ],
             [
              0.3333333333333333,
              "#9c179e"
             ],
             [
              0.4444444444444444,
              "#bd3786"
             ],
             [
              0.5555555555555556,
              "#d8576b"
             ],
             [
              0.6666666666666666,
              "#ed7953"
             ],
             [
              0.7777777777777778,
              "#fb9f3a"
             ],
             [
              0.8888888888888888,
              "#fdca26"
             ],
             [
              1,
              "#f0f921"
             ]
            ],
            "type": "surface"
           }
          ],
          "table": [
           {
            "cells": {
             "fill": {
              "color": "#EBF0F8"
             },
             "line": {
              "color": "white"
             }
            },
            "header": {
             "fill": {
              "color": "#C8D4E3"
             },
             "line": {
              "color": "white"
             }
            },
            "type": "table"
           }
          ]
         },
         "layout": {
          "annotationdefaults": {
           "arrowcolor": "#2a3f5f",
           "arrowhead": 0,
           "arrowwidth": 1
          },
          "autotypenumbers": "strict",
          "coloraxis": {
           "colorbar": {
            "outlinewidth": 0,
            "ticks": ""
           }
          },
          "colorscale": {
           "diverging": [
            [
             0,
             "#8e0152"
            ],
            [
             0.1,
             "#c51b7d"
            ],
            [
             0.2,
             "#de77ae"
            ],
            [
             0.3,
             "#f1b6da"
            ],
            [
             0.4,
             "#fde0ef"
            ],
            [
             0.5,
             "#f7f7f7"
            ],
            [
             0.6,
             "#e6f5d0"
            ],
            [
             0.7,
             "#b8e186"
            ],
            [
             0.8,
             "#7fbc41"
            ],
            [
             0.9,
             "#4d9221"
            ],
            [
             1,
             "#276419"
            ]
           ],
           "sequential": [
            [
             0,
             "#0d0887"
            ],
            [
             0.1111111111111111,
             "#46039f"
            ],
            [
             0.2222222222222222,
             "#7201a8"
            ],
            [
             0.3333333333333333,
             "#9c179e"
            ],
            [
             0.4444444444444444,
             "#bd3786"
            ],
            [
             0.5555555555555556,
             "#d8576b"
            ],
            [
             0.6666666666666666,
             "#ed7953"
            ],
            [
             0.7777777777777778,
             "#fb9f3a"
            ],
            [
             0.8888888888888888,
             "#fdca26"
            ],
            [
             1,
             "#f0f921"
            ]
           ],
           "sequentialminus": [
            [
             0,
             "#0d0887"
            ],
            [
             0.1111111111111111,
             "#46039f"
            ],
            [
             0.2222222222222222,
             "#7201a8"
            ],
            [
             0.3333333333333333,
             "#9c179e"
            ],
            [
             0.4444444444444444,
             "#bd3786"
            ],
            [
             0.5555555555555556,
             "#d8576b"
            ],
            [
             0.6666666666666666,
             "#ed7953"
            ],
            [
             0.7777777777777778,
             "#fb9f3a"
            ],
            [
             0.8888888888888888,
             "#fdca26"
            ],
            [
             1,
             "#f0f921"
            ]
           ]
          },
          "colorway": [
           "#636efa",
           "#EF553B",
           "#00cc96",
           "#ab63fa",
           "#FFA15A",
           "#19d3f3",
           "#FF6692",
           "#B6E880",
           "#FF97FF",
           "#FECB52"
          ],
          "font": {
           "color": "#2a3f5f"
          },
          "geo": {
           "bgcolor": "white",
           "lakecolor": "white",
           "landcolor": "#E5ECF6",
           "showlakes": true,
           "showland": true,
           "subunitcolor": "white"
          },
          "hoverlabel": {
           "align": "left"
          },
          "hovermode": "closest",
          "mapbox": {
           "style": "light"
          },
          "paper_bgcolor": "white",
          "plot_bgcolor": "#E5ECF6",
          "polar": {
           "angularaxis": {
            "gridcolor": "white",
            "linecolor": "white",
            "ticks": ""
           },
           "bgcolor": "#E5ECF6",
           "radialaxis": {
            "gridcolor": "white",
            "linecolor": "white",
            "ticks": ""
           }
          },
          "scene": {
           "xaxis": {
            "backgroundcolor": "#E5ECF6",
            "gridcolor": "white",
            "gridwidth": 2,
            "linecolor": "white",
            "showbackground": true,
            "ticks": "",
            "zerolinecolor": "white"
           },
           "yaxis": {
            "backgroundcolor": "#E5ECF6",
            "gridcolor": "white",
            "gridwidth": 2,
            "linecolor": "white",
            "showbackground": true,
            "ticks": "",
            "zerolinecolor": "white"
           },
           "zaxis": {
            "backgroundcolor": "#E5ECF6",
            "gridcolor": "white",
            "gridwidth": 2,
            "linecolor": "white",
            "showbackground": true,
            "ticks": "",
            "zerolinecolor": "white"
           }
          },
          "shapedefaults": {
           "line": {
            "color": "#2a3f5f"
           }
          },
          "ternary": {
           "aaxis": {
            "gridcolor": "white",
            "linecolor": "white",
            "ticks": ""
           },
           "baxis": {
            "gridcolor": "white",
            "linecolor": "white",
            "ticks": ""
           },
           "bgcolor": "#E5ECF6",
           "caxis": {
            "gridcolor": "white",
            "linecolor": "white",
            "ticks": ""
           }
          },
          "title": {
           "x": 0.05
          },
          "xaxis": {
           "automargin": true,
           "gridcolor": "white",
           "linecolor": "white",
           "ticks": "",
           "title": {
            "standoff": 15
           },
           "zerolinecolor": "white",
           "zerolinewidth": 2
          },
          "yaxis": {
           "automargin": true,
           "gridcolor": "white",
           "linecolor": "white",
           "ticks": "",
           "title": {
            "standoff": 15
           },
           "zerolinecolor": "white",
           "zerolinewidth": 2
          }
         }
        },
        "title": {
         "text": "Unsupervised anomaly detection in CS CSSR"
        },
        "xaxis": {
         "anchor": "y",
         "domain": [
          0,
          1
         ],
         "rangeslider": {
          "visible": true
         },
         "title": {
          "text": "index"
         }
        },
        "yaxis": {
         "anchor": "x",
         "domain": [
          0,
          1
         ],
         "title": {
          "text": "CS CSSR"
         }
        }
       }
      }
     },
     "metadata": {},
     "output_type": "display_data"
    }
   ],
   "source": [
    "fig = px.line(df, x='index', y='CS CSSR', title='Unsupervised anomaly detection in CS CSSR')\n",
    "fig.add_trace(go.Scatter(x=lof_anomaly_df[\"index\"].to_list(), y=lof_anomaly_df[\"CS CSSR\"].to_list(),\n",
    "                        mode='markers', name='anomalies'))\n",
    "fig.update_xaxes(rangeslider_visible=True)\n",
    "fig"
   ]
  },
  {
   "cell_type": "code",
   "execution_count": 59,
   "metadata": {},
   "outputs": [
    {
     "data": {
      "text/plain": [
       "[0, 0, 0, 0, 0, 0, 0, 0, 0, 1]"
      ]
     },
     "execution_count": 59,
     "metadata": {},
     "output_type": "execute_result"
    }
   ],
   "source": [
    "from sklearn.svm import OneClassSVM\n",
    "ocsvm = OneClassSVM(kernel='rbf',\n",
    "                     gamma=\"auto\",\n",
    "                     nu=0.1)\n",
    "y_pred = ocsvm.fit_predict(x)\n",
    "y_pred = [1 if x == -1 else 0 for x in y_pred]\n",
    "y_pred[:10]"
   ]
  },
  {
   "cell_type": "code",
   "execution_count": 60,
   "metadata": {},
   "outputs": [
    {
     "data": {
      "text/html": [
       "<div>\n",
       "<style scoped>\n",
       "    .dataframe tbody tr th:only-of-type {\n",
       "        vertical-align: middle;\n",
       "    }\n",
       "\n",
       "    .dataframe tbody tr th {\n",
       "        vertical-align: top;\n",
       "    }\n",
       "\n",
       "    .dataframe thead th {\n",
       "        text-align: right;\n",
       "    }\n",
       "</style>\n",
       "<table border=\"1\" class=\"dataframe\">\n",
       "  <thead>\n",
       "    <tr style=\"text-align: right;\">\n",
       "      <th></th>\n",
       "      <th>index</th>\n",
       "      <th>Date</th>\n",
       "      <th>RBS Id</th>\n",
       "      <th>TRAFFIC PS(DL+UL)(Gbits)</th>\n",
       "      <th>HSDPA Data Volume</th>\n",
       "      <th>HSUPA Data Volume</th>\n",
       "      <th>Cell Traffic Volume DL Speech (Erlang)</th>\n",
       "      <th>CS CSSR</th>\n",
       "      <th>CS DROP Rate</th>\n",
       "      <th>PS Call Setup SR</th>\n",
       "      <th>PS DROP Rate 2</th>\n",
       "      <th>Availability</th>\n",
       "      <th>Soft Handover</th>\n",
       "      <th>Irat CS Handover SR</th>\n",
       "      <th>IRAT PS 2</th>\n",
       "      <th>throughput</th>\n",
       "      <th>anomaly</th>\n",
       "    </tr>\n",
       "  </thead>\n",
       "  <tbody>\n",
       "    <tr>\n",
       "      <th>0</th>\n",
       "      <td>0</td>\n",
       "      <td>16-12-21</td>\n",
       "      <td>0</td>\n",
       "      <td>74.39</td>\n",
       "      <td>66.74</td>\n",
       "      <td>7.65</td>\n",
       "      <td>156.83</td>\n",
       "      <td>99.69</td>\n",
       "      <td>0.77</td>\n",
       "      <td>95.94</td>\n",
       "      <td>1.72</td>\n",
       "      <td>100.0</td>\n",
       "      <td>99.86</td>\n",
       "      <td>93.94</td>\n",
       "      <td>100.00</td>\n",
       "      <td>755.79</td>\n",
       "      <td>0</td>\n",
       "    </tr>\n",
       "    <tr>\n",
       "      <th>1</th>\n",
       "      <td>1</td>\n",
       "      <td>17-12-21</td>\n",
       "      <td>0</td>\n",
       "      <td>65.41</td>\n",
       "      <td>58.40</td>\n",
       "      <td>7.01</td>\n",
       "      <td>107.82</td>\n",
       "      <td>99.26</td>\n",
       "      <td>0.97</td>\n",
       "      <td>95.40</td>\n",
       "      <td>2.37</td>\n",
       "      <td>100.0</td>\n",
       "      <td>99.67</td>\n",
       "      <td>97.98</td>\n",
       "      <td>100.00</td>\n",
       "      <td>755.79</td>\n",
       "      <td>0</td>\n",
       "    </tr>\n",
       "    <tr>\n",
       "      <th>2</th>\n",
       "      <td>2</td>\n",
       "      <td>18-12-21</td>\n",
       "      <td>0</td>\n",
       "      <td>65.67</td>\n",
       "      <td>58.93</td>\n",
       "      <td>6.74</td>\n",
       "      <td>94.38</td>\n",
       "      <td>99.26</td>\n",
       "      <td>1.09</td>\n",
       "      <td>94.97</td>\n",
       "      <td>3.03</td>\n",
       "      <td>100.0</td>\n",
       "      <td>99.57</td>\n",
       "      <td>96.43</td>\n",
       "      <td>0.00</td>\n",
       "      <td>755.79</td>\n",
       "      <td>0</td>\n",
       "    </tr>\n",
       "    <tr>\n",
       "      <th>3</th>\n",
       "      <td>3</td>\n",
       "      <td>19-12-21</td>\n",
       "      <td>0</td>\n",
       "      <td>57.79</td>\n",
       "      <td>50.91</td>\n",
       "      <td>6.87</td>\n",
       "      <td>101.48</td>\n",
       "      <td>99.08</td>\n",
       "      <td>1.23</td>\n",
       "      <td>95.43</td>\n",
       "      <td>2.60</td>\n",
       "      <td>100.0</td>\n",
       "      <td>99.72</td>\n",
       "      <td>93.14</td>\n",
       "      <td>100.00</td>\n",
       "      <td>755.79</td>\n",
       "      <td>0</td>\n",
       "    </tr>\n",
       "    <tr>\n",
       "      <th>4</th>\n",
       "      <td>4</td>\n",
       "      <td>20-12-21</td>\n",
       "      <td>0</td>\n",
       "      <td>79.74</td>\n",
       "      <td>70.04</td>\n",
       "      <td>9.69</td>\n",
       "      <td>163.22</td>\n",
       "      <td>99.65</td>\n",
       "      <td>0.76</td>\n",
       "      <td>95.16</td>\n",
       "      <td>1.61</td>\n",
       "      <td>100.0</td>\n",
       "      <td>99.86</td>\n",
       "      <td>94.23</td>\n",
       "      <td>66.67</td>\n",
       "      <td>755.79</td>\n",
       "      <td>0</td>\n",
       "    </tr>\n",
       "  </tbody>\n",
       "</table>\n",
       "</div>"
      ],
      "text/plain": [
       "   index      Date  RBS Id  TRAFFIC PS(DL+UL)(Gbits)  HSDPA Data Volume  \\\n",
       "0      0  16-12-21       0                     74.39              66.74   \n",
       "1      1  17-12-21       0                     65.41              58.40   \n",
       "2      2  18-12-21       0                     65.67              58.93   \n",
       "3      3  19-12-21       0                     57.79              50.91   \n",
       "4      4  20-12-21       0                     79.74              70.04   \n",
       "\n",
       "   HSUPA Data Volume  Cell Traffic Volume DL Speech (Erlang)  CS CSSR  \\\n",
       "0               7.65                                  156.83    99.69   \n",
       "1               7.01                                  107.82    99.26   \n",
       "2               6.74                                   94.38    99.26   \n",
       "3               6.87                                  101.48    99.08   \n",
       "4               9.69                                  163.22    99.65   \n",
       "\n",
       "   CS DROP Rate  PS Call Setup SR  PS DROP Rate 2  Availability  \\\n",
       "0          0.77             95.94            1.72         100.0   \n",
       "1          0.97             95.40            2.37         100.0   \n",
       "2          1.09             94.97            3.03         100.0   \n",
       "3          1.23             95.43            2.60         100.0   \n",
       "4          0.76             95.16            1.61         100.0   \n",
       "\n",
       "   Soft Handover  Irat CS Handover SR  IRAT PS 2  throughput  anomaly  \n",
       "0          99.86                93.94     100.00      755.79        0  \n",
       "1          99.67                97.98     100.00      755.79        0  \n",
       "2          99.57                96.43       0.00      755.79        0  \n",
       "3          99.72                93.14     100.00      755.79        0  \n",
       "4          99.86                94.23      66.67      755.79        0  "
      ]
     },
     "execution_count": 60,
     "metadata": {},
     "output_type": "execute_result"
    }
   ],
   "source": [
    "df[\"anomaly\"] = y_pred\n",
    "df.head()"
   ]
  },
  {
   "cell_type": "code",
   "execution_count": 61,
   "metadata": {},
   "outputs": [
    {
     "data": {
      "text/html": [
       "<div>\n",
       "<style scoped>\n",
       "    .dataframe tbody tr th:only-of-type {\n",
       "        vertical-align: middle;\n",
       "    }\n",
       "\n",
       "    .dataframe tbody tr th {\n",
       "        vertical-align: top;\n",
       "    }\n",
       "\n",
       "    .dataframe thead th {\n",
       "        text-align: right;\n",
       "    }\n",
       "</style>\n",
       "<table border=\"1\" class=\"dataframe\">\n",
       "  <thead>\n",
       "    <tr style=\"text-align: right;\">\n",
       "      <th></th>\n",
       "      <th>index</th>\n",
       "      <th>Date</th>\n",
       "      <th>RBS Id</th>\n",
       "      <th>TRAFFIC PS(DL+UL)(Gbits)</th>\n",
       "      <th>HSDPA Data Volume</th>\n",
       "      <th>HSUPA Data Volume</th>\n",
       "      <th>Cell Traffic Volume DL Speech (Erlang)</th>\n",
       "      <th>CS CSSR</th>\n",
       "      <th>CS DROP Rate</th>\n",
       "      <th>PS Call Setup SR</th>\n",
       "      <th>PS DROP Rate 2</th>\n",
       "      <th>Availability</th>\n",
       "      <th>Soft Handover</th>\n",
       "      <th>Irat CS Handover SR</th>\n",
       "      <th>IRAT PS 2</th>\n",
       "      <th>throughput</th>\n",
       "      <th>anomaly</th>\n",
       "    </tr>\n",
       "  </thead>\n",
       "  <tbody>\n",
       "    <tr>\n",
       "      <th>9</th>\n",
       "      <td>9</td>\n",
       "      <td>25-12-21</td>\n",
       "      <td>0</td>\n",
       "      <td>60.16</td>\n",
       "      <td>52.90</td>\n",
       "      <td>7.26</td>\n",
       "      <td>118.15</td>\n",
       "      <td>98.97</td>\n",
       "      <td>2.93</td>\n",
       "      <td>95.07</td>\n",
       "      <td>2.83</td>\n",
       "      <td>98.01</td>\n",
       "      <td>99.52</td>\n",
       "      <td>95.97</td>\n",
       "      <td>66.67</td>\n",
       "      <td>645.25</td>\n",
       "      <td>1</td>\n",
       "    </tr>\n",
       "    <tr>\n",
       "      <th>16</th>\n",
       "      <td>16</td>\n",
       "      <td>01-01-22</td>\n",
       "      <td>0</td>\n",
       "      <td>68.80</td>\n",
       "      <td>59.75</td>\n",
       "      <td>9.05</td>\n",
       "      <td>98.97</td>\n",
       "      <td>99.00</td>\n",
       "      <td>3.71</td>\n",
       "      <td>95.40</td>\n",
       "      <td>3.64</td>\n",
       "      <td>96.73</td>\n",
       "      <td>99.51</td>\n",
       "      <td>94.93</td>\n",
       "      <td>100.00</td>\n",
       "      <td>634.37</td>\n",
       "      <td>1</td>\n",
       "    </tr>\n",
       "    <tr>\n",
       "      <th>23</th>\n",
       "      <td>23</td>\n",
       "      <td>01-08-22</td>\n",
       "      <td>0</td>\n",
       "      <td>76.68</td>\n",
       "      <td>67.55</td>\n",
       "      <td>9.14</td>\n",
       "      <td>123.39</td>\n",
       "      <td>98.87</td>\n",
       "      <td>3.00</td>\n",
       "      <td>94.32</td>\n",
       "      <td>3.23</td>\n",
       "      <td>97.75</td>\n",
       "      <td>99.42</td>\n",
       "      <td>96.14</td>\n",
       "      <td>40.00</td>\n",
       "      <td>628.69</td>\n",
       "      <td>1</td>\n",
       "    </tr>\n",
       "    <tr>\n",
       "      <th>24</th>\n",
       "      <td>24</td>\n",
       "      <td>01-09-22</td>\n",
       "      <td>0</td>\n",
       "      <td>72.46</td>\n",
       "      <td>61.93</td>\n",
       "      <td>10.53</td>\n",
       "      <td>89.79</td>\n",
       "      <td>98.41</td>\n",
       "      <td>3.48</td>\n",
       "      <td>93.11</td>\n",
       "      <td>4.73</td>\n",
       "      <td>96.95</td>\n",
       "      <td>98.69</td>\n",
       "      <td>92.60</td>\n",
       "      <td>100.00</td>\n",
       "      <td>490.41</td>\n",
       "      <td>1</td>\n",
       "    </tr>\n",
       "    <tr>\n",
       "      <th>25</th>\n",
       "      <td>25</td>\n",
       "      <td>01-10-22</td>\n",
       "      <td>0</td>\n",
       "      <td>64.63</td>\n",
       "      <td>57.21</td>\n",
       "      <td>7.42</td>\n",
       "      <td>110.09</td>\n",
       "      <td>98.29</td>\n",
       "      <td>3.87</td>\n",
       "      <td>89.49</td>\n",
       "      <td>3.79</td>\n",
       "      <td>97.88</td>\n",
       "      <td>99.60</td>\n",
       "      <td>95.49</td>\n",
       "      <td>100.00</td>\n",
       "      <td>670.35</td>\n",
       "      <td>1</td>\n",
       "    </tr>\n",
       "  </tbody>\n",
       "</table>\n",
       "</div>"
      ],
      "text/plain": [
       "    index      Date  RBS Id  TRAFFIC PS(DL+UL)(Gbits)  HSDPA Data Volume  \\\n",
       "9       9  25-12-21       0                     60.16              52.90   \n",
       "16     16  01-01-22       0                     68.80              59.75   \n",
       "23     23  01-08-22       0                     76.68              67.55   \n",
       "24     24  01-09-22       0                     72.46              61.93   \n",
       "25     25  01-10-22       0                     64.63              57.21   \n",
       "\n",
       "    HSUPA Data Volume  Cell Traffic Volume DL Speech (Erlang)  CS CSSR  \\\n",
       "9                7.26                                  118.15    98.97   \n",
       "16               9.05                                   98.97    99.00   \n",
       "23               9.14                                  123.39    98.87   \n",
       "24              10.53                                   89.79    98.41   \n",
       "25               7.42                                  110.09    98.29   \n",
       "\n",
       "    CS DROP Rate  PS Call Setup SR  PS DROP Rate 2  Availability  \\\n",
       "9           2.93             95.07            2.83         98.01   \n",
       "16          3.71             95.40            3.64         96.73   \n",
       "23          3.00             94.32            3.23         97.75   \n",
       "24          3.48             93.11            4.73         96.95   \n",
       "25          3.87             89.49            3.79         97.88   \n",
       "\n",
       "    Soft Handover  Irat CS Handover SR  IRAT PS 2  throughput  anomaly  \n",
       "9           99.52                95.97      66.67      645.25        1  \n",
       "16          99.51                94.93     100.00      634.37        1  \n",
       "23          99.42                96.14      40.00      628.69        1  \n",
       "24          98.69                92.60     100.00      490.41        1  \n",
       "25          99.60                95.49     100.00      670.35        1  "
      ]
     },
     "execution_count": 61,
     "metadata": {},
     "output_type": "execute_result"
    }
   ],
   "source": [
    "ocsvm_anomaly_df = pd.DataFrame(df)\n",
    "ocsvm_anomaly_df = ocsvm_anomaly_df.loc[ocsvm_anomaly_df['anomaly'] == 1]\n",
    "ocsvm_anomaly_df.head()"
   ]
  },
  {
   "cell_type": "code",
   "execution_count": 62,
   "metadata": {},
   "outputs": [
    {
     "data": {
      "application/vnd.plotly.v1+json": {
       "config": {
        "plotlyServerURL": "https://plot.ly"
       },
       "data": [
        {
         "hovertemplate": "index=%{x}<br>CS CSSR=%{y}<extra></extra>",
         "legendgroup": "",
         "line": {
          "color": "#636efa",
          "dash": "solid"
         },
         "mode": "lines",
         "name": "",
         "orientation": "v",
         "showlegend": false,
         "type": "scatter",
         "x": [
          0,
          1,
          2,
          3,
          4,
          5,
          6,
          7,
          8,
          9,
          10,
          11,
          12,
          13,
          14,
          15,
          16,
          17,
          18,
          19,
          20,
          21,
          22,
          23,
          24,
          25,
          26,
          27,
          28,
          29,
          30,
          31,
          32,
          33,
          34,
          35,
          36,
          37,
          38,
          39,
          40,
          41,
          42,
          43,
          44,
          45,
          46,
          47,
          48,
          49,
          50,
          51,
          52,
          53,
          54,
          55,
          56,
          57,
          58,
          59,
          60,
          61,
          62,
          63,
          64,
          65,
          66,
          67,
          68,
          69,
          70,
          71,
          72,
          73,
          74,
          75,
          76,
          77,
          78,
          79,
          80,
          81,
          82,
          83,
          84,
          85,
          86,
          87,
          88,
          89,
          90,
          91,
          92,
          93,
          94,
          95,
          96,
          97,
          98,
          99,
          100,
          101,
          102,
          103,
          104,
          105,
          106,
          107,
          108,
          109,
          110,
          111,
          112,
          113,
          114,
          115,
          116,
          117,
          118,
          119,
          120,
          121,
          122,
          123,
          124,
          125,
          126,
          127,
          128,
          129,
          130,
          131,
          132,
          133,
          134,
          135,
          136,
          137,
          138,
          139,
          140,
          141,
          142,
          143,
          144,
          145,
          146,
          147,
          148,
          149,
          150,
          151,
          152,
          153,
          154,
          155,
          156,
          157,
          158,
          159,
          160,
          161,
          162,
          163,
          164,
          165,
          166,
          167,
          168,
          169,
          170,
          171,
          172,
          173,
          174,
          175,
          176,
          177,
          178,
          179,
          180,
          181,
          182,
          183,
          184,
          185,
          186,
          187,
          188,
          189,
          190,
          191,
          192,
          193,
          194,
          195,
          196,
          197,
          198,
          199,
          200,
          201,
          202,
          203,
          204,
          205,
          206,
          207,
          208,
          209,
          210,
          211,
          212,
          213,
          214,
          215,
          216,
          217,
          218,
          219,
          220,
          221,
          222,
          223,
          224
         ],
         "xaxis": "x",
         "y": [
          99.69,
          99.26,
          99.26,
          99.08,
          99.65,
          99.56,
          99.54,
          99.27,
          99.36,
          98.97,
          99.14,
          99.08,
          99.35,
          99.52,
          99.15,
          99.1,
          99,
          99.16,
          99.38,
          99.35,
          99.42,
          99.38,
          99.41,
          98.87,
          98.41,
          98.29,
          99.57,
          99.29,
          99.22,
          99.56,
          99.18,
          98.85,
          99.35,
          99.35,
          98.98,
          99.48,
          99.54,
          99.27,
          99.27,
          99.2,
          99.46,
          99.02,
          99.41,
          99.62,
          99.42,
          99.08,
          99.38,
          99.35,
          98.98,
          99.47,
          99.47,
          99.41,
          99.01,
          99.65,
          99.56,
          99.63,
          99.77,
          99.58,
          99.56,
          99.42,
          99.71,
          99.32,
          99.6,
          99.57,
          99.43,
          99.43,
          98.98,
          99.53,
          99.56,
          99.43,
          99.63,
          99.6,
          99.25,
          99.38,
          99.54,
          99.88,
          99.96,
          99.9,
          99.89,
          99.9,
          99.89,
          99.86,
          99.93,
          99.88,
          99.87,
          99.86,
          99.91,
          99.89,
          99.92,
          99.95,
          99.88,
          99.88,
          99.88,
          99.91,
          99.91,
          99.91,
          99.89,
          99.91,
          99.85,
          99.87,
          99.61,
          99.9,
          99.91,
          99.88,
          99.96,
          99.9,
          99.83,
          99.91,
          99.85,
          99.91,
          99.91,
          99.9,
          99.94,
          99.88,
          99.92,
          99.92,
          99.92,
          99.92,
          99.9,
          99.92,
          99.92,
          99.93,
          99.91,
          99.63,
          99.92,
          99.91,
          99.93,
          99.87,
          99.9,
          99.91,
          99.92,
          99.91,
          99.91,
          99.9,
          99.88,
          99.93,
          99.9,
          99.91,
          99.91,
          99.91,
          99.86,
          99.86,
          99.91,
          99.89,
          99.92,
          99.91,
          99.88,
          99.94,
          99.84,
          99.88,
          99.9,
          99.89,
          99.91,
          99.87,
          99.91,
          99.88,
          99.91,
          99.9,
          99.91,
          99.9,
          99.93,
          99.89,
          99.89,
          99.86,
          99.8,
          99.91,
          99.92,
          99.92,
          99.92,
          99.91,
          99.91,
          99.9,
          99.91,
          99.88,
          99.92,
          99.55,
          99.93,
          99.91,
          99.92,
          99.9,
          99.9,
          99.88,
          99.91,
          99.87,
          99.9,
          99.9,
          99.92,
          99.87,
          99.9,
          99.93,
          99.96,
          99.94,
          99.89,
          99.94,
          99.94,
          99.91,
          99.89,
          99.9,
          99.78,
          99.91,
          99.89,
          99.93,
          99.9,
          99.93,
          99.95,
          99.91,
          99.93,
          99.94,
          99.95,
          99.94,
          99.91,
          99.94,
          99.93,
          99.93,
          99.92,
          99.89,
          99.9,
          99.91,
          99.89,
          99.9,
          99.91,
          99.92,
          99.91,
          99.9,
          99.9
         ],
         "yaxis": "y"
        },
        {
         "mode": "markers",
         "name": "anomaly",
         "type": "scatter",
         "x": [
          9,
          16,
          23,
          24,
          25,
          31,
          34,
          41,
          48,
          52,
          66,
          76,
          89,
          104,
          190,
          204,
          208
         ],
         "y": [
          98.97,
          99,
          98.87,
          98.41,
          98.29,
          98.85,
          98.98,
          99.02,
          98.98,
          99.01,
          98.98,
          99.96,
          99.95,
          99.96,
          99.96,
          99.95,
          99.95
         ]
        }
       ],
       "layout": {
        "legend": {
         "tracegroupgap": 0
        },
        "template": {
         "data": {
          "bar": [
           {
            "error_x": {
             "color": "#2a3f5f"
            },
            "error_y": {
             "color": "#2a3f5f"
            },
            "marker": {
             "line": {
              "color": "#E5ECF6",
              "width": 0.5
             }
            },
            "type": "bar"
           }
          ],
          "barpolar": [
           {
            "marker": {
             "line": {
              "color": "#E5ECF6",
              "width": 0.5
             }
            },
            "type": "barpolar"
           }
          ],
          "carpet": [
           {
            "aaxis": {
             "endlinecolor": "#2a3f5f",
             "gridcolor": "white",
             "linecolor": "white",
             "minorgridcolor": "white",
             "startlinecolor": "#2a3f5f"
            },
            "baxis": {
             "endlinecolor": "#2a3f5f",
             "gridcolor": "white",
             "linecolor": "white",
             "minorgridcolor": "white",
             "startlinecolor": "#2a3f5f"
            },
            "type": "carpet"
           }
          ],
          "choropleth": [
           {
            "colorbar": {
             "outlinewidth": 0,
             "ticks": ""
            },
            "type": "choropleth"
           }
          ],
          "contour": [
           {
            "colorbar": {
             "outlinewidth": 0,
             "ticks": ""
            },
            "colorscale": [
             [
              0,
              "#0d0887"
             ],
             [
              0.1111111111111111,
              "#46039f"
             ],
             [
              0.2222222222222222,
              "#7201a8"
             ],
             [
              0.3333333333333333,
              "#9c179e"
             ],
             [
              0.4444444444444444,
              "#bd3786"
             ],
             [
              0.5555555555555556,
              "#d8576b"
             ],
             [
              0.6666666666666666,
              "#ed7953"
             ],
             [
              0.7777777777777778,
              "#fb9f3a"
             ],
             [
              0.8888888888888888,
              "#fdca26"
             ],
             [
              1,
              "#f0f921"
             ]
            ],
            "type": "contour"
           }
          ],
          "contourcarpet": [
           {
            "colorbar": {
             "outlinewidth": 0,
             "ticks": ""
            },
            "type": "contourcarpet"
           }
          ],
          "heatmap": [
           {
            "colorbar": {
             "outlinewidth": 0,
             "ticks": ""
            },
            "colorscale": [
             [
              0,
              "#0d0887"
             ],
             [
              0.1111111111111111,
              "#46039f"
             ],
             [
              0.2222222222222222,
              "#7201a8"
             ],
             [
              0.3333333333333333,
              "#9c179e"
             ],
             [
              0.4444444444444444,
              "#bd3786"
             ],
             [
              0.5555555555555556,
              "#d8576b"
             ],
             [
              0.6666666666666666,
              "#ed7953"
             ],
             [
              0.7777777777777778,
              "#fb9f3a"
             ],
             [
              0.8888888888888888,
              "#fdca26"
             ],
             [
              1,
              "#f0f921"
             ]
            ],
            "type": "heatmap"
           }
          ],
          "heatmapgl": [
           {
            "colorbar": {
             "outlinewidth": 0,
             "ticks": ""
            },
            "colorscale": [
             [
              0,
              "#0d0887"
             ],
             [
              0.1111111111111111,
              "#46039f"
             ],
             [
              0.2222222222222222,
              "#7201a8"
             ],
             [
              0.3333333333333333,
              "#9c179e"
             ],
             [
              0.4444444444444444,
              "#bd3786"
             ],
             [
              0.5555555555555556,
              "#d8576b"
             ],
             [
              0.6666666666666666,
              "#ed7953"
             ],
             [
              0.7777777777777778,
              "#fb9f3a"
             ],
             [
              0.8888888888888888,
              "#fdca26"
             ],
             [
              1,
              "#f0f921"
             ]
            ],
            "type": "heatmapgl"
           }
          ],
          "histogram": [
           {
            "marker": {
             "colorbar": {
              "outlinewidth": 0,
              "ticks": ""
             }
            },
            "type": "histogram"
           }
          ],
          "histogram2d": [
           {
            "colorbar": {
             "outlinewidth": 0,
             "ticks": ""
            },
            "colorscale": [
             [
              0,
              "#0d0887"
             ],
             [
              0.1111111111111111,
              "#46039f"
             ],
             [
              0.2222222222222222,
              "#7201a8"
             ],
             [
              0.3333333333333333,
              "#9c179e"
             ],
             [
              0.4444444444444444,
              "#bd3786"
             ],
             [
              0.5555555555555556,
              "#d8576b"
             ],
             [
              0.6666666666666666,
              "#ed7953"
             ],
             [
              0.7777777777777778,
              "#fb9f3a"
             ],
             [
              0.8888888888888888,
              "#fdca26"
             ],
             [
              1,
              "#f0f921"
             ]
            ],
            "type": "histogram2d"
           }
          ],
          "histogram2dcontour": [
           {
            "colorbar": {
             "outlinewidth": 0,
             "ticks": ""
            },
            "colorscale": [
             [
              0,
              "#0d0887"
             ],
             [
              0.1111111111111111,
              "#46039f"
             ],
             [
              0.2222222222222222,
              "#7201a8"
             ],
             [
              0.3333333333333333,
              "#9c179e"
             ],
             [
              0.4444444444444444,
              "#bd3786"
             ],
             [
              0.5555555555555556,
              "#d8576b"
             ],
             [
              0.6666666666666666,
              "#ed7953"
             ],
             [
              0.7777777777777778,
              "#fb9f3a"
             ],
             [
              0.8888888888888888,
              "#fdca26"
             ],
             [
              1,
              "#f0f921"
             ]
            ],
            "type": "histogram2dcontour"
           }
          ],
          "mesh3d": [
           {
            "colorbar": {
             "outlinewidth": 0,
             "ticks": ""
            },
            "type": "mesh3d"
           }
          ],
          "parcoords": [
           {
            "line": {
             "colorbar": {
              "outlinewidth": 0,
              "ticks": ""
             }
            },
            "type": "parcoords"
           }
          ],
          "pie": [
           {
            "automargin": true,
            "type": "pie"
           }
          ],
          "scatter": [
           {
            "marker": {
             "colorbar": {
              "outlinewidth": 0,
              "ticks": ""
             }
            },
            "type": "scatter"
           }
          ],
          "scatter3d": [
           {
            "line": {
             "colorbar": {
              "outlinewidth": 0,
              "ticks": ""
             }
            },
            "marker": {
             "colorbar": {
              "outlinewidth": 0,
              "ticks": ""
             }
            },
            "type": "scatter3d"
           }
          ],
          "scattercarpet": [
           {
            "marker": {
             "colorbar": {
              "outlinewidth": 0,
              "ticks": ""
             }
            },
            "type": "scattercarpet"
           }
          ],
          "scattergeo": [
           {
            "marker": {
             "colorbar": {
              "outlinewidth": 0,
              "ticks": ""
             }
            },
            "type": "scattergeo"
           }
          ],
          "scattergl": [
           {
            "marker": {
             "colorbar": {
              "outlinewidth": 0,
              "ticks": ""
             }
            },
            "type": "scattergl"
           }
          ],
          "scattermapbox": [
           {
            "marker": {
             "colorbar": {
              "outlinewidth": 0,
              "ticks": ""
             }
            },
            "type": "scattermapbox"
           }
          ],
          "scatterpolar": [
           {
            "marker": {
             "colorbar": {
              "outlinewidth": 0,
              "ticks": ""
             }
            },
            "type": "scatterpolar"
           }
          ],
          "scatterpolargl": [
           {
            "marker": {
             "colorbar": {
              "outlinewidth": 0,
              "ticks": ""
             }
            },
            "type": "scatterpolargl"
           }
          ],
          "scatterternary": [
           {
            "marker": {
             "colorbar": {
              "outlinewidth": 0,
              "ticks": ""
             }
            },
            "type": "scatterternary"
           }
          ],
          "surface": [
           {
            "colorbar": {
             "outlinewidth": 0,
             "ticks": ""
            },
            "colorscale": [
             [
              0,
              "#0d0887"
             ],
             [
              0.1111111111111111,
              "#46039f"
             ],
             [
              0.2222222222222222,
              "#7201a8"
             ],
             [
              0.3333333333333333,
              "#9c179e"
             ],
             [
              0.4444444444444444,
              "#bd3786"
             ],
             [
              0.5555555555555556,
              "#d8576b"
             ],
             [
              0.6666666666666666,
              "#ed7953"
             ],
             [
              0.7777777777777778,
              "#fb9f3a"
             ],
             [
              0.8888888888888888,
              "#fdca26"
             ],
             [
              1,
              "#f0f921"
             ]
            ],
            "type": "surface"
           }
          ],
          "table": [
           {
            "cells": {
             "fill": {
              "color": "#EBF0F8"
             },
             "line": {
              "color": "white"
             }
            },
            "header": {
             "fill": {
              "color": "#C8D4E3"
             },
             "line": {
              "color": "white"
             }
            },
            "type": "table"
           }
          ]
         },
         "layout": {
          "annotationdefaults": {
           "arrowcolor": "#2a3f5f",
           "arrowhead": 0,
           "arrowwidth": 1
          },
          "autotypenumbers": "strict",
          "coloraxis": {
           "colorbar": {
            "outlinewidth": 0,
            "ticks": ""
           }
          },
          "colorscale": {
           "diverging": [
            [
             0,
             "#8e0152"
            ],
            [
             0.1,
             "#c51b7d"
            ],
            [
             0.2,
             "#de77ae"
            ],
            [
             0.3,
             "#f1b6da"
            ],
            [
             0.4,
             "#fde0ef"
            ],
            [
             0.5,
             "#f7f7f7"
            ],
            [
             0.6,
             "#e6f5d0"
            ],
            [
             0.7,
             "#b8e186"
            ],
            [
             0.8,
             "#7fbc41"
            ],
            [
             0.9,
             "#4d9221"
            ],
            [
             1,
             "#276419"
            ]
           ],
           "sequential": [
            [
             0,
             "#0d0887"
            ],
            [
             0.1111111111111111,
             "#46039f"
            ],
            [
             0.2222222222222222,
             "#7201a8"
            ],
            [
             0.3333333333333333,
             "#9c179e"
            ],
            [
             0.4444444444444444,
             "#bd3786"
            ],
            [
             0.5555555555555556,
             "#d8576b"
            ],
            [
             0.6666666666666666,
             "#ed7953"
            ],
            [
             0.7777777777777778,
             "#fb9f3a"
            ],
            [
             0.8888888888888888,
             "#fdca26"
            ],
            [
             1,
             "#f0f921"
            ]
           ],
           "sequentialminus": [
            [
             0,
             "#0d0887"
            ],
            [
             0.1111111111111111,
             "#46039f"
            ],
            [
             0.2222222222222222,
             "#7201a8"
            ],
            [
             0.3333333333333333,
             "#9c179e"
            ],
            [
             0.4444444444444444,
             "#bd3786"
            ],
            [
             0.5555555555555556,
             "#d8576b"
            ],
            [
             0.6666666666666666,
             "#ed7953"
            ],
            [
             0.7777777777777778,
             "#fb9f3a"
            ],
            [
             0.8888888888888888,
             "#fdca26"
            ],
            [
             1,
             "#f0f921"
            ]
           ]
          },
          "colorway": [
           "#636efa",
           "#EF553B",
           "#00cc96",
           "#ab63fa",
           "#FFA15A",
           "#19d3f3",
           "#FF6692",
           "#B6E880",
           "#FF97FF",
           "#FECB52"
          ],
          "font": {
           "color": "#2a3f5f"
          },
          "geo": {
           "bgcolor": "white",
           "lakecolor": "white",
           "landcolor": "#E5ECF6",
           "showlakes": true,
           "showland": true,
           "subunitcolor": "white"
          },
          "hoverlabel": {
           "align": "left"
          },
          "hovermode": "closest",
          "mapbox": {
           "style": "light"
          },
          "paper_bgcolor": "white",
          "plot_bgcolor": "#E5ECF6",
          "polar": {
           "angularaxis": {
            "gridcolor": "white",
            "linecolor": "white",
            "ticks": ""
           },
           "bgcolor": "#E5ECF6",
           "radialaxis": {
            "gridcolor": "white",
            "linecolor": "white",
            "ticks": ""
           }
          },
          "scene": {
           "xaxis": {
            "backgroundcolor": "#E5ECF6",
            "gridcolor": "white",
            "gridwidth": 2,
            "linecolor": "white",
            "showbackground": true,
            "ticks": "",
            "zerolinecolor": "white"
           },
           "yaxis": {
            "backgroundcolor": "#E5ECF6",
            "gridcolor": "white",
            "gridwidth": 2,
            "linecolor": "white",
            "showbackground": true,
            "ticks": "",
            "zerolinecolor": "white"
           },
           "zaxis": {
            "backgroundcolor": "#E5ECF6",
            "gridcolor": "white",
            "gridwidth": 2,
            "linecolor": "white",
            "showbackground": true,
            "ticks": "",
            "zerolinecolor": "white"
           }
          },
          "shapedefaults": {
           "line": {
            "color": "#2a3f5f"
           }
          },
          "ternary": {
           "aaxis": {
            "gridcolor": "white",
            "linecolor": "white",
            "ticks": ""
           },
           "baxis": {
            "gridcolor": "white",
            "linecolor": "white",
            "ticks": ""
           },
           "bgcolor": "#E5ECF6",
           "caxis": {
            "gridcolor": "white",
            "linecolor": "white",
            "ticks": ""
           }
          },
          "title": {
           "x": 0.05
          },
          "xaxis": {
           "automargin": true,
           "gridcolor": "white",
           "linecolor": "white",
           "ticks": "",
           "title": {
            "standoff": 15
           },
           "zerolinecolor": "white",
           "zerolinewidth": 2
          },
          "yaxis": {
           "automargin": true,
           "gridcolor": "white",
           "linecolor": "white",
           "ticks": "",
           "title": {
            "standoff": 15
           },
           "zerolinecolor": "white",
           "zerolinewidth": 2
          }
         }
        },
        "title": {
         "text": "Unsupervise anomaly detection in CS CSSR"
        },
        "xaxis": {
         "anchor": "y",
         "domain": [
          0,
          1
         ],
         "rangeslider": {
          "visible": true
         },
         "title": {
          "text": "index"
         }
        },
        "yaxis": {
         "anchor": "x",
         "domain": [
          0,
          1
         ],
         "title": {
          "text": "CS CSSR"
         }
        }
       }
      }
     },
     "metadata": {},
     "output_type": "display_data"
    }
   ],
   "source": [
    "fig = px.line(df, x='index', y='CS CSSR', title='Unsupervise anomaly detection in CS CSSR')\n",
    "fig.add_trace(go.Scatter(x=ocsvm_anomaly_df[\"index\"].to_list(),\n",
    "                        y=ocsvm_anomaly_df[\"CS CSSR\"].to_list(),\n",
    "                        mode='markers',\n",
    "                        name='anomaly'))\n",
    "fig.update_xaxes(rangeslider_visible=True)\n",
    "fig"
   ]
  }
 ],
 "metadata": {
  "kernelspec": {
   "display_name": "Python 3.9.7 ('base')",
   "language": "python",
   "name": "python3"
  },
  "language_info": {
   "codemirror_mode": {
    "name": "ipython",
    "version": 3
   },
   "file_extension": ".py",
   "mimetype": "text/x-python",
   "name": "python",
   "nbconvert_exporter": "python",
   "pygments_lexer": "ipython3",
   "version": "3.9.7"
  },
  "orig_nbformat": 4,
  "vscode": {
   "interpreter": {
    "hash": "a523daf8fd2b82835abd49a4640378259e74c67969436cc2dd61b629b3a0278c"
   }
  }
 },
 "nbformat": 4,
 "nbformat_minor": 2
}
