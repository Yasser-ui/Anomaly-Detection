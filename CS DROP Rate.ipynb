{
 "cells": [
  {
   "cell_type": "code",
   "execution_count": 1,
   "metadata": {},
   "outputs": [],
   "source": [
    "import numpy as np\n",
    "import pandas as pd\n",
    "import matplotlib.pyplot as plt\n",
    "import seaborn as sns"
   ]
  },
  {
   "cell_type": "code",
   "execution_count": 2,
   "metadata": {},
   "outputs": [],
   "source": [
    "df = pd.read_csv('DataFrame_3G_After_Cleaning.csv')"
   ]
  },
  {
   "cell_type": "code",
   "execution_count": 3,
   "metadata": {},
   "outputs": [],
   "source": [
    "import plotly.express as px\n",
    "from sklearn.ensemble import IsolationForest\n",
    "import plotly.graph_objects as go"
   ]
  },
  {
   "cell_type": "code",
   "execution_count": 13,
   "metadata": {},
   "outputs": [
    {
     "data": {
      "text/plain": [
       "[0, 0, 0, 0, 0, 0, 0, 0, 0, 0]"
      ]
     },
     "execution_count": 13,
     "metadata": {},
     "output_type": "execute_result"
    }
   ],
   "source": [
    "x = df['CS DROP Rate'].apply(lambda x: [x]).to_list()\n",
    "iso_forest = IsolationForest(n_estimators=100,\n",
    "                             max_samples=\"auto\",\n",
    "                             contamination=0.05,\n",
    "                             )\n",
    "iso_forest.fit(x)\n",
    "y_pred = iso_forest.predict(x)\n",
    "y_pred = [1 if x == -1 else 0 for x in y_pred]\n",
    "y_pred[:10]"
   ]
  },
  {
   "cell_type": "code",
   "execution_count": 14,
   "metadata": {},
   "outputs": [
    {
     "data": {
      "text/html": [
       "<div>\n",
       "<style scoped>\n",
       "    .dataframe tbody tr th:only-of-type {\n",
       "        vertical-align: middle;\n",
       "    }\n",
       "\n",
       "    .dataframe tbody tr th {\n",
       "        vertical-align: top;\n",
       "    }\n",
       "\n",
       "    .dataframe thead th {\n",
       "        text-align: right;\n",
       "    }\n",
       "</style>\n",
       "<table border=\"1\" class=\"dataframe\">\n",
       "  <thead>\n",
       "    <tr style=\"text-align: right;\">\n",
       "      <th></th>\n",
       "      <th>index</th>\n",
       "      <th>Date</th>\n",
       "      <th>RBS Id</th>\n",
       "      <th>TRAFFIC PS(DL+UL)(Gbits)</th>\n",
       "      <th>HSDPA Data Volume</th>\n",
       "      <th>HSUPA Data Volume</th>\n",
       "      <th>Cell Traffic Volume DL Speech (Erlang)</th>\n",
       "      <th>CS CSSR</th>\n",
       "      <th>CS DROP Rate</th>\n",
       "      <th>PS Call Setup SR</th>\n",
       "      <th>PS DROP Rate 2</th>\n",
       "      <th>Availability</th>\n",
       "      <th>Soft Handover</th>\n",
       "      <th>Irat CS Handover SR</th>\n",
       "      <th>IRAT PS 2</th>\n",
       "      <th>throughput</th>\n",
       "      <th>anomaly</th>\n",
       "    </tr>\n",
       "  </thead>\n",
       "  <tbody>\n",
       "    <tr>\n",
       "      <th>0</th>\n",
       "      <td>0</td>\n",
       "      <td>16-12-21</td>\n",
       "      <td>0</td>\n",
       "      <td>74.39</td>\n",
       "      <td>66.74</td>\n",
       "      <td>7.65</td>\n",
       "      <td>156.83</td>\n",
       "      <td>99.69</td>\n",
       "      <td>0.77</td>\n",
       "      <td>95.94</td>\n",
       "      <td>1.72</td>\n",
       "      <td>100.0</td>\n",
       "      <td>99.86</td>\n",
       "      <td>93.94</td>\n",
       "      <td>100.00</td>\n",
       "      <td>755.79</td>\n",
       "      <td>0</td>\n",
       "    </tr>\n",
       "    <tr>\n",
       "      <th>1</th>\n",
       "      <td>1</td>\n",
       "      <td>17-12-21</td>\n",
       "      <td>0</td>\n",
       "      <td>65.41</td>\n",
       "      <td>58.40</td>\n",
       "      <td>7.01</td>\n",
       "      <td>107.82</td>\n",
       "      <td>99.26</td>\n",
       "      <td>0.97</td>\n",
       "      <td>95.40</td>\n",
       "      <td>2.37</td>\n",
       "      <td>100.0</td>\n",
       "      <td>99.67</td>\n",
       "      <td>97.98</td>\n",
       "      <td>100.00</td>\n",
       "      <td>755.79</td>\n",
       "      <td>0</td>\n",
       "    </tr>\n",
       "    <tr>\n",
       "      <th>2</th>\n",
       "      <td>2</td>\n",
       "      <td>18-12-21</td>\n",
       "      <td>0</td>\n",
       "      <td>65.67</td>\n",
       "      <td>58.93</td>\n",
       "      <td>6.74</td>\n",
       "      <td>94.38</td>\n",
       "      <td>99.26</td>\n",
       "      <td>1.09</td>\n",
       "      <td>94.97</td>\n",
       "      <td>3.03</td>\n",
       "      <td>100.0</td>\n",
       "      <td>99.57</td>\n",
       "      <td>96.43</td>\n",
       "      <td>0.00</td>\n",
       "      <td>755.79</td>\n",
       "      <td>0</td>\n",
       "    </tr>\n",
       "    <tr>\n",
       "      <th>3</th>\n",
       "      <td>3</td>\n",
       "      <td>19-12-21</td>\n",
       "      <td>0</td>\n",
       "      <td>57.79</td>\n",
       "      <td>50.91</td>\n",
       "      <td>6.87</td>\n",
       "      <td>101.48</td>\n",
       "      <td>99.08</td>\n",
       "      <td>1.23</td>\n",
       "      <td>95.43</td>\n",
       "      <td>2.60</td>\n",
       "      <td>100.0</td>\n",
       "      <td>99.72</td>\n",
       "      <td>93.14</td>\n",
       "      <td>100.00</td>\n",
       "      <td>755.79</td>\n",
       "      <td>0</td>\n",
       "    </tr>\n",
       "    <tr>\n",
       "      <th>4</th>\n",
       "      <td>4</td>\n",
       "      <td>20-12-21</td>\n",
       "      <td>0</td>\n",
       "      <td>79.74</td>\n",
       "      <td>70.04</td>\n",
       "      <td>9.69</td>\n",
       "      <td>163.22</td>\n",
       "      <td>99.65</td>\n",
       "      <td>0.76</td>\n",
       "      <td>95.16</td>\n",
       "      <td>1.61</td>\n",
       "      <td>100.0</td>\n",
       "      <td>99.86</td>\n",
       "      <td>94.23</td>\n",
       "      <td>66.67</td>\n",
       "      <td>755.79</td>\n",
       "      <td>0</td>\n",
       "    </tr>\n",
       "  </tbody>\n",
       "</table>\n",
       "</div>"
      ],
      "text/plain": [
       "   index      Date  RBS Id  TRAFFIC PS(DL+UL)(Gbits)  HSDPA Data Volume  \\\n",
       "0      0  16-12-21       0                     74.39              66.74   \n",
       "1      1  17-12-21       0                     65.41              58.40   \n",
       "2      2  18-12-21       0                     65.67              58.93   \n",
       "3      3  19-12-21       0                     57.79              50.91   \n",
       "4      4  20-12-21       0                     79.74              70.04   \n",
       "\n",
       "   HSUPA Data Volume  Cell Traffic Volume DL Speech (Erlang)  CS CSSR  \\\n",
       "0               7.65                                  156.83    99.69   \n",
       "1               7.01                                  107.82    99.26   \n",
       "2               6.74                                   94.38    99.26   \n",
       "3               6.87                                  101.48    99.08   \n",
       "4               9.69                                  163.22    99.65   \n",
       "\n",
       "   CS DROP Rate  PS Call Setup SR  PS DROP Rate 2  Availability  \\\n",
       "0          0.77             95.94            1.72         100.0   \n",
       "1          0.97             95.40            2.37         100.0   \n",
       "2          1.09             94.97            3.03         100.0   \n",
       "3          1.23             95.43            2.60         100.0   \n",
       "4          0.76             95.16            1.61         100.0   \n",
       "\n",
       "   Soft Handover  Irat CS Handover SR  IRAT PS 2  throughput  anomaly  \n",
       "0          99.86                93.94     100.00      755.79        0  \n",
       "1          99.67                97.98     100.00      755.79        0  \n",
       "2          99.57                96.43       0.00      755.79        0  \n",
       "3          99.72                93.14     100.00      755.79        0  \n",
       "4          99.86                94.23      66.67      755.79        0  "
      ]
     },
     "execution_count": 14,
     "metadata": {},
     "output_type": "execute_result"
    }
   ],
   "source": [
    "df[\"anomaly\"] = y_pred\n",
    "df.head()"
   ]
  },
  {
   "cell_type": "code",
   "execution_count": 15,
   "metadata": {},
   "outputs": [
    {
     "data": {
      "text/html": [
       "<div>\n",
       "<style scoped>\n",
       "    .dataframe tbody tr th:only-of-type {\n",
       "        vertical-align: middle;\n",
       "    }\n",
       "\n",
       "    .dataframe tbody tr th {\n",
       "        vertical-align: top;\n",
       "    }\n",
       "\n",
       "    .dataframe thead th {\n",
       "        text-align: right;\n",
       "    }\n",
       "</style>\n",
       "<table border=\"1\" class=\"dataframe\">\n",
       "  <thead>\n",
       "    <tr style=\"text-align: right;\">\n",
       "      <th></th>\n",
       "      <th>index</th>\n",
       "      <th>Date</th>\n",
       "      <th>RBS Id</th>\n",
       "      <th>TRAFFIC PS(DL+UL)(Gbits)</th>\n",
       "      <th>HSDPA Data Volume</th>\n",
       "      <th>HSUPA Data Volume</th>\n",
       "      <th>Cell Traffic Volume DL Speech (Erlang)</th>\n",
       "      <th>CS CSSR</th>\n",
       "      <th>CS DROP Rate</th>\n",
       "      <th>PS Call Setup SR</th>\n",
       "      <th>PS DROP Rate 2</th>\n",
       "      <th>Availability</th>\n",
       "      <th>Soft Handover</th>\n",
       "      <th>Irat CS Handover SR</th>\n",
       "      <th>IRAT PS 2</th>\n",
       "      <th>throughput</th>\n",
       "      <th>anomaly</th>\n",
       "    </tr>\n",
       "  </thead>\n",
       "  <tbody>\n",
       "    <tr>\n",
       "      <th>11</th>\n",
       "      <td>11</td>\n",
       "      <td>27-12-21</td>\n",
       "      <td>0</td>\n",
       "      <td>78.11</td>\n",
       "      <td>68.62</td>\n",
       "      <td>9.49</td>\n",
       "      <td>145.47</td>\n",
       "      <td>99.08</td>\n",
       "      <td>4.99</td>\n",
       "      <td>95.73</td>\n",
       "      <td>2.95</td>\n",
       "      <td>97.34</td>\n",
       "      <td>99.64</td>\n",
       "      <td>93.41</td>\n",
       "      <td>100.00</td>\n",
       "      <td>676.99</td>\n",
       "      <td>1</td>\n",
       "    </tr>\n",
       "    <tr>\n",
       "      <th>12</th>\n",
       "      <td>12</td>\n",
       "      <td>28-12-21</td>\n",
       "      <td>0</td>\n",
       "      <td>73.59</td>\n",
       "      <td>64.15</td>\n",
       "      <td>9.44</td>\n",
       "      <td>141.30</td>\n",
       "      <td>99.35</td>\n",
       "      <td>4.94</td>\n",
       "      <td>95.32</td>\n",
       "      <td>3.12</td>\n",
       "      <td>97.26</td>\n",
       "      <td>99.66</td>\n",
       "      <td>98.03</td>\n",
       "      <td>0.00</td>\n",
       "      <td>622.14</td>\n",
       "      <td>1</td>\n",
       "    </tr>\n",
       "    <tr>\n",
       "      <th>13</th>\n",
       "      <td>13</td>\n",
       "      <td>29-12-21</td>\n",
       "      <td>0</td>\n",
       "      <td>73.61</td>\n",
       "      <td>64.16</td>\n",
       "      <td>9.45</td>\n",
       "      <td>146.14</td>\n",
       "      <td>99.52</td>\n",
       "      <td>4.51</td>\n",
       "      <td>95.44</td>\n",
       "      <td>2.92</td>\n",
       "      <td>97.13</td>\n",
       "      <td>99.76</td>\n",
       "      <td>97.13</td>\n",
       "      <td>66.67</td>\n",
       "      <td>613.97</td>\n",
       "      <td>1</td>\n",
       "    </tr>\n",
       "    <tr>\n",
       "      <th>14</th>\n",
       "      <td>14</td>\n",
       "      <td>30-12-21</td>\n",
       "      <td>0</td>\n",
       "      <td>73.55</td>\n",
       "      <td>64.24</td>\n",
       "      <td>9.31</td>\n",
       "      <td>157.74</td>\n",
       "      <td>99.15</td>\n",
       "      <td>4.97</td>\n",
       "      <td>95.79</td>\n",
       "      <td>3.07</td>\n",
       "      <td>97.32</td>\n",
       "      <td>99.57</td>\n",
       "      <td>96.54</td>\n",
       "      <td>66.67</td>\n",
       "      <td>655.86</td>\n",
       "      <td>1</td>\n",
       "    </tr>\n",
       "    <tr>\n",
       "      <th>16</th>\n",
       "      <td>16</td>\n",
       "      <td>01-01-22</td>\n",
       "      <td>0</td>\n",
       "      <td>68.80</td>\n",
       "      <td>59.75</td>\n",
       "      <td>9.05</td>\n",
       "      <td>98.97</td>\n",
       "      <td>99.00</td>\n",
       "      <td>3.71</td>\n",
       "      <td>95.40</td>\n",
       "      <td>3.64</td>\n",
       "      <td>96.73</td>\n",
       "      <td>99.51</td>\n",
       "      <td>94.93</td>\n",
       "      <td>100.00</td>\n",
       "      <td>634.37</td>\n",
       "      <td>1</td>\n",
       "    </tr>\n",
       "  </tbody>\n",
       "</table>\n",
       "</div>"
      ],
      "text/plain": [
       "    index      Date  RBS Id  TRAFFIC PS(DL+UL)(Gbits)  HSDPA Data Volume  \\\n",
       "11     11  27-12-21       0                     78.11              68.62   \n",
       "12     12  28-12-21       0                     73.59              64.15   \n",
       "13     13  29-12-21       0                     73.61              64.16   \n",
       "14     14  30-12-21       0                     73.55              64.24   \n",
       "16     16  01-01-22       0                     68.80              59.75   \n",
       "\n",
       "    HSUPA Data Volume  Cell Traffic Volume DL Speech (Erlang)  CS CSSR  \\\n",
       "11               9.49                                  145.47    99.08   \n",
       "12               9.44                                  141.30    99.35   \n",
       "13               9.45                                  146.14    99.52   \n",
       "14               9.31                                  157.74    99.15   \n",
       "16               9.05                                   98.97    99.00   \n",
       "\n",
       "    CS DROP Rate  PS Call Setup SR  PS DROP Rate 2  Availability  \\\n",
       "11          4.99             95.73            2.95         97.34   \n",
       "12          4.94             95.32            3.12         97.26   \n",
       "13          4.51             95.44            2.92         97.13   \n",
       "14          4.97             95.79            3.07         97.32   \n",
       "16          3.71             95.40            3.64         96.73   \n",
       "\n",
       "    Soft Handover  Irat CS Handover SR  IRAT PS 2  throughput  anomaly  \n",
       "11          99.64                93.41     100.00      676.99        1  \n",
       "12          99.66                98.03       0.00      622.14        1  \n",
       "13          99.76                97.13      66.67      613.97        1  \n",
       "14          99.57                96.54      66.67      655.86        1  \n",
       "16          99.51                94.93     100.00      634.37        1  "
      ]
     },
     "execution_count": 15,
     "metadata": {},
     "output_type": "execute_result"
    }
   ],
   "source": [
    "iso_anomaly_df = pd.DataFrame(df)\n",
    "iso_anomaly_df = iso_anomaly_df.loc[iso_anomaly_df['anomaly'] == 1]\n",
    "iso_anomaly_df.head()"
   ]
  },
  {
   "cell_type": "code",
   "execution_count": 16,
   "metadata": {},
   "outputs": [
    {
     "data": {
      "application/vnd.plotly.v1+json": {
       "config": {
        "plotlyServerURL": "https://plot.ly"
       },
       "data": [
        {
         "hovertemplate": "index=%{x}<br>CS DROP Rate=%{y}<extra></extra>",
         "legendgroup": "",
         "line": {
          "color": "#636efa",
          "dash": "solid"
         },
         "mode": "lines",
         "name": "",
         "orientation": "v",
         "showlegend": false,
         "type": "scatter",
         "x": [
          0,
          1,
          2,
          3,
          4,
          5,
          6,
          7,
          8,
          9,
          10,
          11,
          12,
          13,
          14,
          15,
          16,
          17,
          18,
          19,
          20,
          21,
          22,
          23,
          24,
          25,
          26,
          27,
          28,
          29,
          30,
          31,
          32,
          33,
          34,
          35,
          36,
          37,
          38,
          39,
          40,
          41,
          42,
          43,
          44,
          45,
          46,
          47,
          48,
          49,
          50,
          51,
          52,
          53,
          54,
          55,
          56,
          57,
          58,
          59,
          60,
          61,
          62,
          63,
          64,
          65,
          66,
          67,
          68,
          69,
          70,
          71,
          72,
          73,
          74,
          75,
          76,
          77,
          78,
          79,
          80,
          81,
          82,
          83,
          84,
          85,
          86,
          87,
          88,
          89,
          90,
          91,
          92,
          93,
          94,
          95,
          96,
          97,
          98,
          99,
          100,
          101,
          102,
          103,
          104,
          105,
          106,
          107,
          108,
          109,
          110,
          111,
          112,
          113,
          114,
          115,
          116,
          117,
          118,
          119,
          120,
          121,
          122,
          123,
          124,
          125,
          126,
          127,
          128,
          129,
          130,
          131,
          132,
          133,
          134,
          135,
          136,
          137,
          138,
          139,
          140,
          141,
          142,
          143,
          144,
          145,
          146,
          147,
          148,
          149,
          150,
          151,
          152,
          153,
          154,
          155,
          156,
          157,
          158,
          159,
          160,
          161,
          162,
          163,
          164,
          165,
          166,
          167,
          168,
          169,
          170,
          171,
          172,
          173,
          174,
          175,
          176,
          177,
          178,
          179,
          180,
          181,
          182,
          183,
          184,
          185,
          186,
          187,
          188,
          189,
          190,
          191,
          192,
          193,
          194,
          195,
          196,
          197,
          198,
          199,
          200,
          201,
          202,
          203,
          204,
          205,
          206,
          207,
          208,
          209,
          210,
          211,
          212,
          213,
          214,
          215,
          216,
          217,
          218,
          219,
          220,
          221,
          222,
          223,
          224
         ],
         "xaxis": "x",
         "y": [
          0.77,
          0.97,
          1.09,
          1.23,
          0.76,
          0.56,
          0.68,
          0.71,
          3.93,
          2.93,
          3.44,
          4.99,
          4.94,
          4.51,
          4.97,
          3.63,
          3.71,
          3.1,
          3.2,
          3.15,
          2.87,
          2.35,
          2.74,
          3,
          3.48,
          3.87,
          2.8,
          3.97,
          4.39,
          3.59,
          2.42,
          2.67,
          2.63,
          2.93,
          3.62,
          4.03,
          4,
          3.58,
          2.35,
          2.65,
          3.29,
          2.09,
          1.03,
          0.9,
          1.08,
          1.71,
          0.84,
          1.11,
          1.01,
          1.07,
          0.9,
          0.97,
          1.13,
          0.89,
          0.82,
          0.69,
          0.83,
          0.59,
          0.86,
          1.35,
          0.79,
          0.99,
          0.98,
          0.75,
          0.94,
          0.85,
          0.96,
          0.64,
          0.51,
          0.69,
          0.67,
          0.7,
          0.92,
          1.01,
          0.61,
          0.16,
          0.24,
          0.18,
          0.22,
          0.21,
          0.15,
          0.18,
          0.18,
          0.19,
          0.18,
          0.19,
          0.13,
          0.15,
          0.11,
          0.15,
          0.16,
          0.18,
          0.2,
          0.09,
          0.2,
          0.13,
          0.07,
          0.15,
          0.16,
          0.21,
          0.17,
          0.18,
          0.15,
          0.14,
          0.14,
          0.14,
          0.18,
          0.16,
          0.22,
          0.14,
          0.09,
          0.13,
          0.18,
          0.16,
          0.12,
          0.1,
          0.17,
          0.13,
          0.14,
          0.13,
          0.22,
          0.12,
          0.13,
          0.16,
          0.12,
          0.19,
          0.15,
          0.2,
          0.13,
          0.15,
          0.09,
          0.14,
          0.1,
          0.11,
          0.19,
          0.09,
          0.11,
          0.13,
          0.22,
          0.15,
          0.16,
          0.11,
          0.12,
          0.13,
          0.17,
          0.14,
          0.13,
          0.16,
          0.23,
          0.14,
          0.16,
          0.18,
          0.13,
          0.1,
          0.13,
          0.13,
          0.15,
          0.16,
          0.12,
          0.13,
          0.14,
          0.12,
          0.15,
          0.07,
          0.11,
          0.11,
          0.2,
          0.12,
          0.14,
          0.14,
          0.13,
          0.16,
          0.07,
          0.15,
          0.16,
          0.17,
          0.13,
          0.15,
          0.16,
          0.09,
          0.16,
          0.16,
          0.19,
          0.16,
          0.12,
          0.2,
          0.12,
          0.14,
          0.13,
          0.16,
          0.13,
          0.15,
          0.17,
          0.15,
          0.13,
          0.14,
          0.1,
          0.13,
          0.15,
          0.1,
          0.16,
          0.06,
          0.17,
          0.14,
          0.14,
          0.13,
          0.1,
          0.14,
          0.12,
          0.14,
          0.17,
          0.15,
          0.17,
          0.13,
          0.16,
          0.12,
          0.13,
          0.15,
          0.22,
          0.12,
          0.13,
          0.12,
          0.1,
          0.13,
          0.16
         ],
         "yaxis": "y"
        },
        {
         "mode": "markers",
         "name": "anomalies",
         "type": "scatter",
         "x": [
          11,
          12,
          13,
          14,
          16,
          28,
          30,
          35,
          41,
          45,
          59,
          201
         ],
         "y": [
          4.99,
          4.94,
          4.51,
          4.97,
          3.71,
          4.39,
          2.42,
          4.03,
          2.09,
          1.71,
          1.35,
          0.06
         ]
        }
       ],
       "layout": {
        "legend": {
         "tracegroupgap": 0
        },
        "template": {
         "data": {
          "bar": [
           {
            "error_x": {
             "color": "#2a3f5f"
            },
            "error_y": {
             "color": "#2a3f5f"
            },
            "marker": {
             "line": {
              "color": "#E5ECF6",
              "width": 0.5
             }
            },
            "type": "bar"
           }
          ],
          "barpolar": [
           {
            "marker": {
             "line": {
              "color": "#E5ECF6",
              "width": 0.5
             }
            },
            "type": "barpolar"
           }
          ],
          "carpet": [
           {
            "aaxis": {
             "endlinecolor": "#2a3f5f",
             "gridcolor": "white",
             "linecolor": "white",
             "minorgridcolor": "white",
             "startlinecolor": "#2a3f5f"
            },
            "baxis": {
             "endlinecolor": "#2a3f5f",
             "gridcolor": "white",
             "linecolor": "white",
             "minorgridcolor": "white",
             "startlinecolor": "#2a3f5f"
            },
            "type": "carpet"
           }
          ],
          "choropleth": [
           {
            "colorbar": {
             "outlinewidth": 0,
             "ticks": ""
            },
            "type": "choropleth"
           }
          ],
          "contour": [
           {
            "colorbar": {
             "outlinewidth": 0,
             "ticks": ""
            },
            "colorscale": [
             [
              0,
              "#0d0887"
             ],
             [
              0.1111111111111111,
              "#46039f"
             ],
             [
              0.2222222222222222,
              "#7201a8"
             ],
             [
              0.3333333333333333,
              "#9c179e"
             ],
             [
              0.4444444444444444,
              "#bd3786"
             ],
             [
              0.5555555555555556,
              "#d8576b"
             ],
             [
              0.6666666666666666,
              "#ed7953"
             ],
             [
              0.7777777777777778,
              "#fb9f3a"
             ],
             [
              0.8888888888888888,
              "#fdca26"
             ],
             [
              1,
              "#f0f921"
             ]
            ],
            "type": "contour"
           }
          ],
          "contourcarpet": [
           {
            "colorbar": {
             "outlinewidth": 0,
             "ticks": ""
            },
            "type": "contourcarpet"
           }
          ],
          "heatmap": [
           {
            "colorbar": {
             "outlinewidth": 0,
             "ticks": ""
            },
            "colorscale": [
             [
              0,
              "#0d0887"
             ],
             [
              0.1111111111111111,
              "#46039f"
             ],
             [
              0.2222222222222222,
              "#7201a8"
             ],
             [
              0.3333333333333333,
              "#9c179e"
             ],
             [
              0.4444444444444444,
              "#bd3786"
             ],
             [
              0.5555555555555556,
              "#d8576b"
             ],
             [
              0.6666666666666666,
              "#ed7953"
             ],
             [
              0.7777777777777778,
              "#fb9f3a"
             ],
             [
              0.8888888888888888,
              "#fdca26"
             ],
             [
              1,
              "#f0f921"
             ]
            ],
            "type": "heatmap"
           }
          ],
          "heatmapgl": [
           {
            "colorbar": {
             "outlinewidth": 0,
             "ticks": ""
            },
            "colorscale": [
             [
              0,
              "#0d0887"
             ],
             [
              0.1111111111111111,
              "#46039f"
             ],
             [
              0.2222222222222222,
              "#7201a8"
             ],
             [
              0.3333333333333333,
              "#9c179e"
             ],
             [
              0.4444444444444444,
              "#bd3786"
             ],
             [
              0.5555555555555556,
              "#d8576b"
             ],
             [
              0.6666666666666666,
              "#ed7953"
             ],
             [
              0.7777777777777778,
              "#fb9f3a"
             ],
             [
              0.8888888888888888,
              "#fdca26"
             ],
             [
              1,
              "#f0f921"
             ]
            ],
            "type": "heatmapgl"
           }
          ],
          "histogram": [
           {
            "marker": {
             "colorbar": {
              "outlinewidth": 0,
              "ticks": ""
             }
            },
            "type": "histogram"
           }
          ],
          "histogram2d": [
           {
            "colorbar": {
             "outlinewidth": 0,
             "ticks": ""
            },
            "colorscale": [
             [
              0,
              "#0d0887"
             ],
             [
              0.1111111111111111,
              "#46039f"
             ],
             [
              0.2222222222222222,
              "#7201a8"
             ],
             [
              0.3333333333333333,
              "#9c179e"
             ],
             [
              0.4444444444444444,
              "#bd3786"
             ],
             [
              0.5555555555555556,
              "#d8576b"
             ],
             [
              0.6666666666666666,
              "#ed7953"
             ],
             [
              0.7777777777777778,
              "#fb9f3a"
             ],
             [
              0.8888888888888888,
              "#fdca26"
             ],
             [
              1,
              "#f0f921"
             ]
            ],
            "type": "histogram2d"
           }
          ],
          "histogram2dcontour": [
           {
            "colorbar": {
             "outlinewidth": 0,
             "ticks": ""
            },
            "colorscale": [
             [
              0,
              "#0d0887"
             ],
             [
              0.1111111111111111,
              "#46039f"
             ],
             [
              0.2222222222222222,
              "#7201a8"
             ],
             [
              0.3333333333333333,
              "#9c179e"
             ],
             [
              0.4444444444444444,
              "#bd3786"
             ],
             [
              0.5555555555555556,
              "#d8576b"
             ],
             [
              0.6666666666666666,
              "#ed7953"
             ],
             [
              0.7777777777777778,
              "#fb9f3a"
             ],
             [
              0.8888888888888888,
              "#fdca26"
             ],
             [
              1,
              "#f0f921"
             ]
            ],
            "type": "histogram2dcontour"
           }
          ],
          "mesh3d": [
           {
            "colorbar": {
             "outlinewidth": 0,
             "ticks": ""
            },
            "type": "mesh3d"
           }
          ],
          "parcoords": [
           {
            "line": {
             "colorbar": {
              "outlinewidth": 0,
              "ticks": ""
             }
            },
            "type": "parcoords"
           }
          ],
          "pie": [
           {
            "automargin": true,
            "type": "pie"
           }
          ],
          "scatter": [
           {
            "marker": {
             "colorbar": {
              "outlinewidth": 0,
              "ticks": ""
             }
            },
            "type": "scatter"
           }
          ],
          "scatter3d": [
           {
            "line": {
             "colorbar": {
              "outlinewidth": 0,
              "ticks": ""
             }
            },
            "marker": {
             "colorbar": {
              "outlinewidth": 0,
              "ticks": ""
             }
            },
            "type": "scatter3d"
           }
          ],
          "scattercarpet": [
           {
            "marker": {
             "colorbar": {
              "outlinewidth": 0,
              "ticks": ""
             }
            },
            "type": "scattercarpet"
           }
          ],
          "scattergeo": [
           {
            "marker": {
             "colorbar": {
              "outlinewidth": 0,
              "ticks": ""
             }
            },
            "type": "scattergeo"
           }
          ],
          "scattergl": [
           {
            "marker": {
             "colorbar": {
              "outlinewidth": 0,
              "ticks": ""
             }
            },
            "type": "scattergl"
           }
          ],
          "scattermapbox": [
           {
            "marker": {
             "colorbar": {
              "outlinewidth": 0,
              "ticks": ""
             }
            },
            "type": "scattermapbox"
           }
          ],
          "scatterpolar": [
           {
            "marker": {
             "colorbar": {
              "outlinewidth": 0,
              "ticks": ""
             }
            },
            "type": "scatterpolar"
           }
          ],
          "scatterpolargl": [
           {
            "marker": {
             "colorbar": {
              "outlinewidth": 0,
              "ticks": ""
             }
            },
            "type": "scatterpolargl"
           }
          ],
          "scatterternary": [
           {
            "marker": {
             "colorbar": {
              "outlinewidth": 0,
              "ticks": ""
             }
            },
            "type": "scatterternary"
           }
          ],
          "surface": [
           {
            "colorbar": {
             "outlinewidth": 0,
             "ticks": ""
            },
            "colorscale": [
             [
              0,
              "#0d0887"
             ],
             [
              0.1111111111111111,
              "#46039f"
             ],
             [
              0.2222222222222222,
              "#7201a8"
             ],
             [
              0.3333333333333333,
              "#9c179e"
             ],
             [
              0.4444444444444444,
              "#bd3786"
             ],
             [
              0.5555555555555556,
              "#d8576b"
             ],
             [
              0.6666666666666666,
              "#ed7953"
             ],
             [
              0.7777777777777778,
              "#fb9f3a"
             ],
             [
              0.8888888888888888,
              "#fdca26"
             ],
             [
              1,
              "#f0f921"
             ]
            ],
            "type": "surface"
           }
          ],
          "table": [
           {
            "cells": {
             "fill": {
              "color": "#EBF0F8"
             },
             "line": {
              "color": "white"
             }
            },
            "header": {
             "fill": {
              "color": "#C8D4E3"
             },
             "line": {
              "color": "white"
             }
            },
            "type": "table"
           }
          ]
         },
         "layout": {
          "annotationdefaults": {
           "arrowcolor": "#2a3f5f",
           "arrowhead": 0,
           "arrowwidth": 1
          },
          "autotypenumbers": "strict",
          "coloraxis": {
           "colorbar": {
            "outlinewidth": 0,
            "ticks": ""
           }
          },
          "colorscale": {
           "diverging": [
            [
             0,
             "#8e0152"
            ],
            [
             0.1,
             "#c51b7d"
            ],
            [
             0.2,
             "#de77ae"
            ],
            [
             0.3,
             "#f1b6da"
            ],
            [
             0.4,
             "#fde0ef"
            ],
            [
             0.5,
             "#f7f7f7"
            ],
            [
             0.6,
             "#e6f5d0"
            ],
            [
             0.7,
             "#b8e186"
            ],
            [
             0.8,
             "#7fbc41"
            ],
            [
             0.9,
             "#4d9221"
            ],
            [
             1,
             "#276419"
            ]
           ],
           "sequential": [
            [
             0,
             "#0d0887"
            ],
            [
             0.1111111111111111,
             "#46039f"
            ],
            [
             0.2222222222222222,
             "#7201a8"
            ],
            [
             0.3333333333333333,
             "#9c179e"
            ],
            [
             0.4444444444444444,
             "#bd3786"
            ],
            [
             0.5555555555555556,
             "#d8576b"
            ],
            [
             0.6666666666666666,
             "#ed7953"
            ],
            [
             0.7777777777777778,
             "#fb9f3a"
            ],
            [
             0.8888888888888888,
             "#fdca26"
            ],
            [
             1,
             "#f0f921"
            ]
           ],
           "sequentialminus": [
            [
             0,
             "#0d0887"
            ],
            [
             0.1111111111111111,
             "#46039f"
            ],
            [
             0.2222222222222222,
             "#7201a8"
            ],
            [
             0.3333333333333333,
             "#9c179e"
            ],
            [
             0.4444444444444444,
             "#bd3786"
            ],
            [
             0.5555555555555556,
             "#d8576b"
            ],
            [
             0.6666666666666666,
             "#ed7953"
            ],
            [
             0.7777777777777778,
             "#fb9f3a"
            ],
            [
             0.8888888888888888,
             "#fdca26"
            ],
            [
             1,
             "#f0f921"
            ]
           ]
          },
          "colorway": [
           "#636efa",
           "#EF553B",
           "#00cc96",
           "#ab63fa",
           "#FFA15A",
           "#19d3f3",
           "#FF6692",
           "#B6E880",
           "#FF97FF",
           "#FECB52"
          ],
          "font": {
           "color": "#2a3f5f"
          },
          "geo": {
           "bgcolor": "white",
           "lakecolor": "white",
           "landcolor": "#E5ECF6",
           "showlakes": true,
           "showland": true,
           "subunitcolor": "white"
          },
          "hoverlabel": {
           "align": "left"
          },
          "hovermode": "closest",
          "mapbox": {
           "style": "light"
          },
          "paper_bgcolor": "white",
          "plot_bgcolor": "#E5ECF6",
          "polar": {
           "angularaxis": {
            "gridcolor": "white",
            "linecolor": "white",
            "ticks": ""
           },
           "bgcolor": "#E5ECF6",
           "radialaxis": {
            "gridcolor": "white",
            "linecolor": "white",
            "ticks": ""
           }
          },
          "scene": {
           "xaxis": {
            "backgroundcolor": "#E5ECF6",
            "gridcolor": "white",
            "gridwidth": 2,
            "linecolor": "white",
            "showbackground": true,
            "ticks": "",
            "zerolinecolor": "white"
           },
           "yaxis": {
            "backgroundcolor": "#E5ECF6",
            "gridcolor": "white",
            "gridwidth": 2,
            "linecolor": "white",
            "showbackground": true,
            "ticks": "",
            "zerolinecolor": "white"
           },
           "zaxis": {
            "backgroundcolor": "#E5ECF6",
            "gridcolor": "white",
            "gridwidth": 2,
            "linecolor": "white",
            "showbackground": true,
            "ticks": "",
            "zerolinecolor": "white"
           }
          },
          "shapedefaults": {
           "line": {
            "color": "#2a3f5f"
           }
          },
          "ternary": {
           "aaxis": {
            "gridcolor": "white",
            "linecolor": "white",
            "ticks": ""
           },
           "baxis": {
            "gridcolor": "white",
            "linecolor": "white",
            "ticks": ""
           },
           "bgcolor": "#E5ECF6",
           "caxis": {
            "gridcolor": "white",
            "linecolor": "white",
            "ticks": ""
           }
          },
          "title": {
           "x": 0.05
          },
          "xaxis": {
           "automargin": true,
           "gridcolor": "white",
           "linecolor": "white",
           "ticks": "",
           "title": {
            "standoff": 15
           },
           "zerolinecolor": "white",
           "zerolinewidth": 2
          },
          "yaxis": {
           "automargin": true,
           "gridcolor": "white",
           "linecolor": "white",
           "ticks": "",
           "title": {
            "standoff": 15
           },
           "zerolinecolor": "white",
           "zerolinewidth": 2
          }
         }
        },
        "title": {
         "text": "Unsupervised anomaly detection in CS DROP Rate"
        },
        "xaxis": {
         "anchor": "y",
         "domain": [
          0,
          1
         ],
         "rangeslider": {
          "visible": true
         },
         "title": {
          "text": "index"
         }
        },
        "yaxis": {
         "anchor": "x",
         "domain": [
          0,
          1
         ],
         "title": {
          "text": "CS DROP Rate"
         }
        }
       }
      }
     },
     "metadata": {},
     "output_type": "display_data"
    }
   ],
   "source": [
    "fig = px.line(df,x='index', y='CS DROP Rate', title='Unsupervised anomaly detection in CS DROP Rate')\n",
    "fig.add_trace(go.Scatter(x=iso_anomaly_df[\"index\"].to_list(), y=iso_anomaly_df[\"CS DROP Rate\"].to_list(),\n",
    "                            mode='markers', name='anomalies'))\n",
    "fig.update_xaxes(rangeslider_visible=True)\n",
    "fig"
   ]
  },
  {
   "cell_type": "code",
   "execution_count": 81,
   "metadata": {},
   "outputs": [
    {
     "data": {
      "text/plain": [
       "[0, 0, 0, 0, 0, 0, 0, 0, 0, 0]"
      ]
     },
     "execution_count": 81,
     "metadata": {},
     "output_type": "execute_result"
    }
   ],
   "source": [
    "from sklearn.neighbors import LocalOutlierFactor\n",
    "lof = LocalOutlierFactor(n_neighbors=20, contamination=0.075)\n",
    "y_pred = lof.fit_predict(x)\n",
    "y_pred = [1 if x == -1 else 0 for x in y_pred]\n",
    "y_pred[:10]"
   ]
  },
  {
   "cell_type": "code",
   "execution_count": 82,
   "metadata": {},
   "outputs": [
    {
     "data": {
      "text/html": [
       "<div>\n",
       "<style scoped>\n",
       "    .dataframe tbody tr th:only-of-type {\n",
       "        vertical-align: middle;\n",
       "    }\n",
       "\n",
       "    .dataframe tbody tr th {\n",
       "        vertical-align: top;\n",
       "    }\n",
       "\n",
       "    .dataframe thead th {\n",
       "        text-align: right;\n",
       "    }\n",
       "</style>\n",
       "<table border=\"1\" class=\"dataframe\">\n",
       "  <thead>\n",
       "    <tr style=\"text-align: right;\">\n",
       "      <th></th>\n",
       "      <th>index</th>\n",
       "      <th>Date</th>\n",
       "      <th>RBS Id</th>\n",
       "      <th>TRAFFIC PS(DL+UL)(Gbits)</th>\n",
       "      <th>HSDPA Data Volume</th>\n",
       "      <th>HSUPA Data Volume</th>\n",
       "      <th>Cell Traffic Volume DL Speech (Erlang)</th>\n",
       "      <th>CS CSSR</th>\n",
       "      <th>CS DROP Rate</th>\n",
       "      <th>PS Call Setup SR</th>\n",
       "      <th>PS DROP Rate 2</th>\n",
       "      <th>Availability</th>\n",
       "      <th>Soft Handover</th>\n",
       "      <th>Irat CS Handover SR</th>\n",
       "      <th>IRAT PS 2</th>\n",
       "      <th>throughput</th>\n",
       "      <th>anomaly</th>\n",
       "    </tr>\n",
       "  </thead>\n",
       "  <tbody>\n",
       "    <tr>\n",
       "      <th>0</th>\n",
       "      <td>0</td>\n",
       "      <td>16-12-21</td>\n",
       "      <td>0</td>\n",
       "      <td>74.39</td>\n",
       "      <td>66.74</td>\n",
       "      <td>7.65</td>\n",
       "      <td>156.83</td>\n",
       "      <td>99.69</td>\n",
       "      <td>0.77</td>\n",
       "      <td>95.94</td>\n",
       "      <td>1.72</td>\n",
       "      <td>100.0</td>\n",
       "      <td>99.86</td>\n",
       "      <td>93.94</td>\n",
       "      <td>100.00</td>\n",
       "      <td>755.79</td>\n",
       "      <td>0</td>\n",
       "    </tr>\n",
       "    <tr>\n",
       "      <th>1</th>\n",
       "      <td>1</td>\n",
       "      <td>17-12-21</td>\n",
       "      <td>0</td>\n",
       "      <td>65.41</td>\n",
       "      <td>58.40</td>\n",
       "      <td>7.01</td>\n",
       "      <td>107.82</td>\n",
       "      <td>99.26</td>\n",
       "      <td>0.97</td>\n",
       "      <td>95.40</td>\n",
       "      <td>2.37</td>\n",
       "      <td>100.0</td>\n",
       "      <td>99.67</td>\n",
       "      <td>97.98</td>\n",
       "      <td>100.00</td>\n",
       "      <td>755.79</td>\n",
       "      <td>0</td>\n",
       "    </tr>\n",
       "    <tr>\n",
       "      <th>2</th>\n",
       "      <td>2</td>\n",
       "      <td>18-12-21</td>\n",
       "      <td>0</td>\n",
       "      <td>65.67</td>\n",
       "      <td>58.93</td>\n",
       "      <td>6.74</td>\n",
       "      <td>94.38</td>\n",
       "      <td>99.26</td>\n",
       "      <td>1.09</td>\n",
       "      <td>94.97</td>\n",
       "      <td>3.03</td>\n",
       "      <td>100.0</td>\n",
       "      <td>99.57</td>\n",
       "      <td>96.43</td>\n",
       "      <td>0.00</td>\n",
       "      <td>755.79</td>\n",
       "      <td>0</td>\n",
       "    </tr>\n",
       "    <tr>\n",
       "      <th>3</th>\n",
       "      <td>3</td>\n",
       "      <td>19-12-21</td>\n",
       "      <td>0</td>\n",
       "      <td>57.79</td>\n",
       "      <td>50.91</td>\n",
       "      <td>6.87</td>\n",
       "      <td>101.48</td>\n",
       "      <td>99.08</td>\n",
       "      <td>1.23</td>\n",
       "      <td>95.43</td>\n",
       "      <td>2.60</td>\n",
       "      <td>100.0</td>\n",
       "      <td>99.72</td>\n",
       "      <td>93.14</td>\n",
       "      <td>100.00</td>\n",
       "      <td>755.79</td>\n",
       "      <td>0</td>\n",
       "    </tr>\n",
       "    <tr>\n",
       "      <th>4</th>\n",
       "      <td>4</td>\n",
       "      <td>20-12-21</td>\n",
       "      <td>0</td>\n",
       "      <td>79.74</td>\n",
       "      <td>70.04</td>\n",
       "      <td>9.69</td>\n",
       "      <td>163.22</td>\n",
       "      <td>99.65</td>\n",
       "      <td>0.76</td>\n",
       "      <td>95.16</td>\n",
       "      <td>1.61</td>\n",
       "      <td>100.0</td>\n",
       "      <td>99.86</td>\n",
       "      <td>94.23</td>\n",
       "      <td>66.67</td>\n",
       "      <td>755.79</td>\n",
       "      <td>0</td>\n",
       "    </tr>\n",
       "  </tbody>\n",
       "</table>\n",
       "</div>"
      ],
      "text/plain": [
       "   index      Date  RBS Id  TRAFFIC PS(DL+UL)(Gbits)  HSDPA Data Volume  \\\n",
       "0      0  16-12-21       0                     74.39              66.74   \n",
       "1      1  17-12-21       0                     65.41              58.40   \n",
       "2      2  18-12-21       0                     65.67              58.93   \n",
       "3      3  19-12-21       0                     57.79              50.91   \n",
       "4      4  20-12-21       0                     79.74              70.04   \n",
       "\n",
       "   HSUPA Data Volume  Cell Traffic Volume DL Speech (Erlang)  CS CSSR  \\\n",
       "0               7.65                                  156.83    99.69   \n",
       "1               7.01                                  107.82    99.26   \n",
       "2               6.74                                   94.38    99.26   \n",
       "3               6.87                                  101.48    99.08   \n",
       "4               9.69                                  163.22    99.65   \n",
       "\n",
       "   CS DROP Rate  PS Call Setup SR  PS DROP Rate 2  Availability  \\\n",
       "0          0.77             95.94            1.72         100.0   \n",
       "1          0.97             95.40            2.37         100.0   \n",
       "2          1.09             94.97            3.03         100.0   \n",
       "3          1.23             95.43            2.60         100.0   \n",
       "4          0.76             95.16            1.61         100.0   \n",
       "\n",
       "   Soft Handover  Irat CS Handover SR  IRAT PS 2  throughput  anomaly  \n",
       "0          99.86                93.94     100.00      755.79        0  \n",
       "1          99.67                97.98     100.00      755.79        0  \n",
       "2          99.57                96.43       0.00      755.79        0  \n",
       "3          99.72                93.14     100.00      755.79        0  \n",
       "4          99.86                94.23      66.67      755.79        0  "
      ]
     },
     "execution_count": 82,
     "metadata": {},
     "output_type": "execute_result"
    }
   ],
   "source": [
    "df[\"anomaly\"] = y_pred\n",
    "df.head()"
   ]
  },
  {
   "cell_type": "code",
   "execution_count": 83,
   "metadata": {},
   "outputs": [
    {
     "data": {
      "text/html": [
       "<div>\n",
       "<style scoped>\n",
       "    .dataframe tbody tr th:only-of-type {\n",
       "        vertical-align: middle;\n",
       "    }\n",
       "\n",
       "    .dataframe tbody tr th {\n",
       "        vertical-align: top;\n",
       "    }\n",
       "\n",
       "    .dataframe thead th {\n",
       "        text-align: right;\n",
       "    }\n",
       "</style>\n",
       "<table border=\"1\" class=\"dataframe\">\n",
       "  <thead>\n",
       "    <tr style=\"text-align: right;\">\n",
       "      <th></th>\n",
       "      <th>index</th>\n",
       "      <th>Date</th>\n",
       "      <th>RBS Id</th>\n",
       "      <th>TRAFFIC PS(DL+UL)(Gbits)</th>\n",
       "      <th>HSDPA Data Volume</th>\n",
       "      <th>HSUPA Data Volume</th>\n",
       "      <th>Cell Traffic Volume DL Speech (Erlang)</th>\n",
       "      <th>CS CSSR</th>\n",
       "      <th>CS DROP Rate</th>\n",
       "      <th>PS Call Setup SR</th>\n",
       "      <th>PS DROP Rate 2</th>\n",
       "      <th>Availability</th>\n",
       "      <th>Soft Handover</th>\n",
       "      <th>Irat CS Handover SR</th>\n",
       "      <th>IRAT PS 2</th>\n",
       "      <th>throughput</th>\n",
       "      <th>anomaly</th>\n",
       "    </tr>\n",
       "  </thead>\n",
       "  <tbody>\n",
       "    <tr>\n",
       "      <th>45</th>\n",
       "      <td>45</td>\n",
       "      <td>30-01-22</td>\n",
       "      <td>0</td>\n",
       "      <td>56.12</td>\n",
       "      <td>49.07</td>\n",
       "      <td>7.05</td>\n",
       "      <td>85.19</td>\n",
       "      <td>99.08</td>\n",
       "      <td>1.71</td>\n",
       "      <td>95.12</td>\n",
       "      <td>2.68</td>\n",
       "      <td>100.0</td>\n",
       "      <td>99.43</td>\n",
       "      <td>97.33</td>\n",
       "      <td>66.67</td>\n",
       "      <td>589.14</td>\n",
       "      <td>1</td>\n",
       "    </tr>\n",
       "    <tr>\n",
       "      <th>59</th>\n",
       "      <td>59</td>\n",
       "      <td>13-02-22</td>\n",
       "      <td>0</td>\n",
       "      <td>53.14</td>\n",
       "      <td>46.05</td>\n",
       "      <td>7.09</td>\n",
       "      <td>84.91</td>\n",
       "      <td>99.42</td>\n",
       "      <td>1.35</td>\n",
       "      <td>95.42</td>\n",
       "      <td>2.75</td>\n",
       "      <td>100.0</td>\n",
       "      <td>99.66</td>\n",
       "      <td>96.57</td>\n",
       "      <td>100.00</td>\n",
       "      <td>625.49</td>\n",
       "      <td>1</td>\n",
       "    </tr>\n",
       "    <tr>\n",
       "      <th>68</th>\n",
       "      <td>68</td>\n",
       "      <td>22-02-22</td>\n",
       "      <td>0</td>\n",
       "      <td>84.74</td>\n",
       "      <td>73.90</td>\n",
       "      <td>10.83</td>\n",
       "      <td>143.74</td>\n",
       "      <td>99.56</td>\n",
       "      <td>0.51</td>\n",
       "      <td>95.21</td>\n",
       "      <td>1.24</td>\n",
       "      <td>100.0</td>\n",
       "      <td>99.76</td>\n",
       "      <td>97.44</td>\n",
       "      <td>66.67</td>\n",
       "      <td>819.46</td>\n",
       "      <td>1</td>\n",
       "    </tr>\n",
       "    <tr>\n",
       "      <th>114</th>\n",
       "      <td>114</td>\n",
       "      <td>24-01-22</td>\n",
       "      <td>1</td>\n",
       "      <td>81.69</td>\n",
       "      <td>72.10</td>\n",
       "      <td>9.59</td>\n",
       "      <td>643.65</td>\n",
       "      <td>99.92</td>\n",
       "      <td>0.12</td>\n",
       "      <td>98.47</td>\n",
       "      <td>0.51</td>\n",
       "      <td>100.0</td>\n",
       "      <td>100.11</td>\n",
       "      <td>96.18</td>\n",
       "      <td>66.67</td>\n",
       "      <td>749.08</td>\n",
       "      <td>1</td>\n",
       "    </tr>\n",
       "    <tr>\n",
       "      <th>121</th>\n",
       "      <td>121</td>\n",
       "      <td>31-01-22</td>\n",
       "      <td>1</td>\n",
       "      <td>72.84</td>\n",
       "      <td>62.38</td>\n",
       "      <td>10.46</td>\n",
       "      <td>651.92</td>\n",
       "      <td>99.93</td>\n",
       "      <td>0.12</td>\n",
       "      <td>98.54</td>\n",
       "      <td>0.57</td>\n",
       "      <td>100.0</td>\n",
       "      <td>100.14</td>\n",
       "      <td>96.09</td>\n",
       "      <td>66.67</td>\n",
       "      <td>722.70</td>\n",
       "      <td>1</td>\n",
       "    </tr>\n",
       "  </tbody>\n",
       "</table>\n",
       "</div>"
      ],
      "text/plain": [
       "     index      Date  RBS Id  TRAFFIC PS(DL+UL)(Gbits)  HSDPA Data Volume  \\\n",
       "45      45  30-01-22       0                     56.12              49.07   \n",
       "59      59  13-02-22       0                     53.14              46.05   \n",
       "68      68  22-02-22       0                     84.74              73.90   \n",
       "114    114  24-01-22       1                     81.69              72.10   \n",
       "121    121  31-01-22       1                     72.84              62.38   \n",
       "\n",
       "     HSUPA Data Volume  Cell Traffic Volume DL Speech (Erlang)  CS CSSR  \\\n",
       "45                7.05                                   85.19    99.08   \n",
       "59                7.09                                   84.91    99.42   \n",
       "68               10.83                                  143.74    99.56   \n",
       "114               9.59                                  643.65    99.92   \n",
       "121              10.46                                  651.92    99.93   \n",
       "\n",
       "     CS DROP Rate  PS Call Setup SR  PS DROP Rate 2  Availability  \\\n",
       "45           1.71             95.12            2.68         100.0   \n",
       "59           1.35             95.42            2.75         100.0   \n",
       "68           0.51             95.21            1.24         100.0   \n",
       "114          0.12             98.47            0.51         100.0   \n",
       "121          0.12             98.54            0.57         100.0   \n",
       "\n",
       "     Soft Handover  Irat CS Handover SR  IRAT PS 2  throughput  anomaly  \n",
       "45           99.43                97.33      66.67      589.14        1  \n",
       "59           99.66                96.57     100.00      625.49        1  \n",
       "68           99.76                97.44      66.67      819.46        1  \n",
       "114         100.11                96.18      66.67      749.08        1  \n",
       "121         100.14                96.09      66.67      722.70        1  "
      ]
     },
     "execution_count": 83,
     "metadata": {},
     "output_type": "execute_result"
    }
   ],
   "source": [
    "lof_anomaly_df = pd.DataFrame(df)\n",
    "lof_anomaly_df = lof_anomaly_df.loc[lof_anomaly_df['anomaly'] == 1]\n",
    "lof_anomaly_df.head()"
   ]
  },
  {
   "cell_type": "code",
   "execution_count": 84,
   "metadata": {},
   "outputs": [
    {
     "data": {
      "application/vnd.plotly.v1+json": {
       "config": {
        "plotlyServerURL": "https://plot.ly"
       },
       "data": [
        {
         "hovertemplate": "index=%{x}<br>CS DROP Rate=%{y}<extra></extra>",
         "legendgroup": "",
         "line": {
          "color": "#636efa",
          "dash": "solid"
         },
         "mode": "lines",
         "name": "",
         "orientation": "v",
         "showlegend": false,
         "type": "scatter",
         "x": [
          0,
          1,
          2,
          3,
          4,
          5,
          6,
          7,
          8,
          9,
          10,
          11,
          12,
          13,
          14,
          15,
          16,
          17,
          18,
          19,
          20,
          21,
          22,
          23,
          24,
          25,
          26,
          27,
          28,
          29,
          30,
          31,
          32,
          33,
          34,
          35,
          36,
          37,
          38,
          39,
          40,
          41,
          42,
          43,
          44,
          45,
          46,
          47,
          48,
          49,
          50,
          51,
          52,
          53,
          54,
          55,
          56,
          57,
          58,
          59,
          60,
          61,
          62,
          63,
          64,
          65,
          66,
          67,
          68,
          69,
          70,
          71,
          72,
          73,
          74,
          75,
          76,
          77,
          78,
          79,
          80,
          81,
          82,
          83,
          84,
          85,
          86,
          87,
          88,
          89,
          90,
          91,
          92,
          93,
          94,
          95,
          96,
          97,
          98,
          99,
          100,
          101,
          102,
          103,
          104,
          105,
          106,
          107,
          108,
          109,
          110,
          111,
          112,
          113,
          114,
          115,
          116,
          117,
          118,
          119,
          120,
          121,
          122,
          123,
          124,
          125,
          126,
          127,
          128,
          129,
          130,
          131,
          132,
          133,
          134,
          135,
          136,
          137,
          138,
          139,
          140,
          141,
          142,
          143,
          144,
          145,
          146,
          147,
          148,
          149,
          150,
          151,
          152,
          153,
          154,
          155,
          156,
          157,
          158,
          159,
          160,
          161,
          162,
          163,
          164,
          165,
          166,
          167,
          168,
          169,
          170,
          171,
          172,
          173,
          174,
          175,
          176,
          177,
          178,
          179,
          180,
          181,
          182,
          183,
          184,
          185,
          186,
          187,
          188,
          189,
          190,
          191,
          192,
          193,
          194,
          195,
          196,
          197,
          198,
          199,
          200,
          201,
          202,
          203,
          204,
          205,
          206,
          207,
          208,
          209,
          210,
          211,
          212,
          213,
          214,
          215,
          216,
          217,
          218,
          219,
          220,
          221,
          222,
          223,
          224
         ],
         "xaxis": "x",
         "y": [
          0.77,
          0.97,
          1.09,
          1.23,
          0.76,
          0.56,
          0.68,
          0.71,
          3.93,
          2.93,
          3.44,
          4.99,
          4.94,
          4.51,
          4.97,
          3.63,
          3.71,
          3.1,
          3.2,
          3.15,
          2.87,
          2.35,
          2.74,
          3,
          3.48,
          3.87,
          2.8,
          3.97,
          4.39,
          3.59,
          2.42,
          2.67,
          2.63,
          2.93,
          3.62,
          4.03,
          4,
          3.58,
          2.35,
          2.65,
          3.29,
          2.09,
          1.03,
          0.9,
          1.08,
          1.71,
          0.84,
          1.11,
          1.01,
          1.07,
          0.9,
          0.97,
          1.13,
          0.89,
          0.82,
          0.69,
          0.83,
          0.59,
          0.86,
          1.35,
          0.79,
          0.99,
          0.98,
          0.75,
          0.94,
          0.85,
          0.96,
          0.64,
          0.51,
          0.69,
          0.67,
          0.7,
          0.92,
          1.01,
          0.61,
          0.16,
          0.24,
          0.18,
          0.22,
          0.21,
          0.15,
          0.18,
          0.18,
          0.19,
          0.18,
          0.19,
          0.13,
          0.15,
          0.11,
          0.15,
          0.16,
          0.18,
          0.2,
          0.09,
          0.2,
          0.13,
          0.07,
          0.15,
          0.16,
          0.21,
          0.17,
          0.18,
          0.15,
          0.14,
          0.14,
          0.14,
          0.18,
          0.16,
          0.22,
          0.14,
          0.09,
          0.13,
          0.18,
          0.16,
          0.12,
          0.1,
          0.17,
          0.13,
          0.14,
          0.13,
          0.22,
          0.12,
          0.13,
          0.16,
          0.12,
          0.19,
          0.15,
          0.2,
          0.13,
          0.15,
          0.09,
          0.14,
          0.1,
          0.11,
          0.19,
          0.09,
          0.11,
          0.13,
          0.22,
          0.15,
          0.16,
          0.11,
          0.12,
          0.13,
          0.17,
          0.14,
          0.13,
          0.16,
          0.23,
          0.14,
          0.16,
          0.18,
          0.13,
          0.1,
          0.13,
          0.13,
          0.15,
          0.16,
          0.12,
          0.13,
          0.14,
          0.12,
          0.15,
          0.07,
          0.11,
          0.11,
          0.2,
          0.12,
          0.14,
          0.14,
          0.13,
          0.16,
          0.07,
          0.15,
          0.16,
          0.17,
          0.13,
          0.15,
          0.16,
          0.09,
          0.16,
          0.16,
          0.19,
          0.16,
          0.12,
          0.2,
          0.12,
          0.14,
          0.13,
          0.16,
          0.13,
          0.15,
          0.17,
          0.15,
          0.13,
          0.14,
          0.1,
          0.13,
          0.15,
          0.1,
          0.16,
          0.06,
          0.17,
          0.14,
          0.14,
          0.13,
          0.1,
          0.14,
          0.12,
          0.14,
          0.17,
          0.15,
          0.17,
          0.13,
          0.16,
          0.12,
          0.13,
          0.15,
          0.22,
          0.12,
          0.13,
          0.12,
          0.1,
          0.13,
          0.16
         ],
         "yaxis": "y"
        },
        {
         "mode": "markers",
         "name": "anomalies",
         "type": "scatter",
         "x": [
          45,
          59,
          68,
          114,
          121,
          124,
          142,
          158,
          161,
          167,
          184,
          186,
          201,
          208,
          215,
          219,
          221
         ],
         "y": [
          1.71,
          1.35,
          0.51,
          0.12,
          0.12,
          0.12,
          0.12,
          0.12,
          0.12,
          0.12,
          0.12,
          0.12,
          0.06,
          0.12,
          0.12,
          0.12,
          0.12
         ]
        }
       ],
       "layout": {
        "legend": {
         "tracegroupgap": 0
        },
        "template": {
         "data": {
          "bar": [
           {
            "error_x": {
             "color": "#2a3f5f"
            },
            "error_y": {
             "color": "#2a3f5f"
            },
            "marker": {
             "line": {
              "color": "#E5ECF6",
              "width": 0.5
             }
            },
            "type": "bar"
           }
          ],
          "barpolar": [
           {
            "marker": {
             "line": {
              "color": "#E5ECF6",
              "width": 0.5
             }
            },
            "type": "barpolar"
           }
          ],
          "carpet": [
           {
            "aaxis": {
             "endlinecolor": "#2a3f5f",
             "gridcolor": "white",
             "linecolor": "white",
             "minorgridcolor": "white",
             "startlinecolor": "#2a3f5f"
            },
            "baxis": {
             "endlinecolor": "#2a3f5f",
             "gridcolor": "white",
             "linecolor": "white",
             "minorgridcolor": "white",
             "startlinecolor": "#2a3f5f"
            },
            "type": "carpet"
           }
          ],
          "choropleth": [
           {
            "colorbar": {
             "outlinewidth": 0,
             "ticks": ""
            },
            "type": "choropleth"
           }
          ],
          "contour": [
           {
            "colorbar": {
             "outlinewidth": 0,
             "ticks": ""
            },
            "colorscale": [
             [
              0,
              "#0d0887"
             ],
             [
              0.1111111111111111,
              "#46039f"
             ],
             [
              0.2222222222222222,
              "#7201a8"
             ],
             [
              0.3333333333333333,
              "#9c179e"
             ],
             [
              0.4444444444444444,
              "#bd3786"
             ],
             [
              0.5555555555555556,
              "#d8576b"
             ],
             [
              0.6666666666666666,
              "#ed7953"
             ],
             [
              0.7777777777777778,
              "#fb9f3a"
             ],
             [
              0.8888888888888888,
              "#fdca26"
             ],
             [
              1,
              "#f0f921"
             ]
            ],
            "type": "contour"
           }
          ],
          "contourcarpet": [
           {
            "colorbar": {
             "outlinewidth": 0,
             "ticks": ""
            },
            "type": "contourcarpet"
           }
          ],
          "heatmap": [
           {
            "colorbar": {
             "outlinewidth": 0,
             "ticks": ""
            },
            "colorscale": [
             [
              0,
              "#0d0887"
             ],
             [
              0.1111111111111111,
              "#46039f"
             ],
             [
              0.2222222222222222,
              "#7201a8"
             ],
             [
              0.3333333333333333,
              "#9c179e"
             ],
             [
              0.4444444444444444,
              "#bd3786"
             ],
             [
              0.5555555555555556,
              "#d8576b"
             ],
             [
              0.6666666666666666,
              "#ed7953"
             ],
             [
              0.7777777777777778,
              "#fb9f3a"
             ],
             [
              0.8888888888888888,
              "#fdca26"
             ],
             [
              1,
              "#f0f921"
             ]
            ],
            "type": "heatmap"
           }
          ],
          "heatmapgl": [
           {
            "colorbar": {
             "outlinewidth": 0,
             "ticks": ""
            },
            "colorscale": [
             [
              0,
              "#0d0887"
             ],
             [
              0.1111111111111111,
              "#46039f"
             ],
             [
              0.2222222222222222,
              "#7201a8"
             ],
             [
              0.3333333333333333,
              "#9c179e"
             ],
             [
              0.4444444444444444,
              "#bd3786"
             ],
             [
              0.5555555555555556,
              "#d8576b"
             ],
             [
              0.6666666666666666,
              "#ed7953"
             ],
             [
              0.7777777777777778,
              "#fb9f3a"
             ],
             [
              0.8888888888888888,
              "#fdca26"
             ],
             [
              1,
              "#f0f921"
             ]
            ],
            "type": "heatmapgl"
           }
          ],
          "histogram": [
           {
            "marker": {
             "colorbar": {
              "outlinewidth": 0,
              "ticks": ""
             }
            },
            "type": "histogram"
           }
          ],
          "histogram2d": [
           {
            "colorbar": {
             "outlinewidth": 0,
             "ticks": ""
            },
            "colorscale": [
             [
              0,
              "#0d0887"
             ],
             [
              0.1111111111111111,
              "#46039f"
             ],
             [
              0.2222222222222222,
              "#7201a8"
             ],
             [
              0.3333333333333333,
              "#9c179e"
             ],
             [
              0.4444444444444444,
              "#bd3786"
             ],
             [
              0.5555555555555556,
              "#d8576b"
             ],
             [
              0.6666666666666666,
              "#ed7953"
             ],
             [
              0.7777777777777778,
              "#fb9f3a"
             ],
             [
              0.8888888888888888,
              "#fdca26"
             ],
             [
              1,
              "#f0f921"
             ]
            ],
            "type": "histogram2d"
           }
          ],
          "histogram2dcontour": [
           {
            "colorbar": {
             "outlinewidth": 0,
             "ticks": ""
            },
            "colorscale": [
             [
              0,
              "#0d0887"
             ],
             [
              0.1111111111111111,
              "#46039f"
             ],
             [
              0.2222222222222222,
              "#7201a8"
             ],
             [
              0.3333333333333333,
              "#9c179e"
             ],
             [
              0.4444444444444444,
              "#bd3786"
             ],
             [
              0.5555555555555556,
              "#d8576b"
             ],
             [
              0.6666666666666666,
              "#ed7953"
             ],
             [
              0.7777777777777778,
              "#fb9f3a"
             ],
             [
              0.8888888888888888,
              "#fdca26"
             ],
             [
              1,
              "#f0f921"
             ]
            ],
            "type": "histogram2dcontour"
           }
          ],
          "mesh3d": [
           {
            "colorbar": {
             "outlinewidth": 0,
             "ticks": ""
            },
            "type": "mesh3d"
           }
          ],
          "parcoords": [
           {
            "line": {
             "colorbar": {
              "outlinewidth": 0,
              "ticks": ""
             }
            },
            "type": "parcoords"
           }
          ],
          "pie": [
           {
            "automargin": true,
            "type": "pie"
           }
          ],
          "scatter": [
           {
            "marker": {
             "colorbar": {
              "outlinewidth": 0,
              "ticks": ""
             }
            },
            "type": "scatter"
           }
          ],
          "scatter3d": [
           {
            "line": {
             "colorbar": {
              "outlinewidth": 0,
              "ticks": ""
             }
            },
            "marker": {
             "colorbar": {
              "outlinewidth": 0,
              "ticks": ""
             }
            },
            "type": "scatter3d"
           }
          ],
          "scattercarpet": [
           {
            "marker": {
             "colorbar": {
              "outlinewidth": 0,
              "ticks": ""
             }
            },
            "type": "scattercarpet"
           }
          ],
          "scattergeo": [
           {
            "marker": {
             "colorbar": {
              "outlinewidth": 0,
              "ticks": ""
             }
            },
            "type": "scattergeo"
           }
          ],
          "scattergl": [
           {
            "marker": {
             "colorbar": {
              "outlinewidth": 0,
              "ticks": ""
             }
            },
            "type": "scattergl"
           }
          ],
          "scattermapbox": [
           {
            "marker": {
             "colorbar": {
              "outlinewidth": 0,
              "ticks": ""
             }
            },
            "type": "scattermapbox"
           }
          ],
          "scatterpolar": [
           {
            "marker": {
             "colorbar": {
              "outlinewidth": 0,
              "ticks": ""
             }
            },
            "type": "scatterpolar"
           }
          ],
          "scatterpolargl": [
           {
            "marker": {
             "colorbar": {
              "outlinewidth": 0,
              "ticks": ""
             }
            },
            "type": "scatterpolargl"
           }
          ],
          "scatterternary": [
           {
            "marker": {
             "colorbar": {
              "outlinewidth": 0,
              "ticks": ""
             }
            },
            "type": "scatterternary"
           }
          ],
          "surface": [
           {
            "colorbar": {
             "outlinewidth": 0,
             "ticks": ""
            },
            "colorscale": [
             [
              0,
              "#0d0887"
             ],
             [
              0.1111111111111111,
              "#46039f"
             ],
             [
              0.2222222222222222,
              "#7201a8"
             ],
             [
              0.3333333333333333,
              "#9c179e"
             ],
             [
              0.4444444444444444,
              "#bd3786"
             ],
             [
              0.5555555555555556,
              "#d8576b"
             ],
             [
              0.6666666666666666,
              "#ed7953"
             ],
             [
              0.7777777777777778,
              "#fb9f3a"
             ],
             [
              0.8888888888888888,
              "#fdca26"
             ],
             [
              1,
              "#f0f921"
             ]
            ],
            "type": "surface"
           }
          ],
          "table": [
           {
            "cells": {
             "fill": {
              "color": "#EBF0F8"
             },
             "line": {
              "color": "white"
             }
            },
            "header": {
             "fill": {
              "color": "#C8D4E3"
             },
             "line": {
              "color": "white"
             }
            },
            "type": "table"
           }
          ]
         },
         "layout": {
          "annotationdefaults": {
           "arrowcolor": "#2a3f5f",
           "arrowhead": 0,
           "arrowwidth": 1
          },
          "autotypenumbers": "strict",
          "coloraxis": {
           "colorbar": {
            "outlinewidth": 0,
            "ticks": ""
           }
          },
          "colorscale": {
           "diverging": [
            [
             0,
             "#8e0152"
            ],
            [
             0.1,
             "#c51b7d"
            ],
            [
             0.2,
             "#de77ae"
            ],
            [
             0.3,
             "#f1b6da"
            ],
            [
             0.4,
             "#fde0ef"
            ],
            [
             0.5,
             "#f7f7f7"
            ],
            [
             0.6,
             "#e6f5d0"
            ],
            [
             0.7,
             "#b8e186"
            ],
            [
             0.8,
             "#7fbc41"
            ],
            [
             0.9,
             "#4d9221"
            ],
            [
             1,
             "#276419"
            ]
           ],
           "sequential": [
            [
             0,
             "#0d0887"
            ],
            [
             0.1111111111111111,
             "#46039f"
            ],
            [
             0.2222222222222222,
             "#7201a8"
            ],
            [
             0.3333333333333333,
             "#9c179e"
            ],
            [
             0.4444444444444444,
             "#bd3786"
            ],
            [
             0.5555555555555556,
             "#d8576b"
            ],
            [
             0.6666666666666666,
             "#ed7953"
            ],
            [
             0.7777777777777778,
             "#fb9f3a"
            ],
            [
             0.8888888888888888,
             "#fdca26"
            ],
            [
             1,
             "#f0f921"
            ]
           ],
           "sequentialminus": [
            [
             0,
             "#0d0887"
            ],
            [
             0.1111111111111111,
             "#46039f"
            ],
            [
             0.2222222222222222,
             "#7201a8"
            ],
            [
             0.3333333333333333,
             "#9c179e"
            ],
            [
             0.4444444444444444,
             "#bd3786"
            ],
            [
             0.5555555555555556,
             "#d8576b"
            ],
            [
             0.6666666666666666,
             "#ed7953"
            ],
            [
             0.7777777777777778,
             "#fb9f3a"
            ],
            [
             0.8888888888888888,
             "#fdca26"
            ],
            [
             1,
             "#f0f921"
            ]
           ]
          },
          "colorway": [
           "#636efa",
           "#EF553B",
           "#00cc96",
           "#ab63fa",
           "#FFA15A",
           "#19d3f3",
           "#FF6692",
           "#B6E880",
           "#FF97FF",
           "#FECB52"
          ],
          "font": {
           "color": "#2a3f5f"
          },
          "geo": {
           "bgcolor": "white",
           "lakecolor": "white",
           "landcolor": "#E5ECF6",
           "showlakes": true,
           "showland": true,
           "subunitcolor": "white"
          },
          "hoverlabel": {
           "align": "left"
          },
          "hovermode": "closest",
          "mapbox": {
           "style": "light"
          },
          "paper_bgcolor": "white",
          "plot_bgcolor": "#E5ECF6",
          "polar": {
           "angularaxis": {
            "gridcolor": "white",
            "linecolor": "white",
            "ticks": ""
           },
           "bgcolor": "#E5ECF6",
           "radialaxis": {
            "gridcolor": "white",
            "linecolor": "white",
            "ticks": ""
           }
          },
          "scene": {
           "xaxis": {
            "backgroundcolor": "#E5ECF6",
            "gridcolor": "white",
            "gridwidth": 2,
            "linecolor": "white",
            "showbackground": true,
            "ticks": "",
            "zerolinecolor": "white"
           },
           "yaxis": {
            "backgroundcolor": "#E5ECF6",
            "gridcolor": "white",
            "gridwidth": 2,
            "linecolor": "white",
            "showbackground": true,
            "ticks": "",
            "zerolinecolor": "white"
           },
           "zaxis": {
            "backgroundcolor": "#E5ECF6",
            "gridcolor": "white",
            "gridwidth": 2,
            "linecolor": "white",
            "showbackground": true,
            "ticks": "",
            "zerolinecolor": "white"
           }
          },
          "shapedefaults": {
           "line": {
            "color": "#2a3f5f"
           }
          },
          "ternary": {
           "aaxis": {
            "gridcolor": "white",
            "linecolor": "white",
            "ticks": ""
           },
           "baxis": {
            "gridcolor": "white",
            "linecolor": "white",
            "ticks": ""
           },
           "bgcolor": "#E5ECF6",
           "caxis": {
            "gridcolor": "white",
            "linecolor": "white",
            "ticks": ""
           }
          },
          "title": {
           "x": 0.05
          },
          "xaxis": {
           "automargin": true,
           "gridcolor": "white",
           "linecolor": "white",
           "ticks": "",
           "title": {
            "standoff": 15
           },
           "zerolinecolor": "white",
           "zerolinewidth": 2
          },
          "yaxis": {
           "automargin": true,
           "gridcolor": "white",
           "linecolor": "white",
           "ticks": "",
           "title": {
            "standoff": 15
           },
           "zerolinecolor": "white",
           "zerolinewidth": 2
          }
         }
        },
        "title": {
         "text": "Unsupervised anomaly detection in CS DROP Rate"
        },
        "xaxis": {
         "anchor": "y",
         "domain": [
          0,
          1
         ],
         "rangeslider": {
          "visible": true
         },
         "title": {
          "text": "index"
         }
        },
        "yaxis": {
         "anchor": "x",
         "domain": [
          0,
          1
         ],
         "title": {
          "text": "CS DROP Rate"
         }
        }
       }
      }
     },
     "metadata": {},
     "output_type": "display_data"
    }
   ],
   "source": [
    "fig = px.line(df, x='index', y='CS DROP Rate', title='Unsupervised anomaly detection in CS DROP Rate')\n",
    "fig.add_trace(go.Scatter(x=lof_anomaly_df[\"index\"].to_list(), y=lof_anomaly_df[\"CS DROP Rate\"].to_list(),\n",
    "                        mode='markers', name='anomalies'))\n",
    "fig.update_xaxes(rangeslider_visible=True)\n",
    "fig"
   ]
  },
  {
   "cell_type": "code",
   "execution_count": 93,
   "metadata": {},
   "outputs": [
    {
     "data": {
      "text/plain": [
       "[0, 0, 0, 0, 0, 0, 0, 0, 0, 0]"
      ]
     },
     "execution_count": 93,
     "metadata": {},
     "output_type": "execute_result"
    }
   ],
   "source": [
    "from sklearn.svm import OneClassSVM\n",
    "ocsvm = OneClassSVM(kernel='rbf',\n",
    "                     gamma=\"auto\",\n",
    "                     nu=0.01)\n",
    "y_pred = ocsvm.fit_predict(x)\n",
    "y_pred = [1 if x == -1 else 0 for x in y_pred]\n",
    "y_pred[:10]"
   ]
  },
  {
   "cell_type": "code",
   "execution_count": 94,
   "metadata": {},
   "outputs": [
    {
     "data": {
      "text/html": [
       "<div>\n",
       "<style scoped>\n",
       "    .dataframe tbody tr th:only-of-type {\n",
       "        vertical-align: middle;\n",
       "    }\n",
       "\n",
       "    .dataframe tbody tr th {\n",
       "        vertical-align: top;\n",
       "    }\n",
       "\n",
       "    .dataframe thead th {\n",
       "        text-align: right;\n",
       "    }\n",
       "</style>\n",
       "<table border=\"1\" class=\"dataframe\">\n",
       "  <thead>\n",
       "    <tr style=\"text-align: right;\">\n",
       "      <th></th>\n",
       "      <th>index</th>\n",
       "      <th>Date</th>\n",
       "      <th>RBS Id</th>\n",
       "      <th>TRAFFIC PS(DL+UL)(Gbits)</th>\n",
       "      <th>HSDPA Data Volume</th>\n",
       "      <th>HSUPA Data Volume</th>\n",
       "      <th>Cell Traffic Volume DL Speech (Erlang)</th>\n",
       "      <th>CS CSSR</th>\n",
       "      <th>CS DROP Rate</th>\n",
       "      <th>PS Call Setup SR</th>\n",
       "      <th>PS DROP Rate 2</th>\n",
       "      <th>Availability</th>\n",
       "      <th>Soft Handover</th>\n",
       "      <th>Irat CS Handover SR</th>\n",
       "      <th>IRAT PS 2</th>\n",
       "      <th>throughput</th>\n",
       "      <th>anomaly</th>\n",
       "    </tr>\n",
       "  </thead>\n",
       "  <tbody>\n",
       "    <tr>\n",
       "      <th>0</th>\n",
       "      <td>0</td>\n",
       "      <td>16-12-21</td>\n",
       "      <td>0</td>\n",
       "      <td>74.39</td>\n",
       "      <td>66.74</td>\n",
       "      <td>7.65</td>\n",
       "      <td>156.83</td>\n",
       "      <td>99.69</td>\n",
       "      <td>0.77</td>\n",
       "      <td>95.94</td>\n",
       "      <td>1.72</td>\n",
       "      <td>100.0</td>\n",
       "      <td>99.86</td>\n",
       "      <td>93.94</td>\n",
       "      <td>100.00</td>\n",
       "      <td>755.79</td>\n",
       "      <td>0</td>\n",
       "    </tr>\n",
       "    <tr>\n",
       "      <th>1</th>\n",
       "      <td>1</td>\n",
       "      <td>17-12-21</td>\n",
       "      <td>0</td>\n",
       "      <td>65.41</td>\n",
       "      <td>58.40</td>\n",
       "      <td>7.01</td>\n",
       "      <td>107.82</td>\n",
       "      <td>99.26</td>\n",
       "      <td>0.97</td>\n",
       "      <td>95.40</td>\n",
       "      <td>2.37</td>\n",
       "      <td>100.0</td>\n",
       "      <td>99.67</td>\n",
       "      <td>97.98</td>\n",
       "      <td>100.00</td>\n",
       "      <td>755.79</td>\n",
       "      <td>0</td>\n",
       "    </tr>\n",
       "    <tr>\n",
       "      <th>2</th>\n",
       "      <td>2</td>\n",
       "      <td>18-12-21</td>\n",
       "      <td>0</td>\n",
       "      <td>65.67</td>\n",
       "      <td>58.93</td>\n",
       "      <td>6.74</td>\n",
       "      <td>94.38</td>\n",
       "      <td>99.26</td>\n",
       "      <td>1.09</td>\n",
       "      <td>94.97</td>\n",
       "      <td>3.03</td>\n",
       "      <td>100.0</td>\n",
       "      <td>99.57</td>\n",
       "      <td>96.43</td>\n",
       "      <td>0.00</td>\n",
       "      <td>755.79</td>\n",
       "      <td>0</td>\n",
       "    </tr>\n",
       "    <tr>\n",
       "      <th>3</th>\n",
       "      <td>3</td>\n",
       "      <td>19-12-21</td>\n",
       "      <td>0</td>\n",
       "      <td>57.79</td>\n",
       "      <td>50.91</td>\n",
       "      <td>6.87</td>\n",
       "      <td>101.48</td>\n",
       "      <td>99.08</td>\n",
       "      <td>1.23</td>\n",
       "      <td>95.43</td>\n",
       "      <td>2.60</td>\n",
       "      <td>100.0</td>\n",
       "      <td>99.72</td>\n",
       "      <td>93.14</td>\n",
       "      <td>100.00</td>\n",
       "      <td>755.79</td>\n",
       "      <td>0</td>\n",
       "    </tr>\n",
       "    <tr>\n",
       "      <th>4</th>\n",
       "      <td>4</td>\n",
       "      <td>20-12-21</td>\n",
       "      <td>0</td>\n",
       "      <td>79.74</td>\n",
       "      <td>70.04</td>\n",
       "      <td>9.69</td>\n",
       "      <td>163.22</td>\n",
       "      <td>99.65</td>\n",
       "      <td>0.76</td>\n",
       "      <td>95.16</td>\n",
       "      <td>1.61</td>\n",
       "      <td>100.0</td>\n",
       "      <td>99.86</td>\n",
       "      <td>94.23</td>\n",
       "      <td>66.67</td>\n",
       "      <td>755.79</td>\n",
       "      <td>0</td>\n",
       "    </tr>\n",
       "  </tbody>\n",
       "</table>\n",
       "</div>"
      ],
      "text/plain": [
       "   index      Date  RBS Id  TRAFFIC PS(DL+UL)(Gbits)  HSDPA Data Volume  \\\n",
       "0      0  16-12-21       0                     74.39              66.74   \n",
       "1      1  17-12-21       0                     65.41              58.40   \n",
       "2      2  18-12-21       0                     65.67              58.93   \n",
       "3      3  19-12-21       0                     57.79              50.91   \n",
       "4      4  20-12-21       0                     79.74              70.04   \n",
       "\n",
       "   HSUPA Data Volume  Cell Traffic Volume DL Speech (Erlang)  CS CSSR  \\\n",
       "0               7.65                                  156.83    99.69   \n",
       "1               7.01                                  107.82    99.26   \n",
       "2               6.74                                   94.38    99.26   \n",
       "3               6.87                                  101.48    99.08   \n",
       "4               9.69                                  163.22    99.65   \n",
       "\n",
       "   CS DROP Rate  PS Call Setup SR  PS DROP Rate 2  Availability  \\\n",
       "0          0.77             95.94            1.72         100.0   \n",
       "1          0.97             95.40            2.37         100.0   \n",
       "2          1.09             94.97            3.03         100.0   \n",
       "3          1.23             95.43            2.60         100.0   \n",
       "4          0.76             95.16            1.61         100.0   \n",
       "\n",
       "   Soft Handover  Irat CS Handover SR  IRAT PS 2  throughput  anomaly  \n",
       "0          99.86                93.94     100.00      755.79        0  \n",
       "1          99.67                97.98     100.00      755.79        0  \n",
       "2          99.57                96.43       0.00      755.79        0  \n",
       "3          99.72                93.14     100.00      755.79        0  \n",
       "4          99.86                94.23      66.67      755.79        0  "
      ]
     },
     "execution_count": 94,
     "metadata": {},
     "output_type": "execute_result"
    }
   ],
   "source": [
    "df[\"anomaly\"] = y_pred\n",
    "df.head()"
   ]
  },
  {
   "cell_type": "code",
   "execution_count": 95,
   "metadata": {},
   "outputs": [
    {
     "data": {
      "text/html": [
       "<div>\n",
       "<style scoped>\n",
       "    .dataframe tbody tr th:only-of-type {\n",
       "        vertical-align: middle;\n",
       "    }\n",
       "\n",
       "    .dataframe tbody tr th {\n",
       "        vertical-align: top;\n",
       "    }\n",
       "\n",
       "    .dataframe thead th {\n",
       "        text-align: right;\n",
       "    }\n",
       "</style>\n",
       "<table border=\"1\" class=\"dataframe\">\n",
       "  <thead>\n",
       "    <tr style=\"text-align: right;\">\n",
       "      <th></th>\n",
       "      <th>index</th>\n",
       "      <th>Date</th>\n",
       "      <th>RBS Id</th>\n",
       "      <th>TRAFFIC PS(DL+UL)(Gbits)</th>\n",
       "      <th>HSDPA Data Volume</th>\n",
       "      <th>HSUPA Data Volume</th>\n",
       "      <th>Cell Traffic Volume DL Speech (Erlang)</th>\n",
       "      <th>CS CSSR</th>\n",
       "      <th>CS DROP Rate</th>\n",
       "      <th>PS Call Setup SR</th>\n",
       "      <th>PS DROP Rate 2</th>\n",
       "      <th>Availability</th>\n",
       "      <th>Soft Handover</th>\n",
       "      <th>Irat CS Handover SR</th>\n",
       "      <th>IRAT PS 2</th>\n",
       "      <th>throughput</th>\n",
       "      <th>anomaly</th>\n",
       "    </tr>\n",
       "  </thead>\n",
       "  <tbody>\n",
       "    <tr>\n",
       "      <th>11</th>\n",
       "      <td>11</td>\n",
       "      <td>27-12-21</td>\n",
       "      <td>0</td>\n",
       "      <td>78.11</td>\n",
       "      <td>68.62</td>\n",
       "      <td>9.49</td>\n",
       "      <td>145.47</td>\n",
       "      <td>99.08</td>\n",
       "      <td>4.99</td>\n",
       "      <td>95.73</td>\n",
       "      <td>2.95</td>\n",
       "      <td>97.34</td>\n",
       "      <td>99.64</td>\n",
       "      <td>93.41</td>\n",
       "      <td>100.00</td>\n",
       "      <td>676.99</td>\n",
       "      <td>1</td>\n",
       "    </tr>\n",
       "    <tr>\n",
       "      <th>15</th>\n",
       "      <td>15</td>\n",
       "      <td>31-12-21</td>\n",
       "      <td>0</td>\n",
       "      <td>72.88</td>\n",
       "      <td>63.30</td>\n",
       "      <td>9.58</td>\n",
       "      <td>145.63</td>\n",
       "      <td>99.10</td>\n",
       "      <td>3.63</td>\n",
       "      <td>95.29</td>\n",
       "      <td>3.10</td>\n",
       "      <td>97.06</td>\n",
       "      <td>99.47</td>\n",
       "      <td>96.74</td>\n",
       "      <td>100.00</td>\n",
       "      <td>590.04</td>\n",
       "      <td>1</td>\n",
       "    </tr>\n",
       "    <tr>\n",
       "      <th>16</th>\n",
       "      <td>16</td>\n",
       "      <td>01-01-22</td>\n",
       "      <td>0</td>\n",
       "      <td>68.80</td>\n",
       "      <td>59.75</td>\n",
       "      <td>9.05</td>\n",
       "      <td>98.97</td>\n",
       "      <td>99.00</td>\n",
       "      <td>3.71</td>\n",
       "      <td>95.40</td>\n",
       "      <td>3.64</td>\n",
       "      <td>96.73</td>\n",
       "      <td>99.51</td>\n",
       "      <td>94.93</td>\n",
       "      <td>100.00</td>\n",
       "      <td>634.37</td>\n",
       "      <td>1</td>\n",
       "    </tr>\n",
       "    <tr>\n",
       "      <th>20</th>\n",
       "      <td>20</td>\n",
       "      <td>01-05-22</td>\n",
       "      <td>0</td>\n",
       "      <td>62.62</td>\n",
       "      <td>54.87</td>\n",
       "      <td>7.75</td>\n",
       "      <td>163.13</td>\n",
       "      <td>99.42</td>\n",
       "      <td>2.87</td>\n",
       "      <td>96.03</td>\n",
       "      <td>2.06</td>\n",
       "      <td>98.75</td>\n",
       "      <td>99.78</td>\n",
       "      <td>95.46</td>\n",
       "      <td>100.00</td>\n",
       "      <td>653.31</td>\n",
       "      <td>1</td>\n",
       "    </tr>\n",
       "    <tr>\n",
       "      <th>21</th>\n",
       "      <td>21</td>\n",
       "      <td>01-06-22</td>\n",
       "      <td>0</td>\n",
       "      <td>74.08</td>\n",
       "      <td>66.03</td>\n",
       "      <td>8.05</td>\n",
       "      <td>143.73</td>\n",
       "      <td>99.38</td>\n",
       "      <td>2.35</td>\n",
       "      <td>95.97</td>\n",
       "      <td>1.81</td>\n",
       "      <td>99.04</td>\n",
       "      <td>99.80</td>\n",
       "      <td>95.99</td>\n",
       "      <td>66.67</td>\n",
       "      <td>881.86</td>\n",
       "      <td>1</td>\n",
       "    </tr>\n",
       "  </tbody>\n",
       "</table>\n",
       "</div>"
      ],
      "text/plain": [
       "    index      Date  RBS Id  TRAFFIC PS(DL+UL)(Gbits)  HSDPA Data Volume  \\\n",
       "11     11  27-12-21       0                     78.11              68.62   \n",
       "15     15  31-12-21       0                     72.88              63.30   \n",
       "16     16  01-01-22       0                     68.80              59.75   \n",
       "20     20  01-05-22       0                     62.62              54.87   \n",
       "21     21  01-06-22       0                     74.08              66.03   \n",
       "\n",
       "    HSUPA Data Volume  Cell Traffic Volume DL Speech (Erlang)  CS CSSR  \\\n",
       "11               9.49                                  145.47    99.08   \n",
       "15               9.58                                  145.63    99.10   \n",
       "16               9.05                                   98.97    99.00   \n",
       "20               7.75                                  163.13    99.42   \n",
       "21               8.05                                  143.73    99.38   \n",
       "\n",
       "    CS DROP Rate  PS Call Setup SR  PS DROP Rate 2  Availability  \\\n",
       "11          4.99             95.73            2.95         97.34   \n",
       "15          3.63             95.29            3.10         97.06   \n",
       "16          3.71             95.40            3.64         96.73   \n",
       "20          2.87             96.03            2.06         98.75   \n",
       "21          2.35             95.97            1.81         99.04   \n",
       "\n",
       "    Soft Handover  Irat CS Handover SR  IRAT PS 2  throughput  anomaly  \n",
       "11          99.64                93.41     100.00      676.99        1  \n",
       "15          99.47                96.74     100.00      590.04        1  \n",
       "16          99.51                94.93     100.00      634.37        1  \n",
       "20          99.78                95.46     100.00      653.31        1  \n",
       "21          99.80                95.99      66.67      881.86        1  "
      ]
     },
     "execution_count": 95,
     "metadata": {},
     "output_type": "execute_result"
    }
   ],
   "source": [
    "ocsvm_anomaly_df = pd.DataFrame(df)\n",
    "ocsvm_anomaly_df = ocsvm_anomaly_df.loc[ocsvm_anomaly_df['anomaly'] == 1]\n",
    "ocsvm_anomaly_df.head()"
   ]
  },
  {
   "cell_type": "code",
   "execution_count": 96,
   "metadata": {},
   "outputs": [
    {
     "data": {
      "application/vnd.plotly.v1+json": {
       "config": {
        "plotlyServerURL": "https://plot.ly"
       },
       "data": [
        {
         "hovertemplate": "index=%{x}<br>CS DROP Rate=%{y}<extra></extra>",
         "legendgroup": "",
         "line": {
          "color": "#636efa",
          "dash": "solid"
         },
         "mode": "lines",
         "name": "",
         "orientation": "v",
         "showlegend": false,
         "type": "scatter",
         "x": [
          0,
          1,
          2,
          3,
          4,
          5,
          6,
          7,
          8,
          9,
          10,
          11,
          12,
          13,
          14,
          15,
          16,
          17,
          18,
          19,
          20,
          21,
          22,
          23,
          24,
          25,
          26,
          27,
          28,
          29,
          30,
          31,
          32,
          33,
          34,
          35,
          36,
          37,
          38,
          39,
          40,
          41,
          42,
          43,
          44,
          45,
          46,
          47,
          48,
          49,
          50,
          51,
          52,
          53,
          54,
          55,
          56,
          57,
          58,
          59,
          60,
          61,
          62,
          63,
          64,
          65,
          66,
          67,
          68,
          69,
          70,
          71,
          72,
          73,
          74,
          75,
          76,
          77,
          78,
          79,
          80,
          81,
          82,
          83,
          84,
          85,
          86,
          87,
          88,
          89,
          90,
          91,
          92,
          93,
          94,
          95,
          96,
          97,
          98,
          99,
          100,
          101,
          102,
          103,
          104,
          105,
          106,
          107,
          108,
          109,
          110,
          111,
          112,
          113,
          114,
          115,
          116,
          117,
          118,
          119,
          120,
          121,
          122,
          123,
          124,
          125,
          126,
          127,
          128,
          129,
          130,
          131,
          132,
          133,
          134,
          135,
          136,
          137,
          138,
          139,
          140,
          141,
          142,
          143,
          144,
          145,
          146,
          147,
          148,
          149,
          150,
          151,
          152,
          153,
          154,
          155,
          156,
          157,
          158,
          159,
          160,
          161,
          162,
          163,
          164,
          165,
          166,
          167,
          168,
          169,
          170,
          171,
          172,
          173,
          174,
          175,
          176,
          177,
          178,
          179,
          180,
          181,
          182,
          183,
          184,
          185,
          186,
          187,
          188,
          189,
          190,
          191,
          192,
          193,
          194,
          195,
          196,
          197,
          198,
          199,
          200,
          201,
          202,
          203,
          204,
          205,
          206,
          207,
          208,
          209,
          210,
          211,
          212,
          213,
          214,
          215,
          216,
          217,
          218,
          219,
          220,
          221,
          222,
          223,
          224
         ],
         "xaxis": "x",
         "y": [
          0.77,
          0.97,
          1.09,
          1.23,
          0.76,
          0.56,
          0.68,
          0.71,
          3.93,
          2.93,
          3.44,
          4.99,
          4.94,
          4.51,
          4.97,
          3.63,
          3.71,
          3.1,
          3.2,
          3.15,
          2.87,
          2.35,
          2.74,
          3,
          3.48,
          3.87,
          2.8,
          3.97,
          4.39,
          3.59,
          2.42,
          2.67,
          2.63,
          2.93,
          3.62,
          4.03,
          4,
          3.58,
          2.35,
          2.65,
          3.29,
          2.09,
          1.03,
          0.9,
          1.08,
          1.71,
          0.84,
          1.11,
          1.01,
          1.07,
          0.9,
          0.97,
          1.13,
          0.89,
          0.82,
          0.69,
          0.83,
          0.59,
          0.86,
          1.35,
          0.79,
          0.99,
          0.98,
          0.75,
          0.94,
          0.85,
          0.96,
          0.64,
          0.51,
          0.69,
          0.67,
          0.7,
          0.92,
          1.01,
          0.61,
          0.16,
          0.24,
          0.18,
          0.22,
          0.21,
          0.15,
          0.18,
          0.18,
          0.19,
          0.18,
          0.19,
          0.13,
          0.15,
          0.11,
          0.15,
          0.16,
          0.18,
          0.2,
          0.09,
          0.2,
          0.13,
          0.07,
          0.15,
          0.16,
          0.21,
          0.17,
          0.18,
          0.15,
          0.14,
          0.14,
          0.14,
          0.18,
          0.16,
          0.22,
          0.14,
          0.09,
          0.13,
          0.18,
          0.16,
          0.12,
          0.1,
          0.17,
          0.13,
          0.14,
          0.13,
          0.22,
          0.12,
          0.13,
          0.16,
          0.12,
          0.19,
          0.15,
          0.2,
          0.13,
          0.15,
          0.09,
          0.14,
          0.1,
          0.11,
          0.19,
          0.09,
          0.11,
          0.13,
          0.22,
          0.15,
          0.16,
          0.11,
          0.12,
          0.13,
          0.17,
          0.14,
          0.13,
          0.16,
          0.23,
          0.14,
          0.16,
          0.18,
          0.13,
          0.1,
          0.13,
          0.13,
          0.15,
          0.16,
          0.12,
          0.13,
          0.14,
          0.12,
          0.15,
          0.07,
          0.11,
          0.11,
          0.2,
          0.12,
          0.14,
          0.14,
          0.13,
          0.16,
          0.07,
          0.15,
          0.16,
          0.17,
          0.13,
          0.15,
          0.16,
          0.09,
          0.16,
          0.16,
          0.19,
          0.16,
          0.12,
          0.2,
          0.12,
          0.14,
          0.13,
          0.16,
          0.13,
          0.15,
          0.17,
          0.15,
          0.13,
          0.14,
          0.1,
          0.13,
          0.15,
          0.1,
          0.16,
          0.06,
          0.17,
          0.14,
          0.14,
          0.13,
          0.1,
          0.14,
          0.12,
          0.14,
          0.17,
          0.15,
          0.17,
          0.13,
          0.16,
          0.12,
          0.13,
          0.15,
          0.22,
          0.12,
          0.13,
          0.12,
          0.1,
          0.13,
          0.16
         ],
         "yaxis": "y"
        },
        {
         "mode": "markers",
         "name": "anomaly",
         "type": "scatter",
         "x": [
          11,
          15,
          16,
          20,
          21,
          22,
          26,
          29,
          30,
          31,
          32,
          34,
          37,
          38,
          39
         ],
         "y": [
          4.99,
          3.63,
          3.71,
          2.87,
          2.35,
          2.74,
          2.8,
          3.59,
          2.42,
          2.67,
          2.63,
          3.62,
          3.58,
          2.35,
          2.65
         ]
        }
       ],
       "layout": {
        "legend": {
         "tracegroupgap": 0
        },
        "template": {
         "data": {
          "bar": [
           {
            "error_x": {
             "color": "#2a3f5f"
            },
            "error_y": {
             "color": "#2a3f5f"
            },
            "marker": {
             "line": {
              "color": "#E5ECF6",
              "width": 0.5
             }
            },
            "type": "bar"
           }
          ],
          "barpolar": [
           {
            "marker": {
             "line": {
              "color": "#E5ECF6",
              "width": 0.5
             }
            },
            "type": "barpolar"
           }
          ],
          "carpet": [
           {
            "aaxis": {
             "endlinecolor": "#2a3f5f",
             "gridcolor": "white",
             "linecolor": "white",
             "minorgridcolor": "white",
             "startlinecolor": "#2a3f5f"
            },
            "baxis": {
             "endlinecolor": "#2a3f5f",
             "gridcolor": "white",
             "linecolor": "white",
             "minorgridcolor": "white",
             "startlinecolor": "#2a3f5f"
            },
            "type": "carpet"
           }
          ],
          "choropleth": [
           {
            "colorbar": {
             "outlinewidth": 0,
             "ticks": ""
            },
            "type": "choropleth"
           }
          ],
          "contour": [
           {
            "colorbar": {
             "outlinewidth": 0,
             "ticks": ""
            },
            "colorscale": [
             [
              0,
              "#0d0887"
             ],
             [
              0.1111111111111111,
              "#46039f"
             ],
             [
              0.2222222222222222,
              "#7201a8"
             ],
             [
              0.3333333333333333,
              "#9c179e"
             ],
             [
              0.4444444444444444,
              "#bd3786"
             ],
             [
              0.5555555555555556,
              "#d8576b"
             ],
             [
              0.6666666666666666,
              "#ed7953"
             ],
             [
              0.7777777777777778,
              "#fb9f3a"
             ],
             [
              0.8888888888888888,
              "#fdca26"
             ],
             [
              1,
              "#f0f921"
             ]
            ],
            "type": "contour"
           }
          ],
          "contourcarpet": [
           {
            "colorbar": {
             "outlinewidth": 0,
             "ticks": ""
            },
            "type": "contourcarpet"
           }
          ],
          "heatmap": [
           {
            "colorbar": {
             "outlinewidth": 0,
             "ticks": ""
            },
            "colorscale": [
             [
              0,
              "#0d0887"
             ],
             [
              0.1111111111111111,
              "#46039f"
             ],
             [
              0.2222222222222222,
              "#7201a8"
             ],
             [
              0.3333333333333333,
              "#9c179e"
             ],
             [
              0.4444444444444444,
              "#bd3786"
             ],
             [
              0.5555555555555556,
              "#d8576b"
             ],
             [
              0.6666666666666666,
              "#ed7953"
             ],
             [
              0.7777777777777778,
              "#fb9f3a"
             ],
             [
              0.8888888888888888,
              "#fdca26"
             ],
             [
              1,
              "#f0f921"
             ]
            ],
            "type": "heatmap"
           }
          ],
          "heatmapgl": [
           {
            "colorbar": {
             "outlinewidth": 0,
             "ticks": ""
            },
            "colorscale": [
             [
              0,
              "#0d0887"
             ],
             [
              0.1111111111111111,
              "#46039f"
             ],
             [
              0.2222222222222222,
              "#7201a8"
             ],
             [
              0.3333333333333333,
              "#9c179e"
             ],
             [
              0.4444444444444444,
              "#bd3786"
             ],
             [
              0.5555555555555556,
              "#d8576b"
             ],
             [
              0.6666666666666666,
              "#ed7953"
             ],
             [
              0.7777777777777778,
              "#fb9f3a"
             ],
             [
              0.8888888888888888,
              "#fdca26"
             ],
             [
              1,
              "#f0f921"
             ]
            ],
            "type": "heatmapgl"
           }
          ],
          "histogram": [
           {
            "marker": {
             "colorbar": {
              "outlinewidth": 0,
              "ticks": ""
             }
            },
            "type": "histogram"
           }
          ],
          "histogram2d": [
           {
            "colorbar": {
             "outlinewidth": 0,
             "ticks": ""
            },
            "colorscale": [
             [
              0,
              "#0d0887"
             ],
             [
              0.1111111111111111,
              "#46039f"
             ],
             [
              0.2222222222222222,
              "#7201a8"
             ],
             [
              0.3333333333333333,
              "#9c179e"
             ],
             [
              0.4444444444444444,
              "#bd3786"
             ],
             [
              0.5555555555555556,
              "#d8576b"
             ],
             [
              0.6666666666666666,
              "#ed7953"
             ],
             [
              0.7777777777777778,
              "#fb9f3a"
             ],
             [
              0.8888888888888888,
              "#fdca26"
             ],
             [
              1,
              "#f0f921"
             ]
            ],
            "type": "histogram2d"
           }
          ],
          "histogram2dcontour": [
           {
            "colorbar": {
             "outlinewidth": 0,
             "ticks": ""
            },
            "colorscale": [
             [
              0,
              "#0d0887"
             ],
             [
              0.1111111111111111,
              "#46039f"
             ],
             [
              0.2222222222222222,
              "#7201a8"
             ],
             [
              0.3333333333333333,
              "#9c179e"
             ],
             [
              0.4444444444444444,
              "#bd3786"
             ],
             [
              0.5555555555555556,
              "#d8576b"
             ],
             [
              0.6666666666666666,
              "#ed7953"
             ],
             [
              0.7777777777777778,
              "#fb9f3a"
             ],
             [
              0.8888888888888888,
              "#fdca26"
             ],
             [
              1,
              "#f0f921"
             ]
            ],
            "type": "histogram2dcontour"
           }
          ],
          "mesh3d": [
           {
            "colorbar": {
             "outlinewidth": 0,
             "ticks": ""
            },
            "type": "mesh3d"
           }
          ],
          "parcoords": [
           {
            "line": {
             "colorbar": {
              "outlinewidth": 0,
              "ticks": ""
             }
            },
            "type": "parcoords"
           }
          ],
          "pie": [
           {
            "automargin": true,
            "type": "pie"
           }
          ],
          "scatter": [
           {
            "marker": {
             "colorbar": {
              "outlinewidth": 0,
              "ticks": ""
             }
            },
            "type": "scatter"
           }
          ],
          "scatter3d": [
           {
            "line": {
             "colorbar": {
              "outlinewidth": 0,
              "ticks": ""
             }
            },
            "marker": {
             "colorbar": {
              "outlinewidth": 0,
              "ticks": ""
             }
            },
            "type": "scatter3d"
           }
          ],
          "scattercarpet": [
           {
            "marker": {
             "colorbar": {
              "outlinewidth": 0,
              "ticks": ""
             }
            },
            "type": "scattercarpet"
           }
          ],
          "scattergeo": [
           {
            "marker": {
             "colorbar": {
              "outlinewidth": 0,
              "ticks": ""
             }
            },
            "type": "scattergeo"
           }
          ],
          "scattergl": [
           {
            "marker": {
             "colorbar": {
              "outlinewidth": 0,
              "ticks": ""
             }
            },
            "type": "scattergl"
           }
          ],
          "scattermapbox": [
           {
            "marker": {
             "colorbar": {
              "outlinewidth": 0,
              "ticks": ""
             }
            },
            "type": "scattermapbox"
           }
          ],
          "scatterpolar": [
           {
            "marker": {
             "colorbar": {
              "outlinewidth": 0,
              "ticks": ""
             }
            },
            "type": "scatterpolar"
           }
          ],
          "scatterpolargl": [
           {
            "marker": {
             "colorbar": {
              "outlinewidth": 0,
              "ticks": ""
             }
            },
            "type": "scatterpolargl"
           }
          ],
          "scatterternary": [
           {
            "marker": {
             "colorbar": {
              "outlinewidth": 0,
              "ticks": ""
             }
            },
            "type": "scatterternary"
           }
          ],
          "surface": [
           {
            "colorbar": {
             "outlinewidth": 0,
             "ticks": ""
            },
            "colorscale": [
             [
              0,
              "#0d0887"
             ],
             [
              0.1111111111111111,
              "#46039f"
             ],
             [
              0.2222222222222222,
              "#7201a8"
             ],
             [
              0.3333333333333333,
              "#9c179e"
             ],
             [
              0.4444444444444444,
              "#bd3786"
             ],
             [
              0.5555555555555556,
              "#d8576b"
             ],
             [
              0.6666666666666666,
              "#ed7953"
             ],
             [
              0.7777777777777778,
              "#fb9f3a"
             ],
             [
              0.8888888888888888,
              "#fdca26"
             ],
             [
              1,
              "#f0f921"
             ]
            ],
            "type": "surface"
           }
          ],
          "table": [
           {
            "cells": {
             "fill": {
              "color": "#EBF0F8"
             },
             "line": {
              "color": "white"
             }
            },
            "header": {
             "fill": {
              "color": "#C8D4E3"
             },
             "line": {
              "color": "white"
             }
            },
            "type": "table"
           }
          ]
         },
         "layout": {
          "annotationdefaults": {
           "arrowcolor": "#2a3f5f",
           "arrowhead": 0,
           "arrowwidth": 1
          },
          "autotypenumbers": "strict",
          "coloraxis": {
           "colorbar": {
            "outlinewidth": 0,
            "ticks": ""
           }
          },
          "colorscale": {
           "diverging": [
            [
             0,
             "#8e0152"
            ],
            [
             0.1,
             "#c51b7d"
            ],
            [
             0.2,
             "#de77ae"
            ],
            [
             0.3,
             "#f1b6da"
            ],
            [
             0.4,
             "#fde0ef"
            ],
            [
             0.5,
             "#f7f7f7"
            ],
            [
             0.6,
             "#e6f5d0"
            ],
            [
             0.7,
             "#b8e186"
            ],
            [
             0.8,
             "#7fbc41"
            ],
            [
             0.9,
             "#4d9221"
            ],
            [
             1,
             "#276419"
            ]
           ],
           "sequential": [
            [
             0,
             "#0d0887"
            ],
            [
             0.1111111111111111,
             "#46039f"
            ],
            [
             0.2222222222222222,
             "#7201a8"
            ],
            [
             0.3333333333333333,
             "#9c179e"
            ],
            [
             0.4444444444444444,
             "#bd3786"
            ],
            [
             0.5555555555555556,
             "#d8576b"
            ],
            [
             0.6666666666666666,
             "#ed7953"
            ],
            [
             0.7777777777777778,
             "#fb9f3a"
            ],
            [
             0.8888888888888888,
             "#fdca26"
            ],
            [
             1,
             "#f0f921"
            ]
           ],
           "sequentialminus": [
            [
             0,
             "#0d0887"
            ],
            [
             0.1111111111111111,
             "#46039f"
            ],
            [
             0.2222222222222222,
             "#7201a8"
            ],
            [
             0.3333333333333333,
             "#9c179e"
            ],
            [
             0.4444444444444444,
             "#bd3786"
            ],
            [
             0.5555555555555556,
             "#d8576b"
            ],
            [
             0.6666666666666666,
             "#ed7953"
            ],
            [
             0.7777777777777778,
             "#fb9f3a"
            ],
            [
             0.8888888888888888,
             "#fdca26"
            ],
            [
             1,
             "#f0f921"
            ]
           ]
          },
          "colorway": [
           "#636efa",
           "#EF553B",
           "#00cc96",
           "#ab63fa",
           "#FFA15A",
           "#19d3f3",
           "#FF6692",
           "#B6E880",
           "#FF97FF",
           "#FECB52"
          ],
          "font": {
           "color": "#2a3f5f"
          },
          "geo": {
           "bgcolor": "white",
           "lakecolor": "white",
           "landcolor": "#E5ECF6",
           "showlakes": true,
           "showland": true,
           "subunitcolor": "white"
          },
          "hoverlabel": {
           "align": "left"
          },
          "hovermode": "closest",
          "mapbox": {
           "style": "light"
          },
          "paper_bgcolor": "white",
          "plot_bgcolor": "#E5ECF6",
          "polar": {
           "angularaxis": {
            "gridcolor": "white",
            "linecolor": "white",
            "ticks": ""
           },
           "bgcolor": "#E5ECF6",
           "radialaxis": {
            "gridcolor": "white",
            "linecolor": "white",
            "ticks": ""
           }
          },
          "scene": {
           "xaxis": {
            "backgroundcolor": "#E5ECF6",
            "gridcolor": "white",
            "gridwidth": 2,
            "linecolor": "white",
            "showbackground": true,
            "ticks": "",
            "zerolinecolor": "white"
           },
           "yaxis": {
            "backgroundcolor": "#E5ECF6",
            "gridcolor": "white",
            "gridwidth": 2,
            "linecolor": "white",
            "showbackground": true,
            "ticks": "",
            "zerolinecolor": "white"
           },
           "zaxis": {
            "backgroundcolor": "#E5ECF6",
            "gridcolor": "white",
            "gridwidth": 2,
            "linecolor": "white",
            "showbackground": true,
            "ticks": "",
            "zerolinecolor": "white"
           }
          },
          "shapedefaults": {
           "line": {
            "color": "#2a3f5f"
           }
          },
          "ternary": {
           "aaxis": {
            "gridcolor": "white",
            "linecolor": "white",
            "ticks": ""
           },
           "baxis": {
            "gridcolor": "white",
            "linecolor": "white",
            "ticks": ""
           },
           "bgcolor": "#E5ECF6",
           "caxis": {
            "gridcolor": "white",
            "linecolor": "white",
            "ticks": ""
           }
          },
          "title": {
           "x": 0.05
          },
          "xaxis": {
           "automargin": true,
           "gridcolor": "white",
           "linecolor": "white",
           "ticks": "",
           "title": {
            "standoff": 15
           },
           "zerolinecolor": "white",
           "zerolinewidth": 2
          },
          "yaxis": {
           "automargin": true,
           "gridcolor": "white",
           "linecolor": "white",
           "ticks": "",
           "title": {
            "standoff": 15
           },
           "zerolinecolor": "white",
           "zerolinewidth": 2
          }
         }
        },
        "title": {
         "text": "Unsupervise anomaly detection in CS DROP Rate"
        },
        "xaxis": {
         "anchor": "y",
         "domain": [
          0,
          1
         ],
         "rangeslider": {
          "visible": true
         },
         "title": {
          "text": "index"
         }
        },
        "yaxis": {
         "anchor": "x",
         "domain": [
          0,
          1
         ],
         "title": {
          "text": "CS DROP Rate"
         }
        }
       }
      }
     },
     "metadata": {},
     "output_type": "display_data"
    }
   ],
   "source": [
    "fig = px.line(df, x='index', y='CS DROP Rate', title='Unsupervise anomaly detection in CS DROP Rate')\n",
    "fig.add_trace(go.Scatter(x=ocsvm_anomaly_df[\"index\"].to_list(),\n",
    "                        y=ocsvm_anomaly_df[\"CS DROP Rate\"].to_list(),\n",
    "                        mode='markers',\n",
    "                        name='anomaly'))\n",
    "fig.update_xaxes(rangeslider_visible=True)\n",
    "fig"
   ]
  }
 ],
 "metadata": {
  "kernelspec": {
   "display_name": "Python 3.9.7 ('base')",
   "language": "python",
   "name": "python3"
  },
  "language_info": {
   "codemirror_mode": {
    "name": "ipython",
    "version": 3
   },
   "file_extension": ".py",
   "mimetype": "text/x-python",
   "name": "python",
   "nbconvert_exporter": "python",
   "pygments_lexer": "ipython3",
   "version": "3.9.7"
  },
  "orig_nbformat": 4,
  "vscode": {
   "interpreter": {
    "hash": "a523daf8fd2b82835abd49a4640378259e74c67969436cc2dd61b629b3a0278c"
   }
  }
 },
 "nbformat": 4,
 "nbformat_minor": 2
}
