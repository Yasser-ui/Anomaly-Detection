{
 "cells": [
  {
   "cell_type": "markdown",
   "metadata": {},
   "source": [
    "Importation des bibliothéques"
   ]
  },
  {
   "cell_type": "code",
   "execution_count": 69,
   "metadata": {},
   "outputs": [],
   "source": [
    "import numpy as np\n",
    "import pandas as pd\n",
    "import matplotlib.pyplot as plt \n",
    "import seaborn as sns"
   ]
  },
  {
   "cell_type": "code",
   "execution_count": 70,
   "metadata": {},
   "outputs": [],
   "source": [
    "df = pd.read_csv('DataFrame_3G_After_Cleaning.csv')"
   ]
  },
  {
   "cell_type": "markdown",
   "metadata": {},
   "source": [
    "Isolation Forest"
   ]
  },
  {
   "cell_type": "code",
   "execution_count": 71,
   "metadata": {},
   "outputs": [],
   "source": [
    "import plotly.express as px\n",
    "#import altair as alt\n",
    "from sklearn.ensemble import IsolationForest\n",
    "import plotly.graph_objects as go"
   ]
  },
  {
   "cell_type": "code",
   "execution_count": 72,
   "metadata": {},
   "outputs": [
    {
     "data": {
      "text/plain": "[0, 0, 0, 0, 0, 0, 0, 1, 0, 0]"
     },
     "execution_count": 72,
     "metadata": {},
     "output_type": "execute_result"
    }
   ],
   "source": [
    "x = df['PS Call Setup SR'].apply(lambda x: [x]).to_list()\n",
    "iso_forest = IsolationForest(n_estimators=100,\n",
    "                        max_samples=\"auto\",\n",
    "                        contamination=0.1,\n",
    "                        random_state=42)\n",
    "iso_forest.fit(x)\n",
    "y_pred = iso_forest.predict(x)\n",
    "y_pred = [1 if x == -1 else 0 for x in y_pred]\n",
    "y_pred[:10]\n",
    "#point that are 1 are outliers"
   ]
  },
  {
   "cell_type": "code",
   "execution_count": 73,
   "metadata": {},
   "outputs": [
    {
     "data": {
      "text/plain": "   index      Date  RBS Id  TRAFFIC PS(DL+UL)(Gbits)  HSDPA Data Volume  \\\n0      0  16-12-21       0                     74.39              66.74   \n1      1  17-12-21       0                     65.41              58.40   \n2      2  18-12-21       0                     65.67              58.93   \n3      3  19-12-21       0                     57.79              50.91   \n4      4  20-12-21       0                     79.74              70.04   \n\n   HSUPA Data Volume  Cell Traffic Volume DL Speech (Erlang)  CS CSSR  \\\n0               7.65                                  156.83    99.69   \n1               7.01                                  107.82    99.26   \n2               6.74                                   94.38    99.26   \n3               6.87                                  101.48    99.08   \n4               9.69                                  163.22    99.65   \n\n   CS DROP Rate  PS Call Setup SR  PS DROP Rate 2  Availability  \\\n0          0.77             95.94            1.72         100.0   \n1          0.97             95.40            2.37         100.0   \n2          1.09             94.97            3.03         100.0   \n3          1.23             95.43            2.60         100.0   \n4          0.76             95.16            1.61         100.0   \n\n   Soft Handover  Irat CS Handover SR  IRAT PS 2  throughput  anomaly  \n0          99.86                93.94     100.00      755.79        0  \n1          99.67                97.98     100.00      755.79        0  \n2          99.57                96.43       0.00      755.79        0  \n3          99.72                93.14     100.00      755.79        0  \n4          99.86                94.23      66.67      755.79        0  ",
      "text/html": "<div>\n<style scoped>\n    .dataframe tbody tr th:only-of-type {\n        vertical-align: middle;\n    }\n\n    .dataframe tbody tr th {\n        vertical-align: top;\n    }\n\n    .dataframe thead th {\n        text-align: right;\n    }\n</style>\n<table border=\"1\" class=\"dataframe\">\n  <thead>\n    <tr style=\"text-align: right;\">\n      <th></th>\n      <th>index</th>\n      <th>Date</th>\n      <th>RBS Id</th>\n      <th>TRAFFIC PS(DL+UL)(Gbits)</th>\n      <th>HSDPA Data Volume</th>\n      <th>HSUPA Data Volume</th>\n      <th>Cell Traffic Volume DL Speech (Erlang)</th>\n      <th>CS CSSR</th>\n      <th>CS DROP Rate</th>\n      <th>PS Call Setup SR</th>\n      <th>PS DROP Rate 2</th>\n      <th>Availability</th>\n      <th>Soft Handover</th>\n      <th>Irat CS Handover SR</th>\n      <th>IRAT PS 2</th>\n      <th>throughput</th>\n      <th>anomaly</th>\n    </tr>\n  </thead>\n  <tbody>\n    <tr>\n      <th>0</th>\n      <td>0</td>\n      <td>16-12-21</td>\n      <td>0</td>\n      <td>74.39</td>\n      <td>66.74</td>\n      <td>7.65</td>\n      <td>156.83</td>\n      <td>99.69</td>\n      <td>0.77</td>\n      <td>95.94</td>\n      <td>1.72</td>\n      <td>100.0</td>\n      <td>99.86</td>\n      <td>93.94</td>\n      <td>100.00</td>\n      <td>755.79</td>\n      <td>0</td>\n    </tr>\n    <tr>\n      <th>1</th>\n      <td>1</td>\n      <td>17-12-21</td>\n      <td>0</td>\n      <td>65.41</td>\n      <td>58.40</td>\n      <td>7.01</td>\n      <td>107.82</td>\n      <td>99.26</td>\n      <td>0.97</td>\n      <td>95.40</td>\n      <td>2.37</td>\n      <td>100.0</td>\n      <td>99.67</td>\n      <td>97.98</td>\n      <td>100.00</td>\n      <td>755.79</td>\n      <td>0</td>\n    </tr>\n    <tr>\n      <th>2</th>\n      <td>2</td>\n      <td>18-12-21</td>\n      <td>0</td>\n      <td>65.67</td>\n      <td>58.93</td>\n      <td>6.74</td>\n      <td>94.38</td>\n      <td>99.26</td>\n      <td>1.09</td>\n      <td>94.97</td>\n      <td>3.03</td>\n      <td>100.0</td>\n      <td>99.57</td>\n      <td>96.43</td>\n      <td>0.00</td>\n      <td>755.79</td>\n      <td>0</td>\n    </tr>\n    <tr>\n      <th>3</th>\n      <td>3</td>\n      <td>19-12-21</td>\n      <td>0</td>\n      <td>57.79</td>\n      <td>50.91</td>\n      <td>6.87</td>\n      <td>101.48</td>\n      <td>99.08</td>\n      <td>1.23</td>\n      <td>95.43</td>\n      <td>2.60</td>\n      <td>100.0</td>\n      <td>99.72</td>\n      <td>93.14</td>\n      <td>100.00</td>\n      <td>755.79</td>\n      <td>0</td>\n    </tr>\n    <tr>\n      <th>4</th>\n      <td>4</td>\n      <td>20-12-21</td>\n      <td>0</td>\n      <td>79.74</td>\n      <td>70.04</td>\n      <td>9.69</td>\n      <td>163.22</td>\n      <td>99.65</td>\n      <td>0.76</td>\n      <td>95.16</td>\n      <td>1.61</td>\n      <td>100.0</td>\n      <td>99.86</td>\n      <td>94.23</td>\n      <td>66.67</td>\n      <td>755.79</td>\n      <td>0</td>\n    </tr>\n  </tbody>\n</table>\n</div>"
     },
     "execution_count": 73,
     "metadata": {},
     "output_type": "execute_result"
    }
   ],
   "source": [
    "df[\"anomaly\"] = y_pred\n",
    "df.head()"
   ]
  },
  {
   "cell_type": "code",
   "execution_count": 74,
   "metadata": {},
   "outputs": [
    {
     "data": {
      "text/plain": "    index      Date  RBS Id  TRAFFIC PS(DL+UL)(Gbits)  HSDPA Data Volume  \\\n7       7  23-12-21       0                     86.34              76.22   \n23     23  01-08-22       0                     76.68              67.55   \n24     24  01-09-22       0                     72.46              61.93   \n25     25  01-10-22       0                     64.63              57.21   \n27     27  01-12-22       0                     83.56              74.45   \n\n    HSUPA Data Volume  Cell Traffic Volume DL Speech (Erlang)  CS CSSR  \\\n7               10.12                                  157.31    99.27   \n23               9.14                                  123.39    98.87   \n24              10.53                                   89.79    98.41   \n25               7.42                                  110.09    98.29   \n27               9.11                                  133.89    99.29   \n\n    CS DROP Rate  PS Call Setup SR  PS DROP Rate 2  Availability  \\\n7           0.71             94.63            2.06        100.00   \n23          3.00             94.32            3.23         97.75   \n24          3.48             93.11            4.73         96.95   \n25          3.87             89.49            3.79         97.88   \n27          3.97             94.22            2.86         97.93   \n\n    Soft Handover  Irat CS Handover SR  IRAT PS 2  throughput  anomaly  \n7           99.54                96.89        0.0      672.96        1  \n23          99.42                96.14       40.0      628.69        1  \n24          98.69                92.60      100.0      490.41        1  \n25          99.60                95.49      100.0      670.35        1  \n27          99.76                96.63      100.0      823.60        1  ",
      "text/html": "<div>\n<style scoped>\n    .dataframe tbody tr th:only-of-type {\n        vertical-align: middle;\n    }\n\n    .dataframe tbody tr th {\n        vertical-align: top;\n    }\n\n    .dataframe thead th {\n        text-align: right;\n    }\n</style>\n<table border=\"1\" class=\"dataframe\">\n  <thead>\n    <tr style=\"text-align: right;\">\n      <th></th>\n      <th>index</th>\n      <th>Date</th>\n      <th>RBS Id</th>\n      <th>TRAFFIC PS(DL+UL)(Gbits)</th>\n      <th>HSDPA Data Volume</th>\n      <th>HSUPA Data Volume</th>\n      <th>Cell Traffic Volume DL Speech (Erlang)</th>\n      <th>CS CSSR</th>\n      <th>CS DROP Rate</th>\n      <th>PS Call Setup SR</th>\n      <th>PS DROP Rate 2</th>\n      <th>Availability</th>\n      <th>Soft Handover</th>\n      <th>Irat CS Handover SR</th>\n      <th>IRAT PS 2</th>\n      <th>throughput</th>\n      <th>anomaly</th>\n    </tr>\n  </thead>\n  <tbody>\n    <tr>\n      <th>7</th>\n      <td>7</td>\n      <td>23-12-21</td>\n      <td>0</td>\n      <td>86.34</td>\n      <td>76.22</td>\n      <td>10.12</td>\n      <td>157.31</td>\n      <td>99.27</td>\n      <td>0.71</td>\n      <td>94.63</td>\n      <td>2.06</td>\n      <td>100.00</td>\n      <td>99.54</td>\n      <td>96.89</td>\n      <td>0.0</td>\n      <td>672.96</td>\n      <td>1</td>\n    </tr>\n    <tr>\n      <th>23</th>\n      <td>23</td>\n      <td>01-08-22</td>\n      <td>0</td>\n      <td>76.68</td>\n      <td>67.55</td>\n      <td>9.14</td>\n      <td>123.39</td>\n      <td>98.87</td>\n      <td>3.00</td>\n      <td>94.32</td>\n      <td>3.23</td>\n      <td>97.75</td>\n      <td>99.42</td>\n      <td>96.14</td>\n      <td>40.0</td>\n      <td>628.69</td>\n      <td>1</td>\n    </tr>\n    <tr>\n      <th>24</th>\n      <td>24</td>\n      <td>01-09-22</td>\n      <td>0</td>\n      <td>72.46</td>\n      <td>61.93</td>\n      <td>10.53</td>\n      <td>89.79</td>\n      <td>98.41</td>\n      <td>3.48</td>\n      <td>93.11</td>\n      <td>4.73</td>\n      <td>96.95</td>\n      <td>98.69</td>\n      <td>92.60</td>\n      <td>100.0</td>\n      <td>490.41</td>\n      <td>1</td>\n    </tr>\n    <tr>\n      <th>25</th>\n      <td>25</td>\n      <td>01-10-22</td>\n      <td>0</td>\n      <td>64.63</td>\n      <td>57.21</td>\n      <td>7.42</td>\n      <td>110.09</td>\n      <td>98.29</td>\n      <td>3.87</td>\n      <td>89.49</td>\n      <td>3.79</td>\n      <td>97.88</td>\n      <td>99.60</td>\n      <td>95.49</td>\n      <td>100.0</td>\n      <td>670.35</td>\n      <td>1</td>\n    </tr>\n    <tr>\n      <th>27</th>\n      <td>27</td>\n      <td>01-12-22</td>\n      <td>0</td>\n      <td>83.56</td>\n      <td>74.45</td>\n      <td>9.11</td>\n      <td>133.89</td>\n      <td>99.29</td>\n      <td>3.97</td>\n      <td>94.22</td>\n      <td>2.86</td>\n      <td>97.93</td>\n      <td>99.76</td>\n      <td>96.63</td>\n      <td>100.0</td>\n      <td>823.60</td>\n      <td>1</td>\n    </tr>\n  </tbody>\n</table>\n</div>"
     },
     "execution_count": 74,
     "metadata": {},
     "output_type": "execute_result"
    }
   ],
   "source": [
    "iso_anomaly_df = pd.DataFrame(df)\n",
    "iso_anomaly_df = iso_anomaly_df.loc[iso_anomaly_df['anomaly'] == 1]\n",
    "iso_anomaly_df.head()\n"
   ]
  },
  {
   "cell_type": "code",
   "execution_count": 75,
   "metadata": {},
   "outputs": [
    {
     "data": {
      "application/vnd.plotly.v1+json": {
       "config": {
        "plotlyServerURL": "https://plot.ly"
       },
       "data": [
        {
         "hovertemplate": "index=%{x}<br>PS Call Setup SR=%{y}<extra></extra>",
         "legendgroup": "",
         "line": {
          "color": "#636efa",
          "dash": "solid"
         },
         "mode": "lines",
         "name": "",
         "orientation": "v",
         "showlegend": false,
         "type": "scatter",
         "x": [
          0,
          1,
          2,
          3,
          4,
          5,
          6,
          7,
          8,
          9,
          10,
          11,
          12,
          13,
          14,
          15,
          16,
          17,
          18,
          19,
          20,
          21,
          22,
          23,
          24,
          25,
          26,
          27,
          28,
          29,
          30,
          31,
          32,
          33,
          34,
          35,
          36,
          37,
          38,
          39,
          40,
          41,
          42,
          43,
          44,
          45,
          46,
          47,
          48,
          49,
          50,
          51,
          52,
          53,
          54,
          55,
          56,
          57,
          58,
          59,
          60,
          61,
          62,
          63,
          64,
          65,
          66,
          67,
          68,
          69,
          70,
          71,
          72,
          73,
          74,
          75,
          76,
          77,
          78,
          79,
          80,
          81,
          82,
          83,
          84,
          85,
          86,
          87,
          88,
          89,
          90,
          91,
          92,
          93,
          94,
          95,
          96,
          97,
          98,
          99,
          100,
          101,
          102,
          103,
          104,
          105,
          106,
          107,
          108,
          109,
          110,
          111,
          112,
          113,
          114,
          115,
          116,
          117,
          118,
          119,
          120,
          121,
          122,
          123,
          124,
          125,
          126,
          127,
          128,
          129,
          130,
          131,
          132,
          133,
          134,
          135,
          136,
          137,
          138,
          139,
          140,
          141,
          142,
          143,
          144,
          145,
          146,
          147,
          148,
          149,
          150,
          151,
          152,
          153,
          154,
          155,
          156,
          157,
          158,
          159,
          160,
          161,
          162,
          163,
          164,
          165,
          166,
          167,
          168,
          169,
          170,
          171,
          172,
          173,
          174,
          175,
          176,
          177,
          178,
          179,
          180,
          181,
          182,
          183,
          184,
          185,
          186,
          187,
          188,
          189,
          190,
          191,
          192,
          193,
          194,
          195,
          196,
          197,
          198,
          199,
          200,
          201,
          202,
          203,
          204,
          205,
          206,
          207,
          208,
          209,
          210,
          211,
          212,
          213,
          214,
          215,
          216,
          217,
          218,
          219,
          220,
          221,
          222,
          223,
          224
         ],
         "xaxis": "x",
         "y": [
          95.94,
          95.4,
          94.97,
          95.43,
          95.16,
          96.05,
          94.94,
          94.63,
          95.59,
          95.07,
          95.36,
          95.73,
          95.32,
          95.44,
          95.79,
          95.29,
          95.4,
          95.68,
          95.64,
          95.68,
          96.03,
          95.97,
          95.53,
          94.32,
          93.11,
          89.49,
          94.8,
          94.22,
          95.48,
          95.09,
          95.09,
          94.8,
          94.4,
          93.84,
          94.98,
          95.11,
          95.58,
          94.29,
          95.87,
          95.7,
          96.0,
          94.2,
          95.38,
          95.77,
          95.57,
          95.12,
          95.28,
          95.67,
          95.67,
          95.86,
          95.61,
          94.99,
          94.87,
          96.19,
          95.95,
          95.96,
          96.12,
          95.94,
          95.11,
          95.42,
          95.55,
          96.01,
          95.91,
          96.17,
          95.99,
          95.35,
          95.06,
          95.65,
          95.21,
          95.26,
          96.15,
          95.95,
          95.05,
          95.4,
          95.47,
          98.54,
          98.74,
          98.12,
          98.11,
          98.34,
          98.43,
          98.28,
          98.2,
          98.32,
          98.33,
          98.31,
          98.21,
          98.48,
          98.19,
          98.44,
          98.35,
          98.43,
          98.58,
          98.63,
          98.69,
          98.79,
          98.82,
          98.33,
          98.43,
          98.16,
          98.09,
          98.55,
          98.38,
          98.2,
          98.35,
          97.69,
          97.81,
          98.23,
          98.11,
          98.32,
          97.88,
          98.58,
          98.51,
          98.65,
          98.47,
          98.42,
          98.15,
          98.4,
          98.34,
          98.26,
          98.46,
          98.54,
          98.62,
          98.08,
          98.33,
          98.21,
          97.94,
          98.25,
          98.33,
          98.15,
          98.57,
          98.72,
          98.28,
          98.58,
          98.69,
          98.19,
          98.55,
          98.64,
          98.51,
          98.37,
          98.47,
          97.96,
          98.16,
          98.59,
          98.23,
          98.28,
          98.45,
          98.07,
          98.06,
          98.17,
          97.66,
          95.94,
          97.42,
          97.33,
          97.94,
          97.44,
          97.22,
          97.53,
          96.91,
          97.89,
          97.23,
          97.89,
          97.63,
          97.73,
          97.34,
          97.72,
          97.2,
          97.48,
          97.92,
          97.86,
          98.2,
          97.91,
          98.06,
          97.62,
          97.47,
          97.73,
          97.7,
          97.36,
          97.67,
          98.06,
          97.84,
          97.75,
          97.89,
          97.71,
          97.13,
          97.46,
          98.04,
          97.72,
          98.01,
          98.39,
          98.08,
          98.15,
          98.25,
          98.35,
          97.28,
          97.16,
          97.76,
          97.93,
          98.05,
          97.66,
          97.89,
          98.27,
          97.97,
          98.49,
          98.19,
          98.19,
          97.92,
          97.91,
          98.0,
          98.05,
          98.33,
          98.18,
          97.53,
          97.71,
          98.3,
          97.71,
          97.78,
          97.88,
          97.81,
          98.21,
          98.24,
          98.05,
          98.21,
          98.22,
          97.98
         ],
         "yaxis": "y"
        },
        {
         "mode": "markers",
         "name": "anomalies",
         "type": "scatter",
         "x": [
          7,
          23,
          24,
          25,
          27,
          32,
          33,
          37,
          41,
          53,
          56,
          63,
          70,
          76,
          94,
          95,
          96,
          131,
          134,
          158,
          184,
          194,
          195
         ],
         "y": [
          94.63,
          94.32,
          93.11,
          89.49,
          94.22,
          94.4,
          93.84,
          94.29,
          94.2,
          96.19,
          96.12,
          96.17,
          96.15,
          98.74,
          98.69,
          98.79,
          98.82,
          98.72,
          98.69,
          96.91,
          97.13,
          97.28,
          97.16
         ]
        }
       ],
       "layout": {
        "legend": {
         "tracegroupgap": 0
        },
        "template": {
         "data": {
          "bar": [
           {
            "error_x": {
             "color": "#f2f5fa"
            },
            "error_y": {
             "color": "#f2f5fa"
            },
            "marker": {
             "line": {
              "color": "rgb(17,17,17)",
              "width": 0.5
             }
            },
            "type": "bar"
           }
          ],
          "barpolar": [
           {
            "marker": {
             "line": {
              "color": "rgb(17,17,17)",
              "width": 0.5
             }
            },
            "type": "barpolar"
           }
          ],
          "carpet": [
           {
            "aaxis": {
             "endlinecolor": "#A2B1C6",
             "gridcolor": "#506784",
             "linecolor": "#506784",
             "minorgridcolor": "#506784",
             "startlinecolor": "#A2B1C6"
            },
            "baxis": {
             "endlinecolor": "#A2B1C6",
             "gridcolor": "#506784",
             "linecolor": "#506784",
             "minorgridcolor": "#506784",
             "startlinecolor": "#A2B1C6"
            },
            "type": "carpet"
           }
          ],
          "choropleth": [
           {
            "colorbar": {
             "outlinewidth": 0,
             "ticks": ""
            },
            "type": "choropleth"
           }
          ],
          "contour": [
           {
            "colorbar": {
             "outlinewidth": 0,
             "ticks": ""
            },
            "colorscale": [
             [
              0.0,
              "#0d0887"
             ],
             [
              0.1111111111111111,
              "#46039f"
             ],
             [
              0.2222222222222222,
              "#7201a8"
             ],
             [
              0.3333333333333333,
              "#9c179e"
             ],
             [
              0.4444444444444444,
              "#bd3786"
             ],
             [
              0.5555555555555556,
              "#d8576b"
             ],
             [
              0.6666666666666666,
              "#ed7953"
             ],
             [
              0.7777777777777778,
              "#fb9f3a"
             ],
             [
              0.8888888888888888,
              "#fdca26"
             ],
             [
              1.0,
              "#f0f921"
             ]
            ],
            "type": "contour"
           }
          ],
          "contourcarpet": [
           {
            "colorbar": {
             "outlinewidth": 0,
             "ticks": ""
            },
            "type": "contourcarpet"
           }
          ],
          "heatmap": [
           {
            "colorbar": {
             "outlinewidth": 0,
             "ticks": ""
            },
            "colorscale": [
             [
              0.0,
              "#0d0887"
             ],
             [
              0.1111111111111111,
              "#46039f"
             ],
             [
              0.2222222222222222,
              "#7201a8"
             ],
             [
              0.3333333333333333,
              "#9c179e"
             ],
             [
              0.4444444444444444,
              "#bd3786"
             ],
             [
              0.5555555555555556,
              "#d8576b"
             ],
             [
              0.6666666666666666,
              "#ed7953"
             ],
             [
              0.7777777777777778,
              "#fb9f3a"
             ],
             [
              0.8888888888888888,
              "#fdca26"
             ],
             [
              1.0,
              "#f0f921"
             ]
            ],
            "type": "heatmap"
           }
          ],
          "heatmapgl": [
           {
            "colorbar": {
             "outlinewidth": 0,
             "ticks": ""
            },
            "colorscale": [
             [
              0.0,
              "#0d0887"
             ],
             [
              0.1111111111111111,
              "#46039f"
             ],
             [
              0.2222222222222222,
              "#7201a8"
             ],
             [
              0.3333333333333333,
              "#9c179e"
             ],
             [
              0.4444444444444444,
              "#bd3786"
             ],
             [
              0.5555555555555556,
              "#d8576b"
             ],
             [
              0.6666666666666666,
              "#ed7953"
             ],
             [
              0.7777777777777778,
              "#fb9f3a"
             ],
             [
              0.8888888888888888,
              "#fdca26"
             ],
             [
              1.0,
              "#f0f921"
             ]
            ],
            "type": "heatmapgl"
           }
          ],
          "histogram": [
           {
            "marker": {
             "colorbar": {
              "outlinewidth": 0,
              "ticks": ""
             }
            },
            "type": "histogram"
           }
          ],
          "histogram2d": [
           {
            "colorbar": {
             "outlinewidth": 0,
             "ticks": ""
            },
            "colorscale": [
             [
              0.0,
              "#0d0887"
             ],
             [
              0.1111111111111111,
              "#46039f"
             ],
             [
              0.2222222222222222,
              "#7201a8"
             ],
             [
              0.3333333333333333,
              "#9c179e"
             ],
             [
              0.4444444444444444,
              "#bd3786"
             ],
             [
              0.5555555555555556,
              "#d8576b"
             ],
             [
              0.6666666666666666,
              "#ed7953"
             ],
             [
              0.7777777777777778,
              "#fb9f3a"
             ],
             [
              0.8888888888888888,
              "#fdca26"
             ],
             [
              1.0,
              "#f0f921"
             ]
            ],
            "type": "histogram2d"
           }
          ],
          "histogram2dcontour": [
           {
            "colorbar": {
             "outlinewidth": 0,
             "ticks": ""
            },
            "colorscale": [
             [
              0.0,
              "#0d0887"
             ],
             [
              0.1111111111111111,
              "#46039f"
             ],
             [
              0.2222222222222222,
              "#7201a8"
             ],
             [
              0.3333333333333333,
              "#9c179e"
             ],
             [
              0.4444444444444444,
              "#bd3786"
             ],
             [
              0.5555555555555556,
              "#d8576b"
             ],
             [
              0.6666666666666666,
              "#ed7953"
             ],
             [
              0.7777777777777778,
              "#fb9f3a"
             ],
             [
              0.8888888888888888,
              "#fdca26"
             ],
             [
              1.0,
              "#f0f921"
             ]
            ],
            "type": "histogram2dcontour"
           }
          ],
          "mesh3d": [
           {
            "colorbar": {
             "outlinewidth": 0,
             "ticks": ""
            },
            "type": "mesh3d"
           }
          ],
          "parcoords": [
           {
            "line": {
             "colorbar": {
              "outlinewidth": 0,
              "ticks": ""
             }
            },
            "type": "parcoords"
           }
          ],
          "pie": [
           {
            "automargin": true,
            "type": "pie"
           }
          ],
          "scatter": [
           {
            "marker": {
             "line": {
              "color": "#283442"
             }
            },
            "type": "scatter"
           }
          ],
          "scatter3d": [
           {
            "line": {
             "colorbar": {
              "outlinewidth": 0,
              "ticks": ""
             }
            },
            "marker": {
             "colorbar": {
              "outlinewidth": 0,
              "ticks": ""
             }
            },
            "type": "scatter3d"
           }
          ],
          "scattercarpet": [
           {
            "marker": {
             "colorbar": {
              "outlinewidth": 0,
              "ticks": ""
             }
            },
            "type": "scattercarpet"
           }
          ],
          "scattergeo": [
           {
            "marker": {
             "colorbar": {
              "outlinewidth": 0,
              "ticks": ""
             }
            },
            "type": "scattergeo"
           }
          ],
          "scattergl": [
           {
            "marker": {
             "line": {
              "color": "#283442"
             }
            },
            "type": "scattergl"
           }
          ],
          "scattermapbox": [
           {
            "marker": {
             "colorbar": {
              "outlinewidth": 0,
              "ticks": ""
             }
            },
            "type": "scattermapbox"
           }
          ],
          "scatterpolar": [
           {
            "marker": {
             "colorbar": {
              "outlinewidth": 0,
              "ticks": ""
             }
            },
            "type": "scatterpolar"
           }
          ],
          "scatterpolargl": [
           {
            "marker": {
             "colorbar": {
              "outlinewidth": 0,
              "ticks": ""
             }
            },
            "type": "scatterpolargl"
           }
          ],
          "scatterternary": [
           {
            "marker": {
             "colorbar": {
              "outlinewidth": 0,
              "ticks": ""
             }
            },
            "type": "scatterternary"
           }
          ],
          "surface": [
           {
            "colorbar": {
             "outlinewidth": 0,
             "ticks": ""
            },
            "colorscale": [
             [
              0.0,
              "#0d0887"
             ],
             [
              0.1111111111111111,
              "#46039f"
             ],
             [
              0.2222222222222222,
              "#7201a8"
             ],
             [
              0.3333333333333333,
              "#9c179e"
             ],
             [
              0.4444444444444444,
              "#bd3786"
             ],
             [
              0.5555555555555556,
              "#d8576b"
             ],
             [
              0.6666666666666666,
              "#ed7953"
             ],
             [
              0.7777777777777778,
              "#fb9f3a"
             ],
             [
              0.8888888888888888,
              "#fdca26"
             ],
             [
              1.0,
              "#f0f921"
             ]
            ],
            "type": "surface"
           }
          ],
          "table": [
           {
            "cells": {
             "fill": {
              "color": "#506784"
             },
             "line": {
              "color": "rgb(17,17,17)"
             }
            },
            "header": {
             "fill": {
              "color": "#2a3f5f"
             },
             "line": {
              "color": "rgb(17,17,17)"
             }
            },
            "type": "table"
           }
          ]
         },
         "layout": {
          "annotationdefaults": {
           "arrowcolor": "#f2f5fa",
           "arrowhead": 0,
           "arrowwidth": 1
          },
          "autotypenumbers": "strict",
          "coloraxis": {
           "colorbar": {
            "outlinewidth": 0,
            "ticks": ""
           }
          },
          "colorscale": {
           "diverging": [
            [
             0,
             "#8e0152"
            ],
            [
             0.1,
             "#c51b7d"
            ],
            [
             0.2,
             "#de77ae"
            ],
            [
             0.3,
             "#f1b6da"
            ],
            [
             0.4,
             "#fde0ef"
            ],
            [
             0.5,
             "#f7f7f7"
            ],
            [
             0.6,
             "#e6f5d0"
            ],
            [
             0.7,
             "#b8e186"
            ],
            [
             0.8,
             "#7fbc41"
            ],
            [
             0.9,
             "#4d9221"
            ],
            [
             1,
             "#276419"
            ]
           ],
           "sequential": [
            [
             0.0,
             "#0d0887"
            ],
            [
             0.1111111111111111,
             "#46039f"
            ],
            [
             0.2222222222222222,
             "#7201a8"
            ],
            [
             0.3333333333333333,
             "#9c179e"
            ],
            [
             0.4444444444444444,
             "#bd3786"
            ],
            [
             0.5555555555555556,
             "#d8576b"
            ],
            [
             0.6666666666666666,
             "#ed7953"
            ],
            [
             0.7777777777777778,
             "#fb9f3a"
            ],
            [
             0.8888888888888888,
             "#fdca26"
            ],
            [
             1.0,
             "#f0f921"
            ]
           ],
           "sequentialminus": [
            [
             0.0,
             "#0d0887"
            ],
            [
             0.1111111111111111,
             "#46039f"
            ],
            [
             0.2222222222222222,
             "#7201a8"
            ],
            [
             0.3333333333333333,
             "#9c179e"
            ],
            [
             0.4444444444444444,
             "#bd3786"
            ],
            [
             0.5555555555555556,
             "#d8576b"
            ],
            [
             0.6666666666666666,
             "#ed7953"
            ],
            [
             0.7777777777777778,
             "#fb9f3a"
            ],
            [
             0.8888888888888888,
             "#fdca26"
            ],
            [
             1.0,
             "#f0f921"
            ]
           ]
          },
          "colorway": [
           "#636efa",
           "#EF553B",
           "#00cc96",
           "#ab63fa",
           "#FFA15A",
           "#19d3f3",
           "#FF6692",
           "#B6E880",
           "#FF97FF",
           "#FECB52"
          ],
          "font": {
           "color": "#f2f5fa"
          },
          "geo": {
           "bgcolor": "rgb(17,17,17)",
           "lakecolor": "rgb(17,17,17)",
           "landcolor": "rgb(17,17,17)",
           "showlakes": true,
           "showland": true,
           "subunitcolor": "#506784"
          },
          "hoverlabel": {
           "align": "left"
          },
          "hovermode": "closest",
          "mapbox": {
           "style": "dark"
          },
          "paper_bgcolor": "rgb(17,17,17)",
          "plot_bgcolor": "rgb(17,17,17)",
          "polar": {
           "angularaxis": {
            "gridcolor": "#506784",
            "linecolor": "#506784",
            "ticks": ""
           },
           "bgcolor": "rgb(17,17,17)",
           "radialaxis": {
            "gridcolor": "#506784",
            "linecolor": "#506784",
            "ticks": ""
           }
          },
          "scene": {
           "xaxis": {
            "backgroundcolor": "rgb(17,17,17)",
            "gridcolor": "#506784",
            "gridwidth": 2,
            "linecolor": "#506784",
            "showbackground": true,
            "ticks": "",
            "zerolinecolor": "#C8D4E3"
           },
           "yaxis": {
            "backgroundcolor": "rgb(17,17,17)",
            "gridcolor": "#506784",
            "gridwidth": 2,
            "linecolor": "#506784",
            "showbackground": true,
            "ticks": "",
            "zerolinecolor": "#C8D4E3"
           },
           "zaxis": {
            "backgroundcolor": "rgb(17,17,17)",
            "gridcolor": "#506784",
            "gridwidth": 2,
            "linecolor": "#506784",
            "showbackground": true,
            "ticks": "",
            "zerolinecolor": "#C8D4E3"
           }
          },
          "shapedefaults": {
           "line": {
            "color": "#f2f5fa"
           }
          },
          "sliderdefaults": {
           "bgcolor": "#C8D4E3",
           "bordercolor": "rgb(17,17,17)",
           "borderwidth": 1,
           "tickwidth": 0
          },
          "ternary": {
           "aaxis": {
            "gridcolor": "#506784",
            "linecolor": "#506784",
            "ticks": ""
           },
           "baxis": {
            "gridcolor": "#506784",
            "linecolor": "#506784",
            "ticks": ""
           },
           "bgcolor": "rgb(17,17,17)",
           "caxis": {
            "gridcolor": "#506784",
            "linecolor": "#506784",
            "ticks": ""
           }
          },
          "title": {
           "x": 0.05
          },
          "updatemenudefaults": {
           "bgcolor": "#506784",
           "borderwidth": 0
          },
          "xaxis": {
           "automargin": true,
           "gridcolor": "#283442",
           "linecolor": "#506784",
           "ticks": "",
           "title": {
            "standoff": 15
           },
           "zerolinecolor": "#283442",
           "zerolinewidth": 2
          },
          "yaxis": {
           "automargin": true,
           "gridcolor": "#283442",
           "linecolor": "#506784",
           "ticks": "",
           "title": {
            "standoff": 15
           },
           "zerolinecolor": "#283442",
           "zerolinewidth": 2
          }
         }
        },
        "title": {
         "text": "Unsupervised anomaly detection in PS Call Setup SR"
        },
        "xaxis": {
         "anchor": "y",
         "domain": [
          0.0,
          1.0
         ],
         "rangeslider": {
          "visible": true
         },
         "title": {
          "text": "index"
         }
        },
        "yaxis": {
         "anchor": "x",
         "domain": [
          0.0,
          1.0
         ],
         "title": {
          "text": "PS Call Setup SR"
         }
        }
       }
      },
      "text/html": "<div>                            <div id=\"19b7b730-f648-4e14-851a-4e0f647888b7\" class=\"plotly-graph-div\" style=\"height:525px; width:100%;\"></div>            <script type=\"text/javascript\">                require([\"plotly\"], function(Plotly) {                    window.PLOTLYENV=window.PLOTLYENV || {};                                    if (document.getElementById(\"19b7b730-f648-4e14-851a-4e0f647888b7\")) {                    Plotly.newPlot(                        \"19b7b730-f648-4e14-851a-4e0f647888b7\",                        [{\"hovertemplate\": \"index=%{x}<br>PS Call Setup SR=%{y}<extra></extra>\", \"legendgroup\": \"\", \"line\": {\"color\": \"#636efa\", \"dash\": \"solid\"}, \"mode\": \"lines\", \"name\": \"\", \"orientation\": \"v\", \"showlegend\": false, \"type\": \"scatter\", \"x\": [0, 1, 2, 3, 4, 5, 6, 7, 8, 9, 10, 11, 12, 13, 14, 15, 16, 17, 18, 19, 20, 21, 22, 23, 24, 25, 26, 27, 28, 29, 30, 31, 32, 33, 34, 35, 36, 37, 38, 39, 40, 41, 42, 43, 44, 45, 46, 47, 48, 49, 50, 51, 52, 53, 54, 55, 56, 57, 58, 59, 60, 61, 62, 63, 64, 65, 66, 67, 68, 69, 70, 71, 72, 73, 74, 75, 76, 77, 78, 79, 80, 81, 82, 83, 84, 85, 86, 87, 88, 89, 90, 91, 92, 93, 94, 95, 96, 97, 98, 99, 100, 101, 102, 103, 104, 105, 106, 107, 108, 109, 110, 111, 112, 113, 114, 115, 116, 117, 118, 119, 120, 121, 122, 123, 124, 125, 126, 127, 128, 129, 130, 131, 132, 133, 134, 135, 136, 137, 138, 139, 140, 141, 142, 143, 144, 145, 146, 147, 148, 149, 150, 151, 152, 153, 154, 155, 156, 157, 158, 159, 160, 161, 162, 163, 164, 165, 166, 167, 168, 169, 170, 171, 172, 173, 174, 175, 176, 177, 178, 179, 180, 181, 182, 183, 184, 185, 186, 187, 188, 189, 190, 191, 192, 193, 194, 195, 196, 197, 198, 199, 200, 201, 202, 203, 204, 205, 206, 207, 208, 209, 210, 211, 212, 213, 214, 215, 216, 217, 218, 219, 220, 221, 222, 223, 224], \"xaxis\": \"x\", \"y\": [95.94, 95.4, 94.97, 95.43, 95.16, 96.05, 94.94, 94.63, 95.59, 95.07, 95.36, 95.73, 95.32, 95.44, 95.79, 95.29, 95.4, 95.68, 95.64, 95.68, 96.03, 95.97, 95.53, 94.32, 93.11, 89.49, 94.8, 94.22, 95.48, 95.09, 95.09, 94.8, 94.4, 93.84, 94.98, 95.11, 95.58, 94.29, 95.87, 95.7, 96.0, 94.2, 95.38, 95.77, 95.57, 95.12, 95.28, 95.67, 95.67, 95.86, 95.61, 94.99, 94.87, 96.19, 95.95, 95.96, 96.12, 95.94, 95.11, 95.42, 95.55, 96.01, 95.91, 96.17, 95.99, 95.35, 95.06, 95.65, 95.21, 95.26, 96.15, 95.95, 95.05, 95.4, 95.47, 98.54, 98.74, 98.12, 98.11, 98.34, 98.43, 98.28, 98.2, 98.32, 98.33, 98.31, 98.21, 98.48, 98.19, 98.44, 98.35, 98.43, 98.58, 98.63, 98.69, 98.79, 98.82, 98.33, 98.43, 98.16, 98.09, 98.55, 98.38, 98.2, 98.35, 97.69, 97.81, 98.23, 98.11, 98.32, 97.88, 98.58, 98.51, 98.65, 98.47, 98.42, 98.15, 98.4, 98.34, 98.26, 98.46, 98.54, 98.62, 98.08, 98.33, 98.21, 97.94, 98.25, 98.33, 98.15, 98.57, 98.72, 98.28, 98.58, 98.69, 98.19, 98.55, 98.64, 98.51, 98.37, 98.47, 97.96, 98.16, 98.59, 98.23, 98.28, 98.45, 98.07, 98.06, 98.17, 97.66, 95.94, 97.42, 97.33, 97.94, 97.44, 97.22, 97.53, 96.91, 97.89, 97.23, 97.89, 97.63, 97.73, 97.34, 97.72, 97.2, 97.48, 97.92, 97.86, 98.2, 97.91, 98.06, 97.62, 97.47, 97.73, 97.7, 97.36, 97.67, 98.06, 97.84, 97.75, 97.89, 97.71, 97.13, 97.46, 98.04, 97.72, 98.01, 98.39, 98.08, 98.15, 98.25, 98.35, 97.28, 97.16, 97.76, 97.93, 98.05, 97.66, 97.89, 98.27, 97.97, 98.49, 98.19, 98.19, 97.92, 97.91, 98.0, 98.05, 98.33, 98.18, 97.53, 97.71, 98.3, 97.71, 97.78, 97.88, 97.81, 98.21, 98.24, 98.05, 98.21, 98.22, 97.98], \"yaxis\": \"y\"}, {\"mode\": \"markers\", \"name\": \"anomalies\", \"type\": \"scatter\", \"x\": [7, 23, 24, 25, 27, 32, 33, 37, 41, 53, 56, 63, 70, 76, 94, 95, 96, 131, 134, 158, 184, 194, 195], \"y\": [94.63, 94.32, 93.11, 89.49, 94.22, 94.4, 93.84, 94.29, 94.2, 96.19, 96.12, 96.17, 96.15, 98.74, 98.69, 98.79, 98.82, 98.72, 98.69, 96.91, 97.13, 97.28, 97.16]}],                        {\"legend\": {\"tracegroupgap\": 0}, \"template\": {\"data\": {\"bar\": [{\"error_x\": {\"color\": \"#f2f5fa\"}, \"error_y\": {\"color\": \"#f2f5fa\"}, \"marker\": {\"line\": {\"color\": \"rgb(17,17,17)\", \"width\": 0.5}}, \"type\": \"bar\"}], \"barpolar\": [{\"marker\": {\"line\": {\"color\": \"rgb(17,17,17)\", \"width\": 0.5}}, \"type\": \"barpolar\"}], \"carpet\": [{\"aaxis\": {\"endlinecolor\": \"#A2B1C6\", \"gridcolor\": \"#506784\", \"linecolor\": \"#506784\", \"minorgridcolor\": \"#506784\", \"startlinecolor\": \"#A2B1C6\"}, \"baxis\": {\"endlinecolor\": \"#A2B1C6\", \"gridcolor\": \"#506784\", \"linecolor\": \"#506784\", \"minorgridcolor\": \"#506784\", \"startlinecolor\": \"#A2B1C6\"}, \"type\": \"carpet\"}], \"choropleth\": [{\"colorbar\": {\"outlinewidth\": 0, \"ticks\": \"\"}, \"type\": \"choropleth\"}], \"contour\": [{\"colorbar\": {\"outlinewidth\": 0, \"ticks\": \"\"}, \"colorscale\": [[0.0, \"#0d0887\"], [0.1111111111111111, \"#46039f\"], [0.2222222222222222, \"#7201a8\"], [0.3333333333333333, \"#9c179e\"], [0.4444444444444444, \"#bd3786\"], [0.5555555555555556, \"#d8576b\"], [0.6666666666666666, \"#ed7953\"], [0.7777777777777778, \"#fb9f3a\"], [0.8888888888888888, \"#fdca26\"], [1.0, \"#f0f921\"]], \"type\": \"contour\"}], \"contourcarpet\": [{\"colorbar\": {\"outlinewidth\": 0, \"ticks\": \"\"}, \"type\": \"contourcarpet\"}], \"heatmap\": [{\"colorbar\": {\"outlinewidth\": 0, \"ticks\": \"\"}, \"colorscale\": [[0.0, \"#0d0887\"], [0.1111111111111111, \"#46039f\"], [0.2222222222222222, \"#7201a8\"], [0.3333333333333333, \"#9c179e\"], [0.4444444444444444, \"#bd3786\"], [0.5555555555555556, \"#d8576b\"], [0.6666666666666666, \"#ed7953\"], [0.7777777777777778, \"#fb9f3a\"], [0.8888888888888888, \"#fdca26\"], [1.0, \"#f0f921\"]], \"type\": \"heatmap\"}], \"heatmapgl\": [{\"colorbar\": {\"outlinewidth\": 0, \"ticks\": \"\"}, \"colorscale\": [[0.0, \"#0d0887\"], [0.1111111111111111, \"#46039f\"], [0.2222222222222222, \"#7201a8\"], [0.3333333333333333, \"#9c179e\"], [0.4444444444444444, \"#bd3786\"], [0.5555555555555556, \"#d8576b\"], [0.6666666666666666, \"#ed7953\"], [0.7777777777777778, \"#fb9f3a\"], [0.8888888888888888, \"#fdca26\"], [1.0, \"#f0f921\"]], \"type\": \"heatmapgl\"}], \"histogram\": [{\"marker\": {\"colorbar\": {\"outlinewidth\": 0, \"ticks\": \"\"}}, \"type\": \"histogram\"}], \"histogram2d\": [{\"colorbar\": {\"outlinewidth\": 0, \"ticks\": \"\"}, \"colorscale\": [[0.0, \"#0d0887\"], [0.1111111111111111, \"#46039f\"], [0.2222222222222222, \"#7201a8\"], [0.3333333333333333, \"#9c179e\"], [0.4444444444444444, \"#bd3786\"], [0.5555555555555556, \"#d8576b\"], [0.6666666666666666, \"#ed7953\"], [0.7777777777777778, \"#fb9f3a\"], [0.8888888888888888, \"#fdca26\"], [1.0, \"#f0f921\"]], \"type\": \"histogram2d\"}], \"histogram2dcontour\": [{\"colorbar\": {\"outlinewidth\": 0, \"ticks\": \"\"}, \"colorscale\": [[0.0, \"#0d0887\"], [0.1111111111111111, \"#46039f\"], [0.2222222222222222, \"#7201a8\"], [0.3333333333333333, \"#9c179e\"], [0.4444444444444444, \"#bd3786\"], [0.5555555555555556, \"#d8576b\"], [0.6666666666666666, \"#ed7953\"], [0.7777777777777778, \"#fb9f3a\"], [0.8888888888888888, \"#fdca26\"], [1.0, \"#f0f921\"]], \"type\": \"histogram2dcontour\"}], \"mesh3d\": [{\"colorbar\": {\"outlinewidth\": 0, \"ticks\": \"\"}, \"type\": \"mesh3d\"}], \"parcoords\": [{\"line\": {\"colorbar\": {\"outlinewidth\": 0, \"ticks\": \"\"}}, \"type\": \"parcoords\"}], \"pie\": [{\"automargin\": true, \"type\": \"pie\"}], \"scatter\": [{\"marker\": {\"line\": {\"color\": \"#283442\"}}, \"type\": \"scatter\"}], \"scatter3d\": [{\"line\": {\"colorbar\": {\"outlinewidth\": 0, \"ticks\": \"\"}}, \"marker\": {\"colorbar\": {\"outlinewidth\": 0, \"ticks\": \"\"}}, \"type\": \"scatter3d\"}], \"scattercarpet\": [{\"marker\": {\"colorbar\": {\"outlinewidth\": 0, \"ticks\": \"\"}}, \"type\": \"scattercarpet\"}], \"scattergeo\": [{\"marker\": {\"colorbar\": {\"outlinewidth\": 0, \"ticks\": \"\"}}, \"type\": \"scattergeo\"}], \"scattergl\": [{\"marker\": {\"line\": {\"color\": \"#283442\"}}, \"type\": \"scattergl\"}], \"scattermapbox\": [{\"marker\": {\"colorbar\": {\"outlinewidth\": 0, \"ticks\": \"\"}}, \"type\": \"scattermapbox\"}], \"scatterpolar\": [{\"marker\": {\"colorbar\": {\"outlinewidth\": 0, \"ticks\": \"\"}}, \"type\": \"scatterpolar\"}], \"scatterpolargl\": [{\"marker\": {\"colorbar\": {\"outlinewidth\": 0, \"ticks\": \"\"}}, \"type\": \"scatterpolargl\"}], \"scatterternary\": [{\"marker\": {\"colorbar\": {\"outlinewidth\": 0, \"ticks\": \"\"}}, \"type\": \"scatterternary\"}], \"surface\": [{\"colorbar\": {\"outlinewidth\": 0, \"ticks\": \"\"}, \"colorscale\": [[0.0, \"#0d0887\"], [0.1111111111111111, \"#46039f\"], [0.2222222222222222, \"#7201a8\"], [0.3333333333333333, \"#9c179e\"], [0.4444444444444444, \"#bd3786\"], [0.5555555555555556, \"#d8576b\"], [0.6666666666666666, \"#ed7953\"], [0.7777777777777778, \"#fb9f3a\"], [0.8888888888888888, \"#fdca26\"], [1.0, \"#f0f921\"]], \"type\": \"surface\"}], \"table\": [{\"cells\": {\"fill\": {\"color\": \"#506784\"}, \"line\": {\"color\": \"rgb(17,17,17)\"}}, \"header\": {\"fill\": {\"color\": \"#2a3f5f\"}, \"line\": {\"color\": \"rgb(17,17,17)\"}}, \"type\": \"table\"}]}, \"layout\": {\"annotationdefaults\": {\"arrowcolor\": \"#f2f5fa\", \"arrowhead\": 0, \"arrowwidth\": 1}, \"autotypenumbers\": \"strict\", \"coloraxis\": {\"colorbar\": {\"outlinewidth\": 0, \"ticks\": \"\"}}, \"colorscale\": {\"diverging\": [[0, \"#8e0152\"], [0.1, \"#c51b7d\"], [0.2, \"#de77ae\"], [0.3, \"#f1b6da\"], [0.4, \"#fde0ef\"], [0.5, \"#f7f7f7\"], [0.6, \"#e6f5d0\"], [0.7, \"#b8e186\"], [0.8, \"#7fbc41\"], [0.9, \"#4d9221\"], [1, \"#276419\"]], \"sequential\": [[0.0, \"#0d0887\"], [0.1111111111111111, \"#46039f\"], [0.2222222222222222, \"#7201a8\"], [0.3333333333333333, \"#9c179e\"], [0.4444444444444444, \"#bd3786\"], [0.5555555555555556, \"#d8576b\"], [0.6666666666666666, \"#ed7953\"], [0.7777777777777778, \"#fb9f3a\"], [0.8888888888888888, \"#fdca26\"], [1.0, \"#f0f921\"]], \"sequentialminus\": [[0.0, \"#0d0887\"], [0.1111111111111111, \"#46039f\"], [0.2222222222222222, \"#7201a8\"], [0.3333333333333333, \"#9c179e\"], [0.4444444444444444, \"#bd3786\"], [0.5555555555555556, \"#d8576b\"], [0.6666666666666666, \"#ed7953\"], [0.7777777777777778, \"#fb9f3a\"], [0.8888888888888888, \"#fdca26\"], [1.0, \"#f0f921\"]]}, \"colorway\": [\"#636efa\", \"#EF553B\", \"#00cc96\", \"#ab63fa\", \"#FFA15A\", \"#19d3f3\", \"#FF6692\", \"#B6E880\", \"#FF97FF\", \"#FECB52\"], \"font\": {\"color\": \"#f2f5fa\"}, \"geo\": {\"bgcolor\": \"rgb(17,17,17)\", \"lakecolor\": \"rgb(17,17,17)\", \"landcolor\": \"rgb(17,17,17)\", \"showlakes\": true, \"showland\": true, \"subunitcolor\": \"#506784\"}, \"hoverlabel\": {\"align\": \"left\"}, \"hovermode\": \"closest\", \"mapbox\": {\"style\": \"dark\"}, \"paper_bgcolor\": \"rgb(17,17,17)\", \"plot_bgcolor\": \"rgb(17,17,17)\", \"polar\": {\"angularaxis\": {\"gridcolor\": \"#506784\", \"linecolor\": \"#506784\", \"ticks\": \"\"}, \"bgcolor\": \"rgb(17,17,17)\", \"radialaxis\": {\"gridcolor\": \"#506784\", \"linecolor\": \"#506784\", \"ticks\": \"\"}}, \"scene\": {\"xaxis\": {\"backgroundcolor\": \"rgb(17,17,17)\", \"gridcolor\": \"#506784\", \"gridwidth\": 2, \"linecolor\": \"#506784\", \"showbackground\": true, \"ticks\": \"\", \"zerolinecolor\": \"#C8D4E3\"}, \"yaxis\": {\"backgroundcolor\": \"rgb(17,17,17)\", \"gridcolor\": \"#506784\", \"gridwidth\": 2, \"linecolor\": \"#506784\", \"showbackground\": true, \"ticks\": \"\", \"zerolinecolor\": \"#C8D4E3\"}, \"zaxis\": {\"backgroundcolor\": \"rgb(17,17,17)\", \"gridcolor\": \"#506784\", \"gridwidth\": 2, \"linecolor\": \"#506784\", \"showbackground\": true, \"ticks\": \"\", \"zerolinecolor\": \"#C8D4E3\"}}, \"shapedefaults\": {\"line\": {\"color\": \"#f2f5fa\"}}, \"sliderdefaults\": {\"bgcolor\": \"#C8D4E3\", \"bordercolor\": \"rgb(17,17,17)\", \"borderwidth\": 1, \"tickwidth\": 0}, \"ternary\": {\"aaxis\": {\"gridcolor\": \"#506784\", \"linecolor\": \"#506784\", \"ticks\": \"\"}, \"baxis\": {\"gridcolor\": \"#506784\", \"linecolor\": \"#506784\", \"ticks\": \"\"}, \"bgcolor\": \"rgb(17,17,17)\", \"caxis\": {\"gridcolor\": \"#506784\", \"linecolor\": \"#506784\", \"ticks\": \"\"}}, \"title\": {\"x\": 0.05}, \"updatemenudefaults\": {\"bgcolor\": \"#506784\", \"borderwidth\": 0}, \"xaxis\": {\"automargin\": true, \"gridcolor\": \"#283442\", \"linecolor\": \"#506784\", \"ticks\": \"\", \"title\": {\"standoff\": 15}, \"zerolinecolor\": \"#283442\", \"zerolinewidth\": 2}, \"yaxis\": {\"automargin\": true, \"gridcolor\": \"#283442\", \"linecolor\": \"#506784\", \"ticks\": \"\", \"title\": {\"standoff\": 15}, \"zerolinecolor\": \"#283442\", \"zerolinewidth\": 2}}}, \"title\": {\"text\": \"Unsupervised anomaly detection in PS Call Setup SR\"}, \"xaxis\": {\"anchor\": \"y\", \"domain\": [0.0, 1.0], \"rangeslider\": {\"visible\": true}, \"title\": {\"text\": \"index\"}}, \"yaxis\": {\"anchor\": \"x\", \"domain\": [0.0, 1.0], \"title\": {\"text\": \"PS Call Setup SR\"}}},                        {\"responsive\": true}                    ).then(function(){\n                            \nvar gd = document.getElementById('19b7b730-f648-4e14-851a-4e0f647888b7');\nvar x = new MutationObserver(function (mutations, observer) {{\n        var display = window.getComputedStyle(gd).display;\n        if (!display || display === 'none') {{\n            console.log([gd, 'removed!']);\n            Plotly.purge(gd);\n            observer.disconnect();\n        }}\n}});\n\n// Listen for the removal of the full notebook cells\nvar notebookContainer = gd.closest('#notebook-container');\nif (notebookContainer) {{\n    x.observe(notebookContainer, {childList: true});\n}}\n\n// Listen for the clearing of the current output cell\nvar outputEl = gd.closest('.output');\nif (outputEl) {{\n    x.observe(outputEl, {childList: true});\n}}\n\n                        })                };                });            </script>        </div>"
     },
     "metadata": {},
     "output_type": "display_data"
    }
   ],
   "source": [
    "fig = px.line(df,x='index', y='PS Call Setup SR', title='Unsupervised anomaly detection in PS Call Setup SR')\n",
    "fig.add_trace(go.Scatter(x=iso_anomaly_df[\"index\"].to_list(), y=iso_anomaly_df[\"PS Call Setup SR\"].to_list(),\n",
    "                            mode='markers', name='anomalies'))\n",
    "fig.update_xaxes(rangeslider_visible=True)\n",
    "fig"
   ]
  },
  {
   "cell_type": "code",
   "execution_count": 76,
   "outputs": [
    {
     "name": "stdout",
     "output_type": "stream",
     "text": [
      "Nombres des valeurs inférieur à 95.00% sont : 16\n",
      "Nombres des vrais anomalie détecter sont : 9  parmi  23 anomalies détecter\n"
     ]
    }
   ],
   "source": [
    "nbr_val_inf_threshold = len(df[df['PS Call Setup SR'] < 95.00])\n",
    "print(\"Nombres des valeurs inférieur à 95.00% sont :\", nbr_val_inf_threshold)\n",
    "nbr_all_anomaly_PSSR = len(df[df['anomaly'] == 1])\n",
    "nbr_true_anom_PSSR = len(df[(df['anomaly'] == 1) & (df['PS Call Setup SR'] < 95.00)])\n",
    "print(\"Nombres des vrais anomalie détecter sont :\",nbr_true_anom_PSSR,\" parmi \",nbr_all_anomaly_PSSR, \"anomalies détecter\")"
   ],
   "metadata": {
    "collapsed": false
   }
  },
  {
   "cell_type": "markdown",
   "metadata": {},
   "source": [
    "Local Outlier Factor"
   ]
  },
  {
   "cell_type": "code",
   "execution_count": 77,
   "metadata": {},
   "outputs": [
    {
     "data": {
      "text/plain": "[0, 0, 0, 0, 0, 0, 0, 1, 0, 0]"
     },
     "execution_count": 77,
     "metadata": {},
     "output_type": "execute_result"
    }
   ],
   "source": [
    "from sklearn.neighbors import LocalOutlierFactor\n",
    "lof = LocalOutlierFactor(n_neighbors=10, contamination=0.1)\n",
    "y_pred = lof.fit_predict(x)\n",
    "y_pred = [1 if x == -1 else 0 for x in y_pred]\n",
    "y_pred[:10]"
   ]
  },
  {
   "cell_type": "code",
   "execution_count": 78,
   "metadata": {},
   "outputs": [
    {
     "data": {
      "text/plain": "   index      Date  RBS Id  TRAFFIC PS(DL+UL)(Gbits)  HSDPA Data Volume  \\\n0      0  16-12-21       0                     74.39              66.74   \n1      1  17-12-21       0                     65.41              58.40   \n2      2  18-12-21       0                     65.67              58.93   \n3      3  19-12-21       0                     57.79              50.91   \n4      4  20-12-21       0                     79.74              70.04   \n\n   HSUPA Data Volume  Cell Traffic Volume DL Speech (Erlang)  CS CSSR  \\\n0               7.65                                  156.83    99.69   \n1               7.01                                  107.82    99.26   \n2               6.74                                   94.38    99.26   \n3               6.87                                  101.48    99.08   \n4               9.69                                  163.22    99.65   \n\n   CS DROP Rate  PS Call Setup SR  PS DROP Rate 2  Availability  \\\n0          0.77             95.94            1.72         100.0   \n1          0.97             95.40            2.37         100.0   \n2          1.09             94.97            3.03         100.0   \n3          1.23             95.43            2.60         100.0   \n4          0.76             95.16            1.61         100.0   \n\n   Soft Handover  Irat CS Handover SR  IRAT PS 2  throughput  anomaly  \n0          99.86                93.94     100.00      755.79        0  \n1          99.67                97.98     100.00      755.79        0  \n2          99.57                96.43       0.00      755.79        0  \n3          99.72                93.14     100.00      755.79        0  \n4          99.86                94.23      66.67      755.79        0  ",
      "text/html": "<div>\n<style scoped>\n    .dataframe tbody tr th:only-of-type {\n        vertical-align: middle;\n    }\n\n    .dataframe tbody tr th {\n        vertical-align: top;\n    }\n\n    .dataframe thead th {\n        text-align: right;\n    }\n</style>\n<table border=\"1\" class=\"dataframe\">\n  <thead>\n    <tr style=\"text-align: right;\">\n      <th></th>\n      <th>index</th>\n      <th>Date</th>\n      <th>RBS Id</th>\n      <th>TRAFFIC PS(DL+UL)(Gbits)</th>\n      <th>HSDPA Data Volume</th>\n      <th>HSUPA Data Volume</th>\n      <th>Cell Traffic Volume DL Speech (Erlang)</th>\n      <th>CS CSSR</th>\n      <th>CS DROP Rate</th>\n      <th>PS Call Setup SR</th>\n      <th>PS DROP Rate 2</th>\n      <th>Availability</th>\n      <th>Soft Handover</th>\n      <th>Irat CS Handover SR</th>\n      <th>IRAT PS 2</th>\n      <th>throughput</th>\n      <th>anomaly</th>\n    </tr>\n  </thead>\n  <tbody>\n    <tr>\n      <th>0</th>\n      <td>0</td>\n      <td>16-12-21</td>\n      <td>0</td>\n      <td>74.39</td>\n      <td>66.74</td>\n      <td>7.65</td>\n      <td>156.83</td>\n      <td>99.69</td>\n      <td>0.77</td>\n      <td>95.94</td>\n      <td>1.72</td>\n      <td>100.0</td>\n      <td>99.86</td>\n      <td>93.94</td>\n      <td>100.00</td>\n      <td>755.79</td>\n      <td>0</td>\n    </tr>\n    <tr>\n      <th>1</th>\n      <td>1</td>\n      <td>17-12-21</td>\n      <td>0</td>\n      <td>65.41</td>\n      <td>58.40</td>\n      <td>7.01</td>\n      <td>107.82</td>\n      <td>99.26</td>\n      <td>0.97</td>\n      <td>95.40</td>\n      <td>2.37</td>\n      <td>100.0</td>\n      <td>99.67</td>\n      <td>97.98</td>\n      <td>100.00</td>\n      <td>755.79</td>\n      <td>0</td>\n    </tr>\n    <tr>\n      <th>2</th>\n      <td>2</td>\n      <td>18-12-21</td>\n      <td>0</td>\n      <td>65.67</td>\n      <td>58.93</td>\n      <td>6.74</td>\n      <td>94.38</td>\n      <td>99.26</td>\n      <td>1.09</td>\n      <td>94.97</td>\n      <td>3.03</td>\n      <td>100.0</td>\n      <td>99.57</td>\n      <td>96.43</td>\n      <td>0.00</td>\n      <td>755.79</td>\n      <td>0</td>\n    </tr>\n    <tr>\n      <th>3</th>\n      <td>3</td>\n      <td>19-12-21</td>\n      <td>0</td>\n      <td>57.79</td>\n      <td>50.91</td>\n      <td>6.87</td>\n      <td>101.48</td>\n      <td>99.08</td>\n      <td>1.23</td>\n      <td>95.43</td>\n      <td>2.60</td>\n      <td>100.0</td>\n      <td>99.72</td>\n      <td>93.14</td>\n      <td>100.00</td>\n      <td>755.79</td>\n      <td>0</td>\n    </tr>\n    <tr>\n      <th>4</th>\n      <td>4</td>\n      <td>20-12-21</td>\n      <td>0</td>\n      <td>79.74</td>\n      <td>70.04</td>\n      <td>9.69</td>\n      <td>163.22</td>\n      <td>99.65</td>\n      <td>0.76</td>\n      <td>95.16</td>\n      <td>1.61</td>\n      <td>100.0</td>\n      <td>99.86</td>\n      <td>94.23</td>\n      <td>66.67</td>\n      <td>755.79</td>\n      <td>0</td>\n    </tr>\n  </tbody>\n</table>\n</div>"
     },
     "execution_count": 78,
     "metadata": {},
     "output_type": "execute_result"
    }
   ],
   "source": [
    "df[\"anomaly\"] = y_pred\n",
    "df.head()"
   ]
  },
  {
   "cell_type": "code",
   "execution_count": 79,
   "metadata": {},
   "outputs": [
    {
     "data": {
      "text/plain": "    index      Date  RBS Id  TRAFFIC PS(DL+UL)(Gbits)  HSDPA Data Volume  \\\n7       7  23-12-21       0                     86.34              76.22   \n23     23  01-08-22       0                     76.68              67.55   \n24     24  01-09-22       0                     72.46              61.93   \n25     25  01-10-22       0                     64.63              57.21   \n26     26  01-11-22       0                     71.53              62.88   \n\n    HSUPA Data Volume  Cell Traffic Volume DL Speech (Erlang)  CS CSSR  \\\n7               10.12                                  157.31    99.27   \n23               9.14                                  123.39    98.87   \n24              10.53                                   89.79    98.41   \n25               7.42                                  110.09    98.29   \n26               8.65                                  150.74    99.57   \n\n    CS DROP Rate  PS Call Setup SR  PS DROP Rate 2  Availability  \\\n7           0.71             94.63            2.06        100.00   \n23          3.00             94.32            3.23         97.75   \n24          3.48             93.11            4.73         96.95   \n25          3.87             89.49            3.79         97.88   \n26          2.80             94.80            2.35         98.64   \n\n    Soft Handover  Irat CS Handover SR  IRAT PS 2  throughput  anomaly  \n7           99.54                96.89       0.00      672.96        1  \n23          99.42                96.14      40.00      628.69        1  \n24          98.69                92.60     100.00      490.41        1  \n25          99.60                95.49     100.00      670.35        1  \n26          99.83                95.09      66.67      738.61        1  ",
      "text/html": "<div>\n<style scoped>\n    .dataframe tbody tr th:only-of-type {\n        vertical-align: middle;\n    }\n\n    .dataframe tbody tr th {\n        vertical-align: top;\n    }\n\n    .dataframe thead th {\n        text-align: right;\n    }\n</style>\n<table border=\"1\" class=\"dataframe\">\n  <thead>\n    <tr style=\"text-align: right;\">\n      <th></th>\n      <th>index</th>\n      <th>Date</th>\n      <th>RBS Id</th>\n      <th>TRAFFIC PS(DL+UL)(Gbits)</th>\n      <th>HSDPA Data Volume</th>\n      <th>HSUPA Data Volume</th>\n      <th>Cell Traffic Volume DL Speech (Erlang)</th>\n      <th>CS CSSR</th>\n      <th>CS DROP Rate</th>\n      <th>PS Call Setup SR</th>\n      <th>PS DROP Rate 2</th>\n      <th>Availability</th>\n      <th>Soft Handover</th>\n      <th>Irat CS Handover SR</th>\n      <th>IRAT PS 2</th>\n      <th>throughput</th>\n      <th>anomaly</th>\n    </tr>\n  </thead>\n  <tbody>\n    <tr>\n      <th>7</th>\n      <td>7</td>\n      <td>23-12-21</td>\n      <td>0</td>\n      <td>86.34</td>\n      <td>76.22</td>\n      <td>10.12</td>\n      <td>157.31</td>\n      <td>99.27</td>\n      <td>0.71</td>\n      <td>94.63</td>\n      <td>2.06</td>\n      <td>100.00</td>\n      <td>99.54</td>\n      <td>96.89</td>\n      <td>0.00</td>\n      <td>672.96</td>\n      <td>1</td>\n    </tr>\n    <tr>\n      <th>23</th>\n      <td>23</td>\n      <td>01-08-22</td>\n      <td>0</td>\n      <td>76.68</td>\n      <td>67.55</td>\n      <td>9.14</td>\n      <td>123.39</td>\n      <td>98.87</td>\n      <td>3.00</td>\n      <td>94.32</td>\n      <td>3.23</td>\n      <td>97.75</td>\n      <td>99.42</td>\n      <td>96.14</td>\n      <td>40.00</td>\n      <td>628.69</td>\n      <td>1</td>\n    </tr>\n    <tr>\n      <th>24</th>\n      <td>24</td>\n      <td>01-09-22</td>\n      <td>0</td>\n      <td>72.46</td>\n      <td>61.93</td>\n      <td>10.53</td>\n      <td>89.79</td>\n      <td>98.41</td>\n      <td>3.48</td>\n      <td>93.11</td>\n      <td>4.73</td>\n      <td>96.95</td>\n      <td>98.69</td>\n      <td>92.60</td>\n      <td>100.00</td>\n      <td>490.41</td>\n      <td>1</td>\n    </tr>\n    <tr>\n      <th>25</th>\n      <td>25</td>\n      <td>01-10-22</td>\n      <td>0</td>\n      <td>64.63</td>\n      <td>57.21</td>\n      <td>7.42</td>\n      <td>110.09</td>\n      <td>98.29</td>\n      <td>3.87</td>\n      <td>89.49</td>\n      <td>3.79</td>\n      <td>97.88</td>\n      <td>99.60</td>\n      <td>95.49</td>\n      <td>100.00</td>\n      <td>670.35</td>\n      <td>1</td>\n    </tr>\n    <tr>\n      <th>26</th>\n      <td>26</td>\n      <td>01-11-22</td>\n      <td>0</td>\n      <td>71.53</td>\n      <td>62.88</td>\n      <td>8.65</td>\n      <td>150.74</td>\n      <td>99.57</td>\n      <td>2.80</td>\n      <td>94.80</td>\n      <td>2.35</td>\n      <td>98.64</td>\n      <td>99.83</td>\n      <td>95.09</td>\n      <td>66.67</td>\n      <td>738.61</td>\n      <td>1</td>\n    </tr>\n  </tbody>\n</table>\n</div>"
     },
     "execution_count": 79,
     "metadata": {},
     "output_type": "execute_result"
    }
   ],
   "source": [
    "lof_anomaly_df = pd.DataFrame(df)\n",
    "lof_anomaly_df = lof_anomaly_df.loc[lof_anomaly_df['anomaly'] == 1]\n",
    "lof_anomaly_df.head()"
   ]
  },
  {
   "cell_type": "code",
   "execution_count": 80,
   "metadata": {},
   "outputs": [
    {
     "data": {
      "application/vnd.plotly.v1+json": {
       "config": {
        "plotlyServerURL": "https://plot.ly"
       },
       "data": [
        {
         "hovertemplate": "index=%{x}<br>PS Call Setup SR=%{y}<extra></extra>",
         "legendgroup": "",
         "line": {
          "color": "#636efa",
          "dash": "solid"
         },
         "mode": "lines",
         "name": "",
         "orientation": "v",
         "showlegend": false,
         "type": "scatter",
         "x": [
          0,
          1,
          2,
          3,
          4,
          5,
          6,
          7,
          8,
          9,
          10,
          11,
          12,
          13,
          14,
          15,
          16,
          17,
          18,
          19,
          20,
          21,
          22,
          23,
          24,
          25,
          26,
          27,
          28,
          29,
          30,
          31,
          32,
          33,
          34,
          35,
          36,
          37,
          38,
          39,
          40,
          41,
          42,
          43,
          44,
          45,
          46,
          47,
          48,
          49,
          50,
          51,
          52,
          53,
          54,
          55,
          56,
          57,
          58,
          59,
          60,
          61,
          62,
          63,
          64,
          65,
          66,
          67,
          68,
          69,
          70,
          71,
          72,
          73,
          74,
          75,
          76,
          77,
          78,
          79,
          80,
          81,
          82,
          83,
          84,
          85,
          86,
          87,
          88,
          89,
          90,
          91,
          92,
          93,
          94,
          95,
          96,
          97,
          98,
          99,
          100,
          101,
          102,
          103,
          104,
          105,
          106,
          107,
          108,
          109,
          110,
          111,
          112,
          113,
          114,
          115,
          116,
          117,
          118,
          119,
          120,
          121,
          122,
          123,
          124,
          125,
          126,
          127,
          128,
          129,
          130,
          131,
          132,
          133,
          134,
          135,
          136,
          137,
          138,
          139,
          140,
          141,
          142,
          143,
          144,
          145,
          146,
          147,
          148,
          149,
          150,
          151,
          152,
          153,
          154,
          155,
          156,
          157,
          158,
          159,
          160,
          161,
          162,
          163,
          164,
          165,
          166,
          167,
          168,
          169,
          170,
          171,
          172,
          173,
          174,
          175,
          176,
          177,
          178,
          179,
          180,
          181,
          182,
          183,
          184,
          185,
          186,
          187,
          188,
          189,
          190,
          191,
          192,
          193,
          194,
          195,
          196,
          197,
          198,
          199,
          200,
          201,
          202,
          203,
          204,
          205,
          206,
          207,
          208,
          209,
          210,
          211,
          212,
          213,
          214,
          215,
          216,
          217,
          218,
          219,
          220,
          221,
          222,
          223,
          224
         ],
         "xaxis": "x",
         "y": [
          95.94,
          95.4,
          94.97,
          95.43,
          95.16,
          96.05,
          94.94,
          94.63,
          95.59,
          95.07,
          95.36,
          95.73,
          95.32,
          95.44,
          95.79,
          95.29,
          95.4,
          95.68,
          95.64,
          95.68,
          96.03,
          95.97,
          95.53,
          94.32,
          93.11,
          89.49,
          94.8,
          94.22,
          95.48,
          95.09,
          95.09,
          94.8,
          94.4,
          93.84,
          94.98,
          95.11,
          95.58,
          94.29,
          95.87,
          95.7,
          96.0,
          94.2,
          95.38,
          95.77,
          95.57,
          95.12,
          95.28,
          95.67,
          95.67,
          95.86,
          95.61,
          94.99,
          94.87,
          96.19,
          95.95,
          95.96,
          96.12,
          95.94,
          95.11,
          95.42,
          95.55,
          96.01,
          95.91,
          96.17,
          95.99,
          95.35,
          95.06,
          95.65,
          95.21,
          95.26,
          96.15,
          95.95,
          95.05,
          95.4,
          95.47,
          98.54,
          98.74,
          98.12,
          98.11,
          98.34,
          98.43,
          98.28,
          98.2,
          98.32,
          98.33,
          98.31,
          98.21,
          98.48,
          98.19,
          98.44,
          98.35,
          98.43,
          98.58,
          98.63,
          98.69,
          98.79,
          98.82,
          98.33,
          98.43,
          98.16,
          98.09,
          98.55,
          98.38,
          98.2,
          98.35,
          97.69,
          97.81,
          98.23,
          98.11,
          98.32,
          97.88,
          98.58,
          98.51,
          98.65,
          98.47,
          98.42,
          98.15,
          98.4,
          98.34,
          98.26,
          98.46,
          98.54,
          98.62,
          98.08,
          98.33,
          98.21,
          97.94,
          98.25,
          98.33,
          98.15,
          98.57,
          98.72,
          98.28,
          98.58,
          98.69,
          98.19,
          98.55,
          98.64,
          98.51,
          98.37,
          98.47,
          97.96,
          98.16,
          98.59,
          98.23,
          98.28,
          98.45,
          98.07,
          98.06,
          98.17,
          97.66,
          95.94,
          97.42,
          97.33,
          97.94,
          97.44,
          97.22,
          97.53,
          96.91,
          97.89,
          97.23,
          97.89,
          97.63,
          97.73,
          97.34,
          97.72,
          97.2,
          97.48,
          97.92,
          97.86,
          98.2,
          97.91,
          98.06,
          97.62,
          97.47,
          97.73,
          97.7,
          97.36,
          97.67,
          98.06,
          97.84,
          97.75,
          97.89,
          97.71,
          97.13,
          97.46,
          98.04,
          97.72,
          98.01,
          98.39,
          98.08,
          98.15,
          98.25,
          98.35,
          97.28,
          97.16,
          97.76,
          97.93,
          98.05,
          97.66,
          97.89,
          98.27,
          97.97,
          98.49,
          98.19,
          98.19,
          97.92,
          97.91,
          98.0,
          98.05,
          98.33,
          98.18,
          97.53,
          97.71,
          98.3,
          97.71,
          97.78,
          97.88,
          97.81,
          98.21,
          98.24,
          98.05,
          98.21,
          98.22,
          97.98
         ],
         "yaxis": "y"
        },
        {
         "mode": "markers",
         "name": "anomalies",
         "type": "scatter",
         "x": [
          7,
          23,
          24,
          25,
          26,
          27,
          31,
          32,
          33,
          37,
          41,
          53,
          56,
          63,
          70,
          76,
          95,
          96,
          102,
          158,
          162,
          173
         ],
         "y": [
          94.63,
          94.32,
          93.11,
          89.49,
          94.8,
          94.22,
          94.8,
          94.4,
          93.84,
          94.29,
          94.2,
          96.19,
          96.12,
          96.17,
          96.15,
          98.74,
          98.79,
          98.82,
          98.38,
          96.91,
          97.63,
          97.62
         ]
        }
       ],
       "layout": {
        "legend": {
         "tracegroupgap": 0
        },
        "template": {
         "data": {
          "bar": [
           {
            "error_x": {
             "color": "#f2f5fa"
            },
            "error_y": {
             "color": "#f2f5fa"
            },
            "marker": {
             "line": {
              "color": "rgb(17,17,17)",
              "width": 0.5
             }
            },
            "type": "bar"
           }
          ],
          "barpolar": [
           {
            "marker": {
             "line": {
              "color": "rgb(17,17,17)",
              "width": 0.5
             }
            },
            "type": "barpolar"
           }
          ],
          "carpet": [
           {
            "aaxis": {
             "endlinecolor": "#A2B1C6",
             "gridcolor": "#506784",
             "linecolor": "#506784",
             "minorgridcolor": "#506784",
             "startlinecolor": "#A2B1C6"
            },
            "baxis": {
             "endlinecolor": "#A2B1C6",
             "gridcolor": "#506784",
             "linecolor": "#506784",
             "minorgridcolor": "#506784",
             "startlinecolor": "#A2B1C6"
            },
            "type": "carpet"
           }
          ],
          "choropleth": [
           {
            "colorbar": {
             "outlinewidth": 0,
             "ticks": ""
            },
            "type": "choropleth"
           }
          ],
          "contour": [
           {
            "colorbar": {
             "outlinewidth": 0,
             "ticks": ""
            },
            "colorscale": [
             [
              0.0,
              "#0d0887"
             ],
             [
              0.1111111111111111,
              "#46039f"
             ],
             [
              0.2222222222222222,
              "#7201a8"
             ],
             [
              0.3333333333333333,
              "#9c179e"
             ],
             [
              0.4444444444444444,
              "#bd3786"
             ],
             [
              0.5555555555555556,
              "#d8576b"
             ],
             [
              0.6666666666666666,
              "#ed7953"
             ],
             [
              0.7777777777777778,
              "#fb9f3a"
             ],
             [
              0.8888888888888888,
              "#fdca26"
             ],
             [
              1.0,
              "#f0f921"
             ]
            ],
            "type": "contour"
           }
          ],
          "contourcarpet": [
           {
            "colorbar": {
             "outlinewidth": 0,
             "ticks": ""
            },
            "type": "contourcarpet"
           }
          ],
          "heatmap": [
           {
            "colorbar": {
             "outlinewidth": 0,
             "ticks": ""
            },
            "colorscale": [
             [
              0.0,
              "#0d0887"
             ],
             [
              0.1111111111111111,
              "#46039f"
             ],
             [
              0.2222222222222222,
              "#7201a8"
             ],
             [
              0.3333333333333333,
              "#9c179e"
             ],
             [
              0.4444444444444444,
              "#bd3786"
             ],
             [
              0.5555555555555556,
              "#d8576b"
             ],
             [
              0.6666666666666666,
              "#ed7953"
             ],
             [
              0.7777777777777778,
              "#fb9f3a"
             ],
             [
              0.8888888888888888,
              "#fdca26"
             ],
             [
              1.0,
              "#f0f921"
             ]
            ],
            "type": "heatmap"
           }
          ],
          "heatmapgl": [
           {
            "colorbar": {
             "outlinewidth": 0,
             "ticks": ""
            },
            "colorscale": [
             [
              0.0,
              "#0d0887"
             ],
             [
              0.1111111111111111,
              "#46039f"
             ],
             [
              0.2222222222222222,
              "#7201a8"
             ],
             [
              0.3333333333333333,
              "#9c179e"
             ],
             [
              0.4444444444444444,
              "#bd3786"
             ],
             [
              0.5555555555555556,
              "#d8576b"
             ],
             [
              0.6666666666666666,
              "#ed7953"
             ],
             [
              0.7777777777777778,
              "#fb9f3a"
             ],
             [
              0.8888888888888888,
              "#fdca26"
             ],
             [
              1.0,
              "#f0f921"
             ]
            ],
            "type": "heatmapgl"
           }
          ],
          "histogram": [
           {
            "marker": {
             "colorbar": {
              "outlinewidth": 0,
              "ticks": ""
             }
            },
            "type": "histogram"
           }
          ],
          "histogram2d": [
           {
            "colorbar": {
             "outlinewidth": 0,
             "ticks": ""
            },
            "colorscale": [
             [
              0.0,
              "#0d0887"
             ],
             [
              0.1111111111111111,
              "#46039f"
             ],
             [
              0.2222222222222222,
              "#7201a8"
             ],
             [
              0.3333333333333333,
              "#9c179e"
             ],
             [
              0.4444444444444444,
              "#bd3786"
             ],
             [
              0.5555555555555556,
              "#d8576b"
             ],
             [
              0.6666666666666666,
              "#ed7953"
             ],
             [
              0.7777777777777778,
              "#fb9f3a"
             ],
             [
              0.8888888888888888,
              "#fdca26"
             ],
             [
              1.0,
              "#f0f921"
             ]
            ],
            "type": "histogram2d"
           }
          ],
          "histogram2dcontour": [
           {
            "colorbar": {
             "outlinewidth": 0,
             "ticks": ""
            },
            "colorscale": [
             [
              0.0,
              "#0d0887"
             ],
             [
              0.1111111111111111,
              "#46039f"
             ],
             [
              0.2222222222222222,
              "#7201a8"
             ],
             [
              0.3333333333333333,
              "#9c179e"
             ],
             [
              0.4444444444444444,
              "#bd3786"
             ],
             [
              0.5555555555555556,
              "#d8576b"
             ],
             [
              0.6666666666666666,
              "#ed7953"
             ],
             [
              0.7777777777777778,
              "#fb9f3a"
             ],
             [
              0.8888888888888888,
              "#fdca26"
             ],
             [
              1.0,
              "#f0f921"
             ]
            ],
            "type": "histogram2dcontour"
           }
          ],
          "mesh3d": [
           {
            "colorbar": {
             "outlinewidth": 0,
             "ticks": ""
            },
            "type": "mesh3d"
           }
          ],
          "parcoords": [
           {
            "line": {
             "colorbar": {
              "outlinewidth": 0,
              "ticks": ""
             }
            },
            "type": "parcoords"
           }
          ],
          "pie": [
           {
            "automargin": true,
            "type": "pie"
           }
          ],
          "scatter": [
           {
            "marker": {
             "line": {
              "color": "#283442"
             }
            },
            "type": "scatter"
           }
          ],
          "scatter3d": [
           {
            "line": {
             "colorbar": {
              "outlinewidth": 0,
              "ticks": ""
             }
            },
            "marker": {
             "colorbar": {
              "outlinewidth": 0,
              "ticks": ""
             }
            },
            "type": "scatter3d"
           }
          ],
          "scattercarpet": [
           {
            "marker": {
             "colorbar": {
              "outlinewidth": 0,
              "ticks": ""
             }
            },
            "type": "scattercarpet"
           }
          ],
          "scattergeo": [
           {
            "marker": {
             "colorbar": {
              "outlinewidth": 0,
              "ticks": ""
             }
            },
            "type": "scattergeo"
           }
          ],
          "scattergl": [
           {
            "marker": {
             "line": {
              "color": "#283442"
             }
            },
            "type": "scattergl"
           }
          ],
          "scattermapbox": [
           {
            "marker": {
             "colorbar": {
              "outlinewidth": 0,
              "ticks": ""
             }
            },
            "type": "scattermapbox"
           }
          ],
          "scatterpolar": [
           {
            "marker": {
             "colorbar": {
              "outlinewidth": 0,
              "ticks": ""
             }
            },
            "type": "scatterpolar"
           }
          ],
          "scatterpolargl": [
           {
            "marker": {
             "colorbar": {
              "outlinewidth": 0,
              "ticks": ""
             }
            },
            "type": "scatterpolargl"
           }
          ],
          "scatterternary": [
           {
            "marker": {
             "colorbar": {
              "outlinewidth": 0,
              "ticks": ""
             }
            },
            "type": "scatterternary"
           }
          ],
          "surface": [
           {
            "colorbar": {
             "outlinewidth": 0,
             "ticks": ""
            },
            "colorscale": [
             [
              0.0,
              "#0d0887"
             ],
             [
              0.1111111111111111,
              "#46039f"
             ],
             [
              0.2222222222222222,
              "#7201a8"
             ],
             [
              0.3333333333333333,
              "#9c179e"
             ],
             [
              0.4444444444444444,
              "#bd3786"
             ],
             [
              0.5555555555555556,
              "#d8576b"
             ],
             [
              0.6666666666666666,
              "#ed7953"
             ],
             [
              0.7777777777777778,
              "#fb9f3a"
             ],
             [
              0.8888888888888888,
              "#fdca26"
             ],
             [
              1.0,
              "#f0f921"
             ]
            ],
            "type": "surface"
           }
          ],
          "table": [
           {
            "cells": {
             "fill": {
              "color": "#506784"
             },
             "line": {
              "color": "rgb(17,17,17)"
             }
            },
            "header": {
             "fill": {
              "color": "#2a3f5f"
             },
             "line": {
              "color": "rgb(17,17,17)"
             }
            },
            "type": "table"
           }
          ]
         },
         "layout": {
          "annotationdefaults": {
           "arrowcolor": "#f2f5fa",
           "arrowhead": 0,
           "arrowwidth": 1
          },
          "autotypenumbers": "strict",
          "coloraxis": {
           "colorbar": {
            "outlinewidth": 0,
            "ticks": ""
           }
          },
          "colorscale": {
           "diverging": [
            [
             0,
             "#8e0152"
            ],
            [
             0.1,
             "#c51b7d"
            ],
            [
             0.2,
             "#de77ae"
            ],
            [
             0.3,
             "#f1b6da"
            ],
            [
             0.4,
             "#fde0ef"
            ],
            [
             0.5,
             "#f7f7f7"
            ],
            [
             0.6,
             "#e6f5d0"
            ],
            [
             0.7,
             "#b8e186"
            ],
            [
             0.8,
             "#7fbc41"
            ],
            [
             0.9,
             "#4d9221"
            ],
            [
             1,
             "#276419"
            ]
           ],
           "sequential": [
            [
             0.0,
             "#0d0887"
            ],
            [
             0.1111111111111111,
             "#46039f"
            ],
            [
             0.2222222222222222,
             "#7201a8"
            ],
            [
             0.3333333333333333,
             "#9c179e"
            ],
            [
             0.4444444444444444,
             "#bd3786"
            ],
            [
             0.5555555555555556,
             "#d8576b"
            ],
            [
             0.6666666666666666,
             "#ed7953"
            ],
            [
             0.7777777777777778,
             "#fb9f3a"
            ],
            [
             0.8888888888888888,
             "#fdca26"
            ],
            [
             1.0,
             "#f0f921"
            ]
           ],
           "sequentialminus": [
            [
             0.0,
             "#0d0887"
            ],
            [
             0.1111111111111111,
             "#46039f"
            ],
            [
             0.2222222222222222,
             "#7201a8"
            ],
            [
             0.3333333333333333,
             "#9c179e"
            ],
            [
             0.4444444444444444,
             "#bd3786"
            ],
            [
             0.5555555555555556,
             "#d8576b"
            ],
            [
             0.6666666666666666,
             "#ed7953"
            ],
            [
             0.7777777777777778,
             "#fb9f3a"
            ],
            [
             0.8888888888888888,
             "#fdca26"
            ],
            [
             1.0,
             "#f0f921"
            ]
           ]
          },
          "colorway": [
           "#636efa",
           "#EF553B",
           "#00cc96",
           "#ab63fa",
           "#FFA15A",
           "#19d3f3",
           "#FF6692",
           "#B6E880",
           "#FF97FF",
           "#FECB52"
          ],
          "font": {
           "color": "#f2f5fa"
          },
          "geo": {
           "bgcolor": "rgb(17,17,17)",
           "lakecolor": "rgb(17,17,17)",
           "landcolor": "rgb(17,17,17)",
           "showlakes": true,
           "showland": true,
           "subunitcolor": "#506784"
          },
          "hoverlabel": {
           "align": "left"
          },
          "hovermode": "closest",
          "mapbox": {
           "style": "dark"
          },
          "paper_bgcolor": "rgb(17,17,17)",
          "plot_bgcolor": "rgb(17,17,17)",
          "polar": {
           "angularaxis": {
            "gridcolor": "#506784",
            "linecolor": "#506784",
            "ticks": ""
           },
           "bgcolor": "rgb(17,17,17)",
           "radialaxis": {
            "gridcolor": "#506784",
            "linecolor": "#506784",
            "ticks": ""
           }
          },
          "scene": {
           "xaxis": {
            "backgroundcolor": "rgb(17,17,17)",
            "gridcolor": "#506784",
            "gridwidth": 2,
            "linecolor": "#506784",
            "showbackground": true,
            "ticks": "",
            "zerolinecolor": "#C8D4E3"
           },
           "yaxis": {
            "backgroundcolor": "rgb(17,17,17)",
            "gridcolor": "#506784",
            "gridwidth": 2,
            "linecolor": "#506784",
            "showbackground": true,
            "ticks": "",
            "zerolinecolor": "#C8D4E3"
           },
           "zaxis": {
            "backgroundcolor": "rgb(17,17,17)",
            "gridcolor": "#506784",
            "gridwidth": 2,
            "linecolor": "#506784",
            "showbackground": true,
            "ticks": "",
            "zerolinecolor": "#C8D4E3"
           }
          },
          "shapedefaults": {
           "line": {
            "color": "#f2f5fa"
           }
          },
          "sliderdefaults": {
           "bgcolor": "#C8D4E3",
           "bordercolor": "rgb(17,17,17)",
           "borderwidth": 1,
           "tickwidth": 0
          },
          "ternary": {
           "aaxis": {
            "gridcolor": "#506784",
            "linecolor": "#506784",
            "ticks": ""
           },
           "baxis": {
            "gridcolor": "#506784",
            "linecolor": "#506784",
            "ticks": ""
           },
           "bgcolor": "rgb(17,17,17)",
           "caxis": {
            "gridcolor": "#506784",
            "linecolor": "#506784",
            "ticks": ""
           }
          },
          "title": {
           "x": 0.05
          },
          "updatemenudefaults": {
           "bgcolor": "#506784",
           "borderwidth": 0
          },
          "xaxis": {
           "automargin": true,
           "gridcolor": "#283442",
           "linecolor": "#506784",
           "ticks": "",
           "title": {
            "standoff": 15
           },
           "zerolinecolor": "#283442",
           "zerolinewidth": 2
          },
          "yaxis": {
           "automargin": true,
           "gridcolor": "#283442",
           "linecolor": "#506784",
           "ticks": "",
           "title": {
            "standoff": 15
           },
           "zerolinecolor": "#283442",
           "zerolinewidth": 2
          }
         }
        },
        "title": {
         "text": "Unsupervised anomaly detection in PS Call Setup SR"
        },
        "xaxis": {
         "anchor": "y",
         "domain": [
          0.0,
          1.0
         ],
         "rangeslider": {
          "visible": true
         },
         "title": {
          "text": "index"
         }
        },
        "yaxis": {
         "anchor": "x",
         "domain": [
          0.0,
          1.0
         ],
         "title": {
          "text": "PS Call Setup SR"
         }
        }
       }
      },
      "text/html": "<div>                            <div id=\"64c24900-f620-4fce-8fd1-c35a35cdf686\" class=\"plotly-graph-div\" style=\"height:525px; width:100%;\"></div>            <script type=\"text/javascript\">                require([\"plotly\"], function(Plotly) {                    window.PLOTLYENV=window.PLOTLYENV || {};                                    if (document.getElementById(\"64c24900-f620-4fce-8fd1-c35a35cdf686\")) {                    Plotly.newPlot(                        \"64c24900-f620-4fce-8fd1-c35a35cdf686\",                        [{\"hovertemplate\": \"index=%{x}<br>PS Call Setup SR=%{y}<extra></extra>\", \"legendgroup\": \"\", \"line\": {\"color\": \"#636efa\", \"dash\": \"solid\"}, \"mode\": \"lines\", \"name\": \"\", \"orientation\": \"v\", \"showlegend\": false, \"type\": \"scatter\", \"x\": [0, 1, 2, 3, 4, 5, 6, 7, 8, 9, 10, 11, 12, 13, 14, 15, 16, 17, 18, 19, 20, 21, 22, 23, 24, 25, 26, 27, 28, 29, 30, 31, 32, 33, 34, 35, 36, 37, 38, 39, 40, 41, 42, 43, 44, 45, 46, 47, 48, 49, 50, 51, 52, 53, 54, 55, 56, 57, 58, 59, 60, 61, 62, 63, 64, 65, 66, 67, 68, 69, 70, 71, 72, 73, 74, 75, 76, 77, 78, 79, 80, 81, 82, 83, 84, 85, 86, 87, 88, 89, 90, 91, 92, 93, 94, 95, 96, 97, 98, 99, 100, 101, 102, 103, 104, 105, 106, 107, 108, 109, 110, 111, 112, 113, 114, 115, 116, 117, 118, 119, 120, 121, 122, 123, 124, 125, 126, 127, 128, 129, 130, 131, 132, 133, 134, 135, 136, 137, 138, 139, 140, 141, 142, 143, 144, 145, 146, 147, 148, 149, 150, 151, 152, 153, 154, 155, 156, 157, 158, 159, 160, 161, 162, 163, 164, 165, 166, 167, 168, 169, 170, 171, 172, 173, 174, 175, 176, 177, 178, 179, 180, 181, 182, 183, 184, 185, 186, 187, 188, 189, 190, 191, 192, 193, 194, 195, 196, 197, 198, 199, 200, 201, 202, 203, 204, 205, 206, 207, 208, 209, 210, 211, 212, 213, 214, 215, 216, 217, 218, 219, 220, 221, 222, 223, 224], \"xaxis\": \"x\", \"y\": [95.94, 95.4, 94.97, 95.43, 95.16, 96.05, 94.94, 94.63, 95.59, 95.07, 95.36, 95.73, 95.32, 95.44, 95.79, 95.29, 95.4, 95.68, 95.64, 95.68, 96.03, 95.97, 95.53, 94.32, 93.11, 89.49, 94.8, 94.22, 95.48, 95.09, 95.09, 94.8, 94.4, 93.84, 94.98, 95.11, 95.58, 94.29, 95.87, 95.7, 96.0, 94.2, 95.38, 95.77, 95.57, 95.12, 95.28, 95.67, 95.67, 95.86, 95.61, 94.99, 94.87, 96.19, 95.95, 95.96, 96.12, 95.94, 95.11, 95.42, 95.55, 96.01, 95.91, 96.17, 95.99, 95.35, 95.06, 95.65, 95.21, 95.26, 96.15, 95.95, 95.05, 95.4, 95.47, 98.54, 98.74, 98.12, 98.11, 98.34, 98.43, 98.28, 98.2, 98.32, 98.33, 98.31, 98.21, 98.48, 98.19, 98.44, 98.35, 98.43, 98.58, 98.63, 98.69, 98.79, 98.82, 98.33, 98.43, 98.16, 98.09, 98.55, 98.38, 98.2, 98.35, 97.69, 97.81, 98.23, 98.11, 98.32, 97.88, 98.58, 98.51, 98.65, 98.47, 98.42, 98.15, 98.4, 98.34, 98.26, 98.46, 98.54, 98.62, 98.08, 98.33, 98.21, 97.94, 98.25, 98.33, 98.15, 98.57, 98.72, 98.28, 98.58, 98.69, 98.19, 98.55, 98.64, 98.51, 98.37, 98.47, 97.96, 98.16, 98.59, 98.23, 98.28, 98.45, 98.07, 98.06, 98.17, 97.66, 95.94, 97.42, 97.33, 97.94, 97.44, 97.22, 97.53, 96.91, 97.89, 97.23, 97.89, 97.63, 97.73, 97.34, 97.72, 97.2, 97.48, 97.92, 97.86, 98.2, 97.91, 98.06, 97.62, 97.47, 97.73, 97.7, 97.36, 97.67, 98.06, 97.84, 97.75, 97.89, 97.71, 97.13, 97.46, 98.04, 97.72, 98.01, 98.39, 98.08, 98.15, 98.25, 98.35, 97.28, 97.16, 97.76, 97.93, 98.05, 97.66, 97.89, 98.27, 97.97, 98.49, 98.19, 98.19, 97.92, 97.91, 98.0, 98.05, 98.33, 98.18, 97.53, 97.71, 98.3, 97.71, 97.78, 97.88, 97.81, 98.21, 98.24, 98.05, 98.21, 98.22, 97.98], \"yaxis\": \"y\"}, {\"mode\": \"markers\", \"name\": \"anomalies\", \"type\": \"scatter\", \"x\": [7, 23, 24, 25, 26, 27, 31, 32, 33, 37, 41, 53, 56, 63, 70, 76, 95, 96, 102, 158, 162, 173], \"y\": [94.63, 94.32, 93.11, 89.49, 94.8, 94.22, 94.8, 94.4, 93.84, 94.29, 94.2, 96.19, 96.12, 96.17, 96.15, 98.74, 98.79, 98.82, 98.38, 96.91, 97.63, 97.62]}],                        {\"legend\": {\"tracegroupgap\": 0}, \"template\": {\"data\": {\"bar\": [{\"error_x\": {\"color\": \"#f2f5fa\"}, \"error_y\": {\"color\": \"#f2f5fa\"}, \"marker\": {\"line\": {\"color\": \"rgb(17,17,17)\", \"width\": 0.5}}, \"type\": \"bar\"}], \"barpolar\": [{\"marker\": {\"line\": {\"color\": \"rgb(17,17,17)\", \"width\": 0.5}}, \"type\": \"barpolar\"}], \"carpet\": [{\"aaxis\": {\"endlinecolor\": \"#A2B1C6\", \"gridcolor\": \"#506784\", \"linecolor\": \"#506784\", \"minorgridcolor\": \"#506784\", \"startlinecolor\": \"#A2B1C6\"}, \"baxis\": {\"endlinecolor\": \"#A2B1C6\", \"gridcolor\": \"#506784\", \"linecolor\": \"#506784\", \"minorgridcolor\": \"#506784\", \"startlinecolor\": \"#A2B1C6\"}, \"type\": \"carpet\"}], \"choropleth\": [{\"colorbar\": {\"outlinewidth\": 0, \"ticks\": \"\"}, \"type\": \"choropleth\"}], \"contour\": [{\"colorbar\": {\"outlinewidth\": 0, \"ticks\": \"\"}, \"colorscale\": [[0.0, \"#0d0887\"], [0.1111111111111111, \"#46039f\"], [0.2222222222222222, \"#7201a8\"], [0.3333333333333333, \"#9c179e\"], [0.4444444444444444, \"#bd3786\"], [0.5555555555555556, \"#d8576b\"], [0.6666666666666666, \"#ed7953\"], [0.7777777777777778, \"#fb9f3a\"], [0.8888888888888888, \"#fdca26\"], [1.0, \"#f0f921\"]], \"type\": \"contour\"}], \"contourcarpet\": [{\"colorbar\": {\"outlinewidth\": 0, \"ticks\": \"\"}, \"type\": \"contourcarpet\"}], \"heatmap\": [{\"colorbar\": {\"outlinewidth\": 0, \"ticks\": \"\"}, \"colorscale\": [[0.0, \"#0d0887\"], [0.1111111111111111, \"#46039f\"], [0.2222222222222222, \"#7201a8\"], [0.3333333333333333, \"#9c179e\"], [0.4444444444444444, \"#bd3786\"], [0.5555555555555556, \"#d8576b\"], [0.6666666666666666, \"#ed7953\"], [0.7777777777777778, \"#fb9f3a\"], [0.8888888888888888, \"#fdca26\"], [1.0, \"#f0f921\"]], \"type\": \"heatmap\"}], \"heatmapgl\": [{\"colorbar\": {\"outlinewidth\": 0, \"ticks\": \"\"}, \"colorscale\": [[0.0, \"#0d0887\"], [0.1111111111111111, \"#46039f\"], [0.2222222222222222, \"#7201a8\"], [0.3333333333333333, \"#9c179e\"], [0.4444444444444444, \"#bd3786\"], [0.5555555555555556, \"#d8576b\"], [0.6666666666666666, \"#ed7953\"], [0.7777777777777778, \"#fb9f3a\"], [0.8888888888888888, \"#fdca26\"], [1.0, \"#f0f921\"]], \"type\": \"heatmapgl\"}], \"histogram\": [{\"marker\": {\"colorbar\": {\"outlinewidth\": 0, \"ticks\": \"\"}}, \"type\": \"histogram\"}], \"histogram2d\": [{\"colorbar\": {\"outlinewidth\": 0, \"ticks\": \"\"}, \"colorscale\": [[0.0, \"#0d0887\"], [0.1111111111111111, \"#46039f\"], [0.2222222222222222, \"#7201a8\"], [0.3333333333333333, \"#9c179e\"], [0.4444444444444444, \"#bd3786\"], [0.5555555555555556, \"#d8576b\"], [0.6666666666666666, \"#ed7953\"], [0.7777777777777778, \"#fb9f3a\"], [0.8888888888888888, \"#fdca26\"], [1.0, \"#f0f921\"]], \"type\": \"histogram2d\"}], \"histogram2dcontour\": [{\"colorbar\": {\"outlinewidth\": 0, \"ticks\": \"\"}, \"colorscale\": [[0.0, \"#0d0887\"], [0.1111111111111111, \"#46039f\"], [0.2222222222222222, \"#7201a8\"], [0.3333333333333333, \"#9c179e\"], [0.4444444444444444, \"#bd3786\"], [0.5555555555555556, \"#d8576b\"], [0.6666666666666666, \"#ed7953\"], [0.7777777777777778, \"#fb9f3a\"], [0.8888888888888888, \"#fdca26\"], [1.0, \"#f0f921\"]], \"type\": \"histogram2dcontour\"}], \"mesh3d\": [{\"colorbar\": {\"outlinewidth\": 0, \"ticks\": \"\"}, \"type\": \"mesh3d\"}], \"parcoords\": [{\"line\": {\"colorbar\": {\"outlinewidth\": 0, \"ticks\": \"\"}}, \"type\": \"parcoords\"}], \"pie\": [{\"automargin\": true, \"type\": \"pie\"}], \"scatter\": [{\"marker\": {\"line\": {\"color\": \"#283442\"}}, \"type\": \"scatter\"}], \"scatter3d\": [{\"line\": {\"colorbar\": {\"outlinewidth\": 0, \"ticks\": \"\"}}, \"marker\": {\"colorbar\": {\"outlinewidth\": 0, \"ticks\": \"\"}}, \"type\": \"scatter3d\"}], \"scattercarpet\": [{\"marker\": {\"colorbar\": {\"outlinewidth\": 0, \"ticks\": \"\"}}, \"type\": \"scattercarpet\"}], \"scattergeo\": [{\"marker\": {\"colorbar\": {\"outlinewidth\": 0, \"ticks\": \"\"}}, \"type\": \"scattergeo\"}], \"scattergl\": [{\"marker\": {\"line\": {\"color\": \"#283442\"}}, \"type\": \"scattergl\"}], \"scattermapbox\": [{\"marker\": {\"colorbar\": {\"outlinewidth\": 0, \"ticks\": \"\"}}, \"type\": \"scattermapbox\"}], \"scatterpolar\": [{\"marker\": {\"colorbar\": {\"outlinewidth\": 0, \"ticks\": \"\"}}, \"type\": \"scatterpolar\"}], \"scatterpolargl\": [{\"marker\": {\"colorbar\": {\"outlinewidth\": 0, \"ticks\": \"\"}}, \"type\": \"scatterpolargl\"}], \"scatterternary\": [{\"marker\": {\"colorbar\": {\"outlinewidth\": 0, \"ticks\": \"\"}}, \"type\": \"scatterternary\"}], \"surface\": [{\"colorbar\": {\"outlinewidth\": 0, \"ticks\": \"\"}, \"colorscale\": [[0.0, \"#0d0887\"], [0.1111111111111111, \"#46039f\"], [0.2222222222222222, \"#7201a8\"], [0.3333333333333333, \"#9c179e\"], [0.4444444444444444, \"#bd3786\"], [0.5555555555555556, \"#d8576b\"], [0.6666666666666666, \"#ed7953\"], [0.7777777777777778, \"#fb9f3a\"], [0.8888888888888888, \"#fdca26\"], [1.0, \"#f0f921\"]], \"type\": \"surface\"}], \"table\": [{\"cells\": {\"fill\": {\"color\": \"#506784\"}, \"line\": {\"color\": \"rgb(17,17,17)\"}}, \"header\": {\"fill\": {\"color\": \"#2a3f5f\"}, \"line\": {\"color\": \"rgb(17,17,17)\"}}, \"type\": \"table\"}]}, \"layout\": {\"annotationdefaults\": {\"arrowcolor\": \"#f2f5fa\", \"arrowhead\": 0, \"arrowwidth\": 1}, \"autotypenumbers\": \"strict\", \"coloraxis\": {\"colorbar\": {\"outlinewidth\": 0, \"ticks\": \"\"}}, \"colorscale\": {\"diverging\": [[0, \"#8e0152\"], [0.1, \"#c51b7d\"], [0.2, \"#de77ae\"], [0.3, \"#f1b6da\"], [0.4, \"#fde0ef\"], [0.5, \"#f7f7f7\"], [0.6, \"#e6f5d0\"], [0.7, \"#b8e186\"], [0.8, \"#7fbc41\"], [0.9, \"#4d9221\"], [1, \"#276419\"]], \"sequential\": [[0.0, \"#0d0887\"], [0.1111111111111111, \"#46039f\"], [0.2222222222222222, \"#7201a8\"], [0.3333333333333333, \"#9c179e\"], [0.4444444444444444, \"#bd3786\"], [0.5555555555555556, \"#d8576b\"], [0.6666666666666666, \"#ed7953\"], [0.7777777777777778, \"#fb9f3a\"], [0.8888888888888888, \"#fdca26\"], [1.0, \"#f0f921\"]], \"sequentialminus\": [[0.0, \"#0d0887\"], [0.1111111111111111, \"#46039f\"], [0.2222222222222222, \"#7201a8\"], [0.3333333333333333, \"#9c179e\"], [0.4444444444444444, \"#bd3786\"], [0.5555555555555556, \"#d8576b\"], [0.6666666666666666, \"#ed7953\"], [0.7777777777777778, \"#fb9f3a\"], [0.8888888888888888, \"#fdca26\"], [1.0, \"#f0f921\"]]}, \"colorway\": [\"#636efa\", \"#EF553B\", \"#00cc96\", \"#ab63fa\", \"#FFA15A\", \"#19d3f3\", \"#FF6692\", \"#B6E880\", \"#FF97FF\", \"#FECB52\"], \"font\": {\"color\": \"#f2f5fa\"}, \"geo\": {\"bgcolor\": \"rgb(17,17,17)\", \"lakecolor\": \"rgb(17,17,17)\", \"landcolor\": \"rgb(17,17,17)\", \"showlakes\": true, \"showland\": true, \"subunitcolor\": \"#506784\"}, \"hoverlabel\": {\"align\": \"left\"}, \"hovermode\": \"closest\", \"mapbox\": {\"style\": \"dark\"}, \"paper_bgcolor\": \"rgb(17,17,17)\", \"plot_bgcolor\": \"rgb(17,17,17)\", \"polar\": {\"angularaxis\": {\"gridcolor\": \"#506784\", \"linecolor\": \"#506784\", \"ticks\": \"\"}, \"bgcolor\": \"rgb(17,17,17)\", \"radialaxis\": {\"gridcolor\": \"#506784\", \"linecolor\": \"#506784\", \"ticks\": \"\"}}, \"scene\": {\"xaxis\": {\"backgroundcolor\": \"rgb(17,17,17)\", \"gridcolor\": \"#506784\", \"gridwidth\": 2, \"linecolor\": \"#506784\", \"showbackground\": true, \"ticks\": \"\", \"zerolinecolor\": \"#C8D4E3\"}, \"yaxis\": {\"backgroundcolor\": \"rgb(17,17,17)\", \"gridcolor\": \"#506784\", \"gridwidth\": 2, \"linecolor\": \"#506784\", \"showbackground\": true, \"ticks\": \"\", \"zerolinecolor\": \"#C8D4E3\"}, \"zaxis\": {\"backgroundcolor\": \"rgb(17,17,17)\", \"gridcolor\": \"#506784\", \"gridwidth\": 2, \"linecolor\": \"#506784\", \"showbackground\": true, \"ticks\": \"\", \"zerolinecolor\": \"#C8D4E3\"}}, \"shapedefaults\": {\"line\": {\"color\": \"#f2f5fa\"}}, \"sliderdefaults\": {\"bgcolor\": \"#C8D4E3\", \"bordercolor\": \"rgb(17,17,17)\", \"borderwidth\": 1, \"tickwidth\": 0}, \"ternary\": {\"aaxis\": {\"gridcolor\": \"#506784\", \"linecolor\": \"#506784\", \"ticks\": \"\"}, \"baxis\": {\"gridcolor\": \"#506784\", \"linecolor\": \"#506784\", \"ticks\": \"\"}, \"bgcolor\": \"rgb(17,17,17)\", \"caxis\": {\"gridcolor\": \"#506784\", \"linecolor\": \"#506784\", \"ticks\": \"\"}}, \"title\": {\"x\": 0.05}, \"updatemenudefaults\": {\"bgcolor\": \"#506784\", \"borderwidth\": 0}, \"xaxis\": {\"automargin\": true, \"gridcolor\": \"#283442\", \"linecolor\": \"#506784\", \"ticks\": \"\", \"title\": {\"standoff\": 15}, \"zerolinecolor\": \"#283442\", \"zerolinewidth\": 2}, \"yaxis\": {\"automargin\": true, \"gridcolor\": \"#283442\", \"linecolor\": \"#506784\", \"ticks\": \"\", \"title\": {\"standoff\": 15}, \"zerolinecolor\": \"#283442\", \"zerolinewidth\": 2}}}, \"title\": {\"text\": \"Unsupervised anomaly detection in PS Call Setup SR\"}, \"xaxis\": {\"anchor\": \"y\", \"domain\": [0.0, 1.0], \"rangeslider\": {\"visible\": true}, \"title\": {\"text\": \"index\"}}, \"yaxis\": {\"anchor\": \"x\", \"domain\": [0.0, 1.0], \"title\": {\"text\": \"PS Call Setup SR\"}}},                        {\"responsive\": true}                    ).then(function(){\n                            \nvar gd = document.getElementById('64c24900-f620-4fce-8fd1-c35a35cdf686');\nvar x = new MutationObserver(function (mutations, observer) {{\n        var display = window.getComputedStyle(gd).display;\n        if (!display || display === 'none') {{\n            console.log([gd, 'removed!']);\n            Plotly.purge(gd);\n            observer.disconnect();\n        }}\n}});\n\n// Listen for the removal of the full notebook cells\nvar notebookContainer = gd.closest('#notebook-container');\nif (notebookContainer) {{\n    x.observe(notebookContainer, {childList: true});\n}}\n\n// Listen for the clearing of the current output cell\nvar outputEl = gd.closest('.output');\nif (outputEl) {{\n    x.observe(outputEl, {childList: true});\n}}\n\n                        })                };                });            </script>        </div>"
     },
     "metadata": {},
     "output_type": "display_data"
    }
   ],
   "source": [
    "\n",
    "fig = px.line(df, x='index', y='PS Call Setup SR', title='Unsupervised anomaly detection in PS Call Setup SR')\n",
    "fig.add_trace(go.Scatter(x=lof_anomaly_df[\"index\"].to_list(), y=lof_anomaly_df[\"PS Call Setup SR\"].to_list(),\n",
    "                        mode='markers', name='anomalies'))\n",
    "fig.update_xaxes(rangeslider_visible=True)\n",
    "fig"
   ]
  },
  {
   "cell_type": "code",
   "execution_count": 81,
   "outputs": [
    {
     "name": "stdout",
     "output_type": "stream",
     "text": [
      "Nombres des valeurs inférieur à 95.00% sont : 16\n",
      "Nombres des vrais anomalie détecter sont : 11  parmi  22 anomalies détecter\n"
     ]
    }
   ],
   "source": [
    "nbr_val_inf_threshold = len(df[df['PS Call Setup SR'] < 95.00])\n",
    "print(\"Nombres des valeurs inférieur à 95.00% sont :\", nbr_val_inf_threshold)\n",
    "nbr_all_anomaly_PSSR = len(df[df['anomaly'] == 1])\n",
    "nbr_true_anom_PSSR = len(df[(df['anomaly'] == 1) & (df['PS Call Setup SR'] < 95.00)])\n",
    "print(\"Nombres des vrais anomalie détecter sont :\",nbr_true_anom_PSSR,\" parmi \",nbr_all_anomaly_PSSR, \"anomalies détecter\")"
   ],
   "metadata": {
    "collapsed": false
   }
  },
  {
   "cell_type": "markdown",
   "metadata": {},
   "source": [
    "OneClassSVM"
   ]
  },
  {
   "cell_type": "code",
   "execution_count": 82,
   "metadata": {},
   "outputs": [
    {
     "data": {
      "text/plain": "[0, 0, 1, 0, 0, 0, 1, 1, 0, 1]"
     },
     "execution_count": 82,
     "metadata": {},
     "output_type": "execute_result"
    }
   ],
   "source": [
    "from sklearn.svm import OneClassSVM\n",
    "ocsvm = OneClassSVM(kernel='linear',\n",
    "                     gamma='scale',\n",
    "                     nu=0.1)\n",
    "y_pred = ocsvm.fit_predict(x)\n",
    "y_pred = [1 if x == -1 else 0 for x in y_pred]\n",
    "y_pred[:10]\n"
   ]
  },
  {
   "cell_type": "code",
   "execution_count": 83,
   "metadata": {},
   "outputs": [
    {
     "data": {
      "text/plain": "   index      Date  RBS Id  TRAFFIC PS(DL+UL)(Gbits)  HSDPA Data Volume  \\\n0      0  16-12-21       0                     74.39              66.74   \n1      1  17-12-21       0                     65.41              58.40   \n2      2  18-12-21       0                     65.67              58.93   \n3      3  19-12-21       0                     57.79              50.91   \n4      4  20-12-21       0                     79.74              70.04   \n\n   HSUPA Data Volume  Cell Traffic Volume DL Speech (Erlang)  CS CSSR  \\\n0               7.65                                  156.83    99.69   \n1               7.01                                  107.82    99.26   \n2               6.74                                   94.38    99.26   \n3               6.87                                  101.48    99.08   \n4               9.69                                  163.22    99.65   \n\n   CS DROP Rate  PS Call Setup SR  PS DROP Rate 2  Availability  \\\n0          0.77             95.94            1.72         100.0   \n1          0.97             95.40            2.37         100.0   \n2          1.09             94.97            3.03         100.0   \n3          1.23             95.43            2.60         100.0   \n4          0.76             95.16            1.61         100.0   \n\n   Soft Handover  Irat CS Handover SR  IRAT PS 2  throughput  anomaly  \n0          99.86                93.94     100.00      755.79        0  \n1          99.67                97.98     100.00      755.79        0  \n2          99.57                96.43       0.00      755.79        1  \n3          99.72                93.14     100.00      755.79        0  \n4          99.86                94.23      66.67      755.79        0  ",
      "text/html": "<div>\n<style scoped>\n    .dataframe tbody tr th:only-of-type {\n        vertical-align: middle;\n    }\n\n    .dataframe tbody tr th {\n        vertical-align: top;\n    }\n\n    .dataframe thead th {\n        text-align: right;\n    }\n</style>\n<table border=\"1\" class=\"dataframe\">\n  <thead>\n    <tr style=\"text-align: right;\">\n      <th></th>\n      <th>index</th>\n      <th>Date</th>\n      <th>RBS Id</th>\n      <th>TRAFFIC PS(DL+UL)(Gbits)</th>\n      <th>HSDPA Data Volume</th>\n      <th>HSUPA Data Volume</th>\n      <th>Cell Traffic Volume DL Speech (Erlang)</th>\n      <th>CS CSSR</th>\n      <th>CS DROP Rate</th>\n      <th>PS Call Setup SR</th>\n      <th>PS DROP Rate 2</th>\n      <th>Availability</th>\n      <th>Soft Handover</th>\n      <th>Irat CS Handover SR</th>\n      <th>IRAT PS 2</th>\n      <th>throughput</th>\n      <th>anomaly</th>\n    </tr>\n  </thead>\n  <tbody>\n    <tr>\n      <th>0</th>\n      <td>0</td>\n      <td>16-12-21</td>\n      <td>0</td>\n      <td>74.39</td>\n      <td>66.74</td>\n      <td>7.65</td>\n      <td>156.83</td>\n      <td>99.69</td>\n      <td>0.77</td>\n      <td>95.94</td>\n      <td>1.72</td>\n      <td>100.0</td>\n      <td>99.86</td>\n      <td>93.94</td>\n      <td>100.00</td>\n      <td>755.79</td>\n      <td>0</td>\n    </tr>\n    <tr>\n      <th>1</th>\n      <td>1</td>\n      <td>17-12-21</td>\n      <td>0</td>\n      <td>65.41</td>\n      <td>58.40</td>\n      <td>7.01</td>\n      <td>107.82</td>\n      <td>99.26</td>\n      <td>0.97</td>\n      <td>95.40</td>\n      <td>2.37</td>\n      <td>100.0</td>\n      <td>99.67</td>\n      <td>97.98</td>\n      <td>100.00</td>\n      <td>755.79</td>\n      <td>0</td>\n    </tr>\n    <tr>\n      <th>2</th>\n      <td>2</td>\n      <td>18-12-21</td>\n      <td>0</td>\n      <td>65.67</td>\n      <td>58.93</td>\n      <td>6.74</td>\n      <td>94.38</td>\n      <td>99.26</td>\n      <td>1.09</td>\n      <td>94.97</td>\n      <td>3.03</td>\n      <td>100.0</td>\n      <td>99.57</td>\n      <td>96.43</td>\n      <td>0.00</td>\n      <td>755.79</td>\n      <td>1</td>\n    </tr>\n    <tr>\n      <th>3</th>\n      <td>3</td>\n      <td>19-12-21</td>\n      <td>0</td>\n      <td>57.79</td>\n      <td>50.91</td>\n      <td>6.87</td>\n      <td>101.48</td>\n      <td>99.08</td>\n      <td>1.23</td>\n      <td>95.43</td>\n      <td>2.60</td>\n      <td>100.0</td>\n      <td>99.72</td>\n      <td>93.14</td>\n      <td>100.00</td>\n      <td>755.79</td>\n      <td>0</td>\n    </tr>\n    <tr>\n      <th>4</th>\n      <td>4</td>\n      <td>20-12-21</td>\n      <td>0</td>\n      <td>79.74</td>\n      <td>70.04</td>\n      <td>9.69</td>\n      <td>163.22</td>\n      <td>99.65</td>\n      <td>0.76</td>\n      <td>95.16</td>\n      <td>1.61</td>\n      <td>100.0</td>\n      <td>99.86</td>\n      <td>94.23</td>\n      <td>66.67</td>\n      <td>755.79</td>\n      <td>0</td>\n    </tr>\n  </tbody>\n</table>\n</div>"
     },
     "execution_count": 83,
     "metadata": {},
     "output_type": "execute_result"
    }
   ],
   "source": [
    "df[\"anomaly\"] = y_pred\n",
    "df.head()"
   ]
  },
  {
   "cell_type": "code",
   "execution_count": 84,
   "metadata": {},
   "outputs": [
    {
     "data": {
      "text/plain": "    index      Date  RBS Id  TRAFFIC PS(DL+UL)(Gbits)  HSDPA Data Volume  \\\n2       2  18-12-21       0                     65.67              58.93   \n6       6  22-12-21       0                     89.15              78.33   \n7       7  23-12-21       0                     86.34              76.22   \n9       9  25-12-21       0                     60.16              52.90   \n23     23  01-08-22       0                     76.68              67.55   \n\n    HSUPA Data Volume  Cell Traffic Volume DL Speech (Erlang)  CS CSSR  \\\n2                6.74                                   94.38    99.26   \n6               10.82                                  142.73    99.54   \n7               10.12                                  157.31    99.27   \n9                7.26                                  118.15    98.97   \n23               9.14                                  123.39    98.87   \n\n    CS DROP Rate  PS Call Setup SR  PS DROP Rate 2  Availability  \\\n2           1.09             94.97            3.03        100.00   \n6           0.68             94.94            1.76        100.00   \n7           0.71             94.63            2.06        100.00   \n9           2.93             95.07            2.83         98.01   \n23          3.00             94.32            3.23         97.75   \n\n    Soft Handover  Irat CS Handover SR  IRAT PS 2  throughput  anomaly  \n2           99.57                96.43       0.00      755.79        1  \n6           99.85                96.54       0.00      815.16        1  \n7           99.54                96.89       0.00      672.96        1  \n9           99.52                95.97      66.67      645.25        1  \n23          99.42                96.14      40.00      628.69        1  ",
      "text/html": "<div>\n<style scoped>\n    .dataframe tbody tr th:only-of-type {\n        vertical-align: middle;\n    }\n\n    .dataframe tbody tr th {\n        vertical-align: top;\n    }\n\n    .dataframe thead th {\n        text-align: right;\n    }\n</style>\n<table border=\"1\" class=\"dataframe\">\n  <thead>\n    <tr style=\"text-align: right;\">\n      <th></th>\n      <th>index</th>\n      <th>Date</th>\n      <th>RBS Id</th>\n      <th>TRAFFIC PS(DL+UL)(Gbits)</th>\n      <th>HSDPA Data Volume</th>\n      <th>HSUPA Data Volume</th>\n      <th>Cell Traffic Volume DL Speech (Erlang)</th>\n      <th>CS CSSR</th>\n      <th>CS DROP Rate</th>\n      <th>PS Call Setup SR</th>\n      <th>PS DROP Rate 2</th>\n      <th>Availability</th>\n      <th>Soft Handover</th>\n      <th>Irat CS Handover SR</th>\n      <th>IRAT PS 2</th>\n      <th>throughput</th>\n      <th>anomaly</th>\n    </tr>\n  </thead>\n  <tbody>\n    <tr>\n      <th>2</th>\n      <td>2</td>\n      <td>18-12-21</td>\n      <td>0</td>\n      <td>65.67</td>\n      <td>58.93</td>\n      <td>6.74</td>\n      <td>94.38</td>\n      <td>99.26</td>\n      <td>1.09</td>\n      <td>94.97</td>\n      <td>3.03</td>\n      <td>100.00</td>\n      <td>99.57</td>\n      <td>96.43</td>\n      <td>0.00</td>\n      <td>755.79</td>\n      <td>1</td>\n    </tr>\n    <tr>\n      <th>6</th>\n      <td>6</td>\n      <td>22-12-21</td>\n      <td>0</td>\n      <td>89.15</td>\n      <td>78.33</td>\n      <td>10.82</td>\n      <td>142.73</td>\n      <td>99.54</td>\n      <td>0.68</td>\n      <td>94.94</td>\n      <td>1.76</td>\n      <td>100.00</td>\n      <td>99.85</td>\n      <td>96.54</td>\n      <td>0.00</td>\n      <td>815.16</td>\n      <td>1</td>\n    </tr>\n    <tr>\n      <th>7</th>\n      <td>7</td>\n      <td>23-12-21</td>\n      <td>0</td>\n      <td>86.34</td>\n      <td>76.22</td>\n      <td>10.12</td>\n      <td>157.31</td>\n      <td>99.27</td>\n      <td>0.71</td>\n      <td>94.63</td>\n      <td>2.06</td>\n      <td>100.00</td>\n      <td>99.54</td>\n      <td>96.89</td>\n      <td>0.00</td>\n      <td>672.96</td>\n      <td>1</td>\n    </tr>\n    <tr>\n      <th>9</th>\n      <td>9</td>\n      <td>25-12-21</td>\n      <td>0</td>\n      <td>60.16</td>\n      <td>52.90</td>\n      <td>7.26</td>\n      <td>118.15</td>\n      <td>98.97</td>\n      <td>2.93</td>\n      <td>95.07</td>\n      <td>2.83</td>\n      <td>98.01</td>\n      <td>99.52</td>\n      <td>95.97</td>\n      <td>66.67</td>\n      <td>645.25</td>\n      <td>1</td>\n    </tr>\n    <tr>\n      <th>23</th>\n      <td>23</td>\n      <td>01-08-22</td>\n      <td>0</td>\n      <td>76.68</td>\n      <td>67.55</td>\n      <td>9.14</td>\n      <td>123.39</td>\n      <td>98.87</td>\n      <td>3.00</td>\n      <td>94.32</td>\n      <td>3.23</td>\n      <td>97.75</td>\n      <td>99.42</td>\n      <td>96.14</td>\n      <td>40.00</td>\n      <td>628.69</td>\n      <td>1</td>\n    </tr>\n  </tbody>\n</table>\n</div>"
     },
     "execution_count": 84,
     "metadata": {},
     "output_type": "execute_result"
    }
   ],
   "source": [
    "ocsvm_anomaly_df = pd.DataFrame(df)\n",
    "ocsvm_anomaly_df = ocsvm_anomaly_df.loc[ocsvm_anomaly_df['anomaly'] == 1]\n",
    "ocsvm_anomaly_df.head()"
   ]
  },
  {
   "cell_type": "code",
   "execution_count": 85,
   "metadata": {},
   "outputs": [
    {
     "data": {
      "application/vnd.plotly.v1+json": {
       "config": {
        "plotlyServerURL": "https://plot.ly"
       },
       "data": [
        {
         "hovertemplate": "index=%{x}<br>PS Call Setup SR=%{y}<extra></extra>",
         "legendgroup": "",
         "line": {
          "color": "#636efa",
          "dash": "solid"
         },
         "mode": "lines",
         "name": "",
         "orientation": "v",
         "showlegend": false,
         "type": "scatter",
         "x": [
          0,
          1,
          2,
          3,
          4,
          5,
          6,
          7,
          8,
          9,
          10,
          11,
          12,
          13,
          14,
          15,
          16,
          17,
          18,
          19,
          20,
          21,
          22,
          23,
          24,
          25,
          26,
          27,
          28,
          29,
          30,
          31,
          32,
          33,
          34,
          35,
          36,
          37,
          38,
          39,
          40,
          41,
          42,
          43,
          44,
          45,
          46,
          47,
          48,
          49,
          50,
          51,
          52,
          53,
          54,
          55,
          56,
          57,
          58,
          59,
          60,
          61,
          62,
          63,
          64,
          65,
          66,
          67,
          68,
          69,
          70,
          71,
          72,
          73,
          74,
          75,
          76,
          77,
          78,
          79,
          80,
          81,
          82,
          83,
          84,
          85,
          86,
          87,
          88,
          89,
          90,
          91,
          92,
          93,
          94,
          95,
          96,
          97,
          98,
          99,
          100,
          101,
          102,
          103,
          104,
          105,
          106,
          107,
          108,
          109,
          110,
          111,
          112,
          113,
          114,
          115,
          116,
          117,
          118,
          119,
          120,
          121,
          122,
          123,
          124,
          125,
          126,
          127,
          128,
          129,
          130,
          131,
          132,
          133,
          134,
          135,
          136,
          137,
          138,
          139,
          140,
          141,
          142,
          143,
          144,
          145,
          146,
          147,
          148,
          149,
          150,
          151,
          152,
          153,
          154,
          155,
          156,
          157,
          158,
          159,
          160,
          161,
          162,
          163,
          164,
          165,
          166,
          167,
          168,
          169,
          170,
          171,
          172,
          173,
          174,
          175,
          176,
          177,
          178,
          179,
          180,
          181,
          182,
          183,
          184,
          185,
          186,
          187,
          188,
          189,
          190,
          191,
          192,
          193,
          194,
          195,
          196,
          197,
          198,
          199,
          200,
          201,
          202,
          203,
          204,
          205,
          206,
          207,
          208,
          209,
          210,
          211,
          212,
          213,
          214,
          215,
          216,
          217,
          218,
          219,
          220,
          221,
          222,
          223,
          224
         ],
         "xaxis": "x",
         "y": [
          95.94,
          95.4,
          94.97,
          95.43,
          95.16,
          96.05,
          94.94,
          94.63,
          95.59,
          95.07,
          95.36,
          95.73,
          95.32,
          95.44,
          95.79,
          95.29,
          95.4,
          95.68,
          95.64,
          95.68,
          96.03,
          95.97,
          95.53,
          94.32,
          93.11,
          89.49,
          94.8,
          94.22,
          95.48,
          95.09,
          95.09,
          94.8,
          94.4,
          93.84,
          94.98,
          95.11,
          95.58,
          94.29,
          95.87,
          95.7,
          96.0,
          94.2,
          95.38,
          95.77,
          95.57,
          95.12,
          95.28,
          95.67,
          95.67,
          95.86,
          95.61,
          94.99,
          94.87,
          96.19,
          95.95,
          95.96,
          96.12,
          95.94,
          95.11,
          95.42,
          95.55,
          96.01,
          95.91,
          96.17,
          95.99,
          95.35,
          95.06,
          95.65,
          95.21,
          95.26,
          96.15,
          95.95,
          95.05,
          95.4,
          95.47,
          98.54,
          98.74,
          98.12,
          98.11,
          98.34,
          98.43,
          98.28,
          98.2,
          98.32,
          98.33,
          98.31,
          98.21,
          98.48,
          98.19,
          98.44,
          98.35,
          98.43,
          98.58,
          98.63,
          98.69,
          98.79,
          98.82,
          98.33,
          98.43,
          98.16,
          98.09,
          98.55,
          98.38,
          98.2,
          98.35,
          97.69,
          97.81,
          98.23,
          98.11,
          98.32,
          97.88,
          98.58,
          98.51,
          98.65,
          98.47,
          98.42,
          98.15,
          98.4,
          98.34,
          98.26,
          98.46,
          98.54,
          98.62,
          98.08,
          98.33,
          98.21,
          97.94,
          98.25,
          98.33,
          98.15,
          98.57,
          98.72,
          98.28,
          98.58,
          98.69,
          98.19,
          98.55,
          98.64,
          98.51,
          98.37,
          98.47,
          97.96,
          98.16,
          98.59,
          98.23,
          98.28,
          98.45,
          98.07,
          98.06,
          98.17,
          97.66,
          95.94,
          97.42,
          97.33,
          97.94,
          97.44,
          97.22,
          97.53,
          96.91,
          97.89,
          97.23,
          97.89,
          97.63,
          97.73,
          97.34,
          97.72,
          97.2,
          97.48,
          97.92,
          97.86,
          98.2,
          97.91,
          98.06,
          97.62,
          97.47,
          97.73,
          97.7,
          97.36,
          97.67,
          98.06,
          97.84,
          97.75,
          97.89,
          97.71,
          97.13,
          97.46,
          98.04,
          97.72,
          98.01,
          98.39,
          98.08,
          98.15,
          98.25,
          98.35,
          97.28,
          97.16,
          97.76,
          97.93,
          98.05,
          97.66,
          97.89,
          98.27,
          97.97,
          98.49,
          98.19,
          98.19,
          97.92,
          97.91,
          98.0,
          98.05,
          98.33,
          98.18,
          97.53,
          97.71,
          98.3,
          97.71,
          97.78,
          97.88,
          97.81,
          98.21,
          98.24,
          98.05,
          98.21,
          98.22,
          97.98
         ],
         "yaxis": "y"
        },
        {
         "mode": "markers",
         "name": "anomaly",
         "type": "scatter",
         "x": [
          2,
          6,
          7,
          9,
          23,
          24,
          25,
          26,
          27,
          29,
          30,
          31,
          32,
          33,
          34,
          37,
          41,
          51,
          52,
          66,
          72
         ],
         "y": [
          94.97,
          94.94,
          94.63,
          95.07,
          94.32,
          93.11,
          89.49,
          94.8,
          94.22,
          95.09,
          95.09,
          94.8,
          94.4,
          93.84,
          94.98,
          94.29,
          94.2,
          94.99,
          94.87,
          95.06,
          95.05
         ]
        }
       ],
       "layout": {
        "legend": {
         "tracegroupgap": 0
        },
        "template": {
         "data": {
          "bar": [
           {
            "error_x": {
             "color": "#f2f5fa"
            },
            "error_y": {
             "color": "#f2f5fa"
            },
            "marker": {
             "line": {
              "color": "rgb(17,17,17)",
              "width": 0.5
             }
            },
            "type": "bar"
           }
          ],
          "barpolar": [
           {
            "marker": {
             "line": {
              "color": "rgb(17,17,17)",
              "width": 0.5
             }
            },
            "type": "barpolar"
           }
          ],
          "carpet": [
           {
            "aaxis": {
             "endlinecolor": "#A2B1C6",
             "gridcolor": "#506784",
             "linecolor": "#506784",
             "minorgridcolor": "#506784",
             "startlinecolor": "#A2B1C6"
            },
            "baxis": {
             "endlinecolor": "#A2B1C6",
             "gridcolor": "#506784",
             "linecolor": "#506784",
             "minorgridcolor": "#506784",
             "startlinecolor": "#A2B1C6"
            },
            "type": "carpet"
           }
          ],
          "choropleth": [
           {
            "colorbar": {
             "outlinewidth": 0,
             "ticks": ""
            },
            "type": "choropleth"
           }
          ],
          "contour": [
           {
            "colorbar": {
             "outlinewidth": 0,
             "ticks": ""
            },
            "colorscale": [
             [
              0.0,
              "#0d0887"
             ],
             [
              0.1111111111111111,
              "#46039f"
             ],
             [
              0.2222222222222222,
              "#7201a8"
             ],
             [
              0.3333333333333333,
              "#9c179e"
             ],
             [
              0.4444444444444444,
              "#bd3786"
             ],
             [
              0.5555555555555556,
              "#d8576b"
             ],
             [
              0.6666666666666666,
              "#ed7953"
             ],
             [
              0.7777777777777778,
              "#fb9f3a"
             ],
             [
              0.8888888888888888,
              "#fdca26"
             ],
             [
              1.0,
              "#f0f921"
             ]
            ],
            "type": "contour"
           }
          ],
          "contourcarpet": [
           {
            "colorbar": {
             "outlinewidth": 0,
             "ticks": ""
            },
            "type": "contourcarpet"
           }
          ],
          "heatmap": [
           {
            "colorbar": {
             "outlinewidth": 0,
             "ticks": ""
            },
            "colorscale": [
             [
              0.0,
              "#0d0887"
             ],
             [
              0.1111111111111111,
              "#46039f"
             ],
             [
              0.2222222222222222,
              "#7201a8"
             ],
             [
              0.3333333333333333,
              "#9c179e"
             ],
             [
              0.4444444444444444,
              "#bd3786"
             ],
             [
              0.5555555555555556,
              "#d8576b"
             ],
             [
              0.6666666666666666,
              "#ed7953"
             ],
             [
              0.7777777777777778,
              "#fb9f3a"
             ],
             [
              0.8888888888888888,
              "#fdca26"
             ],
             [
              1.0,
              "#f0f921"
             ]
            ],
            "type": "heatmap"
           }
          ],
          "heatmapgl": [
           {
            "colorbar": {
             "outlinewidth": 0,
             "ticks": ""
            },
            "colorscale": [
             [
              0.0,
              "#0d0887"
             ],
             [
              0.1111111111111111,
              "#46039f"
             ],
             [
              0.2222222222222222,
              "#7201a8"
             ],
             [
              0.3333333333333333,
              "#9c179e"
             ],
             [
              0.4444444444444444,
              "#bd3786"
             ],
             [
              0.5555555555555556,
              "#d8576b"
             ],
             [
              0.6666666666666666,
              "#ed7953"
             ],
             [
              0.7777777777777778,
              "#fb9f3a"
             ],
             [
              0.8888888888888888,
              "#fdca26"
             ],
             [
              1.0,
              "#f0f921"
             ]
            ],
            "type": "heatmapgl"
           }
          ],
          "histogram": [
           {
            "marker": {
             "colorbar": {
              "outlinewidth": 0,
              "ticks": ""
             }
            },
            "type": "histogram"
           }
          ],
          "histogram2d": [
           {
            "colorbar": {
             "outlinewidth": 0,
             "ticks": ""
            },
            "colorscale": [
             [
              0.0,
              "#0d0887"
             ],
             [
              0.1111111111111111,
              "#46039f"
             ],
             [
              0.2222222222222222,
              "#7201a8"
             ],
             [
              0.3333333333333333,
              "#9c179e"
             ],
             [
              0.4444444444444444,
              "#bd3786"
             ],
             [
              0.5555555555555556,
              "#d8576b"
             ],
             [
              0.6666666666666666,
              "#ed7953"
             ],
             [
              0.7777777777777778,
              "#fb9f3a"
             ],
             [
              0.8888888888888888,
              "#fdca26"
             ],
             [
              1.0,
              "#f0f921"
             ]
            ],
            "type": "histogram2d"
           }
          ],
          "histogram2dcontour": [
           {
            "colorbar": {
             "outlinewidth": 0,
             "ticks": ""
            },
            "colorscale": [
             [
              0.0,
              "#0d0887"
             ],
             [
              0.1111111111111111,
              "#46039f"
             ],
             [
              0.2222222222222222,
              "#7201a8"
             ],
             [
              0.3333333333333333,
              "#9c179e"
             ],
             [
              0.4444444444444444,
              "#bd3786"
             ],
             [
              0.5555555555555556,
              "#d8576b"
             ],
             [
              0.6666666666666666,
              "#ed7953"
             ],
             [
              0.7777777777777778,
              "#fb9f3a"
             ],
             [
              0.8888888888888888,
              "#fdca26"
             ],
             [
              1.0,
              "#f0f921"
             ]
            ],
            "type": "histogram2dcontour"
           }
          ],
          "mesh3d": [
           {
            "colorbar": {
             "outlinewidth": 0,
             "ticks": ""
            },
            "type": "mesh3d"
           }
          ],
          "parcoords": [
           {
            "line": {
             "colorbar": {
              "outlinewidth": 0,
              "ticks": ""
             }
            },
            "type": "parcoords"
           }
          ],
          "pie": [
           {
            "automargin": true,
            "type": "pie"
           }
          ],
          "scatter": [
           {
            "marker": {
             "line": {
              "color": "#283442"
             }
            },
            "type": "scatter"
           }
          ],
          "scatter3d": [
           {
            "line": {
             "colorbar": {
              "outlinewidth": 0,
              "ticks": ""
             }
            },
            "marker": {
             "colorbar": {
              "outlinewidth": 0,
              "ticks": ""
             }
            },
            "type": "scatter3d"
           }
          ],
          "scattercarpet": [
           {
            "marker": {
             "colorbar": {
              "outlinewidth": 0,
              "ticks": ""
             }
            },
            "type": "scattercarpet"
           }
          ],
          "scattergeo": [
           {
            "marker": {
             "colorbar": {
              "outlinewidth": 0,
              "ticks": ""
             }
            },
            "type": "scattergeo"
           }
          ],
          "scattergl": [
           {
            "marker": {
             "line": {
              "color": "#283442"
             }
            },
            "type": "scattergl"
           }
          ],
          "scattermapbox": [
           {
            "marker": {
             "colorbar": {
              "outlinewidth": 0,
              "ticks": ""
             }
            },
            "type": "scattermapbox"
           }
          ],
          "scatterpolar": [
           {
            "marker": {
             "colorbar": {
              "outlinewidth": 0,
              "ticks": ""
             }
            },
            "type": "scatterpolar"
           }
          ],
          "scatterpolargl": [
           {
            "marker": {
             "colorbar": {
              "outlinewidth": 0,
              "ticks": ""
             }
            },
            "type": "scatterpolargl"
           }
          ],
          "scatterternary": [
           {
            "marker": {
             "colorbar": {
              "outlinewidth": 0,
              "ticks": ""
             }
            },
            "type": "scatterternary"
           }
          ],
          "surface": [
           {
            "colorbar": {
             "outlinewidth": 0,
             "ticks": ""
            },
            "colorscale": [
             [
              0.0,
              "#0d0887"
             ],
             [
              0.1111111111111111,
              "#46039f"
             ],
             [
              0.2222222222222222,
              "#7201a8"
             ],
             [
              0.3333333333333333,
              "#9c179e"
             ],
             [
              0.4444444444444444,
              "#bd3786"
             ],
             [
              0.5555555555555556,
              "#d8576b"
             ],
             [
              0.6666666666666666,
              "#ed7953"
             ],
             [
              0.7777777777777778,
              "#fb9f3a"
             ],
             [
              0.8888888888888888,
              "#fdca26"
             ],
             [
              1.0,
              "#f0f921"
             ]
            ],
            "type": "surface"
           }
          ],
          "table": [
           {
            "cells": {
             "fill": {
              "color": "#506784"
             },
             "line": {
              "color": "rgb(17,17,17)"
             }
            },
            "header": {
             "fill": {
              "color": "#2a3f5f"
             },
             "line": {
              "color": "rgb(17,17,17)"
             }
            },
            "type": "table"
           }
          ]
         },
         "layout": {
          "annotationdefaults": {
           "arrowcolor": "#f2f5fa",
           "arrowhead": 0,
           "arrowwidth": 1
          },
          "autotypenumbers": "strict",
          "coloraxis": {
           "colorbar": {
            "outlinewidth": 0,
            "ticks": ""
           }
          },
          "colorscale": {
           "diverging": [
            [
             0,
             "#8e0152"
            ],
            [
             0.1,
             "#c51b7d"
            ],
            [
             0.2,
             "#de77ae"
            ],
            [
             0.3,
             "#f1b6da"
            ],
            [
             0.4,
             "#fde0ef"
            ],
            [
             0.5,
             "#f7f7f7"
            ],
            [
             0.6,
             "#e6f5d0"
            ],
            [
             0.7,
             "#b8e186"
            ],
            [
             0.8,
             "#7fbc41"
            ],
            [
             0.9,
             "#4d9221"
            ],
            [
             1,
             "#276419"
            ]
           ],
           "sequential": [
            [
             0.0,
             "#0d0887"
            ],
            [
             0.1111111111111111,
             "#46039f"
            ],
            [
             0.2222222222222222,
             "#7201a8"
            ],
            [
             0.3333333333333333,
             "#9c179e"
            ],
            [
             0.4444444444444444,
             "#bd3786"
            ],
            [
             0.5555555555555556,
             "#d8576b"
            ],
            [
             0.6666666666666666,
             "#ed7953"
            ],
            [
             0.7777777777777778,
             "#fb9f3a"
            ],
            [
             0.8888888888888888,
             "#fdca26"
            ],
            [
             1.0,
             "#f0f921"
            ]
           ],
           "sequentialminus": [
            [
             0.0,
             "#0d0887"
            ],
            [
             0.1111111111111111,
             "#46039f"
            ],
            [
             0.2222222222222222,
             "#7201a8"
            ],
            [
             0.3333333333333333,
             "#9c179e"
            ],
            [
             0.4444444444444444,
             "#bd3786"
            ],
            [
             0.5555555555555556,
             "#d8576b"
            ],
            [
             0.6666666666666666,
             "#ed7953"
            ],
            [
             0.7777777777777778,
             "#fb9f3a"
            ],
            [
             0.8888888888888888,
             "#fdca26"
            ],
            [
             1.0,
             "#f0f921"
            ]
           ]
          },
          "colorway": [
           "#636efa",
           "#EF553B",
           "#00cc96",
           "#ab63fa",
           "#FFA15A",
           "#19d3f3",
           "#FF6692",
           "#B6E880",
           "#FF97FF",
           "#FECB52"
          ],
          "font": {
           "color": "#f2f5fa"
          },
          "geo": {
           "bgcolor": "rgb(17,17,17)",
           "lakecolor": "rgb(17,17,17)",
           "landcolor": "rgb(17,17,17)",
           "showlakes": true,
           "showland": true,
           "subunitcolor": "#506784"
          },
          "hoverlabel": {
           "align": "left"
          },
          "hovermode": "closest",
          "mapbox": {
           "style": "dark"
          },
          "paper_bgcolor": "rgb(17,17,17)",
          "plot_bgcolor": "rgb(17,17,17)",
          "polar": {
           "angularaxis": {
            "gridcolor": "#506784",
            "linecolor": "#506784",
            "ticks": ""
           },
           "bgcolor": "rgb(17,17,17)",
           "radialaxis": {
            "gridcolor": "#506784",
            "linecolor": "#506784",
            "ticks": ""
           }
          },
          "scene": {
           "xaxis": {
            "backgroundcolor": "rgb(17,17,17)",
            "gridcolor": "#506784",
            "gridwidth": 2,
            "linecolor": "#506784",
            "showbackground": true,
            "ticks": "",
            "zerolinecolor": "#C8D4E3"
           },
           "yaxis": {
            "backgroundcolor": "rgb(17,17,17)",
            "gridcolor": "#506784",
            "gridwidth": 2,
            "linecolor": "#506784",
            "showbackground": true,
            "ticks": "",
            "zerolinecolor": "#C8D4E3"
           },
           "zaxis": {
            "backgroundcolor": "rgb(17,17,17)",
            "gridcolor": "#506784",
            "gridwidth": 2,
            "linecolor": "#506784",
            "showbackground": true,
            "ticks": "",
            "zerolinecolor": "#C8D4E3"
           }
          },
          "shapedefaults": {
           "line": {
            "color": "#f2f5fa"
           }
          },
          "sliderdefaults": {
           "bgcolor": "#C8D4E3",
           "bordercolor": "rgb(17,17,17)",
           "borderwidth": 1,
           "tickwidth": 0
          },
          "ternary": {
           "aaxis": {
            "gridcolor": "#506784",
            "linecolor": "#506784",
            "ticks": ""
           },
           "baxis": {
            "gridcolor": "#506784",
            "linecolor": "#506784",
            "ticks": ""
           },
           "bgcolor": "rgb(17,17,17)",
           "caxis": {
            "gridcolor": "#506784",
            "linecolor": "#506784",
            "ticks": ""
           }
          },
          "title": {
           "x": 0.05
          },
          "updatemenudefaults": {
           "bgcolor": "#506784",
           "borderwidth": 0
          },
          "xaxis": {
           "automargin": true,
           "gridcolor": "#283442",
           "linecolor": "#506784",
           "ticks": "",
           "title": {
            "standoff": 15
           },
           "zerolinecolor": "#283442",
           "zerolinewidth": 2
          },
          "yaxis": {
           "automargin": true,
           "gridcolor": "#283442",
           "linecolor": "#506784",
           "ticks": "",
           "title": {
            "standoff": 15
           },
           "zerolinecolor": "#283442",
           "zerolinewidth": 2
          }
         }
        },
        "title": {
         "text": "Unsupervise anomaly detection in PS Call Setup SR"
        },
        "xaxis": {
         "anchor": "y",
         "domain": [
          0.0,
          1.0
         ],
         "rangeslider": {
          "visible": true
         },
         "title": {
          "text": "index"
         }
        },
        "yaxis": {
         "anchor": "x",
         "domain": [
          0.0,
          1.0
         ],
         "title": {
          "text": "PS Call Setup SR"
         }
        }
       }
      },
      "text/html": "<div>                            <div id=\"abf37586-ed61-482d-aec6-275d5c0af627\" class=\"plotly-graph-div\" style=\"height:525px; width:100%;\"></div>            <script type=\"text/javascript\">                require([\"plotly\"], function(Plotly) {                    window.PLOTLYENV=window.PLOTLYENV || {};                                    if (document.getElementById(\"abf37586-ed61-482d-aec6-275d5c0af627\")) {                    Plotly.newPlot(                        \"abf37586-ed61-482d-aec6-275d5c0af627\",                        [{\"hovertemplate\": \"index=%{x}<br>PS Call Setup SR=%{y}<extra></extra>\", \"legendgroup\": \"\", \"line\": {\"color\": \"#636efa\", \"dash\": \"solid\"}, \"mode\": \"lines\", \"name\": \"\", \"orientation\": \"v\", \"showlegend\": false, \"type\": \"scatter\", \"x\": [0, 1, 2, 3, 4, 5, 6, 7, 8, 9, 10, 11, 12, 13, 14, 15, 16, 17, 18, 19, 20, 21, 22, 23, 24, 25, 26, 27, 28, 29, 30, 31, 32, 33, 34, 35, 36, 37, 38, 39, 40, 41, 42, 43, 44, 45, 46, 47, 48, 49, 50, 51, 52, 53, 54, 55, 56, 57, 58, 59, 60, 61, 62, 63, 64, 65, 66, 67, 68, 69, 70, 71, 72, 73, 74, 75, 76, 77, 78, 79, 80, 81, 82, 83, 84, 85, 86, 87, 88, 89, 90, 91, 92, 93, 94, 95, 96, 97, 98, 99, 100, 101, 102, 103, 104, 105, 106, 107, 108, 109, 110, 111, 112, 113, 114, 115, 116, 117, 118, 119, 120, 121, 122, 123, 124, 125, 126, 127, 128, 129, 130, 131, 132, 133, 134, 135, 136, 137, 138, 139, 140, 141, 142, 143, 144, 145, 146, 147, 148, 149, 150, 151, 152, 153, 154, 155, 156, 157, 158, 159, 160, 161, 162, 163, 164, 165, 166, 167, 168, 169, 170, 171, 172, 173, 174, 175, 176, 177, 178, 179, 180, 181, 182, 183, 184, 185, 186, 187, 188, 189, 190, 191, 192, 193, 194, 195, 196, 197, 198, 199, 200, 201, 202, 203, 204, 205, 206, 207, 208, 209, 210, 211, 212, 213, 214, 215, 216, 217, 218, 219, 220, 221, 222, 223, 224], \"xaxis\": \"x\", \"y\": [95.94, 95.4, 94.97, 95.43, 95.16, 96.05, 94.94, 94.63, 95.59, 95.07, 95.36, 95.73, 95.32, 95.44, 95.79, 95.29, 95.4, 95.68, 95.64, 95.68, 96.03, 95.97, 95.53, 94.32, 93.11, 89.49, 94.8, 94.22, 95.48, 95.09, 95.09, 94.8, 94.4, 93.84, 94.98, 95.11, 95.58, 94.29, 95.87, 95.7, 96.0, 94.2, 95.38, 95.77, 95.57, 95.12, 95.28, 95.67, 95.67, 95.86, 95.61, 94.99, 94.87, 96.19, 95.95, 95.96, 96.12, 95.94, 95.11, 95.42, 95.55, 96.01, 95.91, 96.17, 95.99, 95.35, 95.06, 95.65, 95.21, 95.26, 96.15, 95.95, 95.05, 95.4, 95.47, 98.54, 98.74, 98.12, 98.11, 98.34, 98.43, 98.28, 98.2, 98.32, 98.33, 98.31, 98.21, 98.48, 98.19, 98.44, 98.35, 98.43, 98.58, 98.63, 98.69, 98.79, 98.82, 98.33, 98.43, 98.16, 98.09, 98.55, 98.38, 98.2, 98.35, 97.69, 97.81, 98.23, 98.11, 98.32, 97.88, 98.58, 98.51, 98.65, 98.47, 98.42, 98.15, 98.4, 98.34, 98.26, 98.46, 98.54, 98.62, 98.08, 98.33, 98.21, 97.94, 98.25, 98.33, 98.15, 98.57, 98.72, 98.28, 98.58, 98.69, 98.19, 98.55, 98.64, 98.51, 98.37, 98.47, 97.96, 98.16, 98.59, 98.23, 98.28, 98.45, 98.07, 98.06, 98.17, 97.66, 95.94, 97.42, 97.33, 97.94, 97.44, 97.22, 97.53, 96.91, 97.89, 97.23, 97.89, 97.63, 97.73, 97.34, 97.72, 97.2, 97.48, 97.92, 97.86, 98.2, 97.91, 98.06, 97.62, 97.47, 97.73, 97.7, 97.36, 97.67, 98.06, 97.84, 97.75, 97.89, 97.71, 97.13, 97.46, 98.04, 97.72, 98.01, 98.39, 98.08, 98.15, 98.25, 98.35, 97.28, 97.16, 97.76, 97.93, 98.05, 97.66, 97.89, 98.27, 97.97, 98.49, 98.19, 98.19, 97.92, 97.91, 98.0, 98.05, 98.33, 98.18, 97.53, 97.71, 98.3, 97.71, 97.78, 97.88, 97.81, 98.21, 98.24, 98.05, 98.21, 98.22, 97.98], \"yaxis\": \"y\"}, {\"mode\": \"markers\", \"name\": \"anomaly\", \"type\": \"scatter\", \"x\": [2, 6, 7, 9, 23, 24, 25, 26, 27, 29, 30, 31, 32, 33, 34, 37, 41, 51, 52, 66, 72], \"y\": [94.97, 94.94, 94.63, 95.07, 94.32, 93.11, 89.49, 94.8, 94.22, 95.09, 95.09, 94.8, 94.4, 93.84, 94.98, 94.29, 94.2, 94.99, 94.87, 95.06, 95.05]}],                        {\"legend\": {\"tracegroupgap\": 0}, \"template\": {\"data\": {\"bar\": [{\"error_x\": {\"color\": \"#f2f5fa\"}, \"error_y\": {\"color\": \"#f2f5fa\"}, \"marker\": {\"line\": {\"color\": \"rgb(17,17,17)\", \"width\": 0.5}}, \"type\": \"bar\"}], \"barpolar\": [{\"marker\": {\"line\": {\"color\": \"rgb(17,17,17)\", \"width\": 0.5}}, \"type\": \"barpolar\"}], \"carpet\": [{\"aaxis\": {\"endlinecolor\": \"#A2B1C6\", \"gridcolor\": \"#506784\", \"linecolor\": \"#506784\", \"minorgridcolor\": \"#506784\", \"startlinecolor\": \"#A2B1C6\"}, \"baxis\": {\"endlinecolor\": \"#A2B1C6\", \"gridcolor\": \"#506784\", \"linecolor\": \"#506784\", \"minorgridcolor\": \"#506784\", \"startlinecolor\": \"#A2B1C6\"}, \"type\": \"carpet\"}], \"choropleth\": [{\"colorbar\": {\"outlinewidth\": 0, \"ticks\": \"\"}, \"type\": \"choropleth\"}], \"contour\": [{\"colorbar\": {\"outlinewidth\": 0, \"ticks\": \"\"}, \"colorscale\": [[0.0, \"#0d0887\"], [0.1111111111111111, \"#46039f\"], [0.2222222222222222, \"#7201a8\"], [0.3333333333333333, \"#9c179e\"], [0.4444444444444444, \"#bd3786\"], [0.5555555555555556, \"#d8576b\"], [0.6666666666666666, \"#ed7953\"], [0.7777777777777778, \"#fb9f3a\"], [0.8888888888888888, \"#fdca26\"], [1.0, \"#f0f921\"]], \"type\": \"contour\"}], \"contourcarpet\": [{\"colorbar\": {\"outlinewidth\": 0, \"ticks\": \"\"}, \"type\": \"contourcarpet\"}], \"heatmap\": [{\"colorbar\": {\"outlinewidth\": 0, \"ticks\": \"\"}, \"colorscale\": [[0.0, \"#0d0887\"], [0.1111111111111111, \"#46039f\"], [0.2222222222222222, \"#7201a8\"], [0.3333333333333333, \"#9c179e\"], [0.4444444444444444, \"#bd3786\"], [0.5555555555555556, \"#d8576b\"], [0.6666666666666666, \"#ed7953\"], [0.7777777777777778, \"#fb9f3a\"], [0.8888888888888888, \"#fdca26\"], [1.0, \"#f0f921\"]], \"type\": \"heatmap\"}], \"heatmapgl\": [{\"colorbar\": {\"outlinewidth\": 0, \"ticks\": \"\"}, \"colorscale\": [[0.0, \"#0d0887\"], [0.1111111111111111, \"#46039f\"], [0.2222222222222222, \"#7201a8\"], [0.3333333333333333, \"#9c179e\"], [0.4444444444444444, \"#bd3786\"], [0.5555555555555556, \"#d8576b\"], [0.6666666666666666, \"#ed7953\"], [0.7777777777777778, \"#fb9f3a\"], [0.8888888888888888, \"#fdca26\"], [1.0, \"#f0f921\"]], \"type\": \"heatmapgl\"}], \"histogram\": [{\"marker\": {\"colorbar\": {\"outlinewidth\": 0, \"ticks\": \"\"}}, \"type\": \"histogram\"}], \"histogram2d\": [{\"colorbar\": {\"outlinewidth\": 0, \"ticks\": \"\"}, \"colorscale\": [[0.0, \"#0d0887\"], [0.1111111111111111, \"#46039f\"], [0.2222222222222222, \"#7201a8\"], [0.3333333333333333, \"#9c179e\"], [0.4444444444444444, \"#bd3786\"], [0.5555555555555556, \"#d8576b\"], [0.6666666666666666, \"#ed7953\"], [0.7777777777777778, \"#fb9f3a\"], [0.8888888888888888, \"#fdca26\"], [1.0, \"#f0f921\"]], \"type\": \"histogram2d\"}], \"histogram2dcontour\": [{\"colorbar\": {\"outlinewidth\": 0, \"ticks\": \"\"}, \"colorscale\": [[0.0, \"#0d0887\"], [0.1111111111111111, \"#46039f\"], [0.2222222222222222, \"#7201a8\"], [0.3333333333333333, \"#9c179e\"], [0.4444444444444444, \"#bd3786\"], [0.5555555555555556, \"#d8576b\"], [0.6666666666666666, \"#ed7953\"], [0.7777777777777778, \"#fb9f3a\"], [0.8888888888888888, \"#fdca26\"], [1.0, \"#f0f921\"]], \"type\": \"histogram2dcontour\"}], \"mesh3d\": [{\"colorbar\": {\"outlinewidth\": 0, \"ticks\": \"\"}, \"type\": \"mesh3d\"}], \"parcoords\": [{\"line\": {\"colorbar\": {\"outlinewidth\": 0, \"ticks\": \"\"}}, \"type\": \"parcoords\"}], \"pie\": [{\"automargin\": true, \"type\": \"pie\"}], \"scatter\": [{\"marker\": {\"line\": {\"color\": \"#283442\"}}, \"type\": \"scatter\"}], \"scatter3d\": [{\"line\": {\"colorbar\": {\"outlinewidth\": 0, \"ticks\": \"\"}}, \"marker\": {\"colorbar\": {\"outlinewidth\": 0, \"ticks\": \"\"}}, \"type\": \"scatter3d\"}], \"scattercarpet\": [{\"marker\": {\"colorbar\": {\"outlinewidth\": 0, \"ticks\": \"\"}}, \"type\": \"scattercarpet\"}], \"scattergeo\": [{\"marker\": {\"colorbar\": {\"outlinewidth\": 0, \"ticks\": \"\"}}, \"type\": \"scattergeo\"}], \"scattergl\": [{\"marker\": {\"line\": {\"color\": \"#283442\"}}, \"type\": \"scattergl\"}], \"scattermapbox\": [{\"marker\": {\"colorbar\": {\"outlinewidth\": 0, \"ticks\": \"\"}}, \"type\": \"scattermapbox\"}], \"scatterpolar\": [{\"marker\": {\"colorbar\": {\"outlinewidth\": 0, \"ticks\": \"\"}}, \"type\": \"scatterpolar\"}], \"scatterpolargl\": [{\"marker\": {\"colorbar\": {\"outlinewidth\": 0, \"ticks\": \"\"}}, \"type\": \"scatterpolargl\"}], \"scatterternary\": [{\"marker\": {\"colorbar\": {\"outlinewidth\": 0, \"ticks\": \"\"}}, \"type\": \"scatterternary\"}], \"surface\": [{\"colorbar\": {\"outlinewidth\": 0, \"ticks\": \"\"}, \"colorscale\": [[0.0, \"#0d0887\"], [0.1111111111111111, \"#46039f\"], [0.2222222222222222, \"#7201a8\"], [0.3333333333333333, \"#9c179e\"], [0.4444444444444444, \"#bd3786\"], [0.5555555555555556, \"#d8576b\"], [0.6666666666666666, \"#ed7953\"], [0.7777777777777778, \"#fb9f3a\"], [0.8888888888888888, \"#fdca26\"], [1.0, \"#f0f921\"]], \"type\": \"surface\"}], \"table\": [{\"cells\": {\"fill\": {\"color\": \"#506784\"}, \"line\": {\"color\": \"rgb(17,17,17)\"}}, \"header\": {\"fill\": {\"color\": \"#2a3f5f\"}, \"line\": {\"color\": \"rgb(17,17,17)\"}}, \"type\": \"table\"}]}, \"layout\": {\"annotationdefaults\": {\"arrowcolor\": \"#f2f5fa\", \"arrowhead\": 0, \"arrowwidth\": 1}, \"autotypenumbers\": \"strict\", \"coloraxis\": {\"colorbar\": {\"outlinewidth\": 0, \"ticks\": \"\"}}, \"colorscale\": {\"diverging\": [[0, \"#8e0152\"], [0.1, \"#c51b7d\"], [0.2, \"#de77ae\"], [0.3, \"#f1b6da\"], [0.4, \"#fde0ef\"], [0.5, \"#f7f7f7\"], [0.6, \"#e6f5d0\"], [0.7, \"#b8e186\"], [0.8, \"#7fbc41\"], [0.9, \"#4d9221\"], [1, \"#276419\"]], \"sequential\": [[0.0, \"#0d0887\"], [0.1111111111111111, \"#46039f\"], [0.2222222222222222, \"#7201a8\"], [0.3333333333333333, \"#9c179e\"], [0.4444444444444444, \"#bd3786\"], [0.5555555555555556, \"#d8576b\"], [0.6666666666666666, \"#ed7953\"], [0.7777777777777778, \"#fb9f3a\"], [0.8888888888888888, \"#fdca26\"], [1.0, \"#f0f921\"]], \"sequentialminus\": [[0.0, \"#0d0887\"], [0.1111111111111111, \"#46039f\"], [0.2222222222222222, \"#7201a8\"], [0.3333333333333333, \"#9c179e\"], [0.4444444444444444, \"#bd3786\"], [0.5555555555555556, \"#d8576b\"], [0.6666666666666666, \"#ed7953\"], [0.7777777777777778, \"#fb9f3a\"], [0.8888888888888888, \"#fdca26\"], [1.0, \"#f0f921\"]]}, \"colorway\": [\"#636efa\", \"#EF553B\", \"#00cc96\", \"#ab63fa\", \"#FFA15A\", \"#19d3f3\", \"#FF6692\", \"#B6E880\", \"#FF97FF\", \"#FECB52\"], \"font\": {\"color\": \"#f2f5fa\"}, \"geo\": {\"bgcolor\": \"rgb(17,17,17)\", \"lakecolor\": \"rgb(17,17,17)\", \"landcolor\": \"rgb(17,17,17)\", \"showlakes\": true, \"showland\": true, \"subunitcolor\": \"#506784\"}, \"hoverlabel\": {\"align\": \"left\"}, \"hovermode\": \"closest\", \"mapbox\": {\"style\": \"dark\"}, \"paper_bgcolor\": \"rgb(17,17,17)\", \"plot_bgcolor\": \"rgb(17,17,17)\", \"polar\": {\"angularaxis\": {\"gridcolor\": \"#506784\", \"linecolor\": \"#506784\", \"ticks\": \"\"}, \"bgcolor\": \"rgb(17,17,17)\", \"radialaxis\": {\"gridcolor\": \"#506784\", \"linecolor\": \"#506784\", \"ticks\": \"\"}}, \"scene\": {\"xaxis\": {\"backgroundcolor\": \"rgb(17,17,17)\", \"gridcolor\": \"#506784\", \"gridwidth\": 2, \"linecolor\": \"#506784\", \"showbackground\": true, \"ticks\": \"\", \"zerolinecolor\": \"#C8D4E3\"}, \"yaxis\": {\"backgroundcolor\": \"rgb(17,17,17)\", \"gridcolor\": \"#506784\", \"gridwidth\": 2, \"linecolor\": \"#506784\", \"showbackground\": true, \"ticks\": \"\", \"zerolinecolor\": \"#C8D4E3\"}, \"zaxis\": {\"backgroundcolor\": \"rgb(17,17,17)\", \"gridcolor\": \"#506784\", \"gridwidth\": 2, \"linecolor\": \"#506784\", \"showbackground\": true, \"ticks\": \"\", \"zerolinecolor\": \"#C8D4E3\"}}, \"shapedefaults\": {\"line\": {\"color\": \"#f2f5fa\"}}, \"sliderdefaults\": {\"bgcolor\": \"#C8D4E3\", \"bordercolor\": \"rgb(17,17,17)\", \"borderwidth\": 1, \"tickwidth\": 0}, \"ternary\": {\"aaxis\": {\"gridcolor\": \"#506784\", \"linecolor\": \"#506784\", \"ticks\": \"\"}, \"baxis\": {\"gridcolor\": \"#506784\", \"linecolor\": \"#506784\", \"ticks\": \"\"}, \"bgcolor\": \"rgb(17,17,17)\", \"caxis\": {\"gridcolor\": \"#506784\", \"linecolor\": \"#506784\", \"ticks\": \"\"}}, \"title\": {\"x\": 0.05}, \"updatemenudefaults\": {\"bgcolor\": \"#506784\", \"borderwidth\": 0}, \"xaxis\": {\"automargin\": true, \"gridcolor\": \"#283442\", \"linecolor\": \"#506784\", \"ticks\": \"\", \"title\": {\"standoff\": 15}, \"zerolinecolor\": \"#283442\", \"zerolinewidth\": 2}, \"yaxis\": {\"automargin\": true, \"gridcolor\": \"#283442\", \"linecolor\": \"#506784\", \"ticks\": \"\", \"title\": {\"standoff\": 15}, \"zerolinecolor\": \"#283442\", \"zerolinewidth\": 2}}}, \"title\": {\"text\": \"Unsupervise anomaly detection in PS Call Setup SR\"}, \"xaxis\": {\"anchor\": \"y\", \"domain\": [0.0, 1.0], \"rangeslider\": {\"visible\": true}, \"title\": {\"text\": \"index\"}}, \"yaxis\": {\"anchor\": \"x\", \"domain\": [0.0, 1.0], \"title\": {\"text\": \"PS Call Setup SR\"}}},                        {\"responsive\": true}                    ).then(function(){\n                            \nvar gd = document.getElementById('abf37586-ed61-482d-aec6-275d5c0af627');\nvar x = new MutationObserver(function (mutations, observer) {{\n        var display = window.getComputedStyle(gd).display;\n        if (!display || display === 'none') {{\n            console.log([gd, 'removed!']);\n            Plotly.purge(gd);\n            observer.disconnect();\n        }}\n}});\n\n// Listen for the removal of the full notebook cells\nvar notebookContainer = gd.closest('#notebook-container');\nif (notebookContainer) {{\n    x.observe(notebookContainer, {childList: true});\n}}\n\n// Listen for the clearing of the current output cell\nvar outputEl = gd.closest('.output');\nif (outputEl) {{\n    x.observe(outputEl, {childList: true});\n}}\n\n                        })                };                });            </script>        </div>"
     },
     "metadata": {},
     "output_type": "display_data"
    }
   ],
   "source": [
    "fig = px.line(df, x='index', y='PS Call Setup SR', title='Unsupervise anomaly detection in PS Call Setup SR')\n",
    "fig.add_trace(go.Scatter(x=ocsvm_anomaly_df[\"index\"].to_list(),\n",
    "                        y=ocsvm_anomaly_df[\"PS Call Setup SR\"].to_list(),\n",
    "                        mode='markers',\n",
    "                        name='anomaly'))\n",
    "fig.update_xaxes(rangeslider_visible=True)\n",
    "fig"
   ]
  },
  {
   "cell_type": "code",
   "execution_count": 86,
   "outputs": [
    {
     "name": "stdout",
     "output_type": "stream",
     "text": [
      "Nombres des valeurs inférieur à 95.00% sont : 16\n",
      "Nombres des vrais anomalie détecter sont : 16  parmi  21 anomalies détecter\n"
     ]
    }
   ],
   "source": [
    "nbr_val_inf_threshold = len(df[df['PS Call Setup SR'] < 95.00])\n",
    "print(\"Nombres des valeurs inférieur à 95.00% sont :\", nbr_val_inf_threshold)\n",
    "nbr_all_anomaly_PSSR = len(df[df['anomaly'] == 1])\n",
    "nbr_true_anom_PSSR = len(df[(df['anomaly'] == 1) & (df['PS Call Setup SR'] < 95.00)])\n",
    "print(\"Nombres des vrais anomalie détecter sont :\",nbr_true_anom_PSSR,\" parmi \",nbr_all_anomaly_PSSR, \"anomalies détecter\")"
   ],
   "metadata": {
    "collapsed": false
   }
  }
 ],
 "metadata": {
  "kernelspec": {
   "display_name": "Python 3.9.7 ('base')",
   "language": "python",
   "name": "python3"
  },
  "language_info": {
   "codemirror_mode": {
    "name": "ipython",
    "version": 3
   },
   "file_extension": ".py",
   "mimetype": "text/x-python",
   "name": "python",
   "nbconvert_exporter": "python",
   "pygments_lexer": "ipython3",
   "version": "3.9.7"
  },
  "orig_nbformat": 4,
  "vscode": {
   "interpreter": {
    "hash": "a523daf8fd2b82835abd49a4640378259e74c67969436cc2dd61b629b3a0278c"
   }
  }
 },
 "nbformat": 4,
 "nbformat_minor": 2
}
