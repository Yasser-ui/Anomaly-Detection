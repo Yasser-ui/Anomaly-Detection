{
 "cells": [
  {
   "cell_type": "code",
   "execution_count": 45,
   "metadata": {
    "collapsed": true
   },
   "outputs": [],
   "source": [
    "import numpy as np\n",
    "import pandas as pd\n",
    "import matplotlib.pyplot as plt"
   ]
  },
  {
   "cell_type": "code",
   "execution_count": 46,
   "outputs": [],
   "source": [
    "df = pd.read_csv('data_set_3G.csv')"
   ],
   "metadata": {
    "collapsed": false
   }
  },
  {
   "cell_type": "markdown",
   "source": [
    "Afficher les 5 premiers enregistrement"
   ],
   "metadata": {
    "collapsed": false
   }
  },
  {
   "cell_type": "code",
   "execution_count": 47,
   "outputs": [
    {
     "data": {
      "text/plain": "       Date RBS Id  TRAFFIC PS(DL+UL)(Gbits)  HSDPA Data Volume  \\\n0  16-12-21      A                     74.39              66.74   \n1  17-12-21      A                     65.41              58.40   \n2  18-12-21      A                     65.67              58.93   \n3  19-12-21      A                     57.79              50.91   \n4  20-12-21      A                     79.74              70.04   \n\n   HSUPA Data Volume  Cell Traffic Volume DL Speech (Erlang)  CS CSSR  \\\n0               7.65                                  156.83    99.69   \n1               7.01                                  107.82    99.26   \n2               6.74                                   94.38    99.26   \n3               6.87                                  101.48    99.08   \n4               9.69                                  163.22    99.65   \n\n   CS DROP Rate  # PS Call Setup SR  PS DROP Rate 2  Availability  \\\n0          0.77               95.94            1.72         100.0   \n1          0.97               95.40            2.37         100.0   \n2          1.09               94.97            3.03         100.0   \n3          1.23               95.43            2.60         100.0   \n4          0.76               95.16            1.61         100.0   \n\n   Soft Handover  Irat CS Handover SR IRAT PS 2  throughput  \n0          99.86                93.94       100         NaN  \n1          99.67                97.98       100         NaN  \n2          99.57                96.43         0         NaN  \n3          99.72                93.14       100         NaN  \n4          99.86                94.23    #DIV/0         NaN  ",
      "text/html": "<div>\n<style scoped>\n    .dataframe tbody tr th:only-of-type {\n        vertical-align: middle;\n    }\n\n    .dataframe tbody tr th {\n        vertical-align: top;\n    }\n\n    .dataframe thead th {\n        text-align: right;\n    }\n</style>\n<table border=\"1\" class=\"dataframe\">\n  <thead>\n    <tr style=\"text-align: right;\">\n      <th></th>\n      <th>Date</th>\n      <th>RBS Id</th>\n      <th>TRAFFIC PS(DL+UL)(Gbits)</th>\n      <th>HSDPA Data Volume</th>\n      <th>HSUPA Data Volume</th>\n      <th>Cell Traffic Volume DL Speech (Erlang)</th>\n      <th>CS CSSR</th>\n      <th>CS DROP Rate</th>\n      <th># PS Call Setup SR</th>\n      <th>PS DROP Rate 2</th>\n      <th>Availability</th>\n      <th>Soft Handover</th>\n      <th>Irat CS Handover SR</th>\n      <th>IRAT PS 2</th>\n      <th>throughput</th>\n    </tr>\n  </thead>\n  <tbody>\n    <tr>\n      <th>0</th>\n      <td>16-12-21</td>\n      <td>A</td>\n      <td>74.39</td>\n      <td>66.74</td>\n      <td>7.65</td>\n      <td>156.83</td>\n      <td>99.69</td>\n      <td>0.77</td>\n      <td>95.94</td>\n      <td>1.72</td>\n      <td>100.0</td>\n      <td>99.86</td>\n      <td>93.94</td>\n      <td>100</td>\n      <td>NaN</td>\n    </tr>\n    <tr>\n      <th>1</th>\n      <td>17-12-21</td>\n      <td>A</td>\n      <td>65.41</td>\n      <td>58.40</td>\n      <td>7.01</td>\n      <td>107.82</td>\n      <td>99.26</td>\n      <td>0.97</td>\n      <td>95.40</td>\n      <td>2.37</td>\n      <td>100.0</td>\n      <td>99.67</td>\n      <td>97.98</td>\n      <td>100</td>\n      <td>NaN</td>\n    </tr>\n    <tr>\n      <th>2</th>\n      <td>18-12-21</td>\n      <td>A</td>\n      <td>65.67</td>\n      <td>58.93</td>\n      <td>6.74</td>\n      <td>94.38</td>\n      <td>99.26</td>\n      <td>1.09</td>\n      <td>94.97</td>\n      <td>3.03</td>\n      <td>100.0</td>\n      <td>99.57</td>\n      <td>96.43</td>\n      <td>0</td>\n      <td>NaN</td>\n    </tr>\n    <tr>\n      <th>3</th>\n      <td>19-12-21</td>\n      <td>A</td>\n      <td>57.79</td>\n      <td>50.91</td>\n      <td>6.87</td>\n      <td>101.48</td>\n      <td>99.08</td>\n      <td>1.23</td>\n      <td>95.43</td>\n      <td>2.60</td>\n      <td>100.0</td>\n      <td>99.72</td>\n      <td>93.14</td>\n      <td>100</td>\n      <td>NaN</td>\n    </tr>\n    <tr>\n      <th>4</th>\n      <td>20-12-21</td>\n      <td>A</td>\n      <td>79.74</td>\n      <td>70.04</td>\n      <td>9.69</td>\n      <td>163.22</td>\n      <td>99.65</td>\n      <td>0.76</td>\n      <td>95.16</td>\n      <td>1.61</td>\n      <td>100.0</td>\n      <td>99.86</td>\n      <td>94.23</td>\n      <td>#DIV/0</td>\n      <td>NaN</td>\n    </tr>\n  </tbody>\n</table>\n</div>"
     },
     "execution_count": 47,
     "metadata": {},
     "output_type": "execute_result"
    }
   ],
   "source": [
    "df.head()"
   ],
   "metadata": {
    "collapsed": false
   }
  },
  {
   "cell_type": "markdown",
   "source": [
    "Afficher les dimensions du dataset"
   ],
   "metadata": {
    "collapsed": false
   }
  },
  {
   "cell_type": "code",
   "execution_count": 48,
   "outputs": [
    {
     "data": {
      "text/plain": "(225, 15)"
     },
     "execution_count": 48,
     "metadata": {},
     "output_type": "execute_result"
    }
   ],
   "source": [
    "df.shape"
   ],
   "metadata": {
    "collapsed": false
   }
  },
  {
   "cell_type": "markdown",
   "source": [
    "Afficher les types des attributs"
   ],
   "metadata": {
    "collapsed": false
   }
  },
  {
   "cell_type": "code",
   "execution_count": 49,
   "outputs": [
    {
     "name": "stdout",
     "output_type": "stream",
     "text": [
      "<class 'pandas.core.frame.DataFrame'>\n",
      "RangeIndex: 225 entries, 0 to 224\n",
      "Data columns (total 15 columns):\n",
      " #   Column                                  Non-Null Count  Dtype  \n",
      "---  ------                                  --------------  -----  \n",
      " 0   Date                                    225 non-null    object \n",
      " 1   RBS Id                                  225 non-null    object \n",
      " 2   TRAFFIC PS(DL+UL)(Gbits)                225 non-null    float64\n",
      " 3   HSDPA Data Volume                       225 non-null    float64\n",
      " 4   HSUPA Data Volume                       225 non-null    float64\n",
      " 5   Cell Traffic Volume DL Speech (Erlang)  225 non-null    float64\n",
      " 6   CS CSSR                                 225 non-null    float64\n",
      " 7   CS DROP Rate                            225 non-null    float64\n",
      " 8   # PS Call Setup SR                      225 non-null    float64\n",
      " 9   PS DROP Rate 2                          225 non-null    float64\n",
      " 10  Availability                            225 non-null    float64\n",
      " 11  Soft Handover                           225 non-null    float64\n",
      " 12  Irat CS Handover SR                     225 non-null    float64\n",
      " 13  IRAT PS 2                               225 non-null    object \n",
      " 14  throughput                              210 non-null    float64\n",
      "dtypes: float64(12), object(3)\n",
      "memory usage: 26.5+ KB\n"
     ]
    }
   ],
   "source": [
    "df.info()"
   ],
   "metadata": {
    "collapsed": false
   }
  },
  {
   "cell_type": "markdown",
   "source": [],
   "metadata": {
    "collapsed": false
   }
  },
  {
   "cell_type": "markdown",
   "source": [
    "description des attributs numérique"
   ],
   "metadata": {
    "collapsed": false
   }
  },
  {
   "cell_type": "code",
   "execution_count": 50,
   "outputs": [
    {
     "data": {
      "text/plain": "       TRAFFIC PS(DL+UL)(Gbits)  HSDPA Data Volume  HSUPA Data Volume  \\\ncount                225.000000         225.000000         225.000000   \nmean                  75.451689          65.550267           9.901467   \nstd                   15.384861          13.941946           1.930735   \nmin                   47.290000          39.680000           6.740000   \n25%                   63.770000          54.870000           8.480000   \n50%                   73.520000          63.000000           9.690000   \n75%                   86.340000          75.420000          11.020000   \nmax                  122.510000         104.830000          19.250000   \n\n       Cell Traffic Volume DL Speech (Erlang)     CS CSSR  CS DROP Rate  \\\ncount                              225.000000  225.000000    225.000000   \nmean                               467.912844   99.709200      0.774756   \nstd                                252.632039    0.312007      1.190462   \nmin                                 78.950000   98.290000      0.060000   \n25%                                157.500000   99.540000      0.130000   \n50%                                556.200000   99.890000      0.160000   \n75%                                672.440000   99.910000      0.850000   \nmax                                846.220000   99.960000      4.990000   \n\n       # PS Call Setup SR  PS DROP Rate 2  Availability  Soft Handover  \\\ncount          225.000000      225.000000    225.000000     225.000000   \nmean            97.146000        1.160667     99.677289      99.944933   \nstd              1.452273        0.901603      0.853909       0.345521   \nmin             89.490000        0.380000     93.750000      97.860000   \n25%             95.790000        0.560000    100.000000      99.760000   \n50%             97.840000        0.700000    100.000000     100.100000   \n75%             98.250000        1.550000    100.000000     100.120000   \nmax             98.820000        4.730000    100.000000     102.170000   \n\n       Irat CS Handover SR   throughput  \ncount           225.000000   210.000000  \nmean             95.946089   764.891000  \nstd               1.425905   101.139858  \nmin              87.640000   490.410000  \n25%              95.250000   686.115000  \n50%              96.120000   755.790000  \n75%              96.990000   834.200000  \nmax              98.110000  1126.590000  ",
      "text/html": "<div>\n<style scoped>\n    .dataframe tbody tr th:only-of-type {\n        vertical-align: middle;\n    }\n\n    .dataframe tbody tr th {\n        vertical-align: top;\n    }\n\n    .dataframe thead th {\n        text-align: right;\n    }\n</style>\n<table border=\"1\" class=\"dataframe\">\n  <thead>\n    <tr style=\"text-align: right;\">\n      <th></th>\n      <th>TRAFFIC PS(DL+UL)(Gbits)</th>\n      <th>HSDPA Data Volume</th>\n      <th>HSUPA Data Volume</th>\n      <th>Cell Traffic Volume DL Speech (Erlang)</th>\n      <th>CS CSSR</th>\n      <th>CS DROP Rate</th>\n      <th># PS Call Setup SR</th>\n      <th>PS DROP Rate 2</th>\n      <th>Availability</th>\n      <th>Soft Handover</th>\n      <th>Irat CS Handover SR</th>\n      <th>throughput</th>\n    </tr>\n  </thead>\n  <tbody>\n    <tr>\n      <th>count</th>\n      <td>225.000000</td>\n      <td>225.000000</td>\n      <td>225.000000</td>\n      <td>225.000000</td>\n      <td>225.000000</td>\n      <td>225.000000</td>\n      <td>225.000000</td>\n      <td>225.000000</td>\n      <td>225.000000</td>\n      <td>225.000000</td>\n      <td>225.000000</td>\n      <td>210.000000</td>\n    </tr>\n    <tr>\n      <th>mean</th>\n      <td>75.451689</td>\n      <td>65.550267</td>\n      <td>9.901467</td>\n      <td>467.912844</td>\n      <td>99.709200</td>\n      <td>0.774756</td>\n      <td>97.146000</td>\n      <td>1.160667</td>\n      <td>99.677289</td>\n      <td>99.944933</td>\n      <td>95.946089</td>\n      <td>764.891000</td>\n    </tr>\n    <tr>\n      <th>std</th>\n      <td>15.384861</td>\n      <td>13.941946</td>\n      <td>1.930735</td>\n      <td>252.632039</td>\n      <td>0.312007</td>\n      <td>1.190462</td>\n      <td>1.452273</td>\n      <td>0.901603</td>\n      <td>0.853909</td>\n      <td>0.345521</td>\n      <td>1.425905</td>\n      <td>101.139858</td>\n    </tr>\n    <tr>\n      <th>min</th>\n      <td>47.290000</td>\n      <td>39.680000</td>\n      <td>6.740000</td>\n      <td>78.950000</td>\n      <td>98.290000</td>\n      <td>0.060000</td>\n      <td>89.490000</td>\n      <td>0.380000</td>\n      <td>93.750000</td>\n      <td>97.860000</td>\n      <td>87.640000</td>\n      <td>490.410000</td>\n    </tr>\n    <tr>\n      <th>25%</th>\n      <td>63.770000</td>\n      <td>54.870000</td>\n      <td>8.480000</td>\n      <td>157.500000</td>\n      <td>99.540000</td>\n      <td>0.130000</td>\n      <td>95.790000</td>\n      <td>0.560000</td>\n      <td>100.000000</td>\n      <td>99.760000</td>\n      <td>95.250000</td>\n      <td>686.115000</td>\n    </tr>\n    <tr>\n      <th>50%</th>\n      <td>73.520000</td>\n      <td>63.000000</td>\n      <td>9.690000</td>\n      <td>556.200000</td>\n      <td>99.890000</td>\n      <td>0.160000</td>\n      <td>97.840000</td>\n      <td>0.700000</td>\n      <td>100.000000</td>\n      <td>100.100000</td>\n      <td>96.120000</td>\n      <td>755.790000</td>\n    </tr>\n    <tr>\n      <th>75%</th>\n      <td>86.340000</td>\n      <td>75.420000</td>\n      <td>11.020000</td>\n      <td>672.440000</td>\n      <td>99.910000</td>\n      <td>0.850000</td>\n      <td>98.250000</td>\n      <td>1.550000</td>\n      <td>100.000000</td>\n      <td>100.120000</td>\n      <td>96.990000</td>\n      <td>834.200000</td>\n    </tr>\n    <tr>\n      <th>max</th>\n      <td>122.510000</td>\n      <td>104.830000</td>\n      <td>19.250000</td>\n      <td>846.220000</td>\n      <td>99.960000</td>\n      <td>4.990000</td>\n      <td>98.820000</td>\n      <td>4.730000</td>\n      <td>100.000000</td>\n      <td>102.170000</td>\n      <td>98.110000</td>\n      <td>1126.590000</td>\n    </tr>\n  </tbody>\n</table>\n</div>"
     },
     "execution_count": 50,
     "metadata": {},
     "output_type": "execute_result"
    }
   ],
   "source": [
    "df.describe()"
   ],
   "metadata": {
    "collapsed": false
   }
  },
  {
   "cell_type": "markdown",
   "source": [
    "Vérification si on a des valeurs manquantes"
   ],
   "metadata": {
    "collapsed": false
   }
  },
  {
   "cell_type": "code",
   "execution_count": 51,
   "outputs": [
    {
     "data": {
      "text/plain": "Date                                       0\nRBS Id                                     0\nTRAFFIC PS(DL+UL)(Gbits)                   0\nHSDPA Data Volume                          0\nHSUPA Data Volume                          0\nCell Traffic Volume DL Speech (Erlang)     0\nCS CSSR                                    0\nCS DROP Rate                               0\n# PS Call Setup SR                         0\nPS DROP Rate 2                             0\nAvailability                               0\nSoft Handover                              0\nIrat CS Handover SR                        0\nIRAT PS 2                                  0\nthroughput                                15\ndtype: int64"
     },
     "execution_count": 51,
     "metadata": {},
     "output_type": "execute_result"
    }
   ],
   "source": [
    "manque = df.isnull().sum()\n",
    "manque"
   ],
   "metadata": {
    "collapsed": false
   }
  },
  {
   "cell_type": "code",
   "execution_count": 52,
   "outputs": [
    {
     "data": {
      "text/plain": "#DIV/0         159\n100             30\n0               14\n50              14\n66.66666667      4\n33.33333333      1\n40               1\n75               1\n25               1\nName: IRAT PS 2, dtype: int64"
     },
     "execution_count": 52,
     "metadata": {},
     "output_type": "execute_result"
    }
   ],
   "source": [
    "df[\"IRAT PS 2\"].value_counts()"
   ],
   "metadata": {
    "collapsed": false
   }
  },
  {
   "cell_type": "code",
   "execution_count": 53,
   "outputs": [
    {
     "data": {
      "text/plain": "         Date RBS Id  TRAFFIC PS(DL+UL)(Gbits)  HSDPA Data Volume  \\\n0    16-12-21      A                     74.39              66.74   \n1    17-12-21      A                     65.41              58.40   \n2    18-12-21      A                     65.67              58.93   \n3    19-12-21      A                     57.79              50.91   \n4    20-12-21      A                     79.74              70.04   \n..        ...    ...                       ...                ...   \n220  24-02-22      C                     70.52              59.72   \n221  25-02-22      C                     75.61              63.60   \n222  26-02-22      C                     64.78              54.70   \n223  27-02-22      C                     58.11              50.09   \n224  28-02-22      C                     58.69              50.10   \n\n     HSUPA Data Volume  Cell Traffic Volume DL Speech (Erlang)  CS CSSR  \\\n0                 7.65                                  156.83    99.69   \n1                 7.01                                  107.82    99.26   \n2                 6.74                                   94.38    99.26   \n3                 6.87                                  101.48    99.08   \n4                 9.69                                  163.22    99.65   \n..                 ...                                     ...      ...   \n220              10.80                                  830.01    99.91   \n221              12.00                                  817.77    99.92   \n222              10.08                                  688.96    99.91   \n223               8.02                                  556.20    99.90   \n224               8.59                                  784.59    99.90   \n\n     CS DROP Rate  # PS Call Setup SR  PS DROP Rate 2  Availability  \\\n0            0.77               95.94            1.72         100.0   \n1            0.97               95.40            2.37         100.0   \n2            1.09               94.97            3.03         100.0   \n3            1.23               95.43            2.60         100.0   \n4            0.76               95.16            1.61         100.0   \n..            ...                 ...             ...           ...   \n220          0.13               98.24            0.56         100.0   \n221          0.12               98.05            0.59         100.0   \n222          0.10               98.21            0.65         100.0   \n223          0.13               98.22            0.57         100.0   \n224          0.16               97.98            0.71         100.0   \n\n     Soft Handover  Irat CS Handover SR  throughput  \n0            99.86                93.94         NaN  \n1            99.67                97.98         NaN  \n2            99.57                96.43         NaN  \n3            99.72                93.14         NaN  \n4            99.86                94.23         NaN  \n..             ...                  ...         ...  \n220         100.09                97.84      728.72  \n221         100.06                95.18      710.86  \n222         100.11                97.16      706.49  \n223         100.08                97.13      719.90  \n224         100.13                97.59      620.85  \n\n[225 rows x 14 columns]",
      "text/html": "<div>\n<style scoped>\n    .dataframe tbody tr th:only-of-type {\n        vertical-align: middle;\n    }\n\n    .dataframe tbody tr th {\n        vertical-align: top;\n    }\n\n    .dataframe thead th {\n        text-align: right;\n    }\n</style>\n<table border=\"1\" class=\"dataframe\">\n  <thead>\n    <tr style=\"text-align: right;\">\n      <th></th>\n      <th>Date</th>\n      <th>RBS Id</th>\n      <th>TRAFFIC PS(DL+UL)(Gbits)</th>\n      <th>HSDPA Data Volume</th>\n      <th>HSUPA Data Volume</th>\n      <th>Cell Traffic Volume DL Speech (Erlang)</th>\n      <th>CS CSSR</th>\n      <th>CS DROP Rate</th>\n      <th># PS Call Setup SR</th>\n      <th>PS DROP Rate 2</th>\n      <th>Availability</th>\n      <th>Soft Handover</th>\n      <th>Irat CS Handover SR</th>\n      <th>throughput</th>\n    </tr>\n  </thead>\n  <tbody>\n    <tr>\n      <th>0</th>\n      <td>16-12-21</td>\n      <td>A</td>\n      <td>74.39</td>\n      <td>66.74</td>\n      <td>7.65</td>\n      <td>156.83</td>\n      <td>99.69</td>\n      <td>0.77</td>\n      <td>95.94</td>\n      <td>1.72</td>\n      <td>100.0</td>\n      <td>99.86</td>\n      <td>93.94</td>\n      <td>NaN</td>\n    </tr>\n    <tr>\n      <th>1</th>\n      <td>17-12-21</td>\n      <td>A</td>\n      <td>65.41</td>\n      <td>58.40</td>\n      <td>7.01</td>\n      <td>107.82</td>\n      <td>99.26</td>\n      <td>0.97</td>\n      <td>95.40</td>\n      <td>2.37</td>\n      <td>100.0</td>\n      <td>99.67</td>\n      <td>97.98</td>\n      <td>NaN</td>\n    </tr>\n    <tr>\n      <th>2</th>\n      <td>18-12-21</td>\n      <td>A</td>\n      <td>65.67</td>\n      <td>58.93</td>\n      <td>6.74</td>\n      <td>94.38</td>\n      <td>99.26</td>\n      <td>1.09</td>\n      <td>94.97</td>\n      <td>3.03</td>\n      <td>100.0</td>\n      <td>99.57</td>\n      <td>96.43</td>\n      <td>NaN</td>\n    </tr>\n    <tr>\n      <th>3</th>\n      <td>19-12-21</td>\n      <td>A</td>\n      <td>57.79</td>\n      <td>50.91</td>\n      <td>6.87</td>\n      <td>101.48</td>\n      <td>99.08</td>\n      <td>1.23</td>\n      <td>95.43</td>\n      <td>2.60</td>\n      <td>100.0</td>\n      <td>99.72</td>\n      <td>93.14</td>\n      <td>NaN</td>\n    </tr>\n    <tr>\n      <th>4</th>\n      <td>20-12-21</td>\n      <td>A</td>\n      <td>79.74</td>\n      <td>70.04</td>\n      <td>9.69</td>\n      <td>163.22</td>\n      <td>99.65</td>\n      <td>0.76</td>\n      <td>95.16</td>\n      <td>1.61</td>\n      <td>100.0</td>\n      <td>99.86</td>\n      <td>94.23</td>\n      <td>NaN</td>\n    </tr>\n    <tr>\n      <th>...</th>\n      <td>...</td>\n      <td>...</td>\n      <td>...</td>\n      <td>...</td>\n      <td>...</td>\n      <td>...</td>\n      <td>...</td>\n      <td>...</td>\n      <td>...</td>\n      <td>...</td>\n      <td>...</td>\n      <td>...</td>\n      <td>...</td>\n      <td>...</td>\n    </tr>\n    <tr>\n      <th>220</th>\n      <td>24-02-22</td>\n      <td>C</td>\n      <td>70.52</td>\n      <td>59.72</td>\n      <td>10.80</td>\n      <td>830.01</td>\n      <td>99.91</td>\n      <td>0.13</td>\n      <td>98.24</td>\n      <td>0.56</td>\n      <td>100.0</td>\n      <td>100.09</td>\n      <td>97.84</td>\n      <td>728.72</td>\n    </tr>\n    <tr>\n      <th>221</th>\n      <td>25-02-22</td>\n      <td>C</td>\n      <td>75.61</td>\n      <td>63.60</td>\n      <td>12.00</td>\n      <td>817.77</td>\n      <td>99.92</td>\n      <td>0.12</td>\n      <td>98.05</td>\n      <td>0.59</td>\n      <td>100.0</td>\n      <td>100.06</td>\n      <td>95.18</td>\n      <td>710.86</td>\n    </tr>\n    <tr>\n      <th>222</th>\n      <td>26-02-22</td>\n      <td>C</td>\n      <td>64.78</td>\n      <td>54.70</td>\n      <td>10.08</td>\n      <td>688.96</td>\n      <td>99.91</td>\n      <td>0.10</td>\n      <td>98.21</td>\n      <td>0.65</td>\n      <td>100.0</td>\n      <td>100.11</td>\n      <td>97.16</td>\n      <td>706.49</td>\n    </tr>\n    <tr>\n      <th>223</th>\n      <td>27-02-22</td>\n      <td>C</td>\n      <td>58.11</td>\n      <td>50.09</td>\n      <td>8.02</td>\n      <td>556.20</td>\n      <td>99.90</td>\n      <td>0.13</td>\n      <td>98.22</td>\n      <td>0.57</td>\n      <td>100.0</td>\n      <td>100.08</td>\n      <td>97.13</td>\n      <td>719.90</td>\n    </tr>\n    <tr>\n      <th>224</th>\n      <td>28-02-22</td>\n      <td>C</td>\n      <td>58.69</td>\n      <td>50.10</td>\n      <td>8.59</td>\n      <td>784.59</td>\n      <td>99.90</td>\n      <td>0.16</td>\n      <td>97.98</td>\n      <td>0.71</td>\n      <td>100.0</td>\n      <td>100.13</td>\n      <td>97.59</td>\n      <td>620.85</td>\n    </tr>\n  </tbody>\n</table>\n<p>225 rows × 14 columns</p>\n</div>"
     },
     "execution_count": 53,
     "metadata": {},
     "output_type": "execute_result"
    }
   ],
   "source": [
    "df.drop('IRAT PS 2', inplace=True,axis=1)\n",
    "df"
   ],
   "metadata": {
    "collapsed": false
   }
  },
  {
   "cell_type": "code",
   "execution_count": 54,
   "outputs": [
    {
     "data": {
      "text/plain": "Date                                       0\nRBS Id                                     0\nTRAFFIC PS(DL+UL)(Gbits)                   0\nHSDPA Data Volume                          0\nHSUPA Data Volume                          0\nCell Traffic Volume DL Speech (Erlang)     0\nCS CSSR                                    0\nCS DROP Rate                               0\n# PS Call Setup SR                         0\nPS DROP Rate 2                             0\nAvailability                               0\nSoft Handover                              0\nIrat CS Handover SR                        0\nthroughput                                15\ndtype: int64"
     },
     "execution_count": 54,
     "metadata": {},
     "output_type": "execute_result"
    }
   ],
   "source": [
    "df.isnull().sum()"
   ],
   "metadata": {
    "collapsed": false
   }
  },
  {
   "cell_type": "code",
   "execution_count": 55,
   "outputs": [
    {
     "name": "stdout",
     "output_type": "stream",
     "text": [
      "Après de remplacer les valeurs manquantes du throughput \n",
      "  Date                                      0\n",
      "RBS Id                                    0\n",
      "TRAFFIC PS(DL+UL)(Gbits)                  0\n",
      "HSDPA Data Volume                         0\n",
      "HSUPA Data Volume                         0\n",
      "Cell Traffic Volume DL Speech (Erlang)    0\n",
      "CS CSSR                                   0\n",
      "CS DROP Rate                              0\n",
      "# PS Call Setup SR                        0\n",
      "PS DROP Rate 2                            0\n",
      "Availability                              0\n",
      "Soft Handover                             0\n",
      "Irat CS Handover SR                       0\n",
      "throughput                                0\n",
      "dtype: int64\n"
     ]
    }
   ],
   "source": [
    "median = df[\"throughput\"].median()\n",
    "df[\"throughput\"].replace(np.nan, median, inplace=True)\n",
    "x = df.isnull().sum()\n",
    "print('Après de remplacer les valeurs manquantes du throughput \\n ', x)"
   ],
   "metadata": {
    "collapsed": false
   }
  },
  {
   "cell_type": "code",
   "execution_count": 56,
   "outputs": [
    {
     "data": {
      "text/plain": "A    75\nB    75\nC    75\nName: RBS Id, dtype: int64"
     },
     "execution_count": 56,
     "metadata": {},
     "output_type": "execute_result"
    }
   ],
   "source": [
    "df['RBS Id'].value_counts()"
   ],
   "metadata": {
    "collapsed": false
   }
  },
  {
   "cell_type": "code",
   "execution_count": 57,
   "outputs": [
    {
     "data": {
      "text/plain": "0    75\n1    75\n2    75\nName: RBS Id, dtype: int64"
     },
     "execution_count": 57,
     "metadata": {},
     "output_type": "execute_result"
    }
   ],
   "source": [
    "from sklearn import preprocessing\n",
    "label_encoder = preprocessing.LabelEncoder()\n",
    "df['RBS Id'] = label_encoder.fit_transform(df['RBS Id'])\n",
    "df['RBS Id'].unique()\n",
    "df['RBS Id'].value_counts()"
   ],
   "metadata": {
    "collapsed": false
   }
  },
  {
   "cell_type": "code",
   "execution_count": 62,
   "outputs": [
    {
     "name": "stdout",
     "output_type": "stream",
     "text": [
      "<class 'pandas.core.frame.DataFrame'>\n",
      "RangeIndex: 225 entries, 0 to 224\n",
      "Data columns (total 14 columns):\n",
      " #   Column                                  Non-Null Count  Dtype         \n",
      "---  ------                                  --------------  -----         \n",
      " 0   Date                                    225 non-null    datetime64[ns]\n",
      " 1   RBS Id                                  225 non-null    int32         \n",
      " 2   TRAFFIC PS(DL+UL)(Gbits)                225 non-null    float64       \n",
      " 3   HSDPA Data Volume                       225 non-null    float64       \n",
      " 4   HSUPA Data Volume                       225 non-null    float64       \n",
      " 5   Cell Traffic Volume DL Speech (Erlang)  225 non-null    float64       \n",
      " 6   CS CSSR                                 225 non-null    float64       \n",
      " 7   CS DROP Rate                            225 non-null    float64       \n",
      " 8   # PS Call Setup SR                      225 non-null    float64       \n",
      " 9   PS DROP Rate 2                          225 non-null    float64       \n",
      " 10  Availability                            225 non-null    float64       \n",
      " 11  Soft Handover                           225 non-null    float64       \n",
      " 12  Irat CS Handover SR                     225 non-null    float64       \n",
      " 13  throughput                              225 non-null    float64       \n",
      "dtypes: datetime64[ns](1), float64(12), int32(1)\n",
      "memory usage: 23.9 KB\n"
     ]
    }
   ],
   "source": [
    "df['Date'] = pd.to_datetime(df['Date'])\n",
    "df.info()"
   ],
   "metadata": {
    "collapsed": false
   }
  },
  {
   "cell_type": "code",
   "execution_count": null,
   "outputs": [],
   "source": [
    "df.to_csv('')"
   ],
   "metadata": {
    "collapsed": false
   }
  }
 ],
 "metadata": {
  "kernelspec": {
   "display_name": "Python 3",
   "language": "python",
   "name": "python3"
  },
  "language_info": {
   "codemirror_mode": {
    "name": "ipython",
    "version": 2
   },
   "file_extension": ".py",
   "mimetype": "text/x-python",
   "name": "python",
   "nbconvert_exporter": "python",
   "pygments_lexer": "ipython2",
   "version": "2.7.6"
  }
 },
 "nbformat": 4,
 "nbformat_minor": 0
}
